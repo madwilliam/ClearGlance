{
 "cells": [
  {
   "cell_type": "code",
   "execution_count": 1,
   "metadata": {},
   "outputs": [
    {
     "name": "stdout",
     "output_type": "stream",
     "text": [
      "No histology for Atlas\n",
      "No histology for Atlas\n",
      "Shape of downsampled atlas volume (859, 700, 304)\n"
     ]
    }
   ],
   "source": [
    "import sys\n",
    "sys.path.append('/scratch/programming/pipeline/pipeline')\n",
    "from Controllers.SqlController import SqlController\n",
    "from Controllers.MarkedCellController import MarkedCellController\n",
    "from model.annotation_points import CellSources,MarkedCell\n",
    "from atlas.Assembler import get_assembled_atlas_v7\n",
    "import plotly.graph_objects as go\n",
    "import numpy as np\n",
    "from Plotter.Plotter import Plotter\n",
    "import matplotlib.pyplot as plt\n",
    "animal = 'DK41'\n",
    "controller = SqlController(animal)\n",
    "# cell_controller = MarkedCellController()\n",
    "resolution = controller.get_resolution(animal)\n",
    "# cells = cell_controller.get_marked_cells(search_dictionary = dict(id = 3586))\n",
    "# # cells = cells*resolution\n",
    "# bin_voxel = [500,500,500]\n",
    "# bins = []\n",
    "# for i,stepi in enumerate(bin_voxel):\n",
    "#     axis_max = cells.max(axis=0)[i]\n",
    "#     axis_bins = list(range(0,int(axis_max)+1,stepi))\n",
    "#     bins.append(axis_bins)\n",
    "# count,bins =np.histogramdd(cells,bins = bins)\n",
    "\n",
    "assenbler  = get_assembled_atlas_v7()\n",
    "import numpy as np\n",
    "import os\n",
    "from atlas.Atlas import Atlas\n",
    "from Controllers.SqlController import SqlController\n",
    "from atlas.NgSegmentMaker import NgConverter\n",
    "from atlas.Assembler import Assembler,get_v7_volume_and_origin,get_assembled_atlas_v7\n",
    "def hist3d(data):\n",
    "    origin = np.min(data,axis = 1).astype(int)\n",
    "    end = np.max(data,axis = 1).astype(int)+1\n",
    "    data = data - np.min(data,axis = 1).reshape(-1,1)\n",
    "    shape = np.max(data,axis = 1).astype(int)\n",
    "    density = np.zeros(shape)\n",
    "    npoints = data.shape[1]\n",
    "    for i in range(npoints):\n",
    "        point = data[:,i].astype(int)-1\n",
    "        density[point[0],point[1],point[2]] += 1\n",
    "    return density,origin,end        "
   ]
  },
  {
   "cell_type": "code",
   "execution_count": 2,
   "metadata": {},
   "outputs": [
    {
     "name": "stdout",
     "output_type": "stream",
     "text": [
      "No histology for Atlas\n",
      "No histology for Atlas\n",
      "Shape of downsampled atlas volume (859, 700, 304)\n"
     ]
    }
   ],
   "source": [
    "controller = SqlController('DK39')\n",
    "atlas = Atlas(atlas = 'atlasV7')\n",
    "atlas.get_com_array()\n",
    "assembler = Assembler(check=False,side = '_R')\n",
    "assembler.volumes,assembler.origins = get_v7_volume_and_origin()\n",
    "assembler.sqlController = atlas.sqlController\n",
    "assembler.structures = list(assembler.volumes.keys())\n",
    "segment_to_id = controller.get_segment_to_id_where_segment_are_brain_regions()\n",
    "for i in segment_to_id:\n",
    "    segment_to_id[i]=1\n",
    "assembler.assemble_all_structure_volume(segment_to_id)"
   ]
  },
  {
   "cell_type": "code",
   "execution_count": 3,
   "metadata": {},
   "outputs": [],
   "source": [
    "from cell_extractor.CellDetectorBase import CellDetectorBase\n",
    "animal = 'DK41'\n",
    "base = CellDetectorBase(animal,round = 2)\n",
    "detections = base.load_detections()\n",
    "sure = detections[detections.predictions==2]\n",
    "sure = np.array([sure.col,sure.row,sure.section])\n",
    "sure.shape\n",
    "sure = detections[detections.predictions==2]\n",
    "unsure = detections[detections.predictions==0]\n",
    "downsample_factor = 32\n",
    "# bin_voxel = [500,500,500]\n",
    "# bins = []\n",
    "# for i,stepi in enumerate(bin_voxel):\n",
    "#     axis_max = sure.max(axis=0)[i]\n",
    "#     axis_bins = list(range(0,int(axis_max)+1,stepi))\n",
    "#     bins.append(axis_bins)\n",
    "# count,bins =np.histogramdd(sure,bins = bins)"
   ]
  },
  {
   "cell_type": "code",
   "execution_count": 5,
   "metadata": {},
   "outputs": [],
   "source": [
    "data = sure[sure.section==180]\n",
    "data = (np.array([data.col,data.row,data.section]))*np.array([0.325,0.325,20]).reshape(-1,1)  #.astype(int)"
   ]
  },
  {
   "cell_type": "code",
   "execution_count": 6,
   "metadata": {},
   "outputs": [
    {
     "name": "stdout",
     "output_type": "stream",
     "text": [
      "No histology for Atlas\n"
     ]
    },
    {
     "data": {
      "text/plain": [
       "<matplotlib.collections.PathCollection at 0x7fa5774a7710>"
      ]
     },
     "execution_count": 6,
     "metadata": {},
     "output_type": "execute_result"
    },
    {
     "data": {
      "image/png": "[encoded data removed]",
      "text/plain": [
       "<Figure size 1224x1008 with 1 Axes>"
      ]
     },
     "metadata": {
      "needs_background": "light"
     },
     "output_type": "display_data"
    }
   ],
   "source": [
    "from Controllers.SqlController import SqlController\n",
    "import pickle\n",
    "from Plotter.Plotter import Plotter\n",
    "import numpy as np\n",
    "from lib.Transformation import Transformation\n",
    "import SimpleITK as sitk\n",
    "section = 200\n",
    "data = sure[sure.section==section]\n",
    "data = (np.array([data.col,data.row,data.section]))*np.array([0.325,0.325,20]).reshape(-1,1)  #.astype(int)\n",
    "source = 'DK41'\n",
    "destination = 'Atlas'\n",
    "plotter = Plotter()\n",
    "controller = SqlController('Atlas')\n",
    "transformation = controller.get_transformation_row(source = source,destination = destination, transformation_type = 'Similarity')\n",
    "rigid_transform = pickle.loads(transformation.transformation)\n",
    "tfdata = rigid_transform.forward_transform_points(data.T).T/np.array([10,10,20]).reshape(-1,1)\n",
    "plt.figure(figsize=(np.array(assenbler.combined_volume.shape[:2])/50).astype(int))\n",
    "plt.imshow(assenbler.combined_volume[:,:,section])\n",
    "plt.scatter(tfdata[0],tfdata[1])"
   ]
  },
  {
   "cell_type": "code",
   "execution_count": 7,
   "metadata": {},
   "outputs": [
    {
     "data": {
      "text/plain": [
       "(86, 70, 30)"
      ]
     },
     "execution_count": 7,
     "metadata": {},
     "output_type": "execute_result"
    }
   ],
   "source": [
    "from scipy.ndimage import zoom\n",
    "test = zoom(assenbler.combined_volume, (0.1, 0.1, 0.1))\n",
    "test.shape"
   ]
  },
  {
   "cell_type": "code",
   "execution_count": null,
   "metadata": {},
   "outputs": [],
   "source": [
    "shape = test.shape\n",
    "volume = test\n",
    "X, Y, Z = eval(f'np.mgrid[  0:{shape[0]/2}:{shape[0]}j, \\\n",
    "                            0:{shape[1]/2}:{shape[1]}j, \\\n",
    "                            0:{shape[2]}:{shape[2]}j]')\n",
    "data = sure\n",
    "data = (np.array([data.col,data.row,data.section]))*np.array([0.325,0.325,20]).reshape(-1,1)  #.astype(int)\n",
    "source = 'DK41'\n",
    "destination = 'Atlas'\n",
    "plotter = Plotter()\n",
    "controller = SqlController('Atlas')\n",
    "transformation = controller.get_transformation_row(source = source,destination = destination, transformation_type = 'Similarity')\n",
    "rigid_transform = pickle.loads(transformation.transformation)\n",
    "tfdata = rigid_transform.forward_transform_points(data.T).T/np.array([10,10,20]).reshape(-1,1)\n",
    "data = []\n",
    "dsfdata = tfdata*0.1*np.array([0.5,0.5,1]).reshape(-1,1)\n",
    "data.append(go.Scatter3d(x=dsfdata[0], y=dsfdata[1], z=dsfdata[2],marker=dict(size=5,opacity=0.8),\n",
    "                                   mode='markers'))\n",
    "data.append(go.Volume(\n",
    "    x=X.flatten(),\n",
    "    y=Y.flatten(),\n",
    "    z=Z.flatten(),\n",
    "    value=volume.flatten(),\n",
    "    isomin=1,\n",
    "    isomax=40,\n",
    "    opacity=0.5, # needs to be small to see through all surfaces\n",
    "    surface_count=2, # needs to be a large number for good volume rendering\n",
    "    ))\n",
    "fig = go.Figure(data=data)\n",
    "fig['layout']['scene']['aspectmode'] = \"data\"\n",
    "# fig.show()\n",
    "fig.write_html(\"/net/birdstore/Active_Atlas_Data/atlas.html\")"
   ]
  },
  {
   "cell_type": "code",
   "execution_count": 98,
   "metadata": {},
   "outputs": [],
   "source": [
    "def plot_3d_volume(volume,X,Y,Z,*args,**kwargs):\n",
    "    shape = volume.shape\n",
    "    source = 'DK41'\n",
    "    destination = 'Atlas'\n",
    "    plotter = Plotter()\n",
    "    controller = SqlController('Atlas')\n",
    "    transformation = controller.get_transformation_row(source = source,destination = destination, transformation_type = 'Similarity')\n",
    "    rigid_transform = pickle.loads(transformation.transformation)\n",
    "    return go.Volume(\n",
    "        x=X.flatten(),\n",
    "        y=Y.flatten(),\n",
    "        z=Z.flatten(),\n",
    "        value=volume.flatten(),\n",
    "        *args,**kwargs,\n",
    "        )"
   ]
  },
  {
   "cell_type": "code",
   "execution_count": 149,
   "metadata": {},
   "outputs": [
    {
     "name": "stdout",
     "output_type": "stream",
     "text": [
      "No histology for Atlas\n",
      "No histology for Atlas\n"
     ]
    }
   ],
   "source": [
    "data = sure\n",
    "data = (np.array([data.col,data.row,data.section]))*np.array([0.325,0.325,20]).reshape(-1,1)\n",
    "tfdata = rigid_transform.forward_transform_points(data.T).T/np.array([10,10,20]).reshape(-1,1)\n",
    "tfdata = tfdata*0.1*np.array([1,1,2]).reshape(-1,1)\n",
    "density,origin,end = hist3d(tfdata)\n",
    "shape = test.shape\n",
    "X, Y, Z = eval(f'np.mgrid[  0:{shape[0]}:{shape[0]}j, \\\n",
    "                                0:{shape[1]}:{shape[1]}j, \\\n",
    "                                0:{shape[2]*2}:{shape[2]}j]')\n",
    "p1 = plot_3d_volume(test,X, Y, Z,isomin=1,\n",
    "        isomax=40,\n",
    "        opacity=0.5, \n",
    "        surface_count=2, opacityscale=\"max\",)\n",
    "shape = density.shape\n",
    "X, Y, Z = eval(f'np.mgrid[  {origin[0]}:{end[0]}:{shape[0]}j, \\\n",
    "                                {origin[1]}:{end[1]}:{shape[1]}j, \\\n",
    "                                {origin[2]}:{end[2]}:{shape[2]}j]')\n",
    "p2 = plot_3d_volume(density,X, Y, Z,isomin=1,\n",
    "        isomax=20,\n",
    "        opacity=0.5, \n",
    "        surface_count=20, )\n",
    "data = []\n",
    "# data.append(p1)\n",
    "data.append(p2)\n",
    "# data.append(go.Scatter3d(x=tfdata[0], y=tfdata[1], z=tfdata[2],marker=dict(size=5,opacity=0.8),\n",
    "#                                    mode='markers'))\n",
    "fig = go.Figure(data=data)\n",
    "fig['layout']['scene']['aspectmode'] = \"data\"\n",
    "fig.update_layout(scene_aspectmode=\"data\", \n",
    "                  scene_camera_eye=dict (x=1, y=1, z=1))\n",
    "fig.write_html(\"/net/birdstore/Active_Atlas_Data/atlas.html\")"
   ]
  },
  {
   "cell_type": "code",
   "execution_count": 133,
   "metadata": {},
   "outputs": [
    {
     "data": {
      "text/plain": [
       "(array([-28,   1,  -7]),\n",
       " array([50, 38, 37]),\n",
       " array([78, 37, 44]),\n",
       " (77, 36, 43),\n",
       " array([49.66749872, 37.84857277, 36.78724102]))"
      ]
     },
     "execution_count": 133,
     "metadata": {},
     "output_type": "execute_result"
    }
   ],
   "source": [
    "origin,end,end - origin,density.shape,tfdata.max(axis=1)"
   ]
  },
  {
   "cell_type": "code",
   "execution_count": 93,
   "metadata": {},
   "outputs": [],
   "source": [
    "density,origin,end = hist3d(tfdata)"
   ]
  },
  {
   "cell_type": "code",
   "execution_count": 94,
   "metadata": {},
   "outputs": [
    {
     "data": {
      "text/plain": [
       "(77, 36, 43)"
      ]
     },
     "execution_count": 94,
     "metadata": {},
     "output_type": "execute_result"
    }
   ],
   "source": [
    "density.shape"
   ]
  },
  {
   "cell_type": "code",
   "execution_count": 136,
   "metadata": {},
   "outputs": [
    {
     "data": {
      "text/plain": [
       "<matplotlib.collections.PathCollection at 0x7fa575ddcc50>"
      ]
     },
     "execution_count": 136,
     "metadata": {},
     "output_type": "execute_result"
    },
    {
     "data": {
      "image/png": "[encoded data removed]",
      "text/plain": [
       "<Figure size 432x288 with 1 Axes>"
      ]
     },
     "metadata": {
      "needs_background": "light"
     },
     "output_type": "display_data"
    }
   ],
   "source": [
    "plt.imshow(density[:,:,15].T)\n",
    "plt.scatter(idata[0]-origin[0],idata[1]-origin[1])"
   ]
  },
  {
   "cell_type": "code",
   "execution_count": 120,
   "metadata": {},
   "outputs": [
    {
     "data": {
      "text/plain": [
       "(1.0, 57.0)"
      ]
     },
     "execution_count": 120,
     "metadata": {},
     "output_type": "execute_result"
    }
   ],
   "source": [
    "(density[density>0]).min(),density.max()"
   ]
  },
  {
   "cell_type": "code",
   "execution_count": 123,
   "metadata": {},
   "outputs": [
    {
     "data": {
      "text/plain": [
       "(array([804.,  82.,  33.,   9.,   6.,   4.,   1.,   4.,   1.,   1.]),\n",
       " array([ 2. ,  7.5, 13. , 18.5, 24. , 29.5, 35. , 40.5, 46. , 51.5, 57. ]),\n",
       " <BarContainer object of 10 artists>)"
      ]
     },
     "execution_count": 123,
     "metadata": {},
     "output_type": "execute_result"
    },
    {
     "data": {
      "image/png": "[encoded data removed]",
      "text/plain": [
       "<Figure size 432x288 with 1 Axes>"
      ]
     },
     "metadata": {
      "needs_background": "light"
     },
     "output_type": "display_data"
    }
   ],
   "source": [
    "pt = density[density>1]\n",
    "plt.hist(pt.flatten())"
   ]
  },
  {
   "cell_type": "code",
   "execution_count": 10,
   "metadata": {},
   "outputs": [],
   "source": [
    "def hist3d(data):\n",
    "    bin_voxel = [1,1,1]\n",
    "    bins = []\n",
    "    for i,stepi in enumerate(bin_voxel):\n",
    "        axis_max = data.max(axis=0)[i]\n",
    "        axis_bins = list(range(0,int(axis_max)+1,stepi))\n",
    "        bins.append(axis_bins)\n",
    "    count,bins =np.histogramdd(data,bins = bins)\n",
    "    return count,bins"
   ]
  },
  {
   "cell_type": "code",
   "execution_count": 11,
   "metadata": {},
   "outputs": [
    {
     "ename": "ValueError",
     "evalue": "The dimension of bins must be equal to the dimension of the  sample x.",
     "output_type": "error",
     "traceback": [
      "\u001b[0;31m---------------------------------------------------------------------------\u001b[0m",
      "\u001b[0;31mValueError\u001b[0m                                Traceback (most recent call last)",
      "\u001b[0;32m<ipython-input-11-17a094583ea8>\u001b[0m in \u001b[0;36m<module>\u001b[0;34m\u001b[0m\n\u001b[0;32m----> 1\u001b[0;31m \u001b[0mcount\u001b[0m\u001b[0;34m,\u001b[0m\u001b[0mbins\u001b[0m \u001b[0;34m=\u001b[0m \u001b[0mhist3d\u001b[0m\u001b[0;34m(\u001b[0m\u001b[0mdata\u001b[0m\u001b[0;34m)\u001b[0m\u001b[0;34m\u001b[0m\u001b[0;34m\u001b[0m\u001b[0m\n\u001b[0m",
      "\u001b[0;32m<ipython-input-10-60553c972df2>\u001b[0m in \u001b[0;36mhist3d\u001b[0;34m(data)\u001b[0m\n\u001b[1;32m      6\u001b[0m         \u001b[0maxis_bins\u001b[0m \u001b[0;34m=\u001b[0m \u001b[0mlist\u001b[0m\u001b[0;34m(\u001b[0m\u001b[0mrange\u001b[0m\u001b[0;34m(\u001b[0m\u001b[0;36m0\u001b[0m\u001b[0;34m,\u001b[0m\u001b[0mint\u001b[0m\u001b[0;34m(\u001b[0m\u001b[0maxis_max\u001b[0m\u001b[0;34m)\u001b[0m\u001b[0;34m+\u001b[0m\u001b[0;36m1\u001b[0m\u001b[0;34m,\u001b[0m\u001b[0mstepi\u001b[0m\u001b[0;34m)\u001b[0m\u001b[0;34m)\u001b[0m\u001b[0;34m\u001b[0m\u001b[0;34m\u001b[0m\u001b[0m\n\u001b[1;32m      7\u001b[0m         \u001b[0mbins\u001b[0m\u001b[0;34m.\u001b[0m\u001b[0mappend\u001b[0m\u001b[0;34m(\u001b[0m\u001b[0maxis_bins\u001b[0m\u001b[0;34m)\u001b[0m\u001b[0;34m\u001b[0m\u001b[0;34m\u001b[0m\u001b[0m\n\u001b[0;32m----> 8\u001b[0;31m     \u001b[0mcount\u001b[0m\u001b[0;34m,\u001b[0m\u001b[0mbins\u001b[0m \u001b[0;34m=\u001b[0m\u001b[0mnp\u001b[0m\u001b[0;34m.\u001b[0m\u001b[0mhistogramdd\u001b[0m\u001b[0;34m(\u001b[0m\u001b[0mdata\u001b[0m\u001b[0;34m,\u001b[0m\u001b[0mbins\u001b[0m \u001b[0;34m=\u001b[0m \u001b[0mbins\u001b[0m\u001b[0;34m)\u001b[0m\u001b[0;34m\u001b[0m\u001b[0;34m\u001b[0m\u001b[0m\n\u001b[0m\u001b[1;32m      9\u001b[0m     \u001b[0;32mreturn\u001b[0m \u001b[0mcount\u001b[0m\u001b[0;34m,\u001b[0m\u001b[0mbins\u001b[0m\u001b[0;34m\u001b[0m\u001b[0;34m\u001b[0m\u001b[0m\n",
      "\u001b[0;32m<__array_function__ internals>\u001b[0m in \u001b[0;36mhistogramdd\u001b[0;34m(*args, **kwargs)\u001b[0m\n",
      "\u001b[0;32m/usr/local/share/pipeline/lib/python3.6/site-packages/numpy/lib/histograms.py\u001b[0m in \u001b[0;36mhistogramdd\u001b[0;34m(sample, bins, range, normed, weights, density)\u001b[0m\n\u001b[1;32m   1029\u001b[0m         \u001b[0;32mif\u001b[0m \u001b[0mM\u001b[0m \u001b[0;34m!=\u001b[0m \u001b[0mD\u001b[0m\u001b[0;34m:\u001b[0m\u001b[0;34m\u001b[0m\u001b[0;34m\u001b[0m\u001b[0m\n\u001b[1;32m   1030\u001b[0m             raise ValueError(\n\u001b[0;32m-> 1031\u001b[0;31m                 \u001b[0;34m'The dimension of bins must be equal to the dimension of the '\u001b[0m\u001b[0;34m\u001b[0m\u001b[0;34m\u001b[0m\u001b[0m\n\u001b[0m\u001b[1;32m   1032\u001b[0m                 ' sample x.')\n\u001b[1;32m   1033\u001b[0m     \u001b[0;32mexcept\u001b[0m \u001b[0mTypeError\u001b[0m\u001b[0;34m:\u001b[0m\u001b[0;34m\u001b[0m\u001b[0;34m\u001b[0m\u001b[0m\n",
      "\u001b[0;31mValueError\u001b[0m: The dimension of bins must be equal to the dimension of the  sample x."
     ]
    }
   ],
   "source": [
    "count,bins = hist3d(data)"
   ]
  },
  {
   "cell_type": "code",
   "execution_count": 21,
   "metadata": {},
   "outputs": [
    {
     "ename": "ValueError",
     "evalue": "The dimension of bins must be equal to the dimension of the  sample x.",
     "output_type": "error",
     "traceback": [
      "\u001b[0;31m---------------------------------------------------------------------------\u001b[0m",
      "\u001b[0;31mValueError\u001b[0m                                Traceback (most recent call last)",
      "\u001b[0;32m<ipython-input-21-9ef2fdd69998>\u001b[0m in \u001b[0;36m<module>\u001b[0;34m\u001b[0m\n\u001b[1;32m      6\u001b[0m     \u001b[0maxis_bins\u001b[0m \u001b[0;34m=\u001b[0m \u001b[0mlist\u001b[0m\u001b[0;34m(\u001b[0m\u001b[0mrange\u001b[0m\u001b[0;34m(\u001b[0m\u001b[0;36m0\u001b[0m\u001b[0;34m,\u001b[0m\u001b[0mint\u001b[0m\u001b[0;34m(\u001b[0m\u001b[0maxis_max\u001b[0m\u001b[0;34m)\u001b[0m\u001b[0;34m+\u001b[0m\u001b[0;36m1\u001b[0m\u001b[0;34m,\u001b[0m\u001b[0mstepi\u001b[0m\u001b[0;34m)\u001b[0m\u001b[0;34m)\u001b[0m\u001b[0;34m\u001b[0m\u001b[0;34m\u001b[0m\u001b[0m\n\u001b[1;32m      7\u001b[0m     \u001b[0mbins\u001b[0m\u001b[0;34m.\u001b[0m\u001b[0mappend\u001b[0m\u001b[0;34m(\u001b[0m\u001b[0maxis_bins\u001b[0m\u001b[0;34m)\u001b[0m\u001b[0;34m\u001b[0m\u001b[0;34m\u001b[0m\u001b[0m\n\u001b[0;32m----> 8\u001b[0;31m \u001b[0mcount\u001b[0m\u001b[0;34m,\u001b[0m\u001b[0mbins\u001b[0m \u001b[0;34m=\u001b[0m\u001b[0mnp\u001b[0m\u001b[0;34m.\u001b[0m\u001b[0mhistogramdd\u001b[0m\u001b[0;34m(\u001b[0m\u001b[0mdata\u001b[0m\u001b[0;34m,\u001b[0m\u001b[0mbins\u001b[0m \u001b[0;34m=\u001b[0m \u001b[0mbins\u001b[0m\u001b[0;34m)\u001b[0m\u001b[0;34m\u001b[0m\u001b[0;34m\u001b[0m\u001b[0m\n\u001b[0m",
      "\u001b[0;32m<__array_function__ internals>\u001b[0m in \u001b[0;36mhistogramdd\u001b[0;34m(*args, **kwargs)\u001b[0m\n",
      "\u001b[0;32m/usr/local/share/pipeline/lib/python3.6/site-packages/numpy/lib/histograms.py\u001b[0m in \u001b[0;36mhistogramdd\u001b[0;34m(sample, bins, range, normed, weights, density)\u001b[0m\n\u001b[1;32m   1029\u001b[0m         \u001b[0;32mif\u001b[0m \u001b[0mM\u001b[0m \u001b[0;34m!=\u001b[0m \u001b[0mD\u001b[0m\u001b[0;34m:\u001b[0m\u001b[0;34m\u001b[0m\u001b[0;34m\u001b[0m\u001b[0m\n\u001b[1;32m   1030\u001b[0m             raise ValueError(\n\u001b[0;32m-> 1031\u001b[0;31m                 \u001b[0;34m'The dimension of bins must be equal to the dimension of the '\u001b[0m\u001b[0;34m\u001b[0m\u001b[0;34m\u001b[0m\u001b[0m\n\u001b[0m\u001b[1;32m   1032\u001b[0m                 ' sample x.')\n\u001b[1;32m   1033\u001b[0m     \u001b[0;32mexcept\u001b[0m \u001b[0mTypeError\u001b[0m\u001b[0;34m:\u001b[0m\u001b[0;34m\u001b[0m\u001b[0;34m\u001b[0m\u001b[0m\n",
      "\u001b[0;31mValueError\u001b[0m: The dimension of bins must be equal to the dimension of the  sample x."
     ]
    }
   ],
   "source": [
    "data = data.T\n",
    "bin_voxel = [1,1,1]\n",
    "bins = []\n",
    "for i,stepi in enumerate(bin_voxel):\n",
    "    axis_max = data.max(axis=0)[i]\n",
    "    axis_bins = list(range(0,int(axis_max)+1,stepi))\n",
    "    bins.append(axis_bins)\n",
    "count,bins =np.histogramdd(data,bins = bins)"
   ]
  },
  {
   "cell_type": "code",
   "execution_count": 17,
   "metadata": {},
   "outputs": [],
   "source": [
    "count,bins = np.histogramdd(data.T)"
   ]
  },
  {
   "cell_type": "code",
   "execution_count": 18,
   "metadata": {},
   "outputs": [
    {
     "data": {
      "text/plain": [
       "(10, 10, 10)"
      ]
     },
     "execution_count": 18,
     "metadata": {},
     "output_type": "execute_result"
    }
   ],
   "source": [
    "count.shape"
   ]
  },
  {
   "cell_type": "code",
   "execution_count": 30,
   "metadata": {},
   "outputs": [],
   "source": [
    "bins = []\n",
    "for i in test.shape:\n",
    "    bins.append(list(range(i+1)))\n",
    "count,bins = np.histogramdd(data.T,bins)"
   ]
  },
  {
   "cell_type": "code",
   "execution_count": 31,
   "metadata": {},
   "outputs": [
    {
     "data": {
      "text/plain": [
       "((86, 70, 30), (86, 70, 30))"
      ]
     },
     "execution_count": 31,
     "metadata": {},
     "output_type": "execute_result"
    }
   ],
   "source": [
    "count.shape,test.shape"
   ]
  },
  {
   "cell_type": "code",
   "execution_count": null,
   "metadata": {},
   "outputs": [],
   "source": []
  }
 ],
 "metadata": {
  "kernelspec": {
   "display_name": "Python 3.6.9 ('pipeline')",
   "language": "python",
   "name": "python3"
  },
  "language_info": {
   "codemirror_mode": {
    "name": "ipython",
    "version": 3
   },
   "file_extension": ".py",
   "mimetype": "text/x-python",
   "name": "python",
   "nbconvert_exporter": "python",
   "pygments_lexer": "ipython3",
   "version": "3.6.9"
  },
  "vscode": {
   "interpreter": {
    "hash": "9b29855540defb355a50951874e4b3a9a33e036ed29af88ad65ef37e45f70f6e"
   }
  }
 },
 "nbformat": 4,
 "nbformat_minor": 2
}
