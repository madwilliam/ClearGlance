{
 "cells": [
  {
   "cell_type": "code",
   "execution_count": null,
   "id": "4892eb0d",
   "metadata": {},
   "outputs": [],
   "source": [
    "import cv2\n",
    "import os\n",
    "import numpy as np\n",
    "from skimage import io\n",
    "from matplotlib import pyplot as plt\n",
    "from mpl_toolkits.axes_grid1 import ImageGrid"
   ]
  },
  {
   "cell_type": "code",
   "execution_count": null,
   "id": "2e28745d",
   "metadata": {},
   "outputs": [],
   "source": [
    "animal = 'DK79'\n",
    "DIR = f'/net/birdstore/Active_Atlas_Data/data_root/pipeline_data/{animal}/preps'\n",
    "CLEANED = os.path.join(DIR, 'CH1', 'thumbnail_cleaned')"
   ]
  },
  {
   "cell_type": "code",
   "execution_count": null,
   "id": "66f281d9",
   "metadata": {},
   "outputs": [],
   "source": [
    "def drawKeyPts(im, keyp, col, th):\n",
    "    draw_shift_bits = 4\n",
    "    draw_multiplier = 1 << 4\n",
    "    LINE_AA = 16\n",
    "    im = cv2.cvtColor(im, cv2.COLOR_GRAY2BGR)\n",
    "    for curKey in keyp:\n",
    "        center = (int(np.round(curKey.pt[0]*draw_multiplier)), int(np.round(curKey.pt[1]*draw_multiplier)))\n",
    "        print(center)\n",
    "        radius = int(np.round(curKey.size/2*draw_multiplier))\n",
    "        cv2.circle(im, center, radius, col, thickness=th, lineType=LINE_AA, shift=draw_shift_bits)\n",
    "        if(curKey.angle != -1):\n",
    "            srcAngleRad = (curKey.angle * np.pi/180.0)\n",
    "            orient = (int(np.round(np.cos(srcAngleRad)*radius)), int(np.round(np.sin(srcAngleRad)*radius)))\n",
    "            cv2.line(im, center, (center[0]+orient[0], center[1]+orient[1]), col, 1, LINE_AA, draw_shift_bits)\n",
    "    gray = cv2.cvtColor(im, cv2.COLOR_BGR2GRAY)\n",
    "\n",
    "    return gray\n"
   ]
  },
  {
   "cell_type": "code",
   "execution_count": null,
   "id": "bb9c3788",
   "metadata": {},
   "outputs": [],
   "source": [
    "outpath = os.path.join(CLEANED, '001.tif')\n",
    "orb = cv2.ORB_create(50)\n",
    "img = cv2.imread(outpath, 0)\n",
    "print(img.dtype, img.ndim, img.shape)"
   ]
  },
  {
   "cell_type": "code",
   "execution_count": null,
   "id": "03000fc2",
   "metadata": {},
   "outputs": [],
   "source": [
    "keypoints, des = orb.detectAndCompute(img, None)\n",
    "#img2 = cv2.drawKeypoints(img, keypoint, None, flags=cv2.DRAW_MATCHES_FLAGS_DRAW_RICH_KEYPOINTS)\n",
    "img2 = drawKeyPts(img, keypoints, (255,255,255), 5)\n",
    "print(img2.dtype, img2.ndim, img2.shape)"
   ]
  },
  {
   "cell_type": "code",
   "execution_count": null,
   "id": "3547ff61",
   "metadata": {},
   "outputs": [],
   "source": [
    "fig = plt.figure(figsize=(14., 14.))\n",
    "grid = ImageGrid(fig, 111,  # similar to subplot(111)\n",
    "                 nrows_ncols=(2, 1),  # creates 2x2 grid of axes\n",
    "                 axes_pad=0.5,  # pad between axes in inch.\n",
    "                 )\n",
    "for ax, im, title in zip(grid, [img, img2],\n",
    "                        ['1st', '2nd']):\n",
    "    # Iterating over the grid returns the Axes.\n",
    "    ax.set_title('Section {0} '.format(title))\n",
    "    ax.imshow(im, cmap=\"gray\")\n",
    "\n",
    "plt.show()"
   ]
  }
 ],
 "metadata": {
  "kernelspec": {
   "display_name": "Python 3",
   "language": "python",
   "name": "python3"
  },
  "language_info": {
   "codemirror_mode": {
    "name": "ipython",
    "version": 3
   },
   "file_extension": ".py",
   "mimetype": "text/x-python",
   "name": "python",
   "nbconvert_exporter": "python",
   "pygments_lexer": "ipython3",
   "version": "3.10.6"
  }
 },
 "nbformat": 4,
 "nbformat_minor": 5
}
