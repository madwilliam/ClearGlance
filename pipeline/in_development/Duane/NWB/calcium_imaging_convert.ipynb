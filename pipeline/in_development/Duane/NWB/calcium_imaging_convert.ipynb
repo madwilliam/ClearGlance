{
 "cells": [
  {
   "cell_type": "code",
   "execution_count": 126,
   "outputs": [
    {
     "name": "stdout",
     "output_type": "stream",
     "text": [
      "root pynwb.file.NWBFile at 0x139708104185504\n",
      "Fields:\n",
      "  experimenter: ['Arash']\n",
      "  file_create_date: [datetime.datetime(2022, 8, 15, 12, 59, 51, 75038, tzinfo=tzlocal())]\n",
      "  identifier: Mouse5_Day3\n",
      "  institution: University of California - San Diego\n",
      "  lab: David Kleinfeld\n",
      "  related_publications: ['DOI:10/1016/j.neuron']\n",
      "  session_description: mouse exploring in open field\n",
      "  session_id: session_1234\n",
      "  session_start_time: 2022-08-15 19:59:51.074485-07:00\n",
      "  timestamps_reference_time: 2022-08-15 19:59:51.074485-07:00\n",
      "\n"
     ]
    }
   ],
   "source": [
    "# TEMPLATE: https://github.com/OpenSourceBrain/CalciumImagingDriftingGrating/blob/master/Convert.py\n",
    "# SAMPLE NOTEBOOK: https://github.com/NeurodataWithoutBorders/nwb_tutorial/blob/master/HCK08/ophys_tutorial.ipynb\n",
    "\n",
    "import glob, os\n",
    "from datetime import datetime\n",
    "from dateutil.tz import tzlocal\n",
    "import numpy as np\n",
    "import pynwb\n",
    "from pynwb import NWBFile, TimeSeries, NWBHDF5IO\n",
    "from pynwb.image import ImageSeries\n",
    "from pynwb.ophys import TwoPhotonSeries, OpticalChannel, ImageSegmentation, \\\n",
    "    Fluorescence, CorrectedImageStack, MotionCorrection, RoiResponseSeries\n",
    "\n",
    "\n",
    "#REQUIRED: session_id, experiment_description, session_start_time\n",
    "\n",
    "description = 'mouse exploring in open field'\n",
    "identifier = 'Mouse5_Day3'\n",
    "session_start_time = datetime.utcnow()\n",
    "\n",
    "#optional below\n",
    "session_id = 'session_1234'\n",
    "experimenter = 'Arash'\n",
    "institution='University of California - San Diego'\n",
    "doi_pub='DOI:10/1016/j.neuron'\n",
    "lab_performance_center='David Kleinfeld'\n",
    "\n",
    "nwbfile = NWBFile(\n",
    "    identifier=identifier,\n",
    "    session_description=description,\n",
    "    session_start_time=session_start_time,\n",
    "    session_id=session_id,\n",
    "    experimenter=experimenter,\n",
    "    institution=institution,\n",
    "    related_publications=doi_pub,\n",
    "    lab=lab_performance_center,\n",
    ")\n",
    "print(nwbfile)"
   ],
   "metadata": {
    "collapsed": false,
    "pycharm": {
     "name": "#%%\n"
    }
   }
  },
  {
   "cell_type": "code",
   "execution_count": 130,
   "outputs": [],
   "source": [
    "#OPTIONAL\n",
    "from pynwb.file import Subject\n",
    "\n",
    "nwbfile.subject = Subject(\n",
    "    subject_id='001',\n",
    "    age='P90D',\n",
    "    description='mouse 5',\n",
    "    species='Mus musculus',\n",
    "    sex='M'\n",
    ")"
   ],
   "metadata": {
    "collapsed": false,
    "pycharm": {
     "name": "#%%\n"
    }
   }
  },
  {
   "cell_type": "code",
   "execution_count": null,
   "outputs": [],
   "source": [
    "#OPTIONAL\n",
    "from pynwb.behavior import SpatialSeries\n",
    "from pynwb.behavior import Position\n",
    "\n",
    "\n",
    "# create fake data with shape (50, 2)\n",
    "# the first dimension should always represent time\n",
    "position_data = np.array([np.linspace(0, 10, 50),\n",
    "                          np.linspace(0, 8, 50)]).T\n",
    "position_timestamps = np.linspace(0, 50) / 200\n",
    "\n",
    "spatial_series_obj = SpatialSeries(\n",
    "    name='SpatialSeries',\n",
    "    description='(x,y) position in open field',\n",
    "    data=position_data,\n",
    "    timestamps=position_timestamps,\n",
    "    reference_frame='(0,0) is bottom left corner'\n",
    ")\n",
    "\n",
    "\n",
    "position_obj = Position(spatial_series=spatial_series_obj)"
   ],
   "metadata": {
    "collapsed": false,
    "pycharm": {
     "name": "#%%\n"
    }
   }
  },
  {
   "cell_type": "code",
   "execution_count": 127,
   "outputs": [],
   "source": [
    "ext_files_path = u\"/mnt/e/temp/rui/\"\n",
    "\n",
    "image_series_external_files = {}\n",
    "for root, dirs, files in os.walk(ext_files_path):\n",
    "    path = root.split(os.sep)\n",
    "    folder_name = os.path.basename(root)\n",
    "\n",
    "    image_series = []\n",
    "    for file in files:\n",
    "        file_name = file\n",
    "        c_time = os.path.getctime(os.path.join(ext_files_path, folder_name, file))\n",
    "        dt_creation_time = datetime.fromtimestamp(c_time)\n",
    "        creation_time = datetime.fromtimestamp(c_time)\n",
    "        #creation_time = dt_creation_time.strftime(\"%Y-%b-%d %H:%M:%S\")\n",
    "        image_series.append([os.path.join(folder_name, file_name), creation_time])\n",
    "    if len(folder_name) > 0:\n",
    "        image_series_external_files[folder_name] = image_series\n"
   ],
   "metadata": {
    "collapsed": false,
    "pycharm": {
     "name": "#%%\n"
    }
   }
  },
  {
   "cell_type": "code",
   "execution_count": 128,
   "outputs": [
    {
     "data": {
      "text/plain": "[image_series_20210309_WT_VPM_556.857_2 pynwb.image.ImageSeries at 0x139708104184448\n Fields:\n   comments: FILES 60\n   conversion: 1.0\n   description: 20210309_WT_VPM_556.857_2\n   external_file: ['20210309_WT_VPM_556.857_2/335um_roi1_10Hz_00001.tif'\n  '20210309_WT_VPM_556.857_2/335um_roi1_10Hz_00001.tif'\n  '20210309_WT_VPM_556.857_2/335um_roi1_10Hz_00001.tif'\n  '20210309_WT_VPM_556.857_2/335um_roi1_10Hz_00001.tif'\n  '20210309_WT_VPM_556.857_2/335um_roi1_10Hz_00001.tif'\n  '20210309_WT_VPM_556.857_2/335um_roi1_10Hz_00001.tif'\n  '20210309_WT_VPM_556.857_2/335um_roi1_10Hz_00001.tif'\n  '20210309_WT_VPM_556.857_2/335um_roi1_10Hz_00001.tif'\n  '20210309_WT_VPM_556.857_2/335um_roi1_10Hz_00001.tif'\n  '20210309_WT_VPM_556.857_2/335um_roi1_10Hz_00001.tif'\n  '20210309_WT_VPM_556.857_2/335um_roi1_10Hz_00001.tif'\n  '20210309_WT_VPM_556.857_2/335um_roi1_10Hz_00001.tif'\n  '20210309_WT_VPM_556.857_2/335um_roi1_10Hz_00001.tif'\n  '20210309_WT_VPM_556.857_2/335um_roi1_10Hz_00001.tif'\n  '20210309_WT_VPM_556.857_2/335um_roi1_10Hz_00001.tif'\n  '20210309_WT_VPM_556.857_2/335um_roi1_10Hz_00001.tif'\n  '20210309_WT_VPM_556.857_2/335um_roi1_10Hz_00001.tif'\n  '20210309_WT_VPM_556.857_2/335um_roi1_10Hz_00001.tif'\n  '20210309_WT_VPM_556.857_2/335um_roi1_10Hz_00001.tif'\n  '20210309_WT_VPM_556.857_2/335um_roi1_10Hz_00001.tif'\n  '20210309_WT_VPM_556.857_2/335um_roi1_10Hz_00001.tif'\n  '20210309_WT_VPM_556.857_2/335um_roi1_10Hz_00001.tif'\n  '20210309_WT_VPM_556.857_2/335um_roi1_10Hz_00001.tif'\n  '20210309_WT_VPM_556.857_2/335um_roi1_10Hz_00001.tif'\n  '20210309_WT_VPM_556.857_2/335um_roi1_10Hz_00001.tif'\n  '20210309_WT_VPM_556.857_2/335um_roi1_10Hz_00001.tif'\n  '20210309_WT_VPM_556.857_2/335um_roi1_10Hz_00001.tif'\n  '20210309_WT_VPM_556.857_2/335um_roi1_10Hz_00001.tif'\n  '20210309_WT_VPM_556.857_2/335um_roi1_10Hz_00001.tif'\n  '20210309_WT_VPM_556.857_2/335um_roi1_10Hz_00001.tif'\n  '20210309_WT_VPM_556.857_2/335um_roi1_10Hz_00001.tif'\n  '20210309_WT_VPM_556.857_2/335um_roi1_10Hz_00001.tif'\n  '20210309_WT_VPM_556.857_2/335um_roi1_10Hz_00001.tif'\n  '20210309_WT_VPM_556.857_2/335um_roi1_10Hz_00001.tif'\n  '20210309_WT_VPM_556.857_2/335um_roi1_10Hz_00001.tif'\n  '20210309_WT_VPM_556.857_2/335um_roi1_10Hz_00001.tif'\n  '20210309_WT_VPM_556.857_2/335um_roi1_10Hz_00001.tif'\n  '20210309_WT_VPM_556.857_2/335um_roi1_10Hz_00001.tif'\n  '20210309_WT_VPM_556.857_2/335um_roi1_10Hz_00001.tif'\n  '20210309_WT_VPM_556.857_2/335um_roi1_10Hz_00001.tif'\n  '20210309_WT_VPM_556.857_2/335um_roi1_10Hz_00001.tif'\n  '20210309_WT_VPM_556.857_2/335um_roi1_10Hz_00001.tif'\n  '20210309_WT_VPM_556.857_2/335um_roi1_10Hz_00001.tif'\n  '20210309_WT_VPM_556.857_2/335um_roi1_10Hz_00001.tif'\n  '20210309_WT_VPM_556.857_2/335um_roi1_10Hz_00001.tif'\n  '20210309_WT_VPM_556.857_2/335um_roi1_10Hz_00001.tif'\n  '20210309_WT_VPM_556.857_2/335um_roi1_10Hz_00001.tif'\n  '20210309_WT_VPM_556.857_2/335um_roi1_10Hz_00001.tif'\n  '20210309_WT_VPM_556.857_2/335um_roi1_10Hz_00001.tif'\n  '20210309_WT_VPM_556.857_2/335um_roi1_10Hz_00001.tif'\n  '20210309_WT_VPM_556.857_2/335um_roi1_10Hz_00001.tif'\n  '20210309_WT_VPM_556.857_2/335um_roi1_10Hz_00001.tif'\n  '20210309_WT_VPM_556.857_2/335um_roi1_10Hz_00001.tif'\n  '20210309_WT_VPM_556.857_2/335um_roi1_10Hz_00001.tif'\n  '20210309_WT_VPM_556.857_2/335um_roi1_10Hz_00001.tif'\n  '20210309_WT_VPM_556.857_2/335um_roi1_10Hz_00001.tif'\n  '20210309_WT_VPM_556.857_2/335um_roi1_10Hz_00001.tif'\n  '20210309_WT_VPM_556.857_2/335um_roi1_10Hz_00001.tif'\n  '20210309_WT_VPM_556.857_2/335um_roi1_10Hz_00001.tif'\n  '20210309_WT_VPM_556.857_2/335um_roi1_10Hz_00001.tif']\n   format: external\n   interval: 1\n   offset: 0.0\n   resolution: -1.0\n   starting_frame: [0]\n   timestamps: [1.56390784e+09 1.56390784e+09 1.56390784e+09 1.56390784e+09\n  1.56390784e+09 1.56390784e+09 1.56390784e+09 1.56390784e+09\n  1.56390784e+09 1.56390784e+09 1.56390785e+09 1.56390785e+09\n  1.56390785e+09 1.56390785e+09 1.56390785e+09 1.56390785e+09\n  1.56390785e+09 1.56390785e+09 1.56390785e+09 1.56390785e+09\n  1.56390786e+09 1.56390786e+09 1.56390786e+09 1.56390786e+09\n  1.56390786e+09 1.56390786e+09 1.56390786e+09 1.56390786e+09\n  1.56390786e+09 1.56390786e+09 1.56390787e+09 1.56390787e+09\n  1.56390787e+09 1.56390787e+09 1.56390787e+09 1.56390787e+09\n  1.56390787e+09 1.56390787e+09 1.56390787e+09 1.56390787e+09\n  1.56390788e+09 1.56390788e+09 1.56390788e+09 1.56390788e+09\n  1.56390788e+09 1.56390788e+09 1.56390788e+09 1.56390788e+09\n  1.56390788e+09 1.56390788e+09 1.56390789e+09 1.56390789e+09\n  1.56390789e+09 1.56390789e+09 1.56390789e+09 1.56390789e+09\n  1.56390789e+09 1.56390789e+09 1.56390789e+09 1.56390789e+09]\n   timestamps_unit: seconds\n   unit: unknown,\n image_series_20210329_wt_vpm_556.857_11_airpuff pynwb.image.ImageSeries at 0x139708178292256\n Fields:\n   comments: FILES 24\n   conversion: 1.0\n   description: 20210329_wt_vpm_556.857_11_airpuff\n   external_file: ['20210329_wt_vpm_556.857_11_airpuff/B2_350_roi1_10hz_00001.tif'\n  '20210329_wt_vpm_556.857_11_airpuff/B2_350_roi1_10hz_00001.tif'\n  '20210329_wt_vpm_556.857_11_airpuff/B2_350_roi1_10hz_00001.tif'\n  '20210329_wt_vpm_556.857_11_airpuff/B2_350_roi1_10hz_00001.tif'\n  '20210329_wt_vpm_556.857_11_airpuff/B2_350_roi1_10hz_00001.tif'\n  '20210329_wt_vpm_556.857_11_airpuff/B2_350_roi1_10hz_00001.tif'\n  '20210329_wt_vpm_556.857_11_airpuff/B2_350_roi1_10hz_00001.tif'\n  '20210329_wt_vpm_556.857_11_airpuff/B2_350_roi1_10hz_00001.tif'\n  '20210329_wt_vpm_556.857_11_airpuff/B2_350_roi1_10hz_00001.tif'\n  '20210329_wt_vpm_556.857_11_airpuff/B2_350_roi1_10hz_00001.tif'\n  '20210329_wt_vpm_556.857_11_airpuff/B2_350_roi1_10hz_00001.tif'\n  '20210329_wt_vpm_556.857_11_airpuff/B2_350_roi1_10hz_00001.tif'\n  '20210329_wt_vpm_556.857_11_airpuff/B2_350_roi1_10hz_00001.tif'\n  '20210329_wt_vpm_556.857_11_airpuff/B2_350_roi1_10hz_00001.tif'\n  '20210329_wt_vpm_556.857_11_airpuff/B2_350_roi1_10hz_00001.tif'\n  '20210329_wt_vpm_556.857_11_airpuff/B2_350_roi1_10hz_00001.tif'\n  '20210329_wt_vpm_556.857_11_airpuff/B2_350_roi1_10hz_00001.tif'\n  '20210329_wt_vpm_556.857_11_airpuff/B2_350_roi1_10hz_00001.tif'\n  '20210329_wt_vpm_556.857_11_airpuff/B2_350_roi1_10hz_00001.tif'\n  '20210329_wt_vpm_556.857_11_airpuff/B2_350_roi1_10hz_00001.tif'\n  '20210329_wt_vpm_556.857_11_airpuff/B2_350_roi1_10hz_00001.tif'\n  '20210329_wt_vpm_556.857_11_airpuff/B2_350_roi1_10hz_00001.tif'\n  '20210329_wt_vpm_556.857_11_airpuff/B2_350_roi1_10hz_00001.tif'\n  '20210329_wt_vpm_556.857_11_airpuff/B2_350_roi1_10hz_00001.tif']\n   format: external\n   interval: 1\n   offset: 0.0\n   resolution: -1.0\n   starting_frame: [0]\n   timestamps: [1.56390784e+09 1.56390784e+09 1.56390784e+09 1.56390784e+09\n  1.56390784e+09 1.56390784e+09 1.56390784e+09 1.56390784e+09\n  1.56390784e+09 1.56390784e+09 1.56390785e+09 1.56390785e+09\n  1.56390785e+09 1.56390785e+09 1.56390785e+09 1.56390785e+09\n  1.56390785e+09 1.56390785e+09 1.56390785e+09 1.56390785e+09\n  1.56390786e+09 1.56390786e+09 1.56390786e+09 1.56390786e+09]\n   timestamps_unit: seconds\n   unit: unknown]"
     },
     "execution_count": 128,
     "metadata": {},
     "output_type": "execute_result"
    }
   ],
   "source": [
    "image_series = []\n",
    "for key, files in image_series_external_files.items():\n",
    "    description = f'{key}'\n",
    "    timestamp = files[1]\n",
    "    comments = f'FILES {len(files)}'\n",
    "\n",
    "    ext_files = []\n",
    "    ext_files_timestamps = []\n",
    "    for filename in files:\n",
    "        ext_files.append(files[0][0])\n",
    "        #ext_files_timestamps.append(files[0][1])\n",
    "        dt = datetime(2018, 10, 22, 0, 0)\n",
    "\n",
    "        timestamp = 1563907835.857213\n",
    "        ext_files_timestamps = np.arange(len(files)) + timestamp\n",
    "\n",
    "\n",
    "\n",
    "    image_series.append(ImageSeries(name=f'image_series_{description}',\n",
    "                                   external_file=ext_files,\n",
    "                                   starting_frame=[0],\n",
    "                                   timestamps=ext_files_timestamps,\n",
    "                                   format='external',\n",
    "                                   description=description,\n",
    "                                   comments=comments))\n",
    "for series in image_series:\n",
    "    nwbfile.add_acquisition(series)\n",
    "\n",
    "image_series"
   ],
   "metadata": {
    "collapsed": false,
    "pycharm": {
     "name": "#%%\n"
    }
   }
  },
  {
   "cell_type": "code",
   "execution_count": 129,
   "outputs": [
    {
     "name": "stdout",
     "output_type": "stream",
     "text": [
      "Written NWB file to ./session_1234.nwb\n"
     ]
    }
   ],
   "source": [
    "nwb_path = f\"./{session_id}.nwb\"\n",
    "\n",
    "\n",
    "nwb_file_name = nwb_path\n",
    "with NWBHDF5IO(nwb_file_name, 'w') as io:\n",
    "    io.write(nwbfile)\n",
    "\n",
    "print(f\"Written NWB file to {nwb_file_name}\")"
   ],
   "metadata": {
    "collapsed": false,
    "pycharm": {
     "name": "#%%\n"
    }
   }
  }
 ],
 "metadata": {
  "kernelspec": {
   "name": "pipeline38",
   "language": "python",
   "display_name": "pipeline38"
  },
  "language_info": {
   "codemirror_mode": {
    "name": "ipython",
    "version": 2
   },
   "file_extension": ".py",
   "mimetype": "text/x-python",
   "name": "python",
   "nbconvert_exporter": "python",
   "pygments_lexer": "ipython2",
   "version": "2.7.6"
  }
 },
 "nbformat": 4,
 "nbformat_minor": 0
}