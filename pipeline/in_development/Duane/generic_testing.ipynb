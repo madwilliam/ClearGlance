{
 "cells": [
  {
   "cell_type": "code",
   "execution_count": 1,
   "metadata": {},
   "outputs": [
    {
     "data": {
      "text/plain": [
       "{0: {'width': 14887,\n",
       "  'height': 9387,\n",
       "  'channels': 1,\n",
       "  'resolution': 0.325,\n",
       "  'acquisition_date': '2022-01-26T02:41:32.632'},\n",
       " 1: {'width': 7443,\n",
       "  'height': 4693,\n",
       "  'channels': 1,\n",
       "  'resolution': 0.325,\n",
       "  'acquisition_date': '2022-01-26T02:41:32.632'},\n",
       " 2: {'width': 3721,\n",
       "  'height': 2346,\n",
       "  'channels': 1,\n",
       "  'resolution': 0.325,\n",
       "  'acquisition_date': '2022-01-26T02:41:32.632'},\n",
       " 3: {'width': 1860,\n",
       "  'height': 1173,\n",
       "  'channels': 1,\n",
       "  'resolution': 0.325,\n",
       "  'acquisition_date': '2022-01-26T02:41:32.632'},\n",
       " 4: {'width': 930,\n",
       "  'height': 586,\n",
       "  'channels': 1,\n",
       "  'resolution': 0.325,\n",
       "  'acquisition_date': '2022-01-26T02:41:32.632'},\n",
       " 5: {'width': 13053,\n",
       "  'height': 9391,\n",
       "  'channels': 1,\n",
       "  'resolution': 0.325,\n",
       "  'acquisition_date': '2022-01-26T02:41:32.632'},\n",
       " 6: {'width': 6526,\n",
       "  'height': 4695,\n",
       "  'channels': 1,\n",
       "  'resolution': 0.325,\n",
       "  'acquisition_date': '2022-01-26T02:41:32.632'},\n",
       " 7: {'width': 3263,\n",
       "  'height': 2347,\n",
       "  'channels': 1,\n",
       "  'resolution': 0.325,\n",
       "  'acquisition_date': '2022-01-26T02:41:32.632'},\n",
       " 8: {'width': 1631,\n",
       "  'height': 1173,\n",
       "  'channels': 1,\n",
       "  'resolution': 0.325,\n",
       "  'acquisition_date': '2022-01-26T02:41:32.632'},\n",
       " 9: {'width': 815,\n",
       "  'height': 586,\n",
       "  'channels': 1,\n",
       "  'resolution': 0.325,\n",
       "  'acquisition_date': '2022-01-26T02:41:32.632'},\n",
       " 10: {'width': 13062,\n",
       "  'height': 11218,\n",
       "  'channels': 1,\n",
       "  'resolution': 0.325,\n",
       "  'acquisition_date': '2022-01-26T02:41:32.632'},\n",
       " 11: {'width': 6531,\n",
       "  'height': 5609,\n",
       "  'channels': 1,\n",
       "  'resolution': 0.325,\n",
       "  'acquisition_date': '2022-01-26T02:41:32.632'},\n",
       " 12: {'width': 3265,\n",
       "  'height': 2804,\n",
       "  'channels': 1,\n",
       "  'resolution': 0.325,\n",
       "  'acquisition_date': '2022-01-26T02:41:32.632'},\n",
       " 13: {'width': 1632,\n",
       "  'height': 1402,\n",
       "  'channels': 1,\n",
       "  'resolution': 0.325,\n",
       "  'acquisition_date': '2022-01-26T02:41:32.632'},\n",
       " 14: {'width': 816,\n",
       "  'height': 701,\n",
       "  'channels': 1,\n",
       "  'resolution': 0.325,\n",
       "  'acquisition_date': '2022-01-26T02:41:32.632'},\n",
       " 15: {'width': 14898,\n",
       "  'height': 9392,\n",
       "  'channels': 1,\n",
       "  'resolution': 0.325,\n",
       "  'acquisition_date': '2022-01-26T02:41:32.632'},\n",
       " 16: {'width': 7449,\n",
       "  'height': 4696,\n",
       "  'channels': 1,\n",
       "  'resolution': 0.325,\n",
       "  'acquisition_date': '2022-01-26T02:41:32.632'},\n",
       " 17: {'width': 3724,\n",
       "  'height': 2348,\n",
       "  'channels': 1,\n",
       "  'resolution': 0.325,\n",
       "  'acquisition_date': '2022-01-26T02:41:32.632'},\n",
       " 18: {'width': 1862,\n",
       "  'height': 1174,\n",
       "  'channels': 1,\n",
       "  'resolution': 0.325,\n",
       "  'acquisition_date': '2022-01-26T02:41:32.632'},\n",
       " 19: {'width': 931,\n",
       "  'height': 587,\n",
       "  'channels': 1,\n",
       "  'resolution': 0.325,\n",
       "  'acquisition_date': '2022-01-26T02:41:32.632'},\n",
       " 20: {'width': 700,\n",
       "  'height': 563,\n",
       "  'channels': 1,\n",
       "  'resolution': 0.325,\n",
       "  'acquisition_date': '2022-01-26T02:41:32.632'},\n",
       " 21: {'width': 8000,\n",
       "  'height': 4020,\n",
       "  'channels': 1,\n",
       "  'resolution': 0.325,\n",
       "  'acquisition_date': '2022-01-26T02:41:32.632'},\n",
       " 'channel_0_name': 'CFP'}"
      ]
     },
     "execution_count": 1,
     "metadata": {},
     "output_type": "execute_result"
    }
   ],
   "source": [
    "from pipeline.utilities.utilities_bioformats import get_czi_metadata, get_fullres_series_indices\n",
    "\n",
    "infile = '/net/birdstore/Active_Atlas_Data/data_root/pipeline_data/DK77-DUANE/czi/DK77_slide001_2022_01_25_axion2.czi'\n",
    "metadata = get_czi_metadata(infile)\n",
    "metadata"
   ]
  },
  {
   "cell_type": "code",
   "execution_count": 4,
   "metadata": {},
   "outputs": [
    {
     "data": {
      "text/plain": [
       "'2022-01-26'"
      ]
     },
     "execution_count": 4,
     "metadata": {},
     "output_type": "execute_result"
    }
   ],
   "source": [
    "from datetime import datetime\n",
    "timestamp = metadata[0]['acquisition_date']\n",
    "new =timestamp.split('T')[0]\n",
    "new"
   ]
  },
  {
   "cell_type": "code",
   "execution_count": 11,
   "metadata": {},
   "outputs": [
    {
     "name": "stdout",
     "output_type": "stream",
     "text": [
      "CURRENT SCENE:  ScanRegion0\n"
     ]
    }
   ],
   "source": [
    "from aicsimageio import AICSImage\n",
    "\n",
    "# Get an AICSImage object\n",
    "img = AICSImage(\"/net/birdstore/Active_Atlas_Data/data_root/pipeline_data/DK77-DUANE/czi/DK77_slide186_2022_02_07_axion2.czi\")  # selects the first scene found\n",
    "img.data  # returns 5D TCZYX numpy array\n",
    "img.xarray_data  # returns 5D TCZYX xarray data array backed by numpy\n",
    "img.dims  # returns a Dimensions object\n",
    "img.dims.order  # returns string \"TCZYX\"\n",
    "img.dims.X  # returns size of X dimension\n",
    "img.shape  # returns tuple of dimension sizes in TCZYX order\n",
    "img.get_image_data(\"CZYX\", T=0)  # returns 4D CZYX numpy array\n",
    "\n",
    "# Get the id of the current operating scene\n",
    "print(\"CURRENT SCENE: \", img.current_scene)\n",
    "\n",
    "# Get a list valid scene ids\n",
    "#img.scenes\n",
    "\n",
    "# Change scene using name\n",
    "#img.set_scene(\"Image:1\")\n",
    "# Or by scene index\n",
    "#img.set_scene(1)\n"
   ]
  },
  {
   "cell_type": "code",
   "execution_count": 17,
   "metadata": {},
   "outputs": [
    {
     "name": "stdout",
     "output_type": "stream",
     "text": [
      "(1, 1, 1, 11215, 9390)\n",
      "0.325 0.325 None\n"
     ]
    }
   ],
   "source": [
    "print(img.shape)\n",
    "print(img.physical_pixel_sizes.X, img.physical_pixel_sizes.Y, img.physical_pixel_sizes.Z )\n",
    "\n",
    "# img.channel_names  # returns a list of string channel names found in the metadata\n",
    "# img.physical_pixel_sizes.Z  # returns the Z dimension pixel size as found in the metadata\n",
    "# img.physical_pixel_sizes.Y  # returns the Y dimension pixel size as found in the metadata\n",
    "# img.physical_pixel_sizes.X  # returns the X dimension pixel size as found in the metadata\n",
    "#AICSImage(\"/net/birdstore/Active_Atlas_Data/data_root/pipeline_data/DK77-DUANE/czi/DK77_slide186_2022_02_07_axion2.czi\").save(\"my_file.ome.png\")\n"
   ]
  },
  {
   "cell_type": "code",
   "execution_count": 5,
   "metadata": {},
   "outputs": [
    {
     "name": "stdout",
     "output_type": "stream",
     "text": [
      "4 (s:0 i:0 v:0 h:0 r:0 b:0) (-143208, 29368, 9390, 11215) 1\n"
     ]
    }
   ],
   "source": [
    "import slideio\n",
    "slide = slideio.open_slide(\"/net/birdstore/Active_Atlas_Data/data_root/pipeline_data/DK77-DUANE/czi/DK77_slide186_2022_02_07_axion2.czi\", \"CZI\")\n",
    "num_scenes = slide.num_scenes\n",
    "scene = slide.get_scene(0)\n",
    "print(num_scenes, scene.name, scene.rect, scene.num_channels)"
   ]
  },
  {
   "cell_type": "code",
   "execution_count": 27,
   "metadata": {},
   "outputs": [
    {
     "name": "stdout",
     "output_type": "stream",
     "text": [
      "[[[[0 0 0 ... 0 0 0]\n",
      "   [0 0 0 ... 0 0 0]\n",
      "   [0 0 0 ... 0 0 0]\n",
      "   ...\n",
      "   [0 0 0 ... 0 0 0]\n",
      "   [0 0 0 ... 0 0 0]\n",
      "   [0 0 0 ... 0 0 0]]]]\n",
      "scenes <bound method AICSImage.get_image_dask_data of <AICSImage [Reader: CziReader, Image-is-in-Memory: True]>>\n"
     ]
    }
   ],
   "source": [
    "from aicsimageio import AICSImage\n",
    "\n",
    "img = AICSImage(\"/net/birdstore/Active_Atlas_Data/data_root/pipeline_data/DK77-DUANE/czi/DK77_slide186_2022_02_07_axion2.czi\")  # selects the first scene found\n",
    "\n",
    "#print(img.data)\n",
    "#print(img.shape)\n",
    "print(img.get_image_data(\"CZYX\", S=0, T=0))\n",
    "#print(\"CURRENT SCENE: \", img.current_scene)\n",
    "#print(\"CURRENT SCENE INDEX: \", img.current_scene_index)\n",
    "print(\"scenes\", img.get_image_dask_data)\n"
   ]
  },
  {
   "cell_type": "code",
   "execution_count": 26,
   "metadata": {},
   "outputs": [
    {
     "name": "stderr",
     "output_type": "stream",
     "text": [
      "/usr/local/share/pipeline/lib/python3.8/site-packages/ome_types/_convenience.py:105: FutureWarning: The default XML parser will be changing from 'xmlschema' to 'lxml' in version 0.4.0.  To silence this warning, please provide the `parser` argument, specifying either 'lxml' (to opt into the new behavior), or'xmlschema' (to retain the old behavior).\n",
      "  d = to_dict(os.fspath(xml), parser=parser, validate=validate)\n"
     ]
    }
   ],
   "source": [
    "from aicsimageio import AICSImage\n",
    "from sys import getsizeof\n",
    "aics_img = AICSImage(\"/net/birdstore/Active_Atlas_Data/data_root/pipeline_data/DK77-DUANE/czi/DK77_slide186_2022_02_07_axion2.czi\")\n",
    "#aics_img.dask_data\n",
    "aics_img.current_scene\n",
    "getsizeof(aics_img)\n",
    "aics_img.save(\"test1.png\")"
   ]
  }
 ],
 "metadata": {
  "interpreter": {
   "hash": "9b29855540defb355a50951874e4b3a9a33e036ed29af88ad65ef37e45f70f6e"
  },
  "kernelspec": {
   "display_name": "Python 3.8.10 ('pipeline')",
   "language": "python",
   "name": "python3"
  },
  "language_info": {
   "codemirror_mode": {
    "name": "ipython",
    "version": 3
   },
   "file_extension": ".py",
   "mimetype": "text/x-python",
   "name": "python",
   "nbconvert_exporter": "python",
   "pygments_lexer": "ipython3",
   "version": "3.8.10"
  },
  "orig_nbformat": 4
 },
 "nbformat": 4,
 "nbformat_minor": 2
}
