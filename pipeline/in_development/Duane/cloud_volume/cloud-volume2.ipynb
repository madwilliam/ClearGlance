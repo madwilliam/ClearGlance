{
 "cells": [
  {
   "cell_type": "code",
   "execution_count": 4,
   "metadata": {
    "collapsed": false,
    "pycharm": {
     "name": "#%%\n"
    }
   },
   "outputs": [
    {
     "ename": "ModuleNotFoundError",
     "evalue": "No module named 'Controllers'",
     "output_type": "error",
     "traceback": [
      "\u001b[0;31m---------------------------------------------------------------------------\u001b[0m",
      "\u001b[0;31mModuleNotFoundError\u001b[0m                       Traceback (most recent call last)",
      "\u001b[0;32m/tmp/ipykernel_857118/1467052581.py\u001b[0m in \u001b[0;36m<module>\u001b[0;34m\u001b[0m\n\u001b[1;32m      2\u001b[0m \u001b[0;32mfrom\u001b[0m \u001b[0mcloudvolume\u001b[0m \u001b[0;32mimport\u001b[0m \u001b[0mCloudVolume\u001b[0m\u001b[0;34m\u001b[0m\u001b[0;34m\u001b[0m\u001b[0m\n\u001b[1;32m      3\u001b[0m \u001b[0;32mfrom\u001b[0m \u001b[0mskimage\u001b[0m \u001b[0;32mimport\u001b[0m \u001b[0mmeasure\u001b[0m\u001b[0;34m,\u001b[0m \u001b[0mio\u001b[0m\u001b[0;34m\u001b[0m\u001b[0;34m\u001b[0m\u001b[0m\n\u001b[0;32m----> 4\u001b[0;31m \u001b[0;32mfrom\u001b[0m \u001b[0mutilities_cvat_neuroglancer\u001b[0m \u001b[0;32mimport\u001b[0m \u001b[0mNumpyToNeuroglancer\u001b[0m\u001b[0;34m\u001b[0m\u001b[0;34m\u001b[0m\u001b[0m\n\u001b[0m\u001b[1;32m      5\u001b[0m \u001b[0;32mfrom\u001b[0m \u001b[0mlib\u001b[0m\u001b[0;34m.\u001b[0m\u001b[0mNgPrecomputedMaker\u001b[0m \u001b[0;32mimport\u001b[0m \u001b[0mNgPrecomputedMaker\u001b[0m\u001b[0;34m\u001b[0m\u001b[0;34m\u001b[0m\u001b[0m\n\u001b[1;32m      6\u001b[0m \u001b[0;34m\u001b[0m\u001b[0m\n",
      "\u001b[0;32m~/preprocessing-pipeline/pipeline/in_development/Duane/cloud_volume/utilities_cvat_neuroglancer.py\u001b[0m in \u001b[0;36m<module>\u001b[0;34m\u001b[0m\n\u001b[1;32m     15\u001b[0m \u001b[0;32mfrom\u001b[0m \u001b[0mcollections\u001b[0m \u001b[0;32mimport\u001b[0m \u001b[0mdefaultdict\u001b[0m\u001b[0;34m\u001b[0m\u001b[0;34m\u001b[0m\u001b[0m\n\u001b[1;32m     16\u001b[0m \u001b[0;32mimport\u001b[0m \u001b[0mpickle\u001b[0m\u001b[0;34m\u001b[0m\u001b[0;34m\u001b[0m\u001b[0m\n\u001b[0;32m---> 17\u001b[0;31m \u001b[0;32mfrom\u001b[0m \u001b[0mControllers\u001b[0m\u001b[0;34m.\u001b[0m\u001b[0mSqlController\u001b[0m \u001b[0;32mimport\u001b[0m \u001b[0mSqlController\u001b[0m\u001b[0;34m,\u001b[0m \u001b[0mfile_processed\u001b[0m\u001b[0;34m,\u001b[0m \u001b[0mset_file_completed\u001b[0m\u001b[0;34m\u001b[0m\u001b[0;34m\u001b[0m\u001b[0m\n\u001b[0m\u001b[1;32m     18\u001b[0m \u001b[0;32mfrom\u001b[0m \u001b[0mutilities\u001b[0m\u001b[0;34m.\u001b[0m\u001b[0mutilities_process\u001b[0m \u001b[0;32mimport\u001b[0m \u001b[0mget_cpus\u001b[0m\u001b[0;34m\u001b[0m\u001b[0;34m\u001b[0m\u001b[0m\n\u001b[1;32m     19\u001b[0m \u001b[0;32mfrom\u001b[0m \u001b[0mControllers\u001b[0m\u001b[0;34m.\u001b[0m\u001b[0mController\u001b[0m \u001b[0;32mimport\u001b[0m \u001b[0mcreate_pooled_session\u001b[0m\u001b[0;34m\u001b[0m\u001b[0;34m\u001b[0m\u001b[0m\n",
      "\u001b[0;31mModuleNotFoundError\u001b[0m: No module named 'Controllers'"
     ]
    }
   ],
   "source": [
    "import os\n",
    "from cloudvolume import CloudVolume\n",
    "from skimage import measure, io\n",
    "from utilities_cvat_neuroglancer import NumpyToNeuroglancer\n",
    "from lib.NgPrecomputedMaker import NgPrecomputedMaker\n",
    "\n",
    "prep_id = 'DK59'\n",
    "channel = 1\n",
    "INPUT = f'/net/birdstore/Active_Atlas_Data/data_root/pipeline_data/{prep_id}/preps/CH1/thumbnail_aligned'\n",
    "OUTPUT_DIR = f'/net/birdstore/Active_Atlas_Data/data_root/pipeline_data/{prep_id}/neuroglancer_data/test'\n",
    "FINAL_OUTPUT_DIR = os.path.join(OUTPUT_DIR, f\"C{channel}T\")\n",
    "\n",
    "\n",
    "def sizeof_fmt(num, suffix=\"B\"):\n",
    "    for unit in [\"\", \"Ki\", \"Mi\", \"Gi\", \"Ti\", \"Pi\", \"Ei\", \"Zi\"]:\n",
    "        if abs(num) < 1024.0:\n",
    "            return f\"{num:3.1f}{unit}{suffix}\"\n",
    "        num /= 1024.0\n",
    "    return f\"{num:.1f}Yi{suffix}\"\n",
    "\n",
    "\n",
    "os.makedirs(FINAL_OUTPUT_DIR, exist_ok=True)\n",
    "infiles = os.listdir(INPUT)\n",
    "\n",
    "print(f\"INPUT FOLDER: {INPUT}\")\n",
    "print(f\"CURRENT FILE COUNT: {len(infiles)}\")\n",
    "print(f\"OUTPUT FOLDER: {OUTPUT_DIR}\")\n",
    "\n",
    "resolution_scales = [325, 325, 20000]\n",
    "chunk_size = [512, 512, 16] # units are voxels [recommended powers of 2; 2**9=512]\n",
    "data_type = 'uint16'\n",
    "\n",
    "key_process = NgPrecomputedMaker()\n",
    "midfile, file_keys, volume_size, num_channels = key_process.get_file_information(INPUT)\n",
    "\n",
    "ng = NumpyToNeuroglancer(\n",
    "            prep_id,\n",
    "            None,\n",
    "            resolution_scales,\n",
    "            \"image\",\n",
    "            data_type,\n",
    "            num_channels=channel,\n",
    "            chunk_size=chunk_size,\n",
    "        )\n",
    "\n",
    "ng.init_precomputed(OUTPUT_DIR, volume_size, progress_id=1) #location: utilities_cvat_neuroglancer\n"
   ]
  },
  {
   "cell_type": "code",
   "execution_count": null,
   "metadata": {
    "collapsed": false,
    "pycharm": {
     "name": "#%%\n"
    }
   },
   "outputs": [],
   "source": []
  }
 ],
 "metadata": {
  "kernelspec": {
   "display_name": "Python 3.8.10 ('pipeline')",
   "language": "python",
   "name": "python3"
  },
  "language_info": {
   "codemirror_mode": {
    "name": "ipython",
    "version": 3
   },
   "file_extension": ".py",
   "mimetype": "text/x-python",
   "name": "python",
   "nbconvert_exporter": "python",
   "pygments_lexer": "ipython3",
   "version": "3.8.10"
  },
  "vscode": {
   "interpreter": {
    "hash": "9b29855540defb355a50951874e4b3a9a33e036ed29af88ad65ef37e45f70f6e"
   }
  }
 },
 "nbformat": 4,
 "nbformat_minor": 0
}
