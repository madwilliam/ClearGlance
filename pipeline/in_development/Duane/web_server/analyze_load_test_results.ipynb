{
 "cells": [
  {
   "cell_type": "code",
   "execution_count": 1,
   "metadata": {
    "collapsed": true,
    "pycharm": {
     "name": "#%%\n"
    }
   },
   "outputs": [
    {
     "name": "stdout",
     "output_type": "stream",
     "text": [
      "Read tsv: DK59-load_test_results.tsv.gz\n",
      "Operation time:  0.12338542938232422 sec\n",
      "ROWS: 56713, COLUMNS: 7\n"
     ]
    }
   ],
   "source": [
    "import os\n",
    "import time\n",
    "import pandas as pd\n",
    "\n",
    "'''\n",
    "CREATED: 3-AUG-2022\n",
    "LAST EDIT: 3-AUG-2022\n",
    "AUTHORS: DUANE RINEHART\n",
    "'''\n",
    "\n",
    "prep_id = \"DK59\"\n",
    "results_filename = f'{prep_id}-load_test_results.tsv.gz'\n",
    "\n",
    "start = time.time()\n",
    "df_raw_results = pd.read_csv(results_filename, sep=\"\\t\", compression=\"gzip\")\n",
    "end = time.time()\n",
    "\n",
    "print(f\"Read tsv: {results_filename}\")\n",
    "print(\"Operation time: \", (end - start), \"sec\")\n",
    "print(f\"ROWS: {df_raw_results.shape[0]}, COLUMNS: {df_raw_results.shape[1]}\")"
   ]
  },
  {
   "cell_type": "code",
   "execution_count": 2,
   "metadata": {
    "collapsed": false,
    "pycharm": {
     "name": "#%%\n"
    }
   },
   "outputs": [
    {
     "name": "stdout",
     "output_type": "stream",
     "text": [
      "DK59\n",
      "AGGREGATE TRANSFER TIME: 224.3s\n"
     ]
    }
   ],
   "source": [
    "df_selected_results = df_raw_results.loc[df_raw_results['selected'] == \"1\"]\n",
    "agg_transfer_time = df_selected_results['transfer_time'].sum()\n",
    "print(prep_id)\n",
    "print(f\"AGGREGATE TRANSFER TIME: {round(agg_transfer_time,1)}s\")"
   ]
  }
 ],
 "metadata": {
  "kernelspec": {
   "display_name": "Python 3.8.10 ('pipeline')",
   "language": "python",
   "name": "python3"
  },
  "language_info": {
   "codemirror_mode": {
    "name": "ipython",
    "version": 3
   },
   "file_extension": ".py",
   "mimetype": "text/x-python",
   "name": "python",
   "nbconvert_exporter": "python",
   "pygments_lexer": "ipython3",
   "version": "3.8.10"
  },
  "vscode": {
   "interpreter": {
    "hash": "9b29855540defb355a50951874e4b3a9a33e036ed29af88ad65ef37e45f70f6e"
   }
  }
 },
 "nbformat": 4,
 "nbformat_minor": 0
}
