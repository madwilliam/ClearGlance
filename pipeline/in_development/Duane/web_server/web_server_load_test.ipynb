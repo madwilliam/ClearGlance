{
 "cells": [
  {
   "cell_type": "code",
   "execution_count": 1,
   "metadata": {
    "collapsed": false,
    "pycharm": {
     "name": "#%%\n"
    }
   },
   "outputs": [
    {
     "name": "stdout",
     "output_type": "stream",
     "text": [
      "PREP ID: DK59\n",
      "Read tsv: ./DK59-325_325_20000.tsv\n",
      "Operation time:  0.2524991035461426 sec\n"
     ]
    }
   ],
   "source": [
    "\"\"\"\n",
    "LOAD TEST WEB SERVER\n",
    "\n",
    "CREATED: 13-APR-2022\n",
    "LAST EDIT: 3-AUG-2022\n",
    "AUTHORS: DUANE RINEHART\n",
    "\n",
    "\"\"\"\n",
    "import os\n",
    "import time\n",
    "import pandas as pd\n",
    "import psutil\n",
    "\n",
    "\n",
    "win_data_dir = \"E:/dev/web_server_load_test/\"\n",
    "linux_data_dir = \".\"\n",
    "prep_id = \"DK59\"\n",
    "\n",
    "def load_app_constants():\n",
    "    \"\"\"\n",
    "    LOAD APP/ENVIRONMENT SETTINGS (ESP. CROSS-PLATFORM)\n",
    "    \"\"\"\n",
    "    if os.name == \"nt\":\n",
    "        input_fullPath = os.path.join(win_data_dir)\n",
    "    else:\n",
    "        input_fullPath = os.path.join(linux_data_dir)\n",
    "    return input_fullPath\n",
    "\n",
    "\n",
    "def sizeof_fmt(num, suffix=\"B\"):\n",
    "    for unit in [\"\", \"Ki\", \"Mi\", \"Gi\", \"Ti\", \"Pi\", \"Ei\", \"Zi\"]:\n",
    "        if abs(num) < 1024.0:\n",
    "            return f\"{num:3.1f}{unit}{suffix}\"\n",
    "        num /= 1024.0\n",
    "    return f\"{num:.1f}Yi{suffix}\"\n",
    "\n",
    "\n",
    "def capture_dir_listing(data_root):\n",
    "    \"\"\"\n",
    "    PRIOR LIST OF REPRESENTATIVE DIRECTORY CONTENTS GENERATED WITH:\n",
    "    [ON pons.dk.ucsd.edu]\n",
    "    cd /data/neuroglancer/DK55/neuroglancer_data/C1\n",
    "    PREP_ID='DK73' && DIR='325_325_20000' && ls -l $DIR | awk 'BEGIN {OFS=\"\\t\"} { print $9, $5 }' > ~/\"$PREP_ID-$DIR.tsv\"   \n",
    "\n",
    "    \"\"\"\n",
    "\n",
    "    input_filename = f\"{prep_id}-325_325_20000.tsv\"\n",
    "    input_fullPath = os.path.join(data_root, input_filename)\n",
    "\n",
    "    start = time.time()\n",
    "    dfFileList = pd.read_csv(\n",
    "        input_fullPath, sep=\"\\t\", names=[\"fname\", \"size_(bytes)\"], header=None\n",
    "    )\n",
    "    dfFileList.index.name = \"id\"\n",
    "    end = time.time()\n",
    "    print(f\"PREP ID: {prep_id}\")\n",
    "    print(f\"Read tsv: {input_fullPath}\")\n",
    "    print(\"Operation time: \", (end - start), \"sec\")\n",
    "    return dfFileList\n",
    "\n",
    "\n",
    "data_root = load_app_constants()\n",
    "files_size_array = capture_dir_listing(data_root)\n"
   ]
  },
  {
   "cell_type": "code",
   "execution_count": 2,
   "metadata": {
    "collapsed": false,
    "pycharm": {
     "name": "#%%\n"
    }
   },
   "outputs": [
    {
     "name": "stdout",
     "output_type": "stream",
     "text": [
      "PREP ID: DK59\n",
      "n =  211073\n",
      "μ = 2.0MiB\n",
      "median =  8.3KiB\n",
      "mode =  8.3KiB\n",
      "min =  887.0B\n",
      "max =  8.0MiB\n",
      "σ =  3414032.0281258775\n",
      "+++\n",
      "ONLY FILES > ORG. MODE:\n",
      "filtered n =  56713\n",
      "(filtered μ) x̄ =  7.3MiB\n",
      "filtered median =  7.8MiB\n",
      "filtered mode =  7.8MiB\n",
      "filtered min =  3.3MiB\n",
      "filtered max =  8.0MiB\n",
      "σ =  1154634.691091191\n"
     ]
    }
   ],
   "source": [
    "print(f\"PREP ID: {prep_id}\")\n",
    "print('n = ', len(files_size_array.index))\n",
    "print('μ =', sizeof_fmt(files_size_array['size_(bytes)'].mean()))\n",
    "print('median = ', sizeof_fmt(files_size_array['size_(bytes)'].median()))\n",
    "print('mode = ', sizeof_fmt(files_size_array['size_(bytes)'].mode().iat[0]))\n",
    "print('min = ', sizeof_fmt(files_size_array['size_(bytes)'].min()))\n",
    "print('max = ', sizeof_fmt(files_size_array['size_(bytes)'].max()))\n",
    "print('σ = ', files_size_array['size_(bytes)'].std())\n",
    "mode = files_size_array['size_(bytes)'].mode().iat[0]\n",
    "print(\"+++\")\n",
    "print(\"ONLY FILES > ORG. MODE:\")\n",
    "df_filter = files_size_array['size_(bytes)'] > mode + files_size_array['size_(bytes)'].std()\n",
    "filtered_df_files_size_array = files_size_array[df_filter]\n",
    "\n",
    "files_size_array['size_(bytes)'].mean()\n",
    "\n",
    "\n",
    "print('filtered n = ', len(filtered_df_files_size_array.index))\n",
    "print('(filtered μ) x̄ = ', sizeof_fmt(filtered_df_files_size_array['size_(bytes)'].mean()))\n",
    "print('filtered median = ', sizeof_fmt(filtered_df_files_size_array['size_(bytes)'].median()))\n",
    "print('filtered mode = ', sizeof_fmt(filtered_df_files_size_array['size_(bytes)'].mode().iat[0]))\n",
    "print('filtered min = ', sizeof_fmt(filtered_df_files_size_array['size_(bytes)'].min()))\n",
    "print('filtered max = ', sizeof_fmt(filtered_df_files_size_array['size_(bytes)'].max()))\n",
    "print('σ = ', filtered_df_files_size_array['size_(bytes)'].std())"
   ]
  },
  {
   "cell_type": "code",
   "execution_count": 3,
   "metadata": {
    "collapsed": false,
    "pycharm": {
     "name": "#%%\n"
    }
   },
   "outputs": [
    {
     "name": "stdout",
     "output_type": "stream",
     "text": [
      "ORG - DK59\n"
     ]
    },
    {
     "data": {
      "text/plain": [
       "<AxesSubplot:>"
      ]
     },
     "execution_count": 3,
     "metadata": {},
     "output_type": "execute_result"
    },
    {
     "data": {
      "image/png": "[encoded data removed]",
      "text/plain": [
       "<Figure size 432x288 with 1 Axes>"
      ]
     },
     "metadata": {
      "needs_background": "light"
     },
     "output_type": "display_data"
    }
   ],
   "source": [
    "print(f\"ORG - {prep_id}\")\n",
    "files_size_array['size_(bytes)'].hist()"
   ]
  },
  {
   "cell_type": "code",
   "execution_count": 4,
   "metadata": {},
   "outputs": [
    {
     "name": "stdout",
     "output_type": "stream",
     "text": [
      "REVISED - DK59\n"
     ]
    },
    {
     "data": {
      "text/plain": [
       "<AxesSubplot:>"
      ]
     },
     "execution_count": 4,
     "metadata": {},
     "output_type": "execute_result"
    },
    {
     "data": {
      "image/png": "[encoded data removed]",
      "text/plain": [
       "<Figure size 432x288 with 1 Axes>"
      ]
     },
     "metadata": {
      "needs_background": "light"
     },
     "output_type": "display_data"
    }
   ],
   "source": [
    "print(f\"REVISED - {prep_id}\")\n",
    "filtered_df_files_size_array['size_(bytes)'].hist()"
   ]
  },
  {
   "cell_type": "code",
   "execution_count": 6,
   "metadata": {
    "collapsed": false,
    "pycharm": {
     "name": "#%%\n"
    }
   },
   "outputs": [
    {
     "name": "stderr",
     "output_type": "stream",
     "text": [
      "/tmp/ipykernel_489632/4292400048.py:7: SettingWithCopyWarning: \n",
      "A value is trying to be set on a copy of a slice from a DataFrame.\n",
      "Try using .loc[row_indexer,col_indexer] = value instead\n",
      "\n",
      "See the caveats in the documentation: https://pandas.pydata.org/pandas-docs/stable/user_guide/indexing.html#returning-a-view-versus-a-copy\n",
      "  filtered_df_files_size_array['selected'] = ' ' # ADD TO EXISTING DATAFRAME\n",
      "/tmp/ipykernel_489632/4292400048.py:18: SettingWithCopyWarning: \n",
      "A value is trying to be set on a copy of a slice from a DataFrame.\n",
      "Try using .loc[row_indexer,col_indexer] = value instead\n",
      "\n",
      "See the caveats in the documentation: https://pandas.pydata.org/pandas-docs/stable/user_guide/indexing.html#returning-a-view-versus-a-copy\n",
      "  filtered_df_files_size_array['transfer_time (s)'] = 0 #NEW COLUMN NAME; DEFAULT VALUE = 0\n"
     ]
    }
   ],
   "source": [
    "#REPRESENTATIVE IMAGES DURING SESSION SUM IS BASED ON HISTORICAL DAILY AVERAGE (https://activebrainatlas.ucsd.edu/awstats/awstats.pl)\n",
    "#MAR, 2022 AVG 8.82GB\n",
    "aggregate_threshold = (8.82e+9) # IN BYTES\n",
    "aggregate_file_size = 0\n",
    "#out_filename = f'{prep_id}-load_test_target_transfer_list.xlsx'\n",
    "out_filename = f'{prep_id}-load_test_target_transfer_list.tsv.gz'\n",
    "filtered_df_files_size_array['selected'] = ' ' # ADD TO EXISTING DATAFRAME\n",
    "\n",
    "for i in filtered_df_files_size_array.sample(frac=1).iterrows(): #ref: https://stackoverflow.com/questions/43509114/randomly-sample-rows-of-a-dataframe-until-the-desired-sum-of-a-column-is-reached\n",
    "    if (aggregate_file_size + i[1]['size_(bytes)']) <= aggregate_threshold:\n",
    "        aggregate_file_size += i[1]['size_(bytes)']\n",
    "        filtered_df_files_size_array.at[i[0], 'selected'] = 1\n",
    "\n",
    "# SAVE RESULTS TO FILE ('size_(bytes)' COLUMN SUM SHOULD EQUAL aggregate_threshold)\n",
    "data_root = load_app_constants()\n",
    "output_fullPath = os.path.join(data_root, out_filename)\n",
    "filtered_df_files_size_array.index.name = 'id'\n",
    "filtered_df_files_size_array['transfer_time (s)'] = 0 #NEW COLUMN NAME; DEFAULT VALUE = 0\n",
    "#filtered_df_files_size_array[filtered_df_files_size_array['selected']==1].to_excel(output_fullPath, columns=['fname','size_(bytes)', 'transfer_time (s)'])\n",
    "#filtered_df_files_size_array.to_excel(out_filename)\n",
    "filtered_df_files_size_array[filtered_df_files_size_array['selected']==1].to_csv(output_fullPath, sep=\"\\t\", columns=['fname','size_(bytes)', 'transfer_time (s)'], compression=\"gzip\")\n",
    "filtered_df_files_size_array.to_csv(out_filename, sep=\"\\t\", compression=\"gzip\")"
   ]
  },
  {
   "cell_type": "code",
   "execution_count": 13,
   "metadata": {
    "collapsed": false,
    "pycharm": {
     "name": "#%%\n"
    }
   },
   "outputs": [
    {
     "name": "stdout",
     "output_type": "stream",
     "text": [
      "DATA PULLED FROM FILE\n",
      "TOTAL RECORDS: 0\n"
     ]
    }
   ],
   "source": [
    "import pandas as pd\n",
    "import wget\n",
    "from timeit import default_timer as timer\n",
    "import glob\n",
    "import sqlite3\n",
    "\n",
    "#in_filename = f'{prep_id}-load_test_target_transfer_list.xlsx'\n",
    "in_filename = f'{prep_id}-load_test_target_transfer_list.tsv.gz'\n",
    "#out_filename = f'{prep_id}-load_test_results.xlsx'\n",
    "out_filename = f'{prep_id}-load_test_results.tsv.gz'\n",
    "db_file = f\"results-{prep_id}.db\"\n",
    "base_url = f'https://activebrainatlas.ucsd.edu/data/{prep_id}/neuroglancer_data/C1/325_325_20000/'\n",
    "\n",
    "def speed_test(url):\n",
    "    local_file = 'tmp.del'\n",
    "    start_time = timer()\n",
    "    wget.download(url, local_file)\n",
    "    end_time = timer()\n",
    "    elapsed_time = round(end_time - start_time, 2)\n",
    "\n",
    "    #CLEANUP\n",
    "    fileList = glob.glob('*.del')\n",
    "    for filePath in fileList:\n",
    "        try:\n",
    "            os.remove(filePath)\n",
    "        except:\n",
    "            print(\"Error while deleting file : \", filePath)\n",
    "\n",
    "    return elapsed_time\n",
    "\n",
    "\n",
    "def store_results():\n",
    "    conn = sqlite3.connect(db_file)\n",
    "\n",
    "# try:\n",
    "#     conn = sqlite3.connect(db_file)\n",
    "#     qry = f\"SELECT * FROM results, (SELECT COUNT(*) AS OUTSTANDING FROM results WHERE 'transfer_time (s)' = 0), (SELECT COUNT(*) AS TOTAL FROM results) \"\n",
    "#     selected_files = pd.read_sql_query(qry, conn)\n",
    "#     print(\"DATA PULLED FROM DATABASE\")\n",
    "# except:    \n",
    "filtered_df_files_size_array = pd.read_csv(in_filename, sep=\"\\t\", compression=\"gzip\")\n",
    "selected_files = filtered_df_files_size_array.loc[filtered_df_files_size_array['selected'] == 1]\n",
    "print(\"DATA PULLED FROM FILE\")\n",
    "# conn = sqlite3.connect(db_file)\n",
    "# selected_files.to_sql('results', conn)\n",
    "# print(\"DATA ADDED TO DB\")\n",
    "    \n",
    "total_files = selected_files.shape[0]\n",
    "print(f\"TOTAL RECORDS: {total_files}\")\n",
    "\n",
    "# macro_start_time = timer()\n",
    "# for index, row in selected_files.iterrows():\n",
    "#     # if row % 10:#save every 10\n",
    "#     #     filtered_df_files_size_array.to_excel(out_filename)\n",
    "        \n",
    "#     filename = row['fname']\n",
    "#     url = base_url + filename\n",
    "#     elapsed_time = speed_test(url)\n",
    "#     print(index, url)\n",
    "#     print(f\"TRANSFER TIME: {elapsed_time}s\")\n",
    "#     print(f\"PCT_COMPLETE: {round(index/total_files,1)}%\")\n",
    "\n",
    "#     #UPDATE DATAFRAME WITH NEW TRANSFER DATE\n",
    "#     filtered_df_files_size_array.loc[filtered_df_files_size_array['fname'] == filename, 'transfer_time'] = elapsed_time\n",
    "\n",
    "# macro_end_time = timer()\n",
    "# macro_elapsed_time = round(macro_end_time - macro_start_time, 2)\n",
    "# filtered_df_files_size_array.to_excel(out_filename)\n",
    "# print(f\"MACRO ELAPSED TIME: {macro_elapsed_time}\")"
   ]
  },
  {
   "cell_type": "code",
   "execution_count": 35,
   "metadata": {},
   "outputs": [
    {
     "data": {
      "text/html": [
       "<div>\n",
       "<style scoped>\n",
       "    .dataframe tbody tr th:only-of-type {\n",
       "        vertical-align: middle;\n",
       "    }\n",
       "\n",
       "    .dataframe tbody tr th {\n",
       "        vertical-align: top;\n",
       "    }\n",
       "\n",
       "    .dataframe thead th {\n",
       "        text-align: right;\n",
       "    }\n",
       "</style>\n",
       "<table border=\"1\" class=\"dataframe\">\n",
       "  <thead>\n",
       "    <tr style=\"text-align: right;\">\n",
       "      <th></th>\n",
       "      <th>id</th>\n",
       "      <th>fname</th>\n",
       "      <th>size_(bytes)</th>\n",
       "      <th>selected</th>\n",
       "      <th>transfer_time (s)</th>\n",
       "    </tr>\n",
       "  </thead>\n",
       "  <tbody>\n",
       "    <tr>\n",
       "      <th>3</th>\n",
       "      <td>65157</td>\n",
       "      <td>10240-10496_10240-10496_248-249.gz</td>\n",
       "      <td>72604.0</td>\n",
       "      <td>1</td>\n",
       "      <td>0</td>\n",
       "    </tr>\n",
       "    <tr>\n",
       "      <th>9</th>\n",
       "      <td>66092</td>\n",
       "      <td>10240-10496_10496-10752_217-218.gz</td>\n",
       "      <td>49973.0</td>\n",
       "      <td>1</td>\n",
       "      <td>0</td>\n",
       "    </tr>\n",
       "    <tr>\n",
       "      <th>92</th>\n",
       "      <td>68005</td>\n",
       "      <td>10240-10496_11520-11776_192-193.gz</td>\n",
       "      <td>56128.0</td>\n",
       "      <td>1</td>\n",
       "      <td>0</td>\n",
       "    </tr>\n",
       "    <tr>\n",
       "      <th>107</th>\n",
       "      <td>68040</td>\n",
       "      <td>10240-10496_11520-11776_224-225.gz</td>\n",
       "      <td>97940.0</td>\n",
       "      <td>1</td>\n",
       "      <td>0</td>\n",
       "    </tr>\n",
       "    <tr>\n",
       "      <th>171</th>\n",
       "      <td>68570</td>\n",
       "      <td>10240-10496_11776-12032_264-265.gz</td>\n",
       "      <td>53433.0</td>\n",
       "      <td>1</td>\n",
       "      <td>0</td>\n",
       "    </tr>\n",
       "    <tr>\n",
       "      <th>...</th>\n",
       "      <td>...</td>\n",
       "      <td>...</td>\n",
       "      <td>...</td>\n",
       "      <td>...</td>\n",
       "      <td>...</td>\n",
       "    </tr>\n",
       "    <tr>\n",
       "      <th>3536696</th>\n",
       "      <td>15118112</td>\n",
       "      <td>9984-10240_21248-21504_257-258.gz</td>\n",
       "      <td>89961.0</td>\n",
       "      <td>1</td>\n",
       "      <td>0</td>\n",
       "    </tr>\n",
       "    <tr>\n",
       "      <th>3536743</th>\n",
       "      <td>15118512</td>\n",
       "      <td>9984-10240_21504-21760_181-182.gz</td>\n",
       "      <td>68589.0</td>\n",
       "      <td>1</td>\n",
       "      <td>0</td>\n",
       "    </tr>\n",
       "    <tr>\n",
       "      <th>3536746</th>\n",
       "      <td>15118517</td>\n",
       "      <td>9984-10240_21504-21760_185-186.gz</td>\n",
       "      <td>71534.0</td>\n",
       "      <td>1</td>\n",
       "      <td>0</td>\n",
       "    </tr>\n",
       "    <tr>\n",
       "      <th>3536781</th>\n",
       "      <td>15118582</td>\n",
       "      <td>9984-10240_21504-21760_243-244.gz</td>\n",
       "      <td>76642.0</td>\n",
       "      <td>1</td>\n",
       "      <td>0</td>\n",
       "    </tr>\n",
       "    <tr>\n",
       "      <th>3536887</th>\n",
       "      <td>15120019</td>\n",
       "      <td>9984-10240_22272-22528_228-229.gz</td>\n",
       "      <td>59548.0</td>\n",
       "      <td>1</td>\n",
       "      <td>0</td>\n",
       "    </tr>\n",
       "  </tbody>\n",
       "</table>\n",
       "<p>87593 rows × 5 columns</p>\n",
       "</div>"
      ],
      "text/plain": [
       "               id                               fname  size_(bytes) selected  \\\n",
       "3           65157  10240-10496_10240-10496_248-249.gz       72604.0        1   \n",
       "9           66092  10240-10496_10496-10752_217-218.gz       49973.0        1   \n",
       "92          68005  10240-10496_11520-11776_192-193.gz       56128.0        1   \n",
       "107         68040  10240-10496_11520-11776_224-225.gz       97940.0        1   \n",
       "171         68570  10240-10496_11776-12032_264-265.gz       53433.0        1   \n",
       "...           ...                                 ...           ...      ...   \n",
       "3536696  15118112   9984-10240_21248-21504_257-258.gz       89961.0        1   \n",
       "3536743  15118512   9984-10240_21504-21760_181-182.gz       68589.0        1   \n",
       "3536746  15118517   9984-10240_21504-21760_185-186.gz       71534.0        1   \n",
       "3536781  15118582   9984-10240_21504-21760_243-244.gz       76642.0        1   \n",
       "3536887  15120019   9984-10240_22272-22528_228-229.gz       59548.0        1   \n",
       "\n",
       "         transfer_time (s)  \n",
       "3                        0  \n",
       "9                        0  \n",
       "92                       0  \n",
       "107                      0  \n",
       "171                      0  \n",
       "...                    ...  \n",
       "3536696                  0  \n",
       "3536743                  0  \n",
       "3536746                  0  \n",
       "3536781                  0  \n",
       "3536887                  0  \n",
       "\n",
       "[87593 rows x 5 columns]"
      ]
     },
     "execution_count": 35,
     "metadata": {},
     "output_type": "execute_result"
    }
   ],
   "source": [
    "#filtered_df_files_size_array\n",
    "#[filtered_df_files_size_array['selected']==\"1\"]\n",
    "filtered_df_files_size_array.loc[filtered_df_files_size_array['selected']==\"1\"]\n",
    "\n",
    "#filtered_df_files_size_array.loc[filtered_df_files_size_array['selected'] == 1]\n",
    "#selected_files = filtered_df_files_size_array.loc[filtered_df_files_size_array['selected'] == 1]\n",
    "#selected_files"
   ]
  },
  {
   "cell_type": "code",
   "execution_count": 40,
   "metadata": {},
   "outputs": [
    {
     "name": "stdout",
     "output_type": "stream",
     "text": [
      "DATA PULLED FROM FILE\n",
      "DATA ADDED TO DB\n",
      "TOTAL RECORDS: 36811\n",
      "36811\n"
     ]
    },
    {
     "name": "stderr",
     "output_type": "stream",
     "text": [
      "/usr/local/share/pipeline/lib/python3.8/site-packages/pandas/core/generic.py:2605: UserWarning: The spaces in these column names will not be changed. In pandas versions < 0.14, spaces were converted to underscores.\n",
      "  sql.to_sql(\n"
     ]
    }
   ],
   "source": [
    "import pandas as pd\n",
    "import sqlite3\n",
    "prep_id = \"DK39\"\n",
    "in_filename = f'{prep_id}-load_test_target_transfer_list.xlsx'\n",
    "db_file = f\"results-{prep_id}.db\"\n",
    "\n",
    "try:\n",
    "    conn = sqlite3.connect(db_file)\n",
    "    qry = f\"SELECT * FROM results, (SELECT COUNT(*) AS OUTSTANDING FROM results WHERE 'transfer_time (s)' = 0), (SELECT COUNT(*) AS TOTAL FROM results) \"\n",
    "    selected_files = pd.read_sql_query(qry, conn)\n",
    "    print(\"DATA PULLED FROM DATABASE\")\n",
    "except:    \n",
    "    filtered_df_files_size_array = pd.read_excel(in_filename, engine='openpyxl')\n",
    "    selected_files = filtered_df_files_size_array.loc[filtered_df_files_size_array['selected'] == 1]\n",
    "    selected_files = selected_files.astype({'transfer_time (s)': float}, errors='raise') \n",
    "    print(\"DATA PULLED FROM FILE\")\n",
    "    conn = sqlite3.connect(db_file)\n",
    "    selected_files.to_sql('results', conn)\n",
    "    print(\"DATA ADDED TO DB\")\n",
    "    \n",
    "total_files = selected_files.shape[0]\n",
    "print(f\"TOTAL RECORDS: {total_files}\")\n",
    "\n",
    "\n",
    "def save_data(conn, values):\n",
    "    sql = f'''UPDATE results SET 'transfer_time (s)' = {values[1]} WHERE id = {values[0]} '''\n",
    "    print(sql)\n",
    "    cur = conn.cursor()\n",
    "    cur.execute(sql)\n",
    "    conn.commit()\n",
    "    return cur.lastrowid\n",
    "\n",
    "\n",
    "total_files = selected_files.shape[0]\n",
    "print(total_files)\n",
    "\n",
    "# macro_start_time = timer()\n",
    "# for index, row in selected_files.iterrows():\n",
    "#     # if row % 10:#save every 10\n",
    "#     #     filtered_df_files_size_array.to_excel(out_filename)\n",
    "#     idx = row['index']    \n",
    "#     filename = row['fname']\n",
    "#     url = base_url + filename\n",
    "#     elapsed_time = speed_test(url)\n",
    "#     print(index, url)\n",
    "#     print(f\"TRANSFER TIME: {elapsed_time}s\")\n",
    "#     print(f\"PCT_COMPLETE: {round(index/total_files,1)}%\")\n",
    "\n",
    "#     #UPDATE DATAFRAME WITH NEW TRANSFER DATE\n",
    "#     filtered_df_files_size_array.loc[filtered_df_files_size_array['fname'] == filename, 'transfer_time'] = elapsed_time\n",
    "#     values = (idx, elapsed_time)\n",
    "#     out = save_data(conn, values)\n",
    "#     print(out)\n"
   ]
  },
  {
   "cell_type": "markdown",
   "metadata": {
    "collapsed": false,
    "pycharm": {
     "name": "#%% md\n"
    }
   },
   "source": []
  },
  {
   "cell_type": "code",
   "execution_count": 39,
   "metadata": {},
   "outputs": [
    {
     "data": {
      "text/html": [
       "<div>\n",
       "<style scoped>\n",
       "    .dataframe tbody tr th:only-of-type {\n",
       "        vertical-align: middle;\n",
       "    }\n",
       "\n",
       "    .dataframe tbody tr th {\n",
       "        vertical-align: top;\n",
       "    }\n",
       "\n",
       "    .dataframe thead th {\n",
       "        text-align: right;\n",
       "    }\n",
       "</style>\n",
       "<table border=\"1\" class=\"dataframe\">\n",
       "  <thead>\n",
       "    <tr style=\"text-align: right;\">\n",
       "      <th></th>\n",
       "      <th>id</th>\n",
       "      <th>fname</th>\n",
       "      <th>size_(bytes)</th>\n",
       "      <th>selected</th>\n",
       "      <th>transfer_time (s)</th>\n",
       "    </tr>\n",
       "  </thead>\n",
       "  <tbody>\n",
       "    <tr>\n",
       "      <th>0</th>\n",
       "      <td>2188</td>\n",
       "      <td>10112-10240_11136-11264_256-320.gz</td>\n",
       "      <td>122631</td>\n",
       "      <td>1</td>\n",
       "      <td>0.0</td>\n",
       "    </tr>\n",
       "    <tr>\n",
       "      <th>6</th>\n",
       "      <td>2212</td>\n",
       "      <td>10112-10240_11520-11648_256-320.gz</td>\n",
       "      <td>206990</td>\n",
       "      <td>1</td>\n",
       "      <td>0.0</td>\n",
       "    </tr>\n",
       "    <tr>\n",
       "      <th>9</th>\n",
       "      <td>2235</td>\n",
       "      <td>10112-10240_11776-11904_192-256.gz</td>\n",
       "      <td>162241</td>\n",
       "      <td>1</td>\n",
       "      <td>0.0</td>\n",
       "    </tr>\n",
       "    <tr>\n",
       "      <th>12</th>\n",
       "      <td>2244</td>\n",
       "      <td>10112-10240_11904-12032_256-320.gz</td>\n",
       "      <td>213719</td>\n",
       "      <td>1</td>\n",
       "      <td>0.0</td>\n",
       "    </tr>\n",
       "    <tr>\n",
       "      <th>15</th>\n",
       "      <td>2258</td>\n",
       "      <td>10112-10240_12160-12288_128-192.gz</td>\n",
       "      <td>144103</td>\n",
       "      <td>1</td>\n",
       "      <td>0.0</td>\n",
       "    </tr>\n",
       "    <tr>\n",
       "      <th>...</th>\n",
       "      <td>...</td>\n",
       "      <td>...</td>\n",
       "      <td>...</td>\n",
       "      <td>...</td>\n",
       "      <td>...</td>\n",
       "    </tr>\n",
       "    <tr>\n",
       "      <th>190528</th>\n",
       "      <td>915834</td>\n",
       "      <td>9984-10112_18432-18560_128-192.gz</td>\n",
       "      <td>315741</td>\n",
       "      <td>1</td>\n",
       "      <td>0.0</td>\n",
       "    </tr>\n",
       "    <tr>\n",
       "      <th>190530</th>\n",
       "      <td>915836</td>\n",
       "      <td>9984-10112_18432-18560_256-320.gz</td>\n",
       "      <td>225511</td>\n",
       "      <td>1</td>\n",
       "      <td>0.0</td>\n",
       "    </tr>\n",
       "    <tr>\n",
       "      <th>190544</th>\n",
       "      <td>915875</td>\n",
       "      <td>9984-10112_19072-19200_192-256.gz</td>\n",
       "      <td>152032</td>\n",
       "      <td>1</td>\n",
       "      <td>0.0</td>\n",
       "    </tr>\n",
       "    <tr>\n",
       "      <th>190548</th>\n",
       "      <td>915898</td>\n",
       "      <td>9984-10112_19328-19456_128-192.gz</td>\n",
       "      <td>242618</td>\n",
       "      <td>1</td>\n",
       "      <td>0.0</td>\n",
       "    </tr>\n",
       "    <tr>\n",
       "      <th>190557</th>\n",
       "      <td>915962</td>\n",
       "      <td>9984-10112_20352-20480_128-192.gz</td>\n",
       "      <td>192241</td>\n",
       "      <td>1</td>\n",
       "      <td>0.0</td>\n",
       "    </tr>\n",
       "  </tbody>\n",
       "</table>\n",
       "<p>36811 rows × 5 columns</p>\n",
       "</div>"
      ],
      "text/plain": [
       "            id                               fname  size_(bytes) selected  \\\n",
       "0         2188  10112-10240_11136-11264_256-320.gz        122631        1   \n",
       "6         2212  10112-10240_11520-11648_256-320.gz        206990        1   \n",
       "9         2235  10112-10240_11776-11904_192-256.gz        162241        1   \n",
       "12        2244  10112-10240_11904-12032_256-320.gz        213719        1   \n",
       "15        2258  10112-10240_12160-12288_128-192.gz        144103        1   \n",
       "...        ...                                 ...           ...      ...   \n",
       "190528  915834   9984-10112_18432-18560_128-192.gz        315741        1   \n",
       "190530  915836   9984-10112_18432-18560_256-320.gz        225511        1   \n",
       "190544  915875   9984-10112_19072-19200_192-256.gz        152032        1   \n",
       "190548  915898   9984-10112_19328-19456_128-192.gz        242618        1   \n",
       "190557  915962   9984-10112_20352-20480_128-192.gz        192241        1   \n",
       "\n",
       "        transfer_time (s)  \n",
       "0                     0.0  \n",
       "6                     0.0  \n",
       "9                     0.0  \n",
       "12                    0.0  \n",
       "15                    0.0  \n",
       "...                   ...  \n",
       "190528                0.0  \n",
       "190530                0.0  \n",
       "190544                0.0  \n",
       "190548                0.0  \n",
       "190557                0.0  \n",
       "\n",
       "[36811 rows x 5 columns]"
      ]
     },
     "execution_count": 39,
     "metadata": {},
     "output_type": "execute_result"
    }
   ],
   "source": [
    "selected_files = selected_files.astype({'transfer_time (s)': float}, errors='raise') \n",
    "selected_files"
   ]
  }
 ],
 "metadata": {
  "kernelspec": {
   "display_name": "Python 3.8.10 ('pipeline')",
   "language": "python",
   "name": "python3"
  },
  "language_info": {
   "codemirror_mode": {
    "name": "ipython",
    "version": 3
   },
   "file_extension": ".py",
   "mimetype": "text/x-python",
   "name": "python",
   "nbconvert_exporter": "python",
   "pygments_lexer": "ipython3",
   "version": "3.8.10"
  },
  "vscode": {
   "interpreter": {
    "hash": "9b29855540defb355a50951874e4b3a9a33e036ed29af88ad65ef37e45f70f6e"
   }
  }
 },
 "nbformat": 4,
 "nbformat_minor": 0
}
