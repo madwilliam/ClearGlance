{
 "cells": [
  {
   "cell_type": "code",
   "execution_count": null,
   "metadata": {
    "collapsed": true,
    "pycharm": {
     "name": "#%%\n",
     "is_executing": true
    }
   },
   "outputs": [],
   "source": [
    "'''\n",
    "# CREATED: 14-APR-2022\n",
    "# LAST EDIT: 15-APR-2022\n",
    "# AUTHOR(S): DUANE RINEHART\n",
    "\n",
    "TRANSITIONAL DATA PARSING FROM PRIOR SCHEMA (ALL ANNOTATIONS STORED IN annotations_points, annotations_point_archive WITH 'EDITING SESSIONS' STORED IN archive_set TABLES) TO NEW SCHEMA:\n",
    "-'EDITING SESSIONS' STORED IN annotation_session\n",
    "-ANNOTATIONS STORED BY TYPE: polygon_sequences, marked_cells, structure_com\n",
    "-VERSIONING (OLD ANNOTATIONS) STORED IN annotations_archive [CONSOLIDATED FROM polygon_sequences, marked_cells, structure_com TABLES]\n",
    "'''\n",
    "\n",
    "from pipeline.lib.sql_setup import session\n",
    "import pandas as pd\n",
    "\n",
    "# from tqdm import tqdm\n",
    "# from pipeline.utilities.utilities_alignment import transform_points,create_downsampled_transforms\n",
    "# from pipeline.utilities.utilities_create_alignment import parse_elastix\n",
    "# import numpy as np\n",
    "# from utilities.shell_tools import get_image_size\n",
    "# from atlas.FoundationContourAligner import FoundationContourAligner\n",
    "#\n",
    "# from model.structure import Structure\n",
    "# from Brain import Brain\n",
    "\n",
    "\n",
    "dest_db_schema = 'active_atlas_development'\n",
    "\n",
    "\n",
    "def load_annotations_sessions():\n",
    "    '''\n",
    "    PULLS DATA FROM CURRENT STORED 'EDITING SESSIONS' (IN PRIOR SCHEMA - archive_set TABLE)\n",
    "\n",
    "\n",
    "    '''\n",
    "    sql_qry_editing_sessions = f'SELECT * FROM {dest_db_schema}.archive_set;'\n",
    "    results = pd.read_sql(sql_qry_editing_sessions, session)\n",
    "\n",
    "    return results\n",
    "\n",
    "def load_annotations_data(annotation_type):\n",
    "#    return pd.read_csv(infile, sep='\\t', index_col=0)\n",
    "    pass\n",
    "\n",
    "\n",
    "load_annotations_data()"
   ]
  }
 ],
 "metadata": {
  "kernelspec": {
   "display_name": "Python 3",
   "language": "python",
   "name": "python3"
  },
  "language_info": {
   "codemirror_mode": {
    "name": "ipython",
    "version": 2
   },
   "file_extension": ".py",
   "mimetype": "text/x-python",
   "name": "python",
   "nbconvert_exporter": "python",
   "pygments_lexer": "ipython2",
   "version": "2.7.6"
  }
 },
 "nbformat": 4,
 "nbformat_minor": 0
}