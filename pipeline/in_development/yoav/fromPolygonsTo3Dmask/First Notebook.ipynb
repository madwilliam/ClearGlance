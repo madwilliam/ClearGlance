{
 "cells": [
  {
   "cell_type": "code",
   "execution_count": 1,
   "id": "c54797b8",
   "metadata": {
    "scrolled": true
   },
   "outputs": [
    {
     "name": "stdout",
     "output_type": "stream",
     "text": [
      "%pylab is deprecated, use %matplotlib inline and import the required libraries.\n",
      "Populating the interactive namespace from numpy and matplotlib\n"
     ]
    }
   ],
   "source": [
    "%pylab inline\n",
    "\n",
    "import pandas as pd"
   ]
  },
  {
   "cell_type": "code",
   "execution_count": 2,
   "id": "6062e99e",
   "metadata": {},
   "outputs": [
    {
     "data": {
      "text/plain": [
       "'output_for_Yoav v2a.csv'"
      ]
     },
     "execution_count": 2,
     "metadata": {},
     "output_type": "execute_result"
    }
   ],
   "source": [
    "filename,=!ls *.csv\n",
    "filename"
   ]
  },
  {
   "cell_type": "code",
   "execution_count": 3,
   "id": "a826b5ba",
   "metadata": {},
   "outputs": [
    {
     "data": {
      "text/html": [
       "<div>\n",
       "<style scoped>\n",
       "    .dataframe tbody tr th:only-of-type {\n",
       "        vertical-align: middle;\n",
       "    }\n",
       "\n",
       "    .dataframe tbody tr th {\n",
       "        vertical-align: top;\n",
       "    }\n",
       "\n",
       "    .dataframe thead th {\n",
       "        text-align: right;\n",
       "    }\n",
       "</style>\n",
       "<table border=\"1\" class=\"dataframe\">\n",
       "  <thead>\n",
       "    <tr style=\"text-align: right;\">\n",
       "      <th></th>\n",
       "      <th>id</th>\n",
       "      <th>unique_key</th>\n",
       "      <th>prep_id</th>\n",
       "      <th>label</th>\n",
       "      <th>coord_x (microns)</th>\n",
       "      <th>coord_y (microns)</th>\n",
       "      <th>coord_z (microns)</th>\n",
       "      <th>polygon_id</th>\n",
       "      <th>volume_id</th>\n",
       "      <th>point_ordering</th>\n",
       "      <th>polygon_ordering</th>\n",
       "    </tr>\n",
       "  </thead>\n",
       "  <tbody>\n",
       "    <tr>\n",
       "      <th>0</th>\n",
       "      <td>247784</td>\n",
       "      <td>MD594_SC_137</td>\n",
       "      <td>MD594</td>\n",
       "      <td>SC</td>\n",
       "      <td>11401.248</td>\n",
       "      <td>4420.108</td>\n",
       "      <td>2740</td>\n",
       "      <td>29649d59a0f6626b36c0b8a46a8fa9c30789c2df</td>\n",
       "      <td>9a661f4f149f6571e0873cf2182d12f5a54a2452</td>\n",
       "      <td>0</td>\n",
       "      <td>0</td>\n",
       "    </tr>\n",
       "    <tr>\n",
       "      <th>1</th>\n",
       "      <td>247785</td>\n",
       "      <td>MD594_SC_137</td>\n",
       "      <td>MD594</td>\n",
       "      <td>SC</td>\n",
       "      <td>11323.052</td>\n",
       "      <td>4439.544</td>\n",
       "      <td>2740</td>\n",
       "      <td>29649d59a0f6626b36c0b8a46a8fa9c30789c2df</td>\n",
       "      <td>9a661f4f149f6571e0873cf2182d12f5a54a2452</td>\n",
       "      <td>1</td>\n",
       "      <td>0</td>\n",
       "    </tr>\n",
       "  </tbody>\n",
       "</table>\n",
       "</div>"
      ],
      "text/plain": [
       "       id    unique_key prep_id label  coord_x (microns)  coord_y (microns)  \\\n",
       "0  247784  MD594_SC_137   MD594    SC          11401.248           4420.108   \n",
       "1  247785  MD594_SC_137   MD594    SC          11323.052           4439.544   \n",
       "\n",
       "   coord_z (microns)                                polygon_id  \\\n",
       "0               2740  29649d59a0f6626b36c0b8a46a8fa9c30789c2df   \n",
       "1               2740  29649d59a0f6626b36c0b8a46a8fa9c30789c2df   \n",
       "\n",
       "                                  volume_id  point_ordering  polygon_ordering  \n",
       "0  9a661f4f149f6571e0873cf2182d12f5a54a2452               0                 0  \n",
       "1  9a661f4f149f6571e0873cf2182d12f5a54a2452               1                 0  "
      ]
     },
     "execution_count": 3,
     "metadata": {},
     "output_type": "execute_result"
    }
   ],
   "source": [
    "df=pd.read_csv(filename)\n",
    "df.head(2)"
   ]
  },
  {
   "cell_type": "code",
   "execution_count": 4,
   "id": "5e95fb7e",
   "metadata": {},
   "outputs": [
    {
     "data": {
      "text/plain": [
       "Index(['id', 'unique_key', 'prep_id', 'label', 'coord_x (microns)',\n",
       "       'coord_y (microns)', 'coord_z (microns)', 'polygon_id', 'volume_id',\n",
       "       'point_ordering', 'polygon_ordering'],\n",
       "      dtype='object')"
      ]
     },
     "execution_count": 4,
     "metadata": {},
     "output_type": "execute_result"
    }
   ],
   "source": [
    "df.columns"
   ]
  },
  {
   "cell_type": "code",
   "execution_count": 7,
   "id": "92d4909e",
   "metadata": {},
   "outputs": [],
   "source": [
    "df=df[['prep_id','label','coord_x (microns)',\\\n",
    "       'coord_y (microns)', 'coord_z (microns)',\\\n",
    "       'point_ordering', 'polygon_ordering']]\n",
    "df.columns=['prep_id', 'label', 'x', 'y',\\\n",
    "       'z', 'point_ordering', 'polygon_ordering']"
   ]
  },
  {
   "cell_type": "code",
   "execution_count": 24,
   "id": "07fcfc3f",
   "metadata": {
    "scrolled": true
   },
   "outputs": [
    {
     "data": {
      "text/html": [
       "<div>\n",
       "<style scoped>\n",
       "    .dataframe tbody tr th:only-of-type {\n",
       "        vertical-align: middle;\n",
       "    }\n",
       "\n",
       "    .dataframe tbody tr th {\n",
       "        vertical-align: top;\n",
       "    }\n",
       "\n",
       "    .dataframe thead th {\n",
       "        text-align: right;\n",
       "    }\n",
       "</style>\n",
       "<table border=\"1\" class=\"dataframe\">\n",
       "  <thead>\n",
       "    <tr style=\"text-align: right;\">\n",
       "      <th></th>\n",
       "      <th>prep_id</th>\n",
       "      <th>label</th>\n",
       "      <th>x</th>\n",
       "      <th>y</th>\n",
       "      <th>z</th>\n",
       "      <th>point_ordering</th>\n",
       "      <th>polygon_ordering</th>\n",
       "    </tr>\n",
       "  </thead>\n",
       "  <tbody>\n",
       "    <tr>\n",
       "      <th>0</th>\n",
       "      <td>MD594</td>\n",
       "      <td>SC</td>\n",
       "      <td>11401.0</td>\n",
       "      <td>4420.0</td>\n",
       "      <td>2740</td>\n",
       "      <td>0</td>\n",
       "      <td>0</td>\n",
       "    </tr>\n",
       "    <tr>\n",
       "      <th>1</th>\n",
       "      <td>MD594</td>\n",
       "      <td>SC</td>\n",
       "      <td>11323.0</td>\n",
       "      <td>4440.0</td>\n",
       "      <td>2740</td>\n",
       "      <td>1</td>\n",
       "      <td>0</td>\n",
       "    </tr>\n",
       "    <tr>\n",
       "      <th>2</th>\n",
       "      <td>MD594</td>\n",
       "      <td>SC</td>\n",
       "      <td>11262.0</td>\n",
       "      <td>4443.0</td>\n",
       "      <td>2740</td>\n",
       "      <td>2</td>\n",
       "      <td>0</td>\n",
       "    </tr>\n",
       "    <tr>\n",
       "      <th>3</th>\n",
       "      <td>MD594</td>\n",
       "      <td>SC</td>\n",
       "      <td>11232.0</td>\n",
       "      <td>4392.0</td>\n",
       "      <td>2740</td>\n",
       "      <td>3</td>\n",
       "      <td>0</td>\n",
       "    </tr>\n",
       "    <tr>\n",
       "      <th>4</th>\n",
       "      <td>MD594</td>\n",
       "      <td>SC</td>\n",
       "      <td>11262.0</td>\n",
       "      <td>4281.0</td>\n",
       "      <td>2740</td>\n",
       "      <td>4</td>\n",
       "      <td>0</td>\n",
       "    </tr>\n",
       "  </tbody>\n",
       "</table>\n",
       "</div>"
      ],
      "text/plain": [
       "  prep_id label        x       y     z  point_ordering  polygon_ordering\n",
       "0   MD594    SC  11401.0  4420.0  2740               0                 0\n",
       "1   MD594    SC  11323.0  4440.0  2740               1                 0\n",
       "2   MD594    SC  11262.0  4443.0  2740               2                 0\n",
       "3   MD594    SC  11232.0  4392.0  2740               3                 0\n",
       "4   MD594    SC  11262.0  4281.0  2740               4                 0"
      ]
     },
     "execution_count": 24,
     "metadata": {},
     "output_type": "execute_result"
    }
   ],
   "source": [
    "# x aand y should be ints like z\n",
    "df['x']=round(df['x'])\n",
    "df['y']=round(df['y'])\n",
    "df.head()"
   ]
  },
  {
   "cell_type": "code",
   "execution_count": 25,
   "id": "ad6bdad0",
   "metadata": {},
   "outputs": [
    {
     "data": {
      "text/plain": [
       "Counter({('MD594', 'SC'): 21942, ('MD594', 'IC'): 17408})"
      ]
     },
     "execution_count": 25,
     "metadata": {},
     "output_type": "execute_result"
    }
   ],
   "source": [
    "prep_id=list(df['prep_id'])\n",
    "volume_id=list(df['label'])\n",
    "pairs=list(zip(prep_id,volume_id))\n",
    "pairs[:5]\n",
    "\n",
    "from collections import Counter\n",
    "Counter(pairs)"
   ]
  },
  {
   "cell_type": "code",
   "execution_count": 26,
   "id": "299e1386",
   "metadata": {},
   "outputs": [
    {
     "data": {
      "text/plain": [
       "[('MD594', 'SC'), ('MD594', 'IC')]"
      ]
     },
     "execution_count": 26,
     "metadata": {},
     "output_type": "execute_result"
    }
   ],
   "source": [
    "structures=list(set(pairs))\n",
    "structures"
   ]
  },
  {
   "cell_type": "code",
   "execution_count": 28,
   "id": "f33033d3",
   "metadata": {},
   "outputs": [
    {
     "data": {
      "text/html": [
       "<div>\n",
       "<style scoped>\n",
       "    .dataframe tbody tr th:only-of-type {\n",
       "        vertical-align: middle;\n",
       "    }\n",
       "\n",
       "    .dataframe tbody tr th {\n",
       "        vertical-align: top;\n",
       "    }\n",
       "\n",
       "    .dataframe thead th {\n",
       "        text-align: right;\n",
       "    }\n",
       "</style>\n",
       "<table border=\"1\" class=\"dataframe\">\n",
       "  <thead>\n",
       "    <tr style=\"text-align: right;\">\n",
       "      <th></th>\n",
       "      <th>prep_id</th>\n",
       "      <th>label</th>\n",
       "      <th>x</th>\n",
       "      <th>y</th>\n",
       "      <th>z</th>\n",
       "      <th>point_ordering</th>\n",
       "      <th>polygon_ordering</th>\n",
       "    </tr>\n",
       "  </thead>\n",
       "  <tbody>\n",
       "    <tr>\n",
       "      <th>15</th>\n",
       "      <td>MD594</td>\n",
       "      <td>IC</td>\n",
       "      <td>12331.0</td>\n",
       "      <td>3631.0</td>\n",
       "      <td>2760</td>\n",
       "      <td>0</td>\n",
       "      <td>1</td>\n",
       "    </tr>\n",
       "    <tr>\n",
       "      <th>16</th>\n",
       "      <td>MD594</td>\n",
       "      <td>IC</td>\n",
       "      <td>12468.0</td>\n",
       "      <td>3495.0</td>\n",
       "      <td>2760</td>\n",
       "      <td>1</td>\n",
       "      <td>1</td>\n",
       "    </tr>\n",
       "    <tr>\n",
       "      <th>17</th>\n",
       "      <td>MD594</td>\n",
       "      <td>IC</td>\n",
       "      <td>12626.0</td>\n",
       "      <td>3444.0</td>\n",
       "      <td>2760</td>\n",
       "      <td>2</td>\n",
       "      <td>1</td>\n",
       "    </tr>\n",
       "    <tr>\n",
       "      <th>18</th>\n",
       "      <td>MD594</td>\n",
       "      <td>IC</td>\n",
       "      <td>12666.0</td>\n",
       "      <td>3597.0</td>\n",
       "      <td>2760</td>\n",
       "      <td>3</td>\n",
       "      <td>1</td>\n",
       "    </tr>\n",
       "  </tbody>\n",
       "</table>\n",
       "</div>"
      ],
      "text/plain": [
       "   prep_id label        x       y     z  point_ordering  polygon_ordering\n",
       "15   MD594    IC  12331.0  3631.0  2760               0                 1\n",
       "16   MD594    IC  12468.0  3495.0  2760               1                 1\n",
       "17   MD594    IC  12626.0  3444.0  2760               2                 1\n",
       "18   MD594    IC  12666.0  3597.0  2760               3                 1"
      ]
     },
     "execution_count": 28,
     "metadata": {},
     "output_type": "execute_result"
    }
   ],
   "source": [
    "sdf=df[df['label']=='IC']\n",
    "sdf.head(4)"
   ]
  },
  {
   "cell_type": "code",
   "execution_count": 29,
   "id": "11ee04fe",
   "metadata": {},
   "outputs": [
    {
     "data": {
      "text/plain": [
       "Counter({1: 17408})"
      ]
     },
     "execution_count": 29,
     "metadata": {},
     "output_type": "execute_result"
    }
   ],
   "source": [
    "#polygon ordering stuck at 1\n",
    "Counter(list(sdf['polygon_ordering']))"
   ]
  },
  {
   "cell_type": "code",
   "execution_count": 30,
   "id": "f6b630d2",
   "metadata": {
    "collapsed": true
   },
   "outputs": [
    {
     "data": {
      "text/plain": [
       "Counter({2760: 15,\n",
       "         2780: 94,\n",
       "         2800: 98,\n",
       "         2820: 99,\n",
       "         2840: 16,\n",
       "         2860: 104,\n",
       "         2880: 108,\n",
       "         2900: 111,\n",
       "         2920: 115,\n",
       "         2940: 117,\n",
       "         2960: 121,\n",
       "         2980: 123,\n",
       "         3000: 127,\n",
       "         3020: 129,\n",
       "         3040: 19,\n",
       "         3060: 136,\n",
       "         3080: 136,\n",
       "         3100: 137,\n",
       "         3120: 137,\n",
       "         3140: 136,\n",
       "         3160: 136,\n",
       "         3180: 137,\n",
       "         3200: 137,\n",
       "         3220: 137,\n",
       "         3240: 21,\n",
       "         3260: 141,\n",
       "         3280: 138,\n",
       "         3300: 134,\n",
       "         3320: 134,\n",
       "         3340: 132,\n",
       "         3360: 130,\n",
       "         3380: 129,\n",
       "         3400: 127,\n",
       "         3420: 127,\n",
       "         3440: 126,\n",
       "         3460: 125,\n",
       "         3480: 125,\n",
       "         3500: 125,\n",
       "         3520: 125,\n",
       "         3540: 125,\n",
       "         3560: 124,\n",
       "         3580: 124,\n",
       "         3600: 124,\n",
       "         3620: 123,\n",
       "         3640: 123,\n",
       "         3660: 123,\n",
       "         3680: 123,\n",
       "         3700: 123,\n",
       "         3720: 123,\n",
       "         3760: 123,\n",
       "         3780: 121,\n",
       "         3800: 120,\n",
       "         3820: 119,\n",
       "         3840: 117,\n",
       "         3880: 115,\n",
       "         3900: 114,\n",
       "         3920: 113,\n",
       "         3940: 111,\n",
       "         3960: 109,\n",
       "         3980: 107,\n",
       "         4000: 105,\n",
       "         4020: 104,\n",
       "         4040: 101,\n",
       "         4060: 100,\n",
       "         4080: 98,\n",
       "         4100: 96,\n",
       "         4120: 94,\n",
       "         4140: 93,\n",
       "         4160: 90,\n",
       "         4180: 89,\n",
       "         4200: 87,\n",
       "         4220: 85,\n",
       "         4240: 83,\n",
       "         4260: 82,\n",
       "         4280: 79,\n",
       "         4300: 77,\n",
       "         4320: 75,\n",
       "         4340: 73,\n",
       "         4360: 71,\n",
       "         4380: 70,\n",
       "         4400: 17,\n",
       "         4420: 66,\n",
       "         4440: 66,\n",
       "         4460: 66,\n",
       "         4480: 66,\n",
       "         4500: 66,\n",
       "         4520: 66,\n",
       "         4540: 66,\n",
       "         4560: 66,\n",
       "         4580: 66,\n",
       "         4600: 66,\n",
       "         4620: 66,\n",
       "         4640: 67,\n",
       "         4660: 20,\n",
       "         4680: 70,\n",
       "         4700: 71,\n",
       "         4720: 74,\n",
       "         4740: 76,\n",
       "         4780: 81,\n",
       "         4800: 84,\n",
       "         4820: 86,\n",
       "         4840: 89,\n",
       "         4860: 91,\n",
       "         4880: 94,\n",
       "         4900: 95,\n",
       "         4920: 96,\n",
       "         4940: 97,\n",
       "         4960: 99,\n",
       "         4980: 101,\n",
       "         5000: 102,\n",
       "         5020: 103,\n",
       "         5040: 105,\n",
       "         5060: 107,\n",
       "         5080: 108,\n",
       "         5100: 109,\n",
       "         5120: 111,\n",
       "         5140: 112,\n",
       "         5160: 113,\n",
       "         5180: 114,\n",
       "         5200: 115,\n",
       "         5240: 118,\n",
       "         5260: 119,\n",
       "         5280: 121,\n",
       "         5300: 121,\n",
       "         5320: 123,\n",
       "         5340: 123,\n",
       "         5360: 125,\n",
       "         5380: 126,\n",
       "         5400: 128,\n",
       "         5420: 127,\n",
       "         5440: 128,\n",
       "         5460: 128,\n",
       "         5480: 128,\n",
       "         5500: 128,\n",
       "         5520: 129,\n",
       "         5540: 17,\n",
       "         5560: 127,\n",
       "         5580: 128,\n",
       "         5600: 128,\n",
       "         5620: 129,\n",
       "         5640: 129,\n",
       "         5660: 129,\n",
       "         5680: 130,\n",
       "         5700: 129,\n",
       "         5720: 19,\n",
       "         5740: 129,\n",
       "         5760: 129,\n",
       "         5780: 128,\n",
       "         5800: 128,\n",
       "         5820: 128,\n",
       "         5840: 129,\n",
       "         5860: 129,\n",
       "         5880: 129,\n",
       "         5900: 130,\n",
       "         5920: 21,\n",
       "         5940: 131,\n",
       "         5960: 130,\n",
       "         5980: 129,\n",
       "         6000: 127,\n",
       "         6020: 21,\n",
       "         6040: 120,\n",
       "         6060: 118,\n",
       "         6080: 115,\n",
       "         6100: 113,\n",
       "         6120: 112,\n",
       "         6140: 20,\n",
       "         6160: 85,\n",
       "         6180: 17})"
      ]
     },
     "execution_count": 30,
     "metadata": {},
     "output_type": "execute_result"
    }
   ],
   "source": [
    "Counter(list(sdf['z']))"
   ]
  },
  {
   "cell_type": "code",
   "execution_count": 197,
   "id": "05fe8c9b",
   "metadata": {},
   "outputs": [],
   "source": [
    "Zs=sorted(list(set(sdf['z'])))"
   ]
  },
  {
   "cell_type": "code",
   "execution_count": 201,
   "id": "fbed77c1",
   "metadata": {
    "scrolled": true
   },
   "outputs": [
    {
     "name": "stdout",
     "output_type": "stream",
     "text": [
      "CPU times: user 44.6 ms, sys: 3.13 ms, total: 47.7 ms\n",
      "Wall time: 46.1 ms\n"
     ]
    }
   ],
   "source": [
    "%%time\n",
    "poly={}\n",
    "\n",
    "for z in Zs:\n",
    "    poly_df=sdf[sdf['z']==z]\n",
    "    x=list(poly_df['x'])\n",
    "    y=list(poly_df['y'])\n",
    "    x.append(x[0])\n",
    "    y.append(y[0])\n",
    "    x=np.array(x,dtype=np.int32)\n",
    "    y=np.array(y,dtype=np.int32)\n",
    "    poly[z]=stack([x,y]).transpose()"
   ]
  },
  {
   "cell_type": "code",
   "execution_count": 202,
   "id": "f6bc89ea",
   "metadata": {},
   "outputs": [
    {
     "data": {
      "text/plain": [
       "array([[12653,  4164],\n",
       "       [12614,  4164],\n",
       "       [12582,  4157],\n",
       "       [12551,  4149],\n",
       "       [12527,  4134]], dtype=int32)"
      ]
     },
     "execution_count": 202,
     "metadata": {},
     "output_type": "execute_result"
    }
   ],
   "source": [
    "poly[3640][:5,:]"
   ]
  },
  {
   "cell_type": "code",
   "execution_count": 206,
   "id": "06ce2183",
   "metadata": {},
   "outputs": [],
   "source": [
    "def plot_section(z):\n",
    "    x=poly[z][:,0]\n",
    "    y=poly[z][:,1]\n",
    "    plot(x,y)\n",
    "    grid()"
   ]
  },
  {
   "cell_type": "code",
   "execution_count": 210,
   "id": "9dce9160",
   "metadata": {},
   "outputs": [
    {
     "data": {
      "image/png": "[encoded data removed]",
      "text/plain": [
       "<Figure size 432x288 with 1 Axes>"
      ]
     },
     "metadata": {
      "needs_background": "light"
     },
     "output_type": "display_data"
    }
   ],
   "source": [
    "i=20\n",
    "for i in range(20,30):\n",
    "    plot_section(Zs[i])\n"
   ]
  },
  {
   "cell_type": "code",
   "execution_count": 217,
   "id": "0bae9052",
   "metadata": {},
   "outputs": [],
   "source": [
    "def calc_lengths(P):\n",
    "    diff=P[1:,:]-P[:-1,:]\n",
    "    D=sqrt(sum(diff**2,axis=1))\n",
    "    min_len=np.min(D)\n",
    "    Length=sum(D)\n",
    "    return Length,min_len\n",
    "\n",
    "def refine_boundary(P,step_no=400):\n",
    "\n",
    "    Length,min_len = calc_lengths(P)\n",
    "\n",
    "    step=Length/step_no  # step between consecutive points\n",
    "    if step>min_len/2:\n",
    "        raise BaseException('Refinement Error step_no=%d needs to be increased to more than %5.0f'\\\n",
    "        %(step_no,2*Length/min_len))\n",
    "    fine=[]\n",
    "    start=0   # distance to latest polygon point\n",
    "    for i in range(P.shape[0]-1):\n",
    "        a=P[i,:];b=P[i+1,:]\n",
    "        _dir=b-a\n",
    "        Len=norm(_dir)\n",
    "        _dir=_dir/Len\n",
    "        assert abs(norm(_dir)-1.0)<1e-6, 'norm=%5.2f'%norm(_dir)\n",
    "        for coeff in arange(start,Len,step):\n",
    "            fine.append(a+coeff*_dir)\n",
    "        start=step-(Len-coeff) \n",
    "        assert start>=0, 'start=%f'%start\n",
    "        assert start<=step, 'start=%f'%start\n",
    "\n",
    "    return stack(fine[:-1])  "
   ]
  },
  {
   "cell_type": "code",
   "execution_count": 277,
   "id": "d52b933d",
   "metadata": {},
   "outputs": [
    {
     "name": "stdout",
     "output_type": "stream",
     "text": [
      "(699, 2) (699, 2)\n"
     ]
    }
   ],
   "source": [
    "i=100\n",
    "fine1=refine_boundary(poly[Zs[i]],step_no=700)\n",
    "fine2=refine_boundary(poly[Zs[i+1]],step_no=700)\n",
    "print(fine1.shape,fine2.shape)"
   ]
  },
  {
   "cell_type": "code",
   "execution_count": 278,
   "id": "ee8430bb",
   "metadata": {
    "scrolled": true
   },
   "outputs": [
    {
     "data": {
      "text/plain": [
       "[<matplotlib.lines.Line2D at 0x14e82fcd0>]"
      ]
     },
     "execution_count": 278,
     "metadata": {},
     "output_type": "execute_result"
    },
    {
     "data": {
      "image/png": "[encoded data removed]",
      "text/plain": [
       "<Figure size 432x288 with 1 Axes>"
      ]
     },
     "metadata": {
      "needs_background": "light"
     },
     "output_type": "display_data"
    }
   ],
   "source": [
    "plot(fine1[:-50,0],fine1[:-50,1])\n",
    "plot(fine2[:-50,0],fine2[:-50,1])"
   ]
  },
  {
   "cell_type": "code",
   "execution_count": 279,
   "id": "f1d2082b",
   "metadata": {},
   "outputs": [],
   "source": [
    "def rotate(fine,i):\n",
    "    assert i>=0 and i<fine.shape[0], 'i=%d not in range [0,%d]'%(i,fine.shape[0]-1)\n",
    "    ans=concatenate([fine[i:,:],fine[:i,:]])\n",
    "    return ans                   "
   ]
  },
  {
   "cell_type": "code",
   "execution_count": 280,
   "id": "44e3d508",
   "metadata": {},
   "outputs": [],
   "source": [
    "len=fine1.shape[0]\n",
    "err=[]\n",
    "for i in range(len):\n",
    "    sfine2=rotate(fine2,i)\n",
    "    err.append(sqrt(sum(((fine1-sfine2)**2).flatten())/fine1.shape[0]))"
   ]
  },
  {
   "cell_type": "code",
   "execution_count": 281,
   "id": "bd76c437",
   "metadata": {},
   "outputs": [
    {
     "data": {
      "text/plain": [
       "[<matplotlib.lines.Line2D at 0x14e89b670>]"
      ]
     },
     "execution_count": 281,
     "metadata": {},
     "output_type": "execute_result"
    },
    {
     "data": {
      "image/png": "[encoded data removed]",
      "text/plain": [
       "<Figure size 432x288 with 1 Axes>"
      ]
     },
     "metadata": {
      "needs_background": "light"
     },
     "output_type": "display_data"
    }
   ],
   "source": [
    "plot(err[:10])"
   ]
  },
  {
   "cell_type": "code",
   "execution_count": 282,
   "id": "74eb3c57",
   "metadata": {},
   "outputs": [
    {
     "data": {
      "text/plain": [
       "[<matplotlib.lines.Line2D at 0x14e907460>]"
      ]
     },
     "execution_count": 282,
     "metadata": {},
     "output_type": "execute_result"
    },
    {
     "data": {
      "image/png": "[encoded data removed]",
      "text/plain": [
       "<Figure size 432x288 with 1 Axes>"
      ]
     },
     "metadata": {
      "needs_background": "light"
     },
     "output_type": "display_data"
    }
   ],
   "source": [
    "sfine2=rotate(fine2,argmin(err))\n",
    "plot(fine1[:-50,0],fine1[:-50,1])\n",
    "plot(sfine2[:-50,0],sfine2[:-50,1])"
   ]
  },
  {
   "cell_type": "markdown",
   "id": "4570f669",
   "metadata": {},
   "source": [
    "### What I need to do next\n",
    "For each point in Dists we need to compute the distance from the last point of P. Normalizing this distance with appropriate element of `D`. This last number is then the coefficient for the vector connecting `P[i,:]` and `P[i+1,:]`"
   ]
  },
  {
   "cell_type": "code",
   "execution_count": 58,
   "id": "8e3755d4",
   "metadata": {},
   "outputs": [
    {
     "data": {
      "text/plain": [
       "(206.9806754264755, array([-0.98559926, -0.16909791]))"
      ]
     },
     "execution_count": 58,
     "metadata": {},
     "output_type": "execute_result"
    }
   ],
   "source": [
    "_norm=norm(seg)\n",
    "_dir = seg/_norm\n",
    "_norm,_dir"
   ]
  },
  {
   "cell_type": "code",
   "execution_count": 59,
   "id": "39acebda",
   "metadata": {},
   "outputs": [
    {
     "ename": "UFuncTypeError",
     "evalue": "Cannot cast ufunc 'add' output from dtype('float64') to dtype('int32') with casting rule 'same_kind'",
     "output_type": "error",
     "traceback": [
      "\u001b[0;31m---------------------------------------------------------------------------\u001b[0m",
      "\u001b[0;31mUFuncTypeError\u001b[0m                            Traceback (most recent call last)",
      "\u001b[0;32m<ipython-input-59-6f6745acfc16>\u001b[0m in \u001b[0;36m<module>\u001b[0;34m\u001b[0m\n\u001b[1;32m      1\u001b[0m \u001b[0;32mwhile\u001b[0m \u001b[0mr\u001b[0m\u001b[0;34m<\u001b[0m\u001b[0m_norm\u001b[0m\u001b[0;34m:\u001b[0m\u001b[0;34m\u001b[0m\u001b[0;34m\u001b[0m\u001b[0m\n\u001b[0;32m----> 2\u001b[0;31m     \u001b[0mp\u001b[0m\u001b[0;34m+=\u001b[0m\u001b[0mstep\u001b[0m\u001b[0;34m*\u001b[0m\u001b[0m_dir\u001b[0m\u001b[0;34m\u001b[0m\u001b[0;34m\u001b[0m\u001b[0m\n\u001b[0m\u001b[1;32m      3\u001b[0m     \u001b[0mPoints\u001b[0m\u001b[0;34m.\u001b[0m\u001b[0mappend\u001b[0m\u001b[0;34m(\u001b[0m\u001b[0mp\u001b[0m\u001b[0;34m)\u001b[0m\u001b[0;34m\u001b[0m\u001b[0;34m\u001b[0m\u001b[0m\n\u001b[1;32m      4\u001b[0m     \u001b[0mr\u001b[0m\u001b[0;34m+=\u001b[0m\u001b[0mstep\u001b[0m\u001b[0;34m\u001b[0m\u001b[0;34m\u001b[0m\u001b[0m\n",
      "\u001b[0;31mUFuncTypeError\u001b[0m: Cannot cast ufunc 'add' output from dtype('float64') to dtype('int32') with casting rule 'same_kind'"
     ]
    }
   ],
   "source": [
    "while r<_norm:\n",
    "    p+=step*_dir\n",
    "    Points.append(p)\n",
    "    r+=step\n"
   ]
  },
  {
   "cell_type": "code",
   "execution_count": null,
   "id": "21ee9be8",
   "metadata": {},
   "outputs": [],
   "source": []
  }
 ],
 "metadata": {
  "kernelspec": {
   "display_name": "Python 3 (ipykernel)",
   "language": "python",
   "name": "python3"
  },
  "language_info": {
   "codemirror_mode": {
    "name": "ipython",
    "version": 3
   },
   "file_extension": ".py",
   "mimetype": "text/x-python",
   "name": "python",
   "nbconvert_exporter": "python",
   "pygments_lexer": "ipython3",
   "version": "3.9.12"
  },
  "toc": {
   "base_numbering": 1,
   "nav_menu": {},
   "number_sections": true,
   "sideBar": true,
   "skip_h1_title": false,
   "title_cell": "Table of Contents",
   "title_sidebar": "Contents",
   "toc_cell": false,
   "toc_position": {},
   "toc_section_display": true,
   "toc_window_display": false
  }
 },
 "nbformat": 4,
 "nbformat_minor": 5
}
