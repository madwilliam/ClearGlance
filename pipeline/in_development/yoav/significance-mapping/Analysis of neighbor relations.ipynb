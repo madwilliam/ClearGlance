{
 "cells": [
  {
   "cell_type": "code",
   "execution_count": 1,
   "id": "19d2b6fe",
   "metadata": {},
   "outputs": [
    {
     "name": "stdout",
     "output_type": "stream",
     "text": [
      "Populating the interactive namespace from numpy and matplotlib\n"
     ]
    }
   ],
   "source": [
    "import pickle as pk\n",
    "from scipy.stats import ks_2samp\n",
    "from glob import glob\n",
    "%pylab inline"
   ]
  },
  {
   "cell_type": "code",
   "execution_count": 2,
   "id": "cd69b708",
   "metadata": {},
   "outputs": [
    {
     "data": {
      "text/plain": [
       "dict_keys(['Background', '3D boxes', 'Boxes locations', 'Feature names'])"
      ]
     },
     "execution_count": 2,
     "metadata": {},
     "output_type": "execute_result"
    }
   ],
   "source": [
    "pkl_file=open('DK43.pkl','rb')\n",
    "Dnames=pk.load(pkl_file)\n",
    "Dnames.keys()"
   ]
  },
  {
   "cell_type": "code",
   "execution_count": 3,
   "id": "682e87c1",
   "metadata": {},
   "outputs": [
    {
     "data": {
      "text/plain": [
       "((20, 2000), 20)"
      ]
     },
     "execution_count": 3,
     "metadata": {},
     "output_type": "execute_result"
    }
   ],
   "source": [
    "Back=Dnames['Background']\n",
    "names=Dnames['Feature names']\n",
    "Back.shape, len(names)"
   ]
  },
  {
   "cell_type": "code",
   "execution_count": 4,
   "id": "dbb82bd6",
   "metadata": {},
   "outputs": [],
   "source": [
    "data_dir='/Users/yoavfreund/projects/statistical_significance_data/DK39/'"
   ]
  },
  {
   "cell_type": "markdown",
   "id": "f2bb2da0",
   "metadata": {},
   "source": [
    "For DK39, 93 files and a total of 433440 boxes, 67632840 cells"
   ]
  },
  {
   "cell_type": "code",
   "execution_count": 9,
   "id": "b1ee17ef",
   "metadata": {},
   "outputs": [
    {
     "name": "stdout",
     "output_type": "stream",
     "text": [
      "92,"
     ]
    }
   ],
   "source": [
    "cdfs=[]\n",
    "box_locations=[]\n",
    "box_indexes=[]\n",
    "i=0\n",
    "for file in glob(data_dir+'*.pkl'):\n",
    "    print('\\r%d,'%i,end=''); i+=1\n",
    "    pkl_file=open(file,'rb')\n",
    "    D=pk.load(pkl_file)\n",
    "    cdfs+=D['Box cdfs']\n",
    "    box_locations+=D['Box locations']\n",
    "    box_indexes+=D['Box grid indexes']"
   ]
  },
  {
   "cell_type": "code",
   "execution_count": 11,
   "id": "6aa82fed",
   "metadata": {
    "scrolled": false
   },
   "outputs": [
    {
     "data": {
      "text/plain": [
       "(433440, 433440, 433440)"
      ]
     },
     "execution_count": 11,
     "metadata": {},
     "output_type": "execute_result"
    }
   ],
   "source": [
    "len (box_locations),len(cdfs),len(box_indexes)"
   ]
  },
  {
   "cell_type": "code",
   "execution_count": 19,
   "id": "2f2719e4",
   "metadata": {},
   "outputs": [
    {
     "data": {
      "text/plain": [
       "(list, numpy.ndarray)"
      ]
     },
     "execution_count": 19,
     "metadata": {},
     "output_type": "execute_result"
    }
   ],
   "source": [
    "type(box_indexes[0]), type(box_locations[0])"
   ]
  },
  {
   "cell_type": "code",
   "execution_count": 23,
   "id": "41d9e4a3",
   "metadata": {
    "scrolled": true
   },
   "outputs": [
    {
     "data": {
      "text/plain": [
       "array([[2310.8890848 ,  587.34453522, 3741.58212364],\n",
       "       [2646.87305699,  648.45730847, 3727.10946308],\n",
       "       [2758.86771439,  668.82823289, 3722.28524289],\n",
       "       [2870.86237179,  689.1991573 , 3717.4610227 ],\n",
       "       [3206.84634398,  750.31193055, 3702.98836213]])"
      ]
     },
     "execution_count": 23,
     "metadata": {},
     "output_type": "execute_result"
    }
   ],
   "source": [
    "box_loc=concatenate(box_locations)\n",
    "box_loc[:5,:]"
   ]
  },
  {
   "cell_type": "code",
   "execution_count": 24,
   "id": "88333950",
   "metadata": {
    "scrolled": true
   },
   "outputs": [
    {
     "data": {
      "text/plain": [
       "array([[89, 20, 49],\n",
       "       [92, 20, 49],\n",
       "       [93, 20, 49],\n",
       "       [94, 20, 49],\n",
       "       [97, 20, 49],\n",
       "       [86, 21, 49],\n",
       "       [89, 21, 49],\n",
       "       [90, 21, 49],\n",
       "       [91, 21, 49],\n",
       "       [92, 21, 49]])"
      ]
     },
     "execution_count": 24,
     "metadata": {},
     "output_type": "execute_result"
    }
   ],
   "source": [
    "box_ind=array(box_indexes)\n",
    "box_ind[:10,:]"
   ]
  },
  {
   "cell_type": "code",
   "execution_count": 25,
   "id": "151adc37",
   "metadata": {},
   "outputs": [
    {
     "data": {
      "text/plain": [
       "((433440, 3), (433440, 3))"
      ]
     },
     "execution_count": 25,
     "metadata": {},
     "output_type": "execute_result"
    }
   ],
   "source": [
    "box_ind.shape, box_loc.shape"
   ]
  },
  {
   "cell_type": "markdown",
   "id": "d2227298",
   "metadata": {},
   "source": [
    "### Transform box_ind into an 3D array of indexes"
   ]
  },
  {
   "cell_type": "code",
   "execution_count": 28,
   "id": "fe01e549",
   "metadata": {
    "scrolled": true
   },
   "outputs": [
    {
     "data": {
      "text/plain": [
       "(array([11, 16,  0]), array([175,  91,  92]))"
      ]
     },
     "execution_count": 28,
     "metadata": {},
     "output_type": "execute_result"
    }
   ],
   "source": [
    "np.min(box_ind,axis=0),np.max(box_ind,axis=0)"
   ]
  },
  {
   "cell_type": "code",
   "execution_count": 32,
   "id": "2d3d657b",
   "metadata": {
    "scrolled": true
   },
   "outputs": [
    {
     "name": "stdout",
     "output_type": "stream",
     "text": [
      "433000"
     ]
    }
   ],
   "source": [
    "axis_to_index=np.zeros([176,92,93],dtype=np.int32)\n",
    "\n",
    "for i in range(box_ind.shape[0]):\n",
    "    if i%1000==0:\n",
    "        print('\\r%d'%i,end='')\n",
    "    axis_to_index[box_ind[i,0],box_ind[i,1],box_ind[i,2]]=i\n"
   ]
  },
  {
   "cell_type": "code",
   "execution_count": 9,
   "id": "ca1c357d",
   "metadata": {},
   "outputs": [],
   "source": [
    "_all=concatenate(cdfs,axis=1)\n",
    "\n",
    "l=_all.shape[1]\n",
    "p=3000./l\n",
    "select=np.random.choice([0, 1], size=(l,), p=[1-p, p])\n",
    "\n",
    "_sample=_all[:,select==1]\n",
    "_sample.shape\n",
    "\n",
    "def plot_CDF(cdf,label):\n",
    "    cdf=np.sort(cdf)\n",
    "    P=arange(0,1,1/cdf.shape[0])\n",
    "    plot(cdf,P,label=label);"
   ]
  },
  {
   "cell_type": "code",
   "execution_count": 62,
   "id": "4ca29d52",
   "metadata": {},
   "outputs": [
    {
     "data": {
      "text/plain": [
       "(433440, 678, 67632840)"
      ]
     },
     "execution_count": 62,
     "metadata": {},
     "output_type": "execute_result"
    }
   ],
   "source": [
    "#analyze number of cells per box.\n",
    "L=[]\n",
    "for CDF in cdfs:\n",
    "    L.append(CDF.shape[1])\n",
    "len(L),max(L),sum(L)"
   ]
  },
  {
   "cell_type": "code",
   "execution_count": 85,
   "id": "e4f91ae9",
   "metadata": {},
   "outputs": [
    {
     "data": {
      "text/plain": [
       "(156.03737541528238, 81.30659304183506)"
      ]
     },
     "execution_count": 85,
     "metadata": {},
     "output_type": "execute_result"
    }
   ],
   "source": [
    "mean(L),std(L)"
   ]
  },
  {
   "cell_type": "code",
   "execution_count": 86,
   "id": "db44a522",
   "metadata": {
    "scrolled": false
   },
   "outputs": [
    {
     "data": {
      "image/png": "[encoded data removed]",
      "text/plain": [
       "<Figure size 1080x864 with 1 Axes>"
      ]
     },
     "metadata": {
      "needs_background": "light"
     },
     "output_type": "display_data"
    }
   ],
   "source": [
    "figure(figsize=[15,12])\n",
    "hist(L,bins=100);\n",
    "grid()"
   ]
  },
  {
   "cell_type": "code",
   "execution_count": 64,
   "id": "14d1f8b6",
   "metadata": {},
   "outputs": [],
   "source": [
    "from scipy.stats import ks_2samp"
   ]
  },
  {
   "cell_type": "code",
   "execution_count": 66,
   "id": "08929300",
   "metadata": {},
   "outputs": [
    {
     "data": {
      "text/plain": [
       "(20, 238)"
      ]
     },
     "execution_count": 66,
     "metadata": {},
     "output_type": "execute_result"
    }
   ],
   "source": [
    "cdfs[500].shape"
   ]
  },
  {
   "cell_type": "markdown",
   "id": "283235fe",
   "metadata": {},
   "source": [
    "### To Kui\n",
    "\n",
    "#### Comparing brains\n",
    "If a box has a feature that is significant relative to background - can we find a box with similar properties at a close location in the other brain.\n",
    "\n",
    "Where \"similar properties\" means that both are significant relative to background for the same feature, and the KS pvalue between the boxes fromn the two brain is large.\n",
    "\n",
    "#### Neighborhood relations\n",
    "Alter the code below to compare each box to it's 28 neighbors.\n",
    "\n",
    "For each feature, compute significance of center box, if it is significant, then compute sig to background of neighbors. If that is also significant, compute significance of neighbor relative to center.\n",
    "\n",
    "Generates for each neighboring pair and each feature a relationship that is one of:\n",
    "1) at least one box is not significant\n",
    "2) both boxes are significant and agree (High P value >0.1)\n",
    "3) both boxes are significant and disagree (low P value <0.01)\n",
    "4) both boxes are significant and neither agree or disagree (P val betwen 0.1 and 0.01.\n",
    "\n",
    "===========\n",
    "\n"
   ]
  },
  {
   "cell_type": "code",
   "execution_count": 34,
   "id": "5ecd6753",
   "metadata": {
    "scrolled": false
   },
   "outputs": [
    {
     "name": "stdout",
     "output_type": "stream",
     "text": [
      "527             rotation: pval=3e-08, pval_to_next=  0.1, pval_next=0.003\n",
      "570             rotation: pval=3e-06, pval_to_next=  0.9, pval_next=6e-05\n",
      "586             rotation: pval=1e-08, pval_to_next=    1, pval_next=5e-11\n",
      "594             rotation: pval=5e-06, pval_to_next=  0.5, pval_next=9e-05\n",
      "595             rotation: pval=9e-05, pval_to_next=  0.8, pval_next=0.0001\n",
      "596             rotation: pval=0.0001, pval_to_next=  0.5, pval_next=0.0005\n",
      "636             rotation: pval=1e-07, pval_to_next=  0.6, pval_next=3e-07\n",
      "637             rotation: pval=3e-07, pval_to_next=  0.7, pval_next=2e-06\n",
      "638             rotation: pval=2e-06, pval_to_next=  0.2, pval_next=0.002\n",
      "661             rotation: pval=0.0004, pval_to_next=  0.8, pval_next=0.006\n",
      "672             rotation: pval=5e-05, pval_to_next=  0.7, pval_next=6e-05\n",
      "675             rotation: pval=0.0001, pval_to_next=  0.7, pval_next=0.004\n",
      "677             rotation: pval=0.0003, pval_to_next=  0.5, pval_next=0.005\n",
      "689             rotation: pval=2e-07, pval_to_next=  0.5, pval_next=5e-05\n",
      "690             rotation: pval=5e-05, pval_to_next=  0.5, pval_next=0.002\n",
      "765             rotation: pval=0.0001, pval_to_next=  0.4, pval_next=0.004\n",
      "767             rotation: pval=0.0008, pval_to_next=  0.3, pval_next=0.0004\n",
      "768             rotation: pval=0.0004, pval_to_next=  0.6, pval_next=0.008\n",
      "778             rotation: pval=1e-10, pval_to_next=  0.1, pval_next=0.0008\n",
      "779             rotation: pval=0.0008, pval_to_next=  0.1, pval_next=5e-08\n",
      "780             rotation: pval=5e-08, pval_to_next=  0.5, pval_next=6e-06\n",
      "782             rotation: pval=2e-11, pval_to_next=  0.4, pval_next=2e-07\n",
      "794             rotation: pval=2e-05, pval_to_next=  0.2, pval_next=1e-05\n"
     ]
    }
   ],
   "source": [
    "for i in range(500,800): #len(D['3D boxes'])):\n",
    "    Fore=cdfs[i]\n",
    "    for j in range(20):\n",
    "        cdf1=Fore[j,:]\n",
    "        cdf2=Back[j,:]\n",
    "        pval=ks_2samp(cdf1,cdf2).pvalue\n",
    "        if(pval<0.001):\n",
    "            if names[j]!='rotation': # in ['mean','std']:\n",
    "                continue\n",
    "            pval_to_next=ks_2samp(cdfs[i][j,:],cdfs[i+1][j,:]).pvalue\n",
    "            pval_next = ks_2samp(cdfs[i+1][j,:],Back[j,:]).pvalue\n",
    "            if pval_next>0.01 or pval_to_next<.1:\n",
    "                continue\n",
    "            print(\"%3d %20s: pval=%5.0g, pval_to_next=%5.0g, pval_next=%5.0g\"%(i,names[j],pval,pval_to_next,pval_next))"
   ]
  },
  {
   "cell_type": "markdown",
   "id": "00d05c40",
   "metadata": {},
   "source": [
    "### Suggested Heuristics\n",
    "Connect neighboring boxes if there is a feature on which both are significantly different from the background, but not significantly different from each other."
   ]
  },
  {
   "cell_type": "code",
   "execution_count": null,
   "id": "ff37d4d2",
   "metadata": {},
   "outputs": [],
   "source": []
  }
 ],
 "metadata": {
  "kernelspec": {
   "display_name": "Python 3 (ipykernel)",
   "language": "python",
   "name": "python3"
  },
  "language_info": {
   "codemirror_mode": {
    "name": "ipython",
    "version": 3
   },
   "file_extension": ".py",
   "mimetype": "text/x-python",
   "name": "python",
   "nbconvert_exporter": "python",
   "pygments_lexer": "ipython3",
   "version": "3.9.6"
  }
 },
 "nbformat": 4,
 "nbformat_minor": 5
}
