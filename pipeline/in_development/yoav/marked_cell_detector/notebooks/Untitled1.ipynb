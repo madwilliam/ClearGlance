{
 "cells": [
  {
   "cell_type": "code",
   "execution_count": 1,
   "id": "19f37acd",
   "metadata": {},
   "outputs": [
    {
     "name": "stdout",
     "output_type": "stream",
     "text": [
      "Populating the interactive namespace from numpy and matplotlib\n",
      "DATA_DIR=/data/cell_segmentation/DK55/CH3/164\n",
      "total 17G\r\n",
      "-rwxrwxrwx 1 zhw272 dklab 4.8M Oct  8 16:16 164tile-0.tif\r\n",
      "-rwxrwxrwx 1 zhw272 dklab 4.8M Oct  8 16:16 164tile-1.tif\r\n",
      "-rwxrwxrwx 1 zhw272 dklab  76M Oct  8 16:16 164tile-2.tif\r\n",
      "-rwxrwxrwx 1 zhw272 dklab  64M Oct  8 16:16 164tile-3.tif\r\n",
      "-rwxrwxrwx 1 zhw272 dklab 117M Oct  8 16:16 164tile-4.tif\r\n",
      "-rwxrwxrwx 1 zhw272 dklab  98M Oct  8 16:16 164tile-5.tif\r\n",
      "-rwxrwxrwx 1 zhw272 dklab  60M Oct  8 16:16 164tile-6.tif\r\n",
      "-rwxrwxrwx 1 zhw272 dklab  36M Oct  8 16:16 164tile-7.tif\r\n",
      "-rwxrwxrwx 1 zhw272 dklab 611K Oct  8 16:16 164tile-8.tif\r\n",
      "-rwxrwxrwx 1 zhw272 dklab 316K Oct  8 16:16 164tile-9.tif\r\n",
      "-rwxrwxrwx 1 zhw272 dklab 2.6K Oct 18 17:41 DK55_premotor_164_2021-10-18.csv\r\n",
      "-rw-rw-r-- 1 zhw272 dklab  17G Nov  4 13:21 extracted_cells_164.pkl\r\n",
      "-rw-rw-r-- 1 zhw272 dklab 1.7K Nov  4 15:09 puntas_164.csv\r\n"
     ]
    }
   ],
   "source": [
    "import sys\n",
    "import numpy as np\n",
    "import pickle as pkl\n",
    "import cv2\n",
    "%pylab inline\n",
    "\n",
    "if __name__=='__main__':\n",
    "    DATA_DIR =sys.argv[1]\n",
    "animal = 'DK55'\n",
    "section = 164\n",
    "CH='CH3'\n",
    "DATA_DIR = '/data/cell_segmentation/DK55/CH3/%d'%section\n",
    "print('DATA_DIR=%s'%(DATA_DIR))\n",
    "!ls -lh $DATA_DIR"
   ]
  },
  {
   "cell_type": "code",
   "execution_count": 3,
   "id": "a6599df9",
   "metadata": {},
   "outputs": [
    {
     "name": "stdout",
     "output_type": "stream",
     "text": [
      "animal,section,index,label,area,height,width,row,col,corr,energy,m00,m10,m01,m20,m11,m02,m30,m21,m12,m03,mu20,mu11,mu02,mu30,mu21,mu12,mu03,nu20,nu11,nu02,nu30,nu21,nu12,nu03,h0,h1,h2,h3,h4,h5,h6\r\n",
      "DK55,164,3381,0,1,1,1,25907,30867,0.10062757310899417,-0.027551235502934385,1.0,400.0,400.0,160000.0,160000.0,160000.0,64000000.0,64000000.0,64000000.0,64000000.0,0.0,0.0,0.0,0.0,0.0,0.0,0.0,0.0,0.0,0.0,0.0,0.0,0.0,0.0,0.0,0.0,0.0,0.0,0.0,0.0,0.0\r\n",
      "DK55,164,3381,0,1,1,1,25907,30867,0.10062757310899417,-0.027551235502934385,1.0,400.0,400.0,160000.0,160000.0,160000.0,64000000.0,64000000.0,64000000.0,64000000.0,0.0,0.0,0.0,0.0,0.0,0.0,0.0,0.0,0.0,0.0,0.0,0.0,0.0,0.0,0.0,0.0,0.0,0.0,0.0,0.0,0.0\r\n",
      "DK55,164,3381,0,1,1,1,25907,30867,0.10062757310899417,-0.027551235502934385,1.0,400.0,400.0,160000.0,160000.0,160000.0,64000000.0,64000000.0,64000000.0,64000000.0,0.0,0.0,0.0,0.0,0.0,0.0,0.0,0.0,0.0,0.0,0.0,0.0,0.0,0.0,0.0,0.0,0.0,0.0,0.0,0.0,0.0\r\n",
      "DK55,164,3381,0,1,1,1,25907,30867,0.10062757310899417,-0.027551235502934385,1.0,400.0,400.0,160000.0,160000.0,160000.0,64000000.0,64000000.0,64000000.0,64000000.0,0.0,0.0,0.0,0.0,0.0,0.0,0.0,0.0,0.0,0.0,0.0,0.0,0.0,0.0,0.0,0.0,0.0,0.0,0.0,0.0,0.0\r\n",
      "DK55,164,3381,0,1,1,1,25907,30867,0.10062757310899417,-0.027551235502934385,1.0,400.0,400.0,160000.0,160000.0,160000.0,64000000.0,64000000.0,64000000.0,64000000.0,0.0,0.0,0.0,0.0,0.0,0.0,0.0,0.0,0.0,0.0,0.0,0.0,0.0,0.0,0.0,0.0,0.0,0.0,0.0,0.0,0.0\r\n",
      "DK55,164,3381,0,1,1,1,25907,30867,0.10062757310899417,-0.027551235502934385,1.0,400.0,400.0,160000.0,160000.0,160000.0,64000000.0,64000000.0,64000000.0,64000000.0,0.0,0.0,0.0,0.0,0.0,0.0,0.0,0.0,0.0,0.0,0.0,0.0,0.0,0.0,0.0,0.0,0.0,0.0,0.0,0.0,0.0\r\n"
     ]
    }
   ],
   "source": [
    "!head $DATA_DIR/puntas_164.csv"
   ]
  },
  {
   "cell_type": "code",
   "execution_count": null,
   "id": "6fb5ba01",
   "metadata": {},
   "outputs": [],
   "source": []
  }
 ],
 "metadata": {
  "kernelspec": {
   "display_name": "Python 3",
   "language": "python",
   "name": "python3"
  },
  "language_info": {
   "codemirror_mode": {
    "name": "ipython",
    "version": 3
   },
   "file_extension": ".py",
   "mimetype": "text/x-python",
   "name": "python",
   "nbconvert_exporter": "python",
   "pygments_lexer": "ipython3",
   "version": "3.8.10"
  }
 },
 "nbformat": 4,
 "nbformat_minor": 5
}
