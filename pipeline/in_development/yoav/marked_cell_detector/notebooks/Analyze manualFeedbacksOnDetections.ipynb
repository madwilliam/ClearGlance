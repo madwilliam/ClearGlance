{
 "cells": [
  {
   "cell_type": "code",
   "execution_count": 1,
   "id": "66040be6",
   "metadata": {},
   "outputs": [
    {
     "name": "stdout",
     "output_type": "stream",
     "text": [
      "Populating the interactive namespace from numpy and matplotlib\n"
     ]
    }
   ],
   "source": [
    "import pandas as pd\n",
    "%pylab inline"
   ]
  },
  {
   "cell_type": "code",
   "execution_count": 60,
   "id": "e8647bef",
   "metadata": {
    "scrolled": true
   },
   "outputs": [
    {
     "name": "stdout",
     "output_type": "stream",
     "text": [
      "DK55_premotor_manual_2021-12-09.csv\r\n",
      "DK55_premotor_manual_negative_round1_2021-12-09.csv\r\n",
      "DK55_premotor_manual_positive_round1_2021-12-09.csv\r\n",
      "DK55_premotor_sure_detection_2021-12-09.csv\r\n",
      "DK55_premotor_unsure_detection_2021-12-09.csv\r\n"
     ]
    }
   ],
   "source": [
    "!ls ../data2/"
   ]
  },
  {
   "cell_type": "code",
   "execution_count": 3,
   "id": "688256ed",
   "metadata": {},
   "outputs": [],
   "source": [
    "file={'manual_train':'../data2/DK55_premotor_manual_2021-12-09.csv',\n",
    "      'manual_negative':'../data2/DK55_premotor_manual_negative_round1_2021-12-09.csv',\n",
    "      'manual_positive':'../data2/DK55_premotor_manual_positive_round1_2021-12-09.csv',\n",
    "      'computer_sure':'../data2/DK55_premotor_sure_detection_2021-12-09.csv',\n",
    "      'computer_unsure':'../data2/DK55_premotor_unsure_detection_2021-12-09.csv'\n",
    "     }"
   ]
  },
  {
   "cell_type": "code",
   "execution_count": 4,
   "id": "b1633f2a",
   "metadata": {},
   "outputs": [],
   "source": [
    "dfs={}\n",
    "for name,path in file.items():\n",
    "    dfs[name]= pd.read_csv(path,header=None)\n",
    "    dfs[name]['name']=name"
   ]
  },
  {
   "cell_type": "code",
   "execution_count": 5,
   "id": "7e3715fc",
   "metadata": {},
   "outputs": [
    {
     "data": {
      "text/plain": [
       "dict_keys(['manual_train', 'manual_negative', 'manual_positive', 'computer_sure', 'computer_unsure'])"
      ]
     },
     "execution_count": 5,
     "metadata": {},
     "output_type": "execute_result"
    }
   ],
   "source": [
    "dfs.keys()"
   ]
  },
  {
   "cell_type": "code",
   "execution_count": 6,
   "id": "a047541a",
   "metadata": {},
   "outputs": [],
   "source": [
    "All=pd.concat([dfs[key] for key in dfs])"
   ]
  },
  {
   "cell_type": "code",
   "execution_count": 7,
   "id": "25d7e577",
   "metadata": {
    "scrolled": true
   },
   "outputs": [
    {
     "data": {
      "text/plain": [
       "((16813, 4),\n",
       " [('manual_train', (1912, 4)),\n",
       "  ('manual_negative', (364, 4)),\n",
       "  ('manual_positive', (893, 4)),\n",
       "  ('computer_sure', (12224, 4)),\n",
       "  ('computer_unsure', (1420, 4))])"
      ]
     },
     "execution_count": 7,
     "metadata": {},
     "output_type": "execute_result"
    }
   ],
   "source": [
    "All.shape,[(key,dfs[key].shape) for key in dfs]"
   ]
  },
  {
   "cell_type": "code",
   "execution_count": 8,
   "id": "5b0f7704",
   "metadata": {
    "scrolled": true
   },
   "outputs": [
    {
     "data": {
      "text/html": [
       "<div>\n",
       "<style scoped>\n",
       "    .dataframe tbody tr th:only-of-type {\n",
       "        vertical-align: middle;\n",
       "    }\n",
       "\n",
       "    .dataframe tbody tr th {\n",
       "        vertical-align: top;\n",
       "    }\n",
       "\n",
       "    .dataframe thead th {\n",
       "        text-align: right;\n",
       "    }\n",
       "</style>\n",
       "<table border=\"1\" class=\"dataframe\">\n",
       "  <thead>\n",
       "    <tr style=\"text-align: right;\">\n",
       "      <th></th>\n",
       "      <th>x</th>\n",
       "      <th>y</th>\n",
       "      <th>section</th>\n",
       "      <th>name</th>\n",
       "    </tr>\n",
       "  </thead>\n",
       "  <tbody>\n",
       "    <tr>\n",
       "      <th>0</th>\n",
       "      <td>36418.0</td>\n",
       "      <td>19700.0</td>\n",
       "      <td>124.0</td>\n",
       "      <td>manual_train</td>\n",
       "    </tr>\n",
       "    <tr>\n",
       "      <th>1</th>\n",
       "      <td>36386.0</td>\n",
       "      <td>19514.0</td>\n",
       "      <td>124.0</td>\n",
       "      <td>manual_train</td>\n",
       "    </tr>\n",
       "    <tr>\n",
       "      <th>2</th>\n",
       "      <td>41504.0</td>\n",
       "      <td>14066.0</td>\n",
       "      <td>128.0</td>\n",
       "      <td>manual_train</td>\n",
       "    </tr>\n",
       "    <tr>\n",
       "      <th>3</th>\n",
       "      <td>41209.0</td>\n",
       "      <td>14259.0</td>\n",
       "      <td>136.0</td>\n",
       "      <td>manual_train</td>\n",
       "    </tr>\n",
       "    <tr>\n",
       "      <th>4</th>\n",
       "      <td>41190.0</td>\n",
       "      <td>14322.0</td>\n",
       "      <td>136.0</td>\n",
       "      <td>manual_train</td>\n",
       "    </tr>\n",
       "    <tr>\n",
       "      <th>5</th>\n",
       "      <td>41354.0</td>\n",
       "      <td>14395.0</td>\n",
       "      <td>136.0</td>\n",
       "      <td>manual_train</td>\n",
       "    </tr>\n",
       "    <tr>\n",
       "      <th>6</th>\n",
       "      <td>38170.0</td>\n",
       "      <td>17708.0</td>\n",
       "      <td>136.0</td>\n",
       "      <td>manual_train</td>\n",
       "    </tr>\n",
       "    <tr>\n",
       "      <th>7</th>\n",
       "      <td>41334.0</td>\n",
       "      <td>14627.0</td>\n",
       "      <td>140.0</td>\n",
       "      <td>manual_train</td>\n",
       "    </tr>\n",
       "    <tr>\n",
       "      <th>8</th>\n",
       "      <td>41303.0</td>\n",
       "      <td>14869.0</td>\n",
       "      <td>140.0</td>\n",
       "      <td>manual_train</td>\n",
       "    </tr>\n",
       "    <tr>\n",
       "      <th>9</th>\n",
       "      <td>41516.0</td>\n",
       "      <td>14706.0</td>\n",
       "      <td>140.0</td>\n",
       "      <td>manual_train</td>\n",
       "    </tr>\n",
       "  </tbody>\n",
       "</table>\n",
       "</div>"
      ],
      "text/plain": [
       "         x        y  section          name\n",
       "0  36418.0  19700.0    124.0  manual_train\n",
       "1  36386.0  19514.0    124.0  manual_train\n",
       "2  41504.0  14066.0    128.0  manual_train\n",
       "3  41209.0  14259.0    136.0  manual_train\n",
       "4  41190.0  14322.0    136.0  manual_train\n",
       "5  41354.0  14395.0    136.0  manual_train\n",
       "6  38170.0  17708.0    136.0  manual_train\n",
       "7  41334.0  14627.0    140.0  manual_train\n",
       "8  41303.0  14869.0    140.0  manual_train\n",
       "9  41516.0  14706.0    140.0  manual_train"
      ]
     },
     "execution_count": 8,
     "metadata": {},
     "output_type": "execute_result"
    }
   ],
   "source": [
    "All.columns=['x','y','section','name']\n",
    "All['x']=np.floor(All['x'])\n",
    "All['y']=np.floor(All['y'])\n",
    "All.iloc[:10,:]"
   ]
  },
  {
   "cell_type": "code",
   "execution_count": 9,
   "id": "e8181f09",
   "metadata": {},
   "outputs": [
    {
     "name": "stdout",
     "output_type": "stream",
     "text": [
      "CPU times: user 4.43 s, sys: 5.96 s, total: 10.4 s\n",
      "Wall time: 3.14 s\n"
     ]
    }
   ],
   "source": [
    "%%time\n",
    "# Compute all pairwise distances\n",
    "\n",
    "from scipy.spatial import distance_matrix\n",
    "#make distances between sections very large\n",
    "All['section']*=1000\n",
    "Distances=distance_matrix(np.array(All.iloc[:,:3]),np.array(All.iloc[:,:3]))\n",
    "All['section']/=1000"
   ]
  },
  {
   "cell_type": "code",
   "execution_count": 10,
   "id": "5a9a0db1",
   "metadata": {},
   "outputs": [
    {
     "data": {
      "text/plain": [
       "(27574,)"
      ]
     },
     "execution_count": 10,
     "metadata": {},
     "output_type": "execute_result"
    }
   ],
   "source": [
    "small_distances=Distances[Distances<200]\n",
    "small_distances=small_distances[small_distances>0]\n",
    "small_distances.shape"
   ]
  },
  {
   "cell_type": "code",
   "execution_count": 11,
   "id": "1822eb39",
   "metadata": {},
   "outputs": [
    {
     "data": {
      "image/png": "[encoded data removed]",
      "text/plain": [
       "<Figure size 432x288 with 1 Axes>"
      ]
     },
     "metadata": {
      "needs_background": "light"
     },
     "output_type": "display_data"
    }
   ],
   "source": [
    "hist(small_distances,bins=1000);"
   ]
  },
  {
   "cell_type": "code",
   "execution_count": 12,
   "id": "d3bbf91b",
   "metadata": {},
   "outputs": [],
   "source": [
    "very_small=Distances<30"
   ]
  },
  {
   "cell_type": "code",
   "execution_count": 13,
   "id": "fce10987",
   "metadata": {},
   "outputs": [
    {
     "data": {
      "text/plain": [
       "(22615, 2)"
      ]
     },
     "execution_count": 13,
     "metadata": {},
     "output_type": "execute_result"
    }
   ],
   "source": [
    "pairs=np.transpose(np.nonzero(very_small))\n",
    "pairs.shape"
   ]
  },
  {
   "cell_type": "code",
   "execution_count": 14,
   "id": "256e99ab",
   "metadata": {},
   "outputs": [
    {
     "data": {
      "text/plain": [
       "(2901, 2)"
      ]
     },
     "execution_count": 14,
     "metadata": {},
     "output_type": "execute_result"
    }
   ],
   "source": [
    "pairs=pairs[pairs[:,0]< pairs[:,1],:]\n",
    "pairs.shape"
   ]
  },
  {
   "cell_type": "code",
   "execution_count": 15,
   "id": "307aa16d",
   "metadata": {},
   "outputs": [
    {
     "data": {
      "text/plain": [
       "(16813, 4)"
      ]
     },
     "execution_count": 15,
     "metadata": {},
     "output_type": "execute_result"
    }
   ],
   "source": [
    "All.shape"
   ]
  },
  {
   "cell_type": "code",
   "execution_count": 16,
   "id": "2421c19b",
   "metadata": {},
   "outputs": [],
   "source": [
    "names=list(All.iloc[:,-1])"
   ]
  },
  {
   "cell_type": "code",
   "execution_count": 17,
   "id": "adae7796",
   "metadata": {},
   "outputs": [],
   "source": [
    "def append_all(A,B):\n",
    "    for b in B:\n",
    "        if not b in A:\n",
    "            A.append(b)\n",
    "    B=A\n",
    "    return A,B"
   ]
  },
  {
   "cell_type": "code",
   "execution_count": 18,
   "id": "3b5b2400",
   "metadata": {
    "scrolled": false
   },
   "outputs": [
    {
     "name": "stdout",
     "output_type": "stream",
     "text": [
      "CPU times: user 14.5 ms, sys: 0 ns, total: 14.5 ms\n",
      "Wall time: 14.3 ms\n"
     ]
    }
   ],
   "source": [
    "%%time\n",
    "sets={} #an indexed set of hashes\n",
    "for i in range(All.shape[0]):\n",
    "    sets[i]=[i]\n",
    "max_index=0\n",
    "len(sets)\n",
    "\n",
    "for i in range(pairs.shape[0]):\n",
    "    first,second=pairs[i]\n",
    "    sets[first],sets[second]=append_all(sets[first],sets[second])\n"
   ]
  },
  {
   "cell_type": "code",
   "execution_count": 19,
   "id": "20bd7b45",
   "metadata": {},
   "outputs": [
    {
     "name": "stdout",
     "output_type": "stream",
     "text": [
      "before removing duplicates 16813\n",
      "after removing duplicates 14106\n"
     ]
    }
   ],
   "source": [
    "#remove set duplicates\n",
    "\n",
    "print('before removing duplicates',len(sets))\n",
    "for i in range(len(sets)):\n",
    "    if not i in sets:\n",
    "        continue\n",
    "    for j in sets[i]:\n",
    "        if j != i and j in sets:\n",
    "            del sets[j]\n",
    "print('after removing duplicates',len(sets))"
   ]
  },
  {
   "cell_type": "code",
   "execution_count": 20,
   "id": "dfdf0b12",
   "metadata": {},
   "outputs": [
    {
     "data": {
      "text/plain": [
       "[(0, ['manual_train', 'computer_sure']),\n",
       " (1, ['manual_train', 'computer_sure']),\n",
       " (2, ['manual_train', 'computer_sure']),\n",
       " (3, ['manual_train']),\n",
       " (4, ['manual_train', 'computer_sure'])]"
      ]
     },
     "execution_count": 20,
     "metadata": {},
     "output_type": "execute_result"
    }
   ],
   "source": [
    "set_names={}\n",
    "for key in sets:\n",
    "    set_names[key]=[names[i] for i in sets[key]]\n",
    "list(set_names.items())[:5]"
   ]
  },
  {
   "cell_type": "markdown",
   "id": "d1eb9e83",
   "metadata": {},
   "source": [
    "### Analysis with respect to originally labeled sections"
   ]
  },
  {
   "cell_type": "code",
   "execution_count": 21,
   "id": "0cf5ec0d",
   "metadata": {},
   "outputs": [
    {
     "data": {
      "text/plain": [
       "array([124, 128, 136, 140, 144, 148, 152, 156, 160, 164, 168, 172, 176,\n",
       "       180, 184, 188, 192, 196, 200, 204, 208, 212, 216, 220, 224, 228,\n",
       "       232, 236, 240, 244, 248, 252])"
      ]
     },
     "execution_count": 21,
     "metadata": {},
     "output_type": "execute_result"
    }
   ],
   "source": [
    "#find sections used for training\n",
    "sections=[]\n",
    "for i in range(All.shape[0]):\n",
    "    if All.iloc[i,3]=='manual_train':\n",
    "        #print(int(All.iloc[i,2]))\n",
    "        sections.append(int(All.iloc[i,2]))\n",
    "sections=unique(sections)\n",
    "sections"
   ]
  },
  {
   "cell_type": "code",
   "execution_count": 22,
   "id": "84ff00fd",
   "metadata": {},
   "outputs": [],
   "source": [
    "def check(L,yes=None,no=None,size_min=None,size_max=None):\n",
    "    \"\"\" Return true if names in yes appear in L, names in no do not appear, \n",
    "        and the length of the list is between min_size and max_size\"\"\"\n",
    "\n",
    "    if not yes is None:\n",
    "        for e in yes:\n",
    "            if not e in L:\n",
    "                return False\n",
    "            \n",
    "    if not no is None:\n",
    "        for e in no:\n",
    "            if e in L:\n",
    "                return False\n",
    "    \n",
    "    if not size_min is None:\n",
    "            if len(L)<size_min:\n",
    "                return False\n",
    "            \n",
    "    if not size_max is None:\n",
    "            if len(L)>size_max:\n",
    "                return False\n",
    "\n",
    "    return True\n"
   ]
  },
  {
   "cell_type": "code",
   "execution_count": 23,
   "id": "02fcdc76",
   "metadata": {},
   "outputs": [],
   "source": [
    "train_sections={}"
   ]
  },
  {
   "cell_type": "code",
   "execution_count": 24,
   "id": "791b4475",
   "metadata": {},
   "outputs": [
    {
     "data": {
      "text/plain": [
       "{'Computer Detected in train sections, Human Missed': 57}"
      ]
     },
     "execution_count": 24,
     "metadata": {},
     "output_type": "execute_result"
    }
   ],
   "source": [
    "## Cells detected in train by computer\n",
    "count=0\n",
    "for i in sets:\n",
    "    if int(All.iloc[i,2]) in sections:\n",
    "        if set_names[i]==['computer_sure']:\n",
    "            #print(sets[i],set_names[i])\n",
    "            count+=1\n",
    "train_sections['Computer Detected in train sections, Human Missed']=count\n",
    "train_sections"
   ]
  },
  {
   "cell_type": "code",
   "execution_count": 25,
   "id": "9312244a",
   "metadata": {},
   "outputs": [
    {
     "data": {
      "text/plain": [
       "{'Computer Detected in train sections, Human Missed': 57, 'total train': 1882}"
      ]
     },
     "execution_count": 25,
     "metadata": {},
     "output_type": "execute_result"
    }
   ],
   "source": [
    "# total number of cells in training set\n",
    "count=0\n",
    "for i in sets:\n",
    "        if int(All.iloc[i,2]) in sections:\n",
    "            if 'manual_train' in set_names[i]:\n",
    "                count+=1\n",
    "train_sections['total train']=count\n",
    "train_sections"
   ]
  },
  {
   "cell_type": "code",
   "execution_count": 26,
   "id": "4307e57b",
   "metadata": {
    "scrolled": true
   },
   "outputs": [
    {
     "data": {
      "text/plain": [
       "{'Computer Detected in train sections, Human Missed': 57,\n",
       " 'total train': 1882,\n",
       " 'Human mind change': 32}"
      ]
     },
     "execution_count": 26,
     "metadata": {},
     "output_type": "execute_result"
    }
   ],
   "source": [
    "contra=[]\n",
    "count=0\n",
    "for i in sets:\n",
    "    if int(All.iloc[i,2]) in sections:\n",
    "        if check(set_names[i],yes=['manual_negative','manual_train']):\n",
    "            for j in sets[i]:\n",
    "                contra.append(j)\n",
    "            count+=1\n",
    "train_sections['Human mind change']=count\n",
    "train_sections"
   ]
  },
  {
   "cell_type": "markdown",
   "id": "6b475e9a",
   "metadata": {},
   "source": [
    "## Analysis of all sections"
   ]
  },
  {
   "cell_type": "code",
   "execution_count": 27,
   "id": "b0fc272f",
   "metadata": {},
   "outputs": [],
   "source": [
    "test_counts={}"
   ]
  },
  {
   "cell_type": "code",
   "execution_count": 49,
   "id": "7ddb1cdf",
   "metadata": {},
   "outputs": [
    {
     "data": {
      "text/plain": [
       "{'x': 38225.0, 'y': 17669.0, 'section': 153.0, 'name': 'manual_positive'}"
      ]
     },
     "execution_count": 49,
     "metadata": {},
     "output_type": "execute_result"
    }
   ],
   "source": [
    "dict(All.iloc[i,:])"
   ]
  },
  {
   "cell_type": "code",
   "execution_count": 52,
   "id": "7048744f",
   "metadata": {
    "scrolled": true
   },
   "outputs": [
    {
     "data": {
      "text/plain": [
       "{'computer missed, human detected': 301,\n",
       " 'detected by computer as sure, marked by human as negative': 50,\n",
       " 'detected by computer as UNsure, marked by human as negative': 248,\n",
       " 'detected by computer as UNsure, marked by human as positive': 401,\n",
       " 'Total computer as UNsure': 1285,\n",
       " 'Total computer as UNsure, unmarked by human': 633,\n",
       " 'detected by computer as sure, unmarked by human': 10558,\n",
       " 'More than 2 labels (excluding train)': 26}"
      ]
     },
     "execution_count": 52,
     "metadata": {},
     "output_type": "execute_result"
    }
   ],
   "source": [
    "# undetected by computer but marked positive by human\n",
    "count=0\n",
    "computer_missed_indexes=[]\n",
    "for i in sets:\n",
    "    if  check(set_names[i],yes=['manual_positive'],no=['computer_sure','computer_unsure'],size_max=1):\n",
    "        computer_missed_indexes.append((i,dict(All.iloc[i,:])))\n",
    "        count+=1\n",
    "test_counts['computer missed, human detected']=count\n",
    "test_counts"
   ]
  },
  {
   "cell_type": "code",
   "execution_count": 58,
   "id": "f071a5e5",
   "metadata": {},
   "outputs": [
    {
     "name": "stdout",
     "output_type": "stream",
     "text": [
      "-rw-r--r-- 1 yfreund freund 23010 Jan  4 18:48 computerMissed.pkl\r\n"
     ]
    }
   ],
   "source": [
    "import pickle as pk\n",
    "pk.dump(computer_missed_indexes,open('computerMissed.pkl','wb'))\n",
    "!ls -l computerMissed.pkl"
   ]
  },
  {
   "cell_type": "code",
   "execution_count": 59,
   "id": "e7360ade",
   "metadata": {},
   "outputs": [
    {
     "data": {
      "text/plain": [
       "{'computer missed, human detected': 301,\n",
       " 'detected by computer as sure, marked by human as negative': 50,\n",
       " 'detected by computer as UNsure, marked by human as negative': 248,\n",
       " 'detected by computer as UNsure, marked by human as positive': 401,\n",
       " 'Total computer as UNsure': 1285,\n",
       " 'Total computer as UNsure, unmarked by human': 633,\n",
       " 'detected by computer as sure, unmarked by human': 10558,\n",
       " 'More than 2 labels (excluding train)': 26}"
      ]
     },
     "execution_count": 59,
     "metadata": {},
     "output_type": "execute_result"
    }
   ],
   "source": [
    "label=\"detected by computer as sure, marked by human as negative\"\n",
    "count=0\n",
    "for i in sets:\n",
    "    if  check(set_names[i],yes=['computer_sure','manual_negative'],size_max=2):\n",
    "            count+=1\n",
    "test_counts[label]=count\n",
    "test_counts"
   ]
  },
  {
   "cell_type": "code",
   "execution_count": 30,
   "id": "15e9ce6a",
   "metadata": {},
   "outputs": [
    {
     "data": {
      "text/plain": [
       "{'computer missed, human detected': 301,\n",
       " 'detected by computer as sure, marked by human as negative': 50,\n",
       " 'detected by computer as UNsure, marked by human as negative': 248}"
      ]
     },
     "execution_count": 30,
     "metadata": {},
     "output_type": "execute_result"
    }
   ],
   "source": [
    "label=\"detected by computer as UNsure, marked by human as negative\"\n",
    "count=0\n",
    "for i in sets:\n",
    "    if  check(set_names[i],yes=['computer_unsure','manual_negative'],size_max=2):\n",
    "            count+=1\n",
    "test_counts[label]=count\n",
    "test_counts"
   ]
  },
  {
   "cell_type": "code",
   "execution_count": 31,
   "id": "7b63358e",
   "metadata": {
    "scrolled": true
   },
   "outputs": [
    {
     "data": {
      "text/plain": [
       "{'computer missed, human detected': 301,\n",
       " 'detected by computer as sure, marked by human as negative': 50,\n",
       " 'detected by computer as UNsure, marked by human as negative': 248,\n",
       " 'detected by computer as UNsure, marked by human as positive': 401}"
      ]
     },
     "execution_count": 31,
     "metadata": {},
     "output_type": "execute_result"
    }
   ],
   "source": [
    "label=\"detected by computer as UNsure, marked by human as positive\"\n",
    "count=0\n",
    "for i in sets:\n",
    "    if  check(set_names[i],yes=['computer_unsure','manual_positive'],size_max=2):\n",
    "            count+=1\n",
    "test_counts[label]=count\n",
    "test_counts"
   ]
  },
  {
   "cell_type": "code",
   "execution_count": 32,
   "id": "7e00e2db",
   "metadata": {},
   "outputs": [
    {
     "data": {
      "text/plain": [
       "{'computer missed, human detected': 301,\n",
       " 'detected by computer as sure, marked by human as negative': 50,\n",
       " 'detected by computer as UNsure, marked by human as negative': 248,\n",
       " 'detected by computer as UNsure, marked by human as positive': 401,\n",
       " 'Total computer as UNsure': 1285}"
      ]
     },
     "execution_count": 32,
     "metadata": {},
     "output_type": "execute_result"
    }
   ],
   "source": [
    "label=\"Total computer as UNsure\"\n",
    "count=0\n",
    "for i in sets:\n",
    "    if  check(set_names[i],yes=['computer_unsure'],size_max=2):\n",
    "            count+=1\n",
    "test_counts[label]=count\n",
    "test_counts"
   ]
  },
  {
   "cell_type": "code",
   "execution_count": 33,
   "id": "cec54eae",
   "metadata": {},
   "outputs": [
    {
     "data": {
      "text/plain": [
       "{'computer missed, human detected': 301,\n",
       " 'detected by computer as sure, marked by human as negative': 50,\n",
       " 'detected by computer as UNsure, marked by human as negative': 248,\n",
       " 'detected by computer as UNsure, marked by human as positive': 401,\n",
       " 'Total computer as UNsure': 1285,\n",
       " 'Total computer as UNsure, unmarked by human': 633}"
      ]
     },
     "execution_count": 33,
     "metadata": {},
     "output_type": "execute_result"
    }
   ],
   "source": [
    "label=\"Total computer as UNsure, unmarked by human\"\n",
    "count=0\n",
    "for i in sets:\n",
    "    if  check(set_names[i],yes=['computer_unsure'],size_max=1):\n",
    "            count+=1\n",
    "test_counts[label]=count\n",
    "test_counts"
   ]
  },
  {
   "cell_type": "code",
   "execution_count": 34,
   "id": "b1dd1677",
   "metadata": {},
   "outputs": [
    {
     "data": {
      "text/plain": [
       "{'computer missed, human detected': 301,\n",
       " 'detected by computer as sure, marked by human as negative': 50,\n",
       " 'detected by computer as UNsure, marked by human as negative': 248,\n",
       " 'detected by computer as UNsure, marked by human as positive': 401,\n",
       " 'Total computer as UNsure': 1285,\n",
       " 'Total computer as UNsure, unmarked by human': 633,\n",
       " 'detected by computer as sure, unmarked by human': 10558}"
      ]
     },
     "execution_count": 34,
     "metadata": {},
     "output_type": "execute_result"
    }
   ],
   "source": [
    "label=\"detected by computer as sure, unmarked by human\"\n",
    "count=0\n",
    "for i in sets:\n",
    "    if  check(set_names[i],yes=['computer_sure'],size_max=1):\n",
    "            count+=1\n",
    "test_counts[label]=count\n",
    "test_counts"
   ]
  },
  {
   "cell_type": "code",
   "execution_count": 35,
   "id": "d7ac5b41",
   "metadata": {},
   "outputs": [
    {
     "name": "stdout",
     "output_type": "stream",
     "text": [
      "['manual_negative', 'manual_positive', 'computer_unsure']\n",
      "['manual_negative', 'manual_positive', 'computer_unsure']\n",
      "['manual_negative', 'manual_positive', 'computer_unsure']\n",
      "['manual_negative', 'manual_positive', 'computer_unsure']\n",
      "['manual_negative', 'manual_negative', 'computer_unsure']\n",
      "['manual_negative', 'manual_positive', 'computer_unsure']\n",
      "['manual_negative', 'manual_negative', 'manual_negative', 'computer_unsure']\n",
      "['manual_negative', 'manual_positive', 'computer_unsure']\n",
      "['manual_negative', 'manual_positive', 'computer_unsure']\n",
      "['manual_negative', 'computer_unsure', 'computer_unsure']\n",
      "['manual_negative', 'manual_positive', 'computer_unsure']\n",
      "['manual_negative', 'manual_negative', 'computer_unsure']\n",
      "['manual_negative', 'manual_negative', 'computer_unsure']\n",
      "['manual_negative', 'manual_negative', 'computer_unsure']\n",
      "['manual_negative', 'manual_negative', 'computer_unsure']\n",
      "['manual_negative', 'manual_negative', 'computer_unsure']\n",
      "['manual_negative', 'manual_negative', 'computer_unsure']\n",
      "['manual_negative', 'manual_negative', 'computer_unsure']\n",
      "['manual_negative', 'manual_negative', 'computer_unsure']\n",
      "['manual_negative', 'manual_negative', 'manual_negative', 'computer_unsure']\n",
      "['manual_positive', 'manual_positive', 'computer_unsure']\n",
      "['manual_positive', 'manual_positive', 'computer_unsure']\n",
      "['manual_positive', 'manual_positive', 'computer_unsure']\n",
      "['manual_positive', 'manual_positive', 'manual_positive', 'computer_unsure']\n",
      "['manual_positive', 'manual_positive', 'computer_unsure']\n",
      "['manual_positive', 'manual_positive', 'manual_positive', 'manual_positive', 'manual_positive', 'manual_positive', 'computer_sure']\n"
     ]
    },
    {
     "data": {
      "text/plain": [
       "{'computer missed, human detected': 301,\n",
       " 'detected by computer as sure, marked by human as negative': 50,\n",
       " 'detected by computer as UNsure, marked by human as negative': 248,\n",
       " 'detected by computer as UNsure, marked by human as positive': 401,\n",
       " 'Total computer as UNsure': 1285,\n",
       " 'Total computer as UNsure, unmarked by human': 633,\n",
       " 'detected by computer as sure, unmarked by human': 10558,\n",
       " 'More than 2 labels (excluding train)': 26}"
      ]
     },
     "execution_count": 35,
     "metadata": {},
     "output_type": "execute_result"
    }
   ],
   "source": [
    "label=\"More than 2 labels (excluding train)\"\n",
    "count=0\n",
    "for i in sets:\n",
    "    if  check(set_names[i],no=['manual_train'],size_min=3):\n",
    "        print(set_names[i])\n",
    "        count+=1\n",
    "test_counts[label]=count\n",
    "test_counts"
   ]
  },
  {
   "cell_type": "code",
   "execution_count": 36,
   "id": "baf6697a",
   "metadata": {},
   "outputs": [
    {
     "data": {
      "text/plain": [
       "({'Computer Detected in train sections, Human Missed': 57,\n",
       "  'total train': 1882,\n",
       "  'Human mind change': 32},\n",
       " {'computer missed, human detected': 301,\n",
       "  'detected by computer as sure, marked by human as negative': 50,\n",
       "  'detected by computer as UNsure, marked by human as negative': 248,\n",
       "  'detected by computer as UNsure, marked by human as positive': 401,\n",
       "  'Total computer as UNsure': 1285,\n",
       "  'Total computer as UNsure, unmarked by human': 633,\n",
       "  'detected by computer as sure, unmarked by human': 10558,\n",
       "  'More than 2 labels (excluding train)': 26})"
      ]
     },
     "execution_count": 36,
     "metadata": {},
     "output_type": "execute_result"
    }
   ],
   "source": [
    "train_sections, test_counts"
   ]
  },
  {
   "cell_type": "code",
   "execution_count": null,
   "id": "a0689942",
   "metadata": {},
   "outputs": [],
   "source": []
  }
 ],
 "metadata": {
  "kernelspec": {
   "display_name": "Python 3",
   "language": "python",
   "name": "python3"
  },
  "language_info": {
   "codemirror_mode": {
    "name": "ipython",
    "version": 3
   },
   "file_extension": ".py",
   "mimetype": "text/x-python",
   "name": "python",
   "nbconvert_exporter": "python",
   "pygments_lexer": "ipython3",
   "version": "3.8.10"
  }
 },
 "nbformat": 4,
 "nbformat_minor": 5
}
