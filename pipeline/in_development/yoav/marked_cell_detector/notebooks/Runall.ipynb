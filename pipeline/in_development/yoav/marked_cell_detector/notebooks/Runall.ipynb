{
 "cells": [
  {
   "cell_type": "code",
   "execution_count": 17,
   "id": "85c06219",
   "metadata": {},
   "outputs": [
    {
     "name": "stdout",
     "output_type": "stream",
     "text": [
      "C= date\n",
      "Tue Aug 31 16:44:22 PDT 2021\n"
     ]
    }
   ],
   "source": [
    "import sys,os\n",
    "def run(cmd):\n",
    "    print('C=',cmd)\n",
    "    os.system(cmd)\n",
    "run('date')"
   ]
  },
  {
   "cell_type": "code",
   "execution_count": 18,
   "id": "ff89608f",
   "metadata": {},
   "outputs": [
    {
     "name": "stdout",
     "output_type": "stream",
     "text": [
      "\u001b[34m164\u001b[m\u001b[m \u001b[34m172\u001b[m\u001b[m \u001b[34m248\u001b[m\u001b[m\r\n"
     ]
    }
   ],
   "source": [
    "DIR='/Users/yoavfreund/projects/cell_detection_data/sections'\n",
    "!ls $DIR"
   ]
  },
  {
   "cell_type": "code",
   "execution_count": 22,
   "id": "6269fded",
   "metadata": {},
   "outputs": [
    {
     "name": "stdout",
     "output_type": "stream",
     "text": [
      "C= python ../scripts/extract_examples.py 164 /Users/yoavfreund/projects/cell_detection_data/sections/164/\n",
      "['../scripts/extract_examples.py', '164', '/Users/yoavfreund/projects/cell_detection_data/sections/164/']\n",
      "section=164, DATA_DIR=/Users/yoavfreund/projects/cell_detection_data/sections/164/\n",
      "width=60000, tile_width=30000 ,height=34000, tile_height=6800\n",
      "origins= {0: (0, 0), 1: (0, 30000), 2: (6800, 0), 3: (6800, 30000), 4: (13600, 0), 5: (13600, 30000), 6: (20400, 0), 7: (20400, 30000), 8: (27200, 0), 9: (27200, 30000)}\n",
      "tile= 0,Computer Detections= 2,Manual Detections = 0\n",
      "tile= 1,Computer Detections= 5,Manual Detections = 0\n",
      "tile= 2,Computer Detections= 2,Manual Detections = 0\n",
      "tile= 3,Computer Detections= 9,Manual Detections = 0\n",
      "tile= 4,Computer Detections= 130,Manual Detections = 0\n",
      "tile= 5,Computer Detections= 2893,Manual Detections = 60\n",
      "tile=5 positives=53, unmatched (size=6):\n",
      "  [(12, 31.827660925679098, 261, 320), (13, 30.805843601498726, 261, 351), (22, 18.027756377319946, 449, 492), (26, 16.492422502470642, 983, 1054), (40, 28.792360097775937, 265, 296), (41, 36.013886210738214, 265, 274)]\n",
      "tile= 6,Computer Detections= 13,Manual Detections = 1\n",
      "tile=6 positives=1, unmatched (size=0):\n",
      "  []\n",
      "tile= 7,Computer Detections= 793,Manual Detections = 9\n",
      "tile=7 positives=9, unmatched (size=0):\n",
      "  []\n",
      "tile= 8,Computer Detections= 1,skipping tile\n",
      "tile= 9,Computer Detections= 1,skipping tile\n",
      "about to write 42.9859459400177\n",
      "finished writing  1.0541539192199707\n",
      "C= python ../scripts/Detections2Features.py /Users/yoavfreund/projects/cell_detection_data/sections/164\n",
      "DATA_DIR=/Users/yoavfreund/projects/cell_detection_data/sections/164\n",
      "df shape= (3811, 42) output_file= /Users/yoavfreund/projects/cell_detection_data/sections/164/puntas.csv\n",
      "C= python ../scripts/extract_examples.py 172 /Users/yoavfreund/projects/cell_detection_data/sections/172/\n",
      "['../scripts/extract_examples.py', '172', '/Users/yoavfreund/projects/cell_detection_data/sections/172/']\n",
      "section=172, DATA_DIR=/Users/yoavfreund/projects/cell_detection_data/sections/172/\n",
      "width=60000, tile_width=30000 ,height=34000, tile_height=6800\n",
      "origins= {0: (0, 0), 1: (0, 30000), 2: (6800, 0), 3: (6800, 30000), 4: (13600, 0), 5: (13600, 30000), 6: (20400, 0), 7: (20400, 30000), 8: (27200, 0), 9: (27200, 30000)}\n",
      "tile= 0,Computer Detections= 2,Manual Detections = 0\n",
      "tile= 1,Computer Detections= 1,skipping tile\n",
      "tile= 2,Computer Detections= 13,Manual Detections = 0\n",
      "tile= 3,Computer Detections= 13,Manual Detections = 1\n",
      "tile=3 positives=1, unmatched (size=0):\n",
      "  []\n",
      "tile= 4,Computer Detections= 144,Manual Detections = 0\n",
      "tile= 5,Computer Detections= 4789,Manual Detections = 90\n",
      "tile=5 positives=81, unmatched (size=7):\n",
      "  [(31, 35.35533905932738, 3562, 3697), (66, 29.0, 986, 1027), (68, 39.824615503479755, 986, 959), (80, 33.60059523282288, 870, 908), (81, 29.154759474226502, 870, 865), (86, 18.601075237738275, 394, 389), (87, 34.17601498127012, 187, 235)]\n",
      "tile= 6,Computer Detections= 17,Manual Detections = 0\n",
      "tile= 7,Computer Detections= 587,Manual Detections = 24\n",
      "tile=7 positives=24, unmatched (size=1):\n",
      "  [(4, 9.055385138137417, 0, 575)]\n",
      "tile= 8,Computer Detections= 1,skipping tile\n",
      "tile= 9,Computer Detections= 1,skipping tile\n",
      "about to write 39.98434901237488\n",
      "finished writing  1.3273451328277588\n",
      "C= python ../scripts/Detections2Features.py /Users/yoavfreund/projects/cell_detection_data/sections/172\n",
      "DATA_DIR=/Users/yoavfreund/projects/cell_detection_data/sections/172\n",
      "df shape= (5497, 42) output_file= /Users/yoavfreund/projects/cell_detection_data/sections/172/puntas.csv\n",
      "C= python ../scripts/extract_examples.py 248 /Users/yoavfreund/projects/cell_detection_data/sections/248/\n",
      "['../scripts/extract_examples.py', '248', '/Users/yoavfreund/projects/cell_detection_data/sections/248/']\n",
      "section=248, DATA_DIR=/Users/yoavfreund/projects/cell_detection_data/sections/248/\n",
      "width=60000, tile_width=30000 ,height=34000, tile_height=6800\n",
      "origins= {0: (0, 0), 1: (0, 30000), 2: (6800, 0), 3: (6800, 30000), 4: (13600, 0), 5: (13600, 30000), 6: (20400, 0), 7: (20400, 30000), 8: (27200, 0), 9: (27200, 30000)}\n",
      "tile= 0,Computer Detections= 5,Manual Detections = 0\n",
      "tile= 1,Computer Detections= 1,skipping tile\n",
      "tile= 2,Computer Detections= 1,skipping tile\n",
      "tile= 3,Computer Detections= 5,Manual Detections = 0\n",
      "tile= 4,Computer Detections= 558,Manual Detections = 0\n",
      "tile= 5,Computer Detections= 1778,Manual Detections = 5\n",
      "tile=5 positives=4, unmatched (size=0):\n",
      "  []\n",
      "tile= 6,Computer Detections= 22,Manual Detections = 0\n",
      "tile= 7,Computer Detections= 2702,Manual Detections = 19\n",
      "tile=7 positives=18, unmatched (size=2):\n",
      "  [(6, 47.53945729601885, 1491, 1721), (7, 38.47076812334269, 1491, 1574)]\n",
      "tile= 8,Computer Detections= 1,skipping tile\n",
      "tile= 9,Computer Detections= 2,Manual Detections = 0\n",
      "about to write 40.80624794960022\n",
      "finished writing  1.3210198879241943\n",
      "C= python ../scripts/Detections2Features.py /Users/yoavfreund/projects/cell_detection_data/sections/248\n",
      "DATA_DIR=/Users/yoavfreund/projects/cell_detection_data/sections/248\n",
      "df shape= (4998, 42) output_file= /Users/yoavfreund/projects/cell_detection_data/sections/248/puntas.csv\n"
     ]
    }
   ],
   "source": [
    "for section in [164,172,248]:\n",
    "    run(\"python ../scripts/extract_examples.py %d %s/%d/\"%(section,DIR,section))\n",
    "    run(\"python ../scripts/Detections2Features.py %s/%d\"%(DIR,section))\n",
    "    \n",
    "    "
   ]
  },
  {
   "cell_type": "code",
   "execution_count": 40,
   "id": "ba4b1e6e",
   "metadata": {
    "scrolled": true
   },
   "outputs": [
    {
     "name": "stdout",
     "output_type": "stream",
     "text": [
      "-rwxr--r--@ 1 yoavfreund  staff       4458 Jul 24 17:18 \u001b[31m./data/172/172.csv\u001b[m\u001b[m\r\n",
      "-rwxr--r--@ 1 yoavfreund  staff       2299 Aug 16 10:19 \u001b[31m./data/164/164.csv\u001b[m\u001b[m\r\n",
      "-rwxr--r--@ 1 yoavfreund  staff        781 Aug 16 10:22 \u001b[31m./data/248/248.csv\u001b[m\u001b[m\r\n",
      "-rw-r--r--  1 yoavfreund  staff    3408860 Aug 20 17:10 ./data/172/BoostedTrees.pkl\r\n",
      "-rw-r--r--  1 yoavfreund  staff        741 Aug 30 19:38 ./data/172/BadExamples.pkl\r\n",
      "-rw-r--r--  1 yoavfreund  staff  175981310 Aug 31 09:17 ./data/164/extracted_cells.pkl\r\n",
      "-rw-r--r--  1 yoavfreund  staff  238669572 Aug 31 09:18 ./data/172/extracted_cells.pkl\r\n",
      "-rw-r--r--  1 yoavfreund  staff  210715096 Aug 31 09:19 ./data/248/extracted_cells.pkl\r\n",
      "-rw-r--r--@ 1 yoavfreund  staff    1769618 Aug 31 09:26 ./data/164/puntas.csv\r\n",
      "-rw-r--r--  1 yoavfreund  staff    2545734 Aug 31 09:26 ./data/172/puntas.csv\r\n",
      "-rw-r--r--  1 yoavfreund  staff    2473982 Aug 31 09:26 ./data/248/puntas.csv\r\n"
     ]
    }
   ],
   "source": [
    "!ls -lrt ./data/*/*.{csv,pkl}"
   ]
  },
  {
   "cell_type": "code",
   "execution_count": 35,
   "id": "48a43afd",
   "metadata": {},
   "outputs": [
    {
     "data": {
      "text/plain": [
       "Index(['animal', 'section', 'index', 'label', 'area', 'height2', 'width2',\n",
       "       'row', 'col', 'corr', 'energy', 'h0', 'h1', 'h2', 'h3', 'h4', 'h5',\n",
       "       'h6', 'm00', 'm10', 'm01', 'm20', 'm11', 'm02', 'm30', 'm21', 'm12',\n",
       "       'm03', 'mu20', 'mu11', 'mu02', 'mu30', 'mu21', 'mu12', 'mu03', 'nu20',\n",
       "       'nu11', 'nu02', 'nu30', 'nu21', 'nu12', 'nu03'],\n",
       "      dtype='object')"
      ]
     },
     "execution_count": 35,
     "metadata": {},
     "output_type": "execute_result"
    }
   ],
   "source": [
    "import pandas as pd\n",
    "features=pd.read_csv('/Users/yoavfreund/projects/butons/data/164/puntas.csv')\n",
    "features.columns"
   ]
  },
  {
   "cell_type": "code",
   "execution_count": 18,
   "id": "db2fce28",
   "metadata": {},
   "outputs": [],
   "source": [
    "import pickle as pkl\n",
    "with open('./data/164/extracted_cells.pkl','br') as pkl_file:\n",
    "    E=pkl.load(pkl_file)"
   ]
  },
  {
   "cell_type": "code",
   "execution_count": 19,
   "id": "6581c071",
   "metadata": {},
   "outputs": [
    {
     "data": {
      "text/plain": [
       "dict_keys(['Examples'])"
      ]
     },
     "execution_count": 19,
     "metadata": {},
     "output_type": "execute_result"
    }
   ],
   "source": [
    "E.keys()"
   ]
  },
  {
   "cell_type": "code",
   "execution_count": 20,
   "id": "4e9d0a8a",
   "metadata": {},
   "outputs": [],
   "source": [
    "Examples=E['Examples']"
   ]
  },
  {
   "cell_type": "code",
   "execution_count": 21,
   "id": "a46454d2",
   "metadata": {},
   "outputs": [],
   "source": [
    "e=Examples[10]"
   ]
  },
  {
   "cell_type": "code",
   "execution_count": 22,
   "id": "ff3040d8",
   "metadata": {},
   "outputs": [
    {
     "data": {
      "text/plain": [
       "dict_keys(['animal', 'section', 'index', 'label', 'area', 'row_center', 'origin', 'height2', 'col_center', 'width2', 'image'])"
      ]
     },
     "execution_count": 22,
     "metadata": {},
     "output_type": "execute_result"
    }
   ],
   "source": [
    "e.keys()"
   ]
  },
  {
   "cell_type": "code",
   "execution_count": null,
   "id": "323959f4",
   "metadata": {},
   "outputs": [],
   "source": []
  }
 ],
 "metadata": {
  "kernelspec": {
   "display_name": "Python 3 (ipykernel)",
   "language": "python",
   "name": "python3"
  },
  "language_info": {
   "codemirror_mode": {
    "name": "ipython",
    "version": 3
   },
   "file_extension": ".py",
   "mimetype": "text/x-python",
   "name": "python",
   "nbconvert_exporter": "python",
   "pygments_lexer": "ipython3",
   "version": "3.9.6"
  }
 },
 "nbformat": 4,
 "nbformat_minor": 5
}
