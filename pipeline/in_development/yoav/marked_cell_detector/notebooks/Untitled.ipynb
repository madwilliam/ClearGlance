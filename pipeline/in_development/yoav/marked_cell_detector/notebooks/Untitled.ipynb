{
 "cells": [
  {
   "cell_type": "code",
   "execution_count": 2,
   "id": "2209f2e5",
   "metadata": {},
   "outputs": [
    {
     "data": {
      "text/plain": [
       "'/abc/CH3/172/172tile-3.tif'"
      ]
     },
     "execution_count": 2,
     "metadata": {},
     "output_type": "execute_result"
    }
   ],
   "source": [
    "path='/abc'\n",
    "ch='CH3'\n",
    "section=172\n",
    "tile=3\n",
    "\"{p}/{c}/{s}/{s}tile-{t}.tif\".format(p=path,c=ch,s=section,t=tile)"
   ]
  },
  {
   "cell_type": "code",
   "execution_count": null,
   "id": "28d8b89f",
   "metadata": {},
   "outputs": [],
   "source": []
  }
 ],
 "metadata": {
  "kernelspec": {
   "display_name": "Python 3 (ipykernel)",
   "language": "python",
   "name": "python3"
  },
  "language_info": {
   "codemirror_mode": {
    "name": "ipython",
    "version": 3
   },
   "file_extension": ".py",
   "mimetype": "text/x-python",
   "name": "python",
   "nbconvert_exporter": "python",
   "pygments_lexer": "ipython3",
   "version": "3.9.6"
  }
 },
 "nbformat": 4,
 "nbformat_minor": 5
}
