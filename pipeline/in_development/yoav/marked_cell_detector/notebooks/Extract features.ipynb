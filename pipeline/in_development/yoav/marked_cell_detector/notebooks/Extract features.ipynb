{
 "cells": [
  {
   "cell_type": "code",
   "execution_count": 1,
   "id": "cada1b3f",
   "metadata": {},
   "outputs": [
    {
     "name": "stdout",
     "output_type": "stream",
     "text": [
      "Populating the interactive namespace from numpy and matplotlib\n"
     ]
    }
   ],
   "source": [
    "%pylab inline"
   ]
  },
  {
   "cell_type": "code",
   "execution_count": 3,
   "id": "1d901e24",
   "metadata": {},
   "outputs": [
    {
     "data": {
      "text/plain": [
       "1298"
      ]
     },
     "execution_count": 3,
     "metadata": {},
     "output_type": "execute_result"
    }
   ],
   "source": [
    "import numpy as np\n",
    "import pickle as pkl\n",
    "with open('data/172/extracted_cells.pkl','br') as pkl_file:\n",
    "    E=pkl.load(pkl_file)\n",
    "    Examples=E['Examples']\n",
    "len(Examples)"
   ]
  },
  {
   "cell_type": "code",
   "execution_count": 4,
   "id": "7d8b8b7d",
   "metadata": {
    "scrolled": true
   },
   "outputs": [
    {
     "data": {
      "text/plain": [
       "[]"
      ]
     },
     "execution_count": 4,
     "metadata": {},
     "output_type": "execute_result"
    }
   ],
   "source": [
    "[e for e in Examples if e['area']>100000]"
   ]
  },
  {
   "cell_type": "code",
   "execution_count": 23,
   "id": "b26bb764",
   "metadata": {
    "scrolled": true
   },
   "outputs": [
    {
     "data": {
      "text/plain": [
       "(0.0, 30.0)"
      ]
     },
     "execution_count": 23,
     "metadata": {},
     "output_type": "execute_result"
    },
    {
     "data": {
      "image/png": "[encoded data removed]",
      "text/plain": [
       "<Figure size 432x288 with 1 Axes>"
      ]
     },
     "metadata": {
      "needs_background": "light"
     },
     "output_type": "display_data"
    }
   ],
   "source": [
    "pos=[min(e['area'],10000) for e in Examples if e['label']==1]\n",
    "neg=[min(e['area'],10000) for e in Examples if e['label']==0]\n",
    "hist([pos,neg], 100, histtype='bar');\n",
    "#xlim([0,4000])\n",
    "ylim([0,30])"
   ]
  },
  {
   "cell_type": "code",
   "execution_count": 21,
   "id": "b0a30b77",
   "metadata": {},
   "outputs": [
    {
     "data": {
      "text/plain": [
       "4000"
      ]
     },
     "execution_count": 21,
     "metadata": {},
     "output_type": "execute_result"
    }
   ],
   "source": [
    "max(pos)"
   ]
  },
  {
   "cell_type": "code",
   "execution_count": 19,
   "id": "7c3b857b",
   "metadata": {
    "scrolled": true
   },
   "outputs": [
    {
     "data": {
      "image/png": "[encoded data removed]",
      "text/plain": [
       "<Figure size 432x288 with 1 Axes>"
      ]
     },
     "metadata": {
      "needs_background": "light"
     },
     "output_type": "display_data"
    }
   ],
   "source": [
    "hist(pos,bins=20);"
   ]
  },
  {
   "cell_type": "code",
   "execution_count": 24,
   "id": "a583d51c",
   "metadata": {},
   "outputs": [],
   "source": [
    "min(pos),min(neg)\n",
    "import cv2"
   ]
  },
  {
   "cell_type": "code",
   "execution_count": 25,
   "id": "a30fdd9d",
   "metadata": {
    "scrolled": true
   },
   "outputs": [],
   "source": [
    "df_dict=None\n",
    "thresh=2000\n",
    "for i in range(len(Examples)):\n",
    "    e=Examples[i]\n",
    "\n",
    "    Stats=cv2.connectedComponentsWithStats(np.int8(e['image']>thresh))\n",
    "\n",
    "    if Stats[1] is None:\n",
    "        continue\n",
    "    seg=Stats[1]\n",
    "\n",
    "    # Isolate the connected component at the middle of seg\n",
    "    middle=np.array(np.array(seg.shape)/2,dtype=np.int16)\n",
    "    middle_seg=seg[middle[0],middle[1]]\n",
    "    middle_seg_mask = np.uint8(seg==middle_seg)\n",
    "\n",
    "    # Calculate Moments\n",
    "    moments = cv2.moments(middle_seg_mask)\n",
    "    # Calculate Hu Moments\n",
    "    huMoments = cv2.HuMoments(moments)\n",
    "    \n",
    "    features={'h%d'%i:huMoments[i,0]  for i in range(7)}\n",
    "    features.update(moments)\n",
    "\n",
    "    for key in ['index','label','area','height2','width2']:\n",
    "        features[key]=e[key]\n",
    "\n",
    "    if df_dict==None:\n",
    "        df_dict={}\n",
    "        for key in features:\n",
    "            df_dict[key]=[]\n",
    "\n",
    "    for key in features:\n",
    "        df_dict[key].append(features[key])\n"
   ]
  },
  {
   "cell_type": "code",
   "execution_count": 27,
   "id": "201010c2",
   "metadata": {},
   "outputs": [
    {
     "name": "stdout",
     "output_type": "stream",
     "text": [
      "(5504, 36)\n"
     ]
    },
    {
     "data": {
      "text/html": [
       "<div>\n",
       "<style scoped>\n",
       "    .dataframe tbody tr th:only-of-type {\n",
       "        vertical-align: middle;\n",
       "    }\n",
       "\n",
       "    .dataframe tbody tr th {\n",
       "        vertical-align: top;\n",
       "    }\n",
       "\n",
       "    .dataframe thead th {\n",
       "        text-align: right;\n",
       "    }\n",
       "</style>\n",
       "<table border=\"1\" class=\"dataframe\">\n",
       "  <thead>\n",
       "    <tr style=\"text-align: right;\">\n",
       "      <th></th>\n",
       "      <th>h0</th>\n",
       "      <th>h1</th>\n",
       "      <th>h2</th>\n",
       "      <th>h3</th>\n",
       "      <th>h4</th>\n",
       "      <th>h5</th>\n",
       "      <th>h6</th>\n",
       "      <th>m00</th>\n",
       "      <th>m10</th>\n",
       "      <th>m01</th>\n",
       "      <th>...</th>\n",
       "      <th>nu02</th>\n",
       "      <th>nu30</th>\n",
       "      <th>nu21</th>\n",
       "      <th>nu12</th>\n",
       "      <th>nu03</th>\n",
       "      <th>index</th>\n",
       "      <th>label</th>\n",
       "      <th>area</th>\n",
       "      <th>height2</th>\n",
       "      <th>width2</th>\n",
       "    </tr>\n",
       "  </thead>\n",
       "  <tbody>\n",
       "    <tr>\n",
       "      <th>0</th>\n",
       "      <td>0.169095</td>\n",
       "      <td>0.003009</td>\n",
       "      <td>0.000086</td>\n",
       "      <td>1.351580e-06</td>\n",
       "      <td>1.014508e-11</td>\n",
       "      <td>4.923695e-08</td>\n",
       "      <td>-1.045499e-11</td>\n",
       "      <td>66.0</td>\n",
       "      <td>3285.0</td>\n",
       "      <td>3299.0</td>\n",
       "      <td>...</td>\n",
       "      <td>0.078738</td>\n",
       "      <td>-0.001466</td>\n",
       "      <td>0.001642</td>\n",
       "      <td>0.001992</td>\n",
       "      <td>-0.000605</td>\n",
       "      <td>1</td>\n",
       "      <td>0</td>\n",
       "      <td>66</td>\n",
       "      <td>50</td>\n",
       "      <td>50</td>\n",
       "    </tr>\n",
       "    <tr>\n",
       "      <th>1</th>\n",
       "      <td>0.173598</td>\n",
       "      <td>0.004454</td>\n",
       "      <td>0.000012</td>\n",
       "      <td>3.201715e-07</td>\n",
       "      <td>-6.063278e-13</td>\n",
       "      <td>-2.050287e-08</td>\n",
       "      <td>1.051879e-13</td>\n",
       "      <td>152.0</td>\n",
       "      <td>7508.0</td>\n",
       "      <td>7638.0</td>\n",
       "      <td>...</td>\n",
       "      <td>0.065898</td>\n",
       "      <td>-0.000878</td>\n",
       "      <td>-0.000532</td>\n",
       "      <td>0.000708</td>\n",
       "      <td>-0.000008</td>\n",
       "      <td>1</td>\n",
       "      <td>0</td>\n",
       "      <td>152</td>\n",
       "      <td>50</td>\n",
       "      <td>50</td>\n",
       "    </tr>\n",
       "    <tr>\n",
       "      <th>2</th>\n",
       "      <td>0.175694</td>\n",
       "      <td>0.007167</td>\n",
       "      <td>0.000642</td>\n",
       "      <td>2.452732e-05</td>\n",
       "      <td>-3.078724e-09</td>\n",
       "      <td>-2.076505e-06</td>\n",
       "      <td>0.000000e+00</td>\n",
       "      <td>13.0</td>\n",
       "      <td>650.0</td>\n",
       "      <td>652.0</td>\n",
       "      <td>...</td>\n",
       "      <td>0.045517</td>\n",
       "      <td>0.000000</td>\n",
       "      <td>0.007574</td>\n",
       "      <td>0.000000</td>\n",
       "      <td>-0.002622</td>\n",
       "      <td>2</td>\n",
       "      <td>0</td>\n",
       "      <td>13</td>\n",
       "      <td>50</td>\n",
       "      <td>50</td>\n",
       "    </tr>\n",
       "    <tr>\n",
       "      <th>3</th>\n",
       "      <td>0.184722</td>\n",
       "      <td>0.006919</td>\n",
       "      <td>0.000431</td>\n",
       "      <td>2.099855e-05</td>\n",
       "      <td>-3.226107e-10</td>\n",
       "      <td>-2.250764e-07</td>\n",
       "      <td>-1.972153e-09</td>\n",
       "      <td>87.0</td>\n",
       "      <td>4278.0</td>\n",
       "      <td>4307.0</td>\n",
       "      <td>...</td>\n",
       "      <td>0.085579</td>\n",
       "      <td>0.004822</td>\n",
       "      <td>-0.004826</td>\n",
       "      <td>-0.000288</td>\n",
       "      <td>0.005495</td>\n",
       "      <td>3</td>\n",
       "      <td>0</td>\n",
       "      <td>87</td>\n",
       "      <td>50</td>\n",
       "      <td>50</td>\n",
       "    </tr>\n",
       "    <tr>\n",
       "      <th>4</th>\n",
       "      <td>0.229728</td>\n",
       "      <td>0.012214</td>\n",
       "      <td>0.001709</td>\n",
       "      <td>2.843355e-04</td>\n",
       "      <td>1.981430e-07</td>\n",
       "      <td>2.836821e-05</td>\n",
       "      <td>4.732176e-09</td>\n",
       "      <td>28.0</td>\n",
       "      <td>1388.0</td>\n",
       "      <td>1407.0</td>\n",
       "      <td>...</td>\n",
       "      <td>0.088329</td>\n",
       "      <td>-0.002715</td>\n",
       "      <td>0.010951</td>\n",
       "      <td>-0.009539</td>\n",
       "      <td>0.000633</td>\n",
       "      <td>4</td>\n",
       "      <td>0</td>\n",
       "      <td>28</td>\n",
       "      <td>50</td>\n",
       "      <td>50</td>\n",
       "    </tr>\n",
       "  </tbody>\n",
       "</table>\n",
       "<p>5 rows × 36 columns</p>\n",
       "</div>"
      ],
      "text/plain": [
       "         h0        h1        h2            h3            h4            h5  \\\n",
       "0  0.169095  0.003009  0.000086  1.351580e-06  1.014508e-11  4.923695e-08   \n",
       "1  0.173598  0.004454  0.000012  3.201715e-07 -6.063278e-13 -2.050287e-08   \n",
       "2  0.175694  0.007167  0.000642  2.452732e-05 -3.078724e-09 -2.076505e-06   \n",
       "3  0.184722  0.006919  0.000431  2.099855e-05 -3.226107e-10 -2.250764e-07   \n",
       "4  0.229728  0.012214  0.001709  2.843355e-04  1.981430e-07  2.836821e-05   \n",
       "\n",
       "             h6    m00     m10     m01  ...      nu02      nu30      nu21  \\\n",
       "0 -1.045499e-11   66.0  3285.0  3299.0  ...  0.078738 -0.001466  0.001642   \n",
       "1  1.051879e-13  152.0  7508.0  7638.0  ...  0.065898 -0.000878 -0.000532   \n",
       "2  0.000000e+00   13.0   650.0   652.0  ...  0.045517  0.000000  0.007574   \n",
       "3 -1.972153e-09   87.0  4278.0  4307.0  ...  0.085579  0.004822 -0.004826   \n",
       "4  4.732176e-09   28.0  1388.0  1407.0  ...  0.088329 -0.002715  0.010951   \n",
       "\n",
       "       nu12      nu03  index  label  area  height2  width2  \n",
       "0  0.001992 -0.000605      1      0    66       50      50  \n",
       "1  0.000708 -0.000008      1      0   152       50      50  \n",
       "2  0.000000 -0.002622      2      0    13       50      50  \n",
       "3 -0.000288  0.005495      3      0    87       50      50  \n",
       "4 -0.009539  0.000633      4      0    28       50      50  \n",
       "\n",
       "[5 rows x 36 columns]"
      ]
     },
     "execution_count": 27,
     "metadata": {},
     "output_type": "execute_result"
    }
   ],
   "source": [
    "import pandas as pd\n",
    "df=pd.DataFrame(df_dict)\n",
    "print(df.shape)\n",
    "df.head()"
   ]
  },
  {
   "cell_type": "code",
   "execution_count": 28,
   "id": "49222579",
   "metadata": {},
   "outputs": [],
   "source": [
    "df.to_csv('puntas.csv')"
   ]
  },
  {
   "cell_type": "code",
   "execution_count": 136,
   "id": "318b89b6",
   "metadata": {},
   "outputs": [
    {
     "name": "stdout",
     "output_type": "stream",
     "text": [
      ",h0,h1,h2,h3,h4,h5,h6,m00,m10,m01,m20,m11,m02,m30,m21,m12,m03,mu20,mu11,mu02,mu30,mu21,mu12,mu03,nu20,nu11,nu02,nu30,nu21,nu12,nu03,index,label,area,height2,width2\r\n",
      "0,0.38653594444444445,0.12163226109615961,3.747461943541054e-26,3.794543511135654e-26,1.4308955110988187e-51,1.3233761428235606e-26,2.2826495527840455e-56,51000000.0,382474500000.0,86674500000.0,3824617508500000.0,650015412750000.0,196433308500000.0,4.302551269124639e+19,6.499937455695747e+18,1.4731515970957443e+18,5.0083126335e+17,956249995750000.0,0.0,49129995750000.0,-3612672.0,-3072.0,-5632.0,0.0,0.3676470571895425,0.0,0.01888888725490196,-1.9449260483374234e-13,-1.6538486805590335e-16,-3.032055914358228e-16,0.0,0,0,203997354,6800,30000\r\n",
      "1,0.2840805644059966,0.05333927976537636,0.0005503795883675954,0.0002747396079323795,1.0622270133203711e-07,6.173136068783497e-05,1.1420574798599163e-08,26.0,1283.0,1290.0,63485.0,63651.0,64022.0,3149963.0,3149277.0,3158685.0,3178278.0,173.88461538461706,-5.538461538460979,18.15384615383664,61.3491124259308,-9.08875739668406,-4.875739644268037,0.42603550339117646,0.25722576240327966,-0.008192990441510324,0.02685480200271692,0.017798152105224094,-0.0026367632749205038,-0.0014145136316181535,0.00012359827863421335,1,0,26,50,50\r\n",
      "2,0.3022303140645839,0.06342989747472208,0.002995485678481136,0.0005602899100443489,4.809134258938328e-07,3.789577312968606e-05,-5.436864202678759e-07,13.0,654.0,647.0,32938.0,32531.0,32215.0,1660716.0,1637483.0,1618867.0,1604735.0,36.76923076922685,-18.076923076925596,14.30769230768783,-18.319526626961306,2.8934911243527495,4.041420118307542,-4.934911242220551,0.21756941283566184,-0.10696404187529938,0.08466090122892207,-0.030064630221090967,0.004748580161107778,0.006632474948679829,-0.008098805427259848,2,0,13,50,50\r\n",
      "3,0.0,0.0,0.0,0.0,0.0,0.0,0.0,1.0,50.0,50.0,2500.0,2500.0,2500.0,125000.0,125000.0,125000.0,125000.0,0.0,0.0,0.0,0.0,0.0,0.0,0.0,0.0,0.0,0.0,0.0,0.0,0.0,0.0,3,0,1,50,50\r\n",
      "4,0.17537835102723154,0.0006899101538347554,0.00025642480432585505,2.7307643497112116e-06,-7.08410281029926e-11,-7.12902361885284e-08,1.4256865989855248e-11,9065.0,477293.0,420848.0,32300335.0,23237209.0,26779932.0,2426597387.0,1592737579.0,1529497189.0,1944553196.0,7169766.015002757,1078598.4689464942,7241814.062437948,-29098371.89160776,-20405982.1867356,19323322.370723426,28867950.39230323,0.08725078958764451,0.013125751644709692,0.08812756143958703,-0.003719196881266337,-0.0026081825330568397,0.0024698027973732023,0.0036897456485725484,4,0,3,50,50\r\n",
      "5,0.34434090429321307,0.07143695811494054,0.016329837227410524,0.00463781063554802,3.6762172360089436e-05,0.000719651403976489,-1.66595907277465e-05,2425.0,266315.0,198048.0,30514367.0,21006404.0,16931888.0,3608818793.0,2336530262.0,1739217554.0,1501660932.0,1267488.969072163,-743349.8639175259,757450.7612371128,-20680711.000786304,7714213.506140649,1164834.4034128785,-4875056.184319973,0.215536438571098,-0.12640660880731655,0.12880446572211507,-0.07141445205870132,0.02663865524661708,0.004022396070216935,-0.016834501780202675,5,1,2425,78,102\r\n",
      "6,0.2222222222222222,0.04938271604938271,0.0,0.0,0.0,0.0,0.0,3.0,150.0,150.0,7502.0,7500.0,7500.0,375300.0,375100.0,375000.0,375000.0,2.0,0.0,0.0,0.0,0.0,0.0,0.0,0.2222222222222222,0.0,0.0,0.0,0.0,0.0,0.0,6,0,3,50,50\r\n",
      "7,0.0,0.0,0.0,0.0,0.0,0.0,0.0,1.0,50.0,50.0,2500.0,2500.0,2500.0,125000.0,125000.0,125000.0,125000.0,0.0,0.0,0.0,0.0,0.0,0.0,0.0,0.0,0.0,0.0,0.0,0.0,0.0,0.0,7,0,1,50,50\r\n",
      "8,0.1875,0.01953125,0.0,0.0,0.0,0.0,0.0,4.0,198.0,200.0,9802.0,9901.0,10002.0,485298.0,490199.0,495199.0,500300.0,1.0,1.0,2.0,0.0,0.0,0.0,0.0,0.0625,0.0625,0.125,0.0,0.0,0.0,0.0,8,0,4,50,50\r\n"
     ]
    }
   ],
   "source": [
    "!head puntas.csv"
   ]
  },
  {
   "cell_type": "code",
   "execution_count": 80,
   "id": "d536846a",
   "metadata": {},
   "outputs": [
    {
     "data": {
      "text/plain": [
       "3"
      ]
     },
     "execution_count": 80,
     "metadata": {},
     "output_type": "execute_result"
    }
   ],
   "source": [
    "import cv2\n",
    "thresh=2000\n",
    "Stats=cv2.connectedComponentsWithStats(np.int8(e['image']>thresh))\n",
    "Stats[0]"
   ]
  },
  {
   "cell_type": "code",
   "execution_count": 81,
   "id": "764c8835",
   "metadata": {},
   "outputs": [
    {
     "data": {
      "text/plain": [
       "<matplotlib.image.AxesImage at 0x7fd04e9623d0>"
      ]
     },
     "execution_count": 81,
     "metadata": {},
     "output_type": "execute_result"
    },
    {
     "data": {
      "image/png": "[encoded data removed]",
      "text/plain": [
       "<Figure size 432x288 with 1 Axes>"
      ]
     },
     "metadata": {
      "needs_background": "light"
     },
     "output_type": "display_data"
    }
   ],
   "source": [
    "seg=Stats[1]\n",
    "imshow(seg)\n"
   ]
  },
  {
   "cell_type": "code",
   "execution_count": 82,
   "id": "09e3675c",
   "metadata": {},
   "outputs": [
    {
     "data": {
      "text/plain": [
       "array([50, 50], dtype=int16)"
      ]
     },
     "execution_count": 82,
     "metadata": {},
     "output_type": "execute_result"
    }
   ],
   "source": [
    "middle=np.array(np.array(seg.shape)/2,dtype=np.int16)\n",
    "middle"
   ]
  },
  {
   "cell_type": "code",
   "execution_count": 83,
   "id": "03a3e537",
   "metadata": {
    "scrolled": true
   },
   "outputs": [
    {
     "data": {
      "text/plain": [
       "2"
      ]
     },
     "execution_count": 83,
     "metadata": {},
     "output_type": "execute_result"
    }
   ],
   "source": [
    "middle_seg=seg[middle[0],middle[1]]\n",
    "middle_seg"
   ]
  },
  {
   "cell_type": "code",
   "execution_count": 86,
   "id": "c3d78964",
   "metadata": {},
   "outputs": [
    {
     "data": {
      "text/plain": [
       "(array([49, 49,  3,  3,  7], dtype=int32), 7)"
      ]
     },
     "execution_count": 86,
     "metadata": {},
     "output_type": "execute_result"
    }
   ],
   "source": [
    "Stats[2][middle_seg],e['area']"
   ]
  },
  {
   "cell_type": "code",
   "execution_count": 122,
   "id": "ad4519f7",
   "metadata": {
    "scrolled": true
   },
   "outputs": [
    {
     "data": {
      "text/plain": [
       "{'h0': 0.19996952888869568,\n",
       " 'h1': 0.004807484490333493,\n",
       " 'h2': 0.0029203280141626353,\n",
       " 'h3': 0.00016871685648051798,\n",
       " 'h4': 1.0003237196370746e-07,\n",
       " 'h5': 8.329713986313898e-06,\n",
       " 'h6': 6.339290075281958e-08,\n",
       " 'm00': 1599.0,\n",
       " 'm10': 82733.0,\n",
       " 'm01': 99098.0,\n",
       " 'm20': 4458461.0,\n",
       " 'm11': 5169807.0,\n",
       " 'm02': 6475062.0,\n",
       " 'm30': 248329187.0,\n",
       " 'm21': 280669813.0,\n",
       " 'm12': 341828093.0,\n",
       " 'm03': 443725004.0,\n",
       " 'mu20': 177817.29205753654,\n",
       " 'mu11': 42430.618511569686,\n",
       " 'mu02': 333464.99937460944,\n",
       " 'mu30': -754346.4337663054,\n",
       " 'mu21': -33997.44442487601,\n",
       " 'mu12': 1546114.6932338718,\n",
       " 'mu03': 1100161.5409317613,\n",
       " 'nu20': 0.06954678602579416,\n",
       " 'nu11': 0.016595197870921393,\n",
       " 'nu02': 0.1304227428629015,\n",
       " 'nu30': -0.007378187406689129,\n",
       " 'nu21': -0.00033252562097077954,\n",
       " 'nu12': 0.015122393966866952,\n",
       " 'nu03': 0.010760570559204253,\n",
       " 'index': 66,\n",
       " 'label': 1,\n",
       " 'area': 1599,\n",
       " 'height2': 66,\n",
       " 'width2': 50}"
      ]
     },
     "execution_count": 122,
     "metadata": {},
     "output_type": "execute_result"
    }
   ],
   "source": [
    "for key in ['index','label','area','height2','width2']:\n",
    "    features[key]=e[key]\n",
    "features"
   ]
  },
  {
   "cell_type": "code",
   "execution_count": null,
   "id": "d757efe8",
   "metadata": {},
   "outputs": [],
   "source": [
    "# Calculate Moments\n",
    "moments = cv2.moments(im)\n",
    "# Calculate Hu Moments\n",
    "huMoments = cv2.HuMoments(moments)"
   ]
  },
  {
   "cell_type": "code",
   "execution_count": 30,
   "id": "d8a3028f",
   "metadata": {},
   "outputs": [],
   "source": [
    "def plot_dist(uimg):\n",
    "    H=uimg.flatten()\n",
    "    H=np.sort(H)\n",
    "\n",
    "    H=H[0:-1:10]\n",
    "    plt.figure()\n",
    "    plt.plot(H,np.arange(0,1,1./H.shape[0]))\n",
    "    plt.grid()\n",
    "    plt.figure()\n",
    "    plt.hist(H,bins=100);"
   ]
  },
  {
   "cell_type": "code",
   "execution_count": 31,
   "id": "624f5117",
   "metadata": {},
   "outputs": [
    {
     "data": {
      "image/png": "[encoded data removed]",
      "text/plain": [
       "<Figure size 432x288 with 1 Axes>"
      ]
     },
     "metadata": {
      "needs_background": "light"
     },
     "output_type": "display_data"
    },
    {
     "data": {
      "image/png": "[encoded data removed]",
      "text/plain": [
       "<Figure size 432x288 with 1 Axes>"
      ]
     },
     "metadata": {
      "needs_background": "light"
     },
     "output_type": "display_data"
    }
   ],
   "source": [
    "plot_dist(e['image']);"
   ]
  },
  {
   "cell_type": "code",
   "execution_count": 29,
   "id": "b429b587",
   "metadata": {},
   "outputs": [
    {
     "data": {
      "image/png": "[encoded data removed]",
      "text/plain": [
       "<Figure size 432x288 with 1 Axes>"
      ]
     },
     "metadata": {
      "needs_background": "light"
     },
     "output_type": "display_data"
    }
   ],
   "source": [
    "hist(e['image'].flatten());"
   ]
  },
  {
   "cell_type": "code",
   "execution_count": null,
   "id": "08732a4a",
   "metadata": {},
   "outputs": [],
   "source": []
  }
 ],
 "metadata": {
  "kernelspec": {
   "display_name": "Python 3 (ipykernel)",
   "language": "python",
   "name": "python3"
  },
  "language_info": {
   "codemirror_mode": {
    "name": "ipython",
    "version": 3
   },
   "file_extension": ".py",
   "mimetype": "text/x-python",
   "name": "python",
   "nbconvert_exporter": "python",
   "pygments_lexer": "ipython3",
   "version": "3.9.6"
  },
  "toc": {
   "base_numbering": 1,
   "nav_menu": {},
   "number_sections": true,
   "sideBar": true,
   "skip_h1_title": false,
   "title_cell": "Table of Contents",
   "title_sidebar": "Contents",
   "toc_cell": false,
   "toc_position": {},
   "toc_section_display": true,
   "toc_window_display": false
  }
 },
 "nbformat": 4,
 "nbformat_minor": 5
}
