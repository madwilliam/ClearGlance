{
 "cells": [
  {
   "cell_type": "code",
   "execution_count": 1,
   "id": "46c17e60",
   "metadata": {},
   "outputs": [
    {
     "name": "stdout",
     "output_type": "stream",
     "text": [
      "Overwriting Detections2Features.py\n"
     ]
    }
   ],
   "source": [
    "%%writefile Detections2Features.py\n",
    "import sys\n",
    "import numpy as np\n",
    "import pickle as pkl\n",
    "import cv2\n",
    "\n",
    "if __name__=='__main__':\n",
    "    DATA_DIR =sys.argv[1]\n",
    "\n",
    "DATA_DIR='/Users/yoavfreund/projects/butons/data/164'\n",
    "print('DATA_DIR=%s'%(DATA_DIR))\n",
    "\n",
    "with open(DATA_DIR+'/extracted_cells.pkl','br') as pkl_file:\n",
    "    E=pkl.load(pkl_file)\n",
    "    Examples=E['Examples']\n",
    "\n",
    "df_dict=None\n",
    "thresh=2000\n",
    "for i in range(len(Examples)):\n",
    "    e=Examples[i]\n",
    "\n",
    "    Stats=cv2.connectedComponentsWithStats(np.int8(e['image']>thresh))\n",
    "\n",
    "    if Stats[1] is None:\n",
    "        continue\n",
    "    seg=Stats[1]\n",
    "\n",
    "    # Isolate the connected component at the middle of seg\n",
    "    middle=np.array(np.array(seg.shape)/2,dtype=np.int16)\n",
    "    middle_seg=seg[middle[0],middle[1]]\n",
    "    middle_seg_mask = np.uint8(seg==middle_seg)\n",
    "\n",
    "    # Calculate Moments\n",
    "    moments = cv2.moments(middle_seg_mask)\n",
    "    # Calculate Hu Moments\n",
    "    huMoments = cv2.HuMoments(moments)\n",
    "\n",
    "    features={'h%d'%i:huMoments[i,0]  for i in range(7)}\n",
    "    features.update(moments)\n",
    "\n",
    "    for key in ['animal','section','index','label','area','height2','width2']:\n",
    "        features[key]=e[key]\n",
    "\n",
    "    features['row']=e['row_center']+e['origin'][0]\n",
    "    features['col']=e['col_center']+e['origin'][0]\n",
    "\n",
    "    if df_dict==None:\n",
    "        df_dict={}\n",
    "        for key in features:\n",
    "            df_dict[key]=[]\n",
    "\n",
    "    for key in features:\n",
    "        df_dict[key].append(features[key])\n",
    "\n",
    "\n",
    "import pandas as pd\n",
    "df=pd.DataFrame(df_dict)\n",
    "outfile=DATA_DIR+'/puntas.csv'\n",
    "print('df shape=',df.shape,'output_file=',outfile)\n",
    "\n",
    "df.to_csv(outfile)"
   ]
  },
  {
   "cell_type": "code",
   "execution_count": 2,
   "id": "f16bb688",
   "metadata": {},
   "outputs": [
    {
     "ename": "NameError",
     "evalue": "name 'e' is not defined",
     "output_type": "error",
     "traceback": [
      "\u001b[0;31m---------------------------------------------------------------------------\u001b[0m",
      "\u001b[0;31mNameError\u001b[0m                                 Traceback (most recent call last)",
      "\u001b[0;32m/var/folders/80/c2kfvdvx5cx570r4vlzqgb840000gq/T/ipykernel_50221/2740565805.py\u001b[0m in \u001b[0;36m<module>\u001b[0;34m\u001b[0m\n\u001b[0;32m----> 1\u001b[0;31m \u001b[0me\u001b[0m\u001b[0;34m\u001b[0m\u001b[0;34m\u001b[0m\u001b[0m\n\u001b[0m",
      "\u001b[0;31mNameError\u001b[0m: name 'e' is not defined"
     ]
    }
   ],
   "source": [
    "e"
   ]
  },
  {
   "cell_type": "code",
   "execution_count": 3,
   "id": "318b89b6",
   "metadata": {},
   "outputs": [
    {
     "name": "stdout",
     "output_type": "stream",
     "text": [
      "head: /puntas.csv: No such file or directory\r\n"
     ]
    }
   ],
   "source": [
    "!head $DATA_DIR/puntas.csv"
   ]
  },
  {
   "cell_type": "code",
   "execution_count": 4,
   "id": "d536846a",
   "metadata": {},
   "outputs": [
    {
     "ename": "NameError",
     "evalue": "name 'np' is not defined",
     "output_type": "error",
     "traceback": [
      "\u001b[0;31m---------------------------------------------------------------------------\u001b[0m",
      "\u001b[0;31mNameError\u001b[0m                                 Traceback (most recent call last)",
      "\u001b[0;32m/var/folders/80/c2kfvdvx5cx570r4vlzqgb840000gq/T/ipykernel_50221/2403551253.py\u001b[0m in \u001b[0;36m<module>\u001b[0;34m\u001b[0m\n\u001b[1;32m      1\u001b[0m \u001b[0;32mimport\u001b[0m \u001b[0mcv2\u001b[0m\u001b[0;34m\u001b[0m\u001b[0;34m\u001b[0m\u001b[0m\n\u001b[1;32m      2\u001b[0m \u001b[0mthresh\u001b[0m\u001b[0;34m=\u001b[0m\u001b[0;36m2000\u001b[0m\u001b[0;34m\u001b[0m\u001b[0;34m\u001b[0m\u001b[0m\n\u001b[0;32m----> 3\u001b[0;31m \u001b[0mStats\u001b[0m\u001b[0;34m=\u001b[0m\u001b[0mcv2\u001b[0m\u001b[0;34m.\u001b[0m\u001b[0mconnectedComponentsWithStats\u001b[0m\u001b[0;34m(\u001b[0m\u001b[0mnp\u001b[0m\u001b[0;34m.\u001b[0m\u001b[0mint8\u001b[0m\u001b[0;34m(\u001b[0m\u001b[0me\u001b[0m\u001b[0;34m[\u001b[0m\u001b[0;34m'image'\u001b[0m\u001b[0;34m]\u001b[0m\u001b[0;34m>\u001b[0m\u001b[0mthresh\u001b[0m\u001b[0;34m)\u001b[0m\u001b[0;34m)\u001b[0m\u001b[0;34m\u001b[0m\u001b[0;34m\u001b[0m\u001b[0m\n\u001b[0m\u001b[1;32m      4\u001b[0m \u001b[0mStats\u001b[0m\u001b[0;34m[\u001b[0m\u001b[0;36m0\u001b[0m\u001b[0;34m]\u001b[0m\u001b[0;34m\u001b[0m\u001b[0;34m\u001b[0m\u001b[0m\n",
      "\u001b[0;31mNameError\u001b[0m: name 'np' is not defined"
     ]
    }
   ],
   "source": [
    "import cv2\n",
    "thresh=2000\n",
    "Stats=cv2.connectedComponentsWithStats(np.int8(e['image']>thresh))\n",
    "Stats[0]"
   ]
  },
  {
   "cell_type": "code",
   "execution_count": 5,
   "id": "764c8835",
   "metadata": {},
   "outputs": [
    {
     "ename": "NameError",
     "evalue": "name 'Stats' is not defined",
     "output_type": "error",
     "traceback": [
      "\u001b[0;31m---------------------------------------------------------------------------\u001b[0m",
      "\u001b[0;31mNameError\u001b[0m                                 Traceback (most recent call last)",
      "\u001b[0;32m/var/folders/80/c2kfvdvx5cx570r4vlzqgb840000gq/T/ipykernel_50221/2891941063.py\u001b[0m in \u001b[0;36m<module>\u001b[0;34m\u001b[0m\n\u001b[0;32m----> 1\u001b[0;31m \u001b[0mseg\u001b[0m\u001b[0;34m=\u001b[0m\u001b[0mStats\u001b[0m\u001b[0;34m[\u001b[0m\u001b[0;36m1\u001b[0m\u001b[0;34m]\u001b[0m\u001b[0;34m\u001b[0m\u001b[0;34m\u001b[0m\u001b[0m\n\u001b[0m\u001b[1;32m      2\u001b[0m \u001b[0mimshow\u001b[0m\u001b[0;34m(\u001b[0m\u001b[0mseg\u001b[0m\u001b[0;34m)\u001b[0m\u001b[0;34m\u001b[0m\u001b[0;34m\u001b[0m\u001b[0m\n",
      "\u001b[0;31mNameError\u001b[0m: name 'Stats' is not defined"
     ]
    }
   ],
   "source": [
    "seg=Stats[1]\n",
    "imshow(seg)\n"
   ]
  },
  {
   "cell_type": "code",
   "execution_count": 82,
   "id": "09e3675c",
   "metadata": {},
   "outputs": [
    {
     "data": {
      "text/plain": [
       "array([50, 50], dtype=int16)"
      ]
     },
     "execution_count": 82,
     "metadata": {},
     "output_type": "execute_result"
    }
   ],
   "source": [
    "middle=np.array(np.array(seg.shape)/2,dtype=np.int16)\n",
    "middle"
   ]
  },
  {
   "cell_type": "code",
   "execution_count": 83,
   "id": "03a3e537",
   "metadata": {
    "scrolled": true
   },
   "outputs": [
    {
     "data": {
      "text/plain": [
       "2"
      ]
     },
     "execution_count": 83,
     "metadata": {},
     "output_type": "execute_result"
    }
   ],
   "source": [
    "middle_seg=seg[middle[0],middle[1]]\n",
    "middle_seg"
   ]
  },
  {
   "cell_type": "code",
   "execution_count": 86,
   "id": "c3d78964",
   "metadata": {},
   "outputs": [
    {
     "data": {
      "text/plain": [
       "(array([49, 49,  3,  3,  7], dtype=int32), 7)"
      ]
     },
     "execution_count": 86,
     "metadata": {},
     "output_type": "execute_result"
    }
   ],
   "source": [
    "Stats[2][middle_seg],e['area']"
   ]
  },
  {
   "cell_type": "code",
   "execution_count": 122,
   "id": "ad4519f7",
   "metadata": {
    "scrolled": true
   },
   "outputs": [
    {
     "data": {
      "text/plain": [
       "{'h0': 0.19996952888869568,\n",
       " 'h1': 0.004807484490333493,\n",
       " 'h2': 0.0029203280141626353,\n",
       " 'h3': 0.00016871685648051798,\n",
       " 'h4': 1.0003237196370746e-07,\n",
       " 'h5': 8.329713986313898e-06,\n",
       " 'h6': 6.339290075281958e-08,\n",
       " 'm00': 1599.0,\n",
       " 'm10': 82733.0,\n",
       " 'm01': 99098.0,\n",
       " 'm20': 4458461.0,\n",
       " 'm11': 5169807.0,\n",
       " 'm02': 6475062.0,\n",
       " 'm30': 248329187.0,\n",
       " 'm21': 280669813.0,\n",
       " 'm12': 341828093.0,\n",
       " 'm03': 443725004.0,\n",
       " 'mu20': 177817.29205753654,\n",
       " 'mu11': 42430.618511569686,\n",
       " 'mu02': 333464.99937460944,\n",
       " 'mu30': -754346.4337663054,\n",
       " 'mu21': -33997.44442487601,\n",
       " 'mu12': 1546114.6932338718,\n",
       " 'mu03': 1100161.5409317613,\n",
       " 'nu20': 0.06954678602579416,\n",
       " 'nu11': 0.016595197870921393,\n",
       " 'nu02': 0.1304227428629015,\n",
       " 'nu30': -0.007378187406689129,\n",
       " 'nu21': -0.00033252562097077954,\n",
       " 'nu12': 0.015122393966866952,\n",
       " 'nu03': 0.010760570559204253,\n",
       " 'index': 66,\n",
       " 'label': 1,\n",
       " 'area': 1599,\n",
       " 'height2': 66,\n",
       " 'width2': 50}"
      ]
     },
     "execution_count": 122,
     "metadata": {},
     "output_type": "execute_result"
    }
   ],
   "source": [
    "for key in ['index','label','area','height2','width2']:\n",
    "    features[key]=e[key]\n",
    "features"
   ]
  },
  {
   "cell_type": "code",
   "execution_count": null,
   "id": "d757efe8",
   "metadata": {},
   "outputs": [],
   "source": [
    "# Calculate Moments\n",
    "moments = cv2.moments(im)\n",
    "# Calculate Hu Moments\n",
    "huMoments = cv2.HuMoments(moments)"
   ]
  },
  {
   "cell_type": "code",
   "execution_count": 30,
   "id": "d8a3028f",
   "metadata": {},
   "outputs": [],
   "source": [
    "def plot_dist(uimg):\n",
    "    H=uimg.flatten()\n",
    "    H=np.sort(H)\n",
    "\n",
    "    H=H[0:-1:10]\n",
    "    plt.figure()\n",
    "    plt.plot(H,np.arange(0,1,1./H.shape[0]))\n",
    "    plt.grid()\n",
    "    plt.figure()\n",
    "    plt.hist(H,bins=100);"
   ]
  },
  {
   "cell_type": "code",
   "execution_count": 31,
   "id": "624f5117",
   "metadata": {},
   "outputs": [
    {
     "data": {
      "image/png": "[encoded data removed]",
      "text/plain": [
       "<Figure size 432x288 with 1 Axes>"
      ]
     },
     "metadata": {
      "needs_background": "light"
     },
     "output_type": "display_data"
    },
    {
     "data": {
      "image/png": "[encoded data removed]",
      "text/plain": [
       "<Figure size 432x288 with 1 Axes>"
      ]
     },
     "metadata": {
      "needs_background": "light"
     },
     "output_type": "display_data"
    }
   ],
   "source": [
    "plot_dist(e['image']);"
   ]
  },
  {
   "cell_type": "code",
   "execution_count": 29,
   "id": "b429b587",
   "metadata": {},
   "outputs": [
    {
     "data": {
      "image/png": "[encoded data removed]",
      "text/plain": [
       "<Figure size 432x288 with 1 Axes>"
      ]
     },
     "metadata": {
      "needs_background": "light"
     },
     "output_type": "display_data"
    }
   ],
   "source": [
    "hist(e['image'].flatten());"
   ]
  },
  {
   "cell_type": "code",
   "execution_count": null,
   "id": "08732a4a",
   "metadata": {},
   "outputs": [],
   "source": []
  }
 ],
 "metadata": {
  "kernelspec": {
   "display_name": "Python 3 (ipykernel)",
   "language": "python",
   "name": "python3"
  },
  "language_info": {
   "codemirror_mode": {
    "name": "ipython",
    "version": 3
   },
   "file_extension": ".py",
   "mimetype": "text/x-python",
   "name": "python",
   "nbconvert_exporter": "python",
   "pygments_lexer": "ipython3",
   "version": "3.9.6"
  },
  "toc": {
   "base_numbering": 1,
   "nav_menu": {},
   "number_sections": true,
   "sideBar": true,
   "skip_h1_title": false,
   "title_cell": "Table of Contents",
   "title_sidebar": "Contents",
   "toc_cell": false,
   "toc_position": {},
   "toc_section_display": true,
   "toc_window_display": false
  }
 },
 "nbformat": 4,
 "nbformat_minor": 5
}
