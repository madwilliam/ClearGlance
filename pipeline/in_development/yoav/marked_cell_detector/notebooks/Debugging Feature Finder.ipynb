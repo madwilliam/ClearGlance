{
 "cells": [
  {
   "cell_type": "code",
   "execution_count": 10,
   "id": "e5f0a0e7",
   "metadata": {},
   "outputs": [],
   "source": [
    "cp /data/programming/pipeline/parameters.yaml ~/pipeline/"
   ]
  },
  {
   "cell_type": "code",
   "execution_count": 8,
   "id": "5f467dd7",
   "metadata": {},
   "outputs": [
    {
     "name": "stdout",
     "output_type": "stream",
     "text": [
      "/home/yfreund/pipeline/src\n",
      "atlas\t\t\tcreate_neuroglancer_image.py  marked_cell_detector\r\n",
      "Brain.py\t\tcreate_neuroglancer_mesh.py   masking\r\n",
      "cell_extractor\t\tcreate_normalized.py\t      model\r\n",
      "create_alignment.py\tcreate_pipeline.py\t      old\r\n",
      "create_clean.py\t\tcreate_preps.py\t\t      Plotter\r\n",
      "create_downsampling.py\tcreate_web.py\t\t      README.md\r\n",
      "create_histogram.py\tfixes\t\t\t      Registration\r\n",
      "create_masks.py\t\t__init__.py\t\t      scripts\r\n",
      "create_meta.py\t\tlib\t\t\t      tests\r\n"
     ]
    }
   ],
   "source": [
    "%cd /home/yfreund/pipeline/src/\n",
    "!ls"
   ]
  },
  {
   "cell_type": "code",
   "execution_count": 17,
   "id": "d41dd3f8",
   "metadata": {},
   "outputs": [],
   "source": [
    "# %load FeatureFinder.py\n",
    "import sys\n",
    "import numpy as np\n",
    "import pickle as pkl\n",
    "from cell_extractor import compute_image_features \n",
    "import cv2\n",
    "import pandas as pd\n",
    "from cell_extractor.CellDetectorBase import CellDetectorBase,get_sections_with_annotation_for_animali\n",
    "import os\n",
    "class FeatureFinder(CellDetectorBase):\n",
    "    def __init__(self,animal,section):\n",
    "        super().__init__(animal,section)\n",
    "        self.features = []\n",
    "        print('DATA_DIR=%s'%(self.CH3))\n",
    "        print(self.section,section)\n",
    "        self.segmentation_threshold=2000\n",
    "        self.load_or_calulate_average_cell_image()\n",
    "    \n",
    "    def copy_information_from_examples(self,example):\n",
    "        for key in ['animal','section','index','label','area','height','width']:\n",
    "            self.featurei[key] = example[key]\n",
    "        self.featurei['row'] = example['row']+example['origin'][0]\n",
    "        self.featurei['col'] = example['col']+example['origin'][1]\n",
    "\n",
    "    def calculate_correlation_and_energy(self,example,channel = 3):\n",
    "        image = example[f'image_CH{channel}']\n",
    "        average_image = getattr(self, f'average_image_ch{channel}')\n",
    "        corr,energy = compute_image_features.calc_img_features(image,average_image)\n",
    "        self.featurei[f'corr_CH{channel}'] = corr\n",
    "        self.featurei[f'energy_CH{channel}'] = energy\n",
    "\n",
    "    def connected_segment_detected_in_image(self,example,channel = 3):\n",
    "        image = example[f'image_CH{channel}']\n",
    "        Stats=cv2.connectedComponentsWithStats(np.int8(image>self.segmentation_threshold))\n",
    "        return Stats[1] is not None\n",
    "    \n",
    "    def get_middle_segment_mask(self,segments):\n",
    "        middle=np.array(np.array(segments.shape)/2,dtype=np.int16)\n",
    "        middle_seg=segments[middle[0],middle[1]]\n",
    "        middle_seg_mask = np.uint8(segments==middle_seg)\n",
    "        return middle_seg_mask\n",
    "    \n",
    "    def calculate_moments(self,middle_seg_mask):\n",
    "        return cv2.moments(middle_seg_mask)\n",
    "    \n",
    "    def calculate_hu_moments(self,moments):\n",
    "        return cv2.HuMoments(moments)\n",
    "\n",
    "    \n",
    "    def features_using_center_connectd_components(self,example)\n",
    "        append_string_to_every_key = lambda dictionary, post_fix : dict(zip([keyi + post_fix for keyi in dictionary.keys()],dictionary.values()))\n",
    "        image1 = example[f'image_CH1']\n",
    "        image3 = example[f'image_CH3']\n",
    "        no,mask,statistics,center=cv2.connectedComponentsWithStats(np.int8(image3>self.segmentation_threshold))\n",
    "        if mask is not None:\n",
    "            middle_seg_mask = self.get_middle_segment_mask(mask)  \n",
    "            center_comp_features = calc_center_features(image1,image3, middle_segment_mask)\n",
    "        return center_comp_features\n",
    "   \n",
    "    def calc_center_features(image1,image3, middle_segment_mask):\n",
    "        moments = self.calculate_moments(middle_seg_mask)\n",
    "        moments = append_string_to_every_key(moments,f'CH_{channel}')\n",
    "        self.featurei.update(moments)\n",
    "        huMoments = self.calculate_hu_moments(moments)       \n",
    "        self.featurei.update({'h%d'%i:huMoments[i,0]+f'_CH_{channel}'  for i in range(7)})\n",
    "        #Yoav is likely to change this method\n",
    "        \n",
    "    def calculate_features(self):\n",
    "        self.load_examples()\n",
    "        for tilei in range(len(self.Examples)):\n",
    "            print(tilei)\n",
    "            examplei = self.Examples[tilei]\n",
    "            if examplei != []:\n",
    "                for example in examplei:\n",
    "                    self.featurei={}\n",
    "                    self.copy_information_from_examples(example)\n",
    "                    self.calculate_correlation_and_energy(example,channel=1)\n",
    "                    self.calculate_correlation_and_energy(example,channel=3)\n",
    "                    self.features_using_center_connectd_components(example)\n",
    "                    self.features.append(self.featurei)\n",
    "\n",
    "    def calculate_average_cell_images(self,examples,channel = 3):\n",
    "        images = []\n",
    "        for examplei in examples:\n",
    "            images.append(examplei[f'image_CH{channel}'])\n",
    "        images = np.stack(images)\n",
    "        average = np.average(images,axis=0)\n",
    "        average = (average - average.mean())/average.std()\n",
    "        return average\n",
    "    \n",
    "    def load_or_calulate_average_cell_image(self):\n",
    "        if os.path.exists(self.AVERAGE_CELL_IMAGE_DIR_CH1) and os.path.exists(self.AVERAGE_CELL_IMAGE_DIR_CH3):\n",
    "            self.average_image_ch1 = pkl.load(open(self.AVERAGE_CELL_IMAGE_DIR_CH1,'rb'))\n",
    "            self.average_image_ch3 = pkl.load(open(self.AVERAGE_CELL_IMAGE_DIR_CH3,'rb'))\n",
    "        else:\n",
    "            examples = self.load_all_examples_in_brain()\n",
    "            self.average_image_ch1 = self.calculate_average_cell_images(examples,channel = 1)\n",
    "            self.average_image_ch3 = self.calculate_average_cell_images(examples,channel = 3)\n",
    "            pkl.dump(open(self.average_image_ch1,self.AVERAGE_CELL_IMAGE_DIR_CH1,'wb'))\n",
    "            pkl.dump(open(self.average_image_ch3,self.AVERAGE_CELL_IMAGE_DIR_CH3,'wb'))"
   ]
  },
  {
   "cell_type": "code",
   "execution_count": 18,
   "id": "00ca00f8",
   "metadata": {},
   "outputs": [],
   "source": [
    "def calculate_all_sections_of_animali(animal):\n",
    "    sections_with_csv = get_sections_with_annotation_for_animali(animal)\n",
    "    for sectioni in sections_with_csv:\n",
    "        print(f'processing section {sectioni}')\n",
    "        finder = FeatureFinder(animal,sectioni)\n",
    "        finder.calculate_features()\n",
    "        finder.save_features()\n",
    "\n",
    "def test_one_section(animal,section):\n",
    "    finder = FeatureFinder(animal,section)\n",
    "    finder.calculate_features()\n",
    "    finder.save_features()\n",
    "\n",
    "def parallel_process_all_sections(animal,njobs = 40):\n",
    "    base = CellDetectorBase(animal)\n",
    "    sections_with_csv = base.get_sections_with_csv()\n",
    "    with concurrent.futures.ProcessPoolExecutor(max_workers=njobs) as executor:\n",
    "        for sectioni in sections_with_csv:\n",
    "            results = executor.submit(test_one_section,animal,sectioni) "
   ]
  },
  {
   "cell_type": "code",
   "execution_count": null,
   "id": "4f1b9990",
   "metadata": {},
   "outputs": [],
   "source": []
  },
  {
   "cell_type": "code",
   "execution_count": 19,
   "id": "610a592e",
   "metadata": {},
   "outputs": [
    {
     "name": "stdout",
     "output_type": "stream",
     "text": [
      "DATA_DIR=/data/cell_segmentation/DK55/CH3\n",
      "220 220\n",
      "180\n"
     ]
    },
    {
     "ename": "UnpicklingError",
     "evalue": "pickle data was truncated",
     "output_type": "error",
     "traceback": [
      "\u001b[0;31m---------------------------------------------------------------------------\u001b[0m",
      "\u001b[0;31mUnpicklingError\u001b[0m                           Traceback (most recent call last)",
      "\u001b[0;32m<ipython-input-19-edcd3a307c45>\u001b[0m in \u001b[0;36m<module>\u001b[0;34m\u001b[0m\n\u001b[1;32m      1\u001b[0m \u001b[0;31m#if __name__ == '__main__':\u001b[0m\u001b[0;34m\u001b[0m\u001b[0;34m\u001b[0m\u001b[0;34m\u001b[0m\u001b[0m\n\u001b[1;32m      2\u001b[0m \u001b[0;31m# parallel_process_all_sections('DK55')\u001b[0m\u001b[0;34m\u001b[0m\u001b[0;34m\u001b[0m\u001b[0;34m\u001b[0m\u001b[0m\n\u001b[0;32m----> 3\u001b[0;31m \u001b[0mtest_one_section\u001b[0m\u001b[0;34m(\u001b[0m\u001b[0;34m'DK55'\u001b[0m\u001b[0;34m,\u001b[0m\u001b[0;36m220\u001b[0m\u001b[0;34m)\u001b[0m\u001b[0;34m\u001b[0m\u001b[0;34m\u001b[0m\u001b[0m\n\u001b[0m",
      "\u001b[0;32m<ipython-input-18-cb706883d4d7>\u001b[0m in \u001b[0;36mtest_one_section\u001b[0;34m(animal, section)\u001b[0m\n\u001b[1;32m      8\u001b[0m \u001b[0;34m\u001b[0m\u001b[0m\n\u001b[1;32m      9\u001b[0m \u001b[0;32mdef\u001b[0m \u001b[0mtest_one_section\u001b[0m\u001b[0;34m(\u001b[0m\u001b[0manimal\u001b[0m\u001b[0;34m,\u001b[0m\u001b[0msection\u001b[0m\u001b[0;34m)\u001b[0m\u001b[0;34m:\u001b[0m\u001b[0;34m\u001b[0m\u001b[0;34m\u001b[0m\u001b[0m\n\u001b[0;32m---> 10\u001b[0;31m     \u001b[0mfinder\u001b[0m \u001b[0;34m=\u001b[0m \u001b[0mFeatureFinder\u001b[0m\u001b[0;34m(\u001b[0m\u001b[0manimal\u001b[0m\u001b[0;34m,\u001b[0m\u001b[0msection\u001b[0m\u001b[0;34m)\u001b[0m\u001b[0;34m\u001b[0m\u001b[0;34m\u001b[0m\u001b[0m\n\u001b[0m\u001b[1;32m     11\u001b[0m     \u001b[0mfinder\u001b[0m\u001b[0;34m.\u001b[0m\u001b[0mcalculate_features\u001b[0m\u001b[0;34m(\u001b[0m\u001b[0;34m)\u001b[0m\u001b[0;34m\u001b[0m\u001b[0;34m\u001b[0m\u001b[0m\n\u001b[1;32m     12\u001b[0m     \u001b[0mfinder\u001b[0m\u001b[0;34m.\u001b[0m\u001b[0msave_features\u001b[0m\u001b[0;34m(\u001b[0m\u001b[0;34m)\u001b[0m\u001b[0;34m\u001b[0m\u001b[0;34m\u001b[0m\u001b[0m\n",
      "\u001b[0;32m<ipython-input-17-5460c682d1db>\u001b[0m in \u001b[0;36m__init__\u001b[0;34m(self, animal, section)\u001b[0m\n\u001b[1;32m     15\u001b[0m         \u001b[0mprint\u001b[0m\u001b[0;34m(\u001b[0m\u001b[0mself\u001b[0m\u001b[0;34m.\u001b[0m\u001b[0msection\u001b[0m\u001b[0;34m,\u001b[0m\u001b[0msection\u001b[0m\u001b[0;34m)\u001b[0m\u001b[0;34m\u001b[0m\u001b[0;34m\u001b[0m\u001b[0m\n\u001b[1;32m     16\u001b[0m         \u001b[0mself\u001b[0m\u001b[0;34m.\u001b[0m\u001b[0msegmentation_threshold\u001b[0m\u001b[0;34m=\u001b[0m\u001b[0;36m2000\u001b[0m\u001b[0;34m\u001b[0m\u001b[0;34m\u001b[0m\u001b[0m\n\u001b[0;32m---> 17\u001b[0;31m         \u001b[0mself\u001b[0m\u001b[0;34m.\u001b[0m\u001b[0mload_or_calulate_average_cell_image\u001b[0m\u001b[0;34m(\u001b[0m\u001b[0;34m)\u001b[0m\u001b[0;34m\u001b[0m\u001b[0;34m\u001b[0m\u001b[0m\n\u001b[0m\u001b[1;32m     18\u001b[0m \u001b[0;34m\u001b[0m\u001b[0m\n\u001b[1;32m     19\u001b[0m     \u001b[0;32mdef\u001b[0m \u001b[0mcopy_information_from_examples\u001b[0m\u001b[0;34m(\u001b[0m\u001b[0mself\u001b[0m\u001b[0;34m,\u001b[0m\u001b[0mexample\u001b[0m\u001b[0;34m)\u001b[0m\u001b[0;34m:\u001b[0m\u001b[0;34m\u001b[0m\u001b[0;34m\u001b[0m\u001b[0m\n",
      "\u001b[0;32m<ipython-input-17-5460c682d1db>\u001b[0m in \u001b[0;36mload_or_calulate_average_cell_image\u001b[0;34m(self)\u001b[0m\n\u001b[1;32m     89\u001b[0m             \u001b[0mself\u001b[0m\u001b[0;34m.\u001b[0m\u001b[0maverage_image_ch3\u001b[0m \u001b[0;34m=\u001b[0m \u001b[0mpkl\u001b[0m\u001b[0;34m.\u001b[0m\u001b[0mload\u001b[0m\u001b[0;34m(\u001b[0m\u001b[0mopen\u001b[0m\u001b[0;34m(\u001b[0m\u001b[0mself\u001b[0m\u001b[0;34m.\u001b[0m\u001b[0mAVERAGE_CELL_IMAGE_DIR_CH3\u001b[0m\u001b[0;34m,\u001b[0m\u001b[0;34m'rb'\u001b[0m\u001b[0;34m)\u001b[0m\u001b[0;34m)\u001b[0m\u001b[0;34m\u001b[0m\u001b[0;34m\u001b[0m\u001b[0m\n\u001b[1;32m     90\u001b[0m         \u001b[0;32melse\u001b[0m\u001b[0;34m:\u001b[0m\u001b[0;34m\u001b[0m\u001b[0;34m\u001b[0m\u001b[0m\n\u001b[0;32m---> 91\u001b[0;31m             \u001b[0mexamples\u001b[0m \u001b[0;34m=\u001b[0m \u001b[0mself\u001b[0m\u001b[0;34m.\u001b[0m\u001b[0mload_all_examples_in_brain\u001b[0m\u001b[0;34m(\u001b[0m\u001b[0;34m)\u001b[0m\u001b[0;34m\u001b[0m\u001b[0;34m\u001b[0m\u001b[0m\n\u001b[0m\u001b[1;32m     92\u001b[0m             \u001b[0mself\u001b[0m\u001b[0;34m.\u001b[0m\u001b[0maverage_image_ch1\u001b[0m \u001b[0;34m=\u001b[0m \u001b[0mself\u001b[0m\u001b[0;34m.\u001b[0m\u001b[0mcalculate_average_cell_images\u001b[0m\u001b[0;34m(\u001b[0m\u001b[0mexamples\u001b[0m\u001b[0;34m,\u001b[0m\u001b[0mchannel\u001b[0m \u001b[0;34m=\u001b[0m \u001b[0;36m1\u001b[0m\u001b[0;34m)\u001b[0m\u001b[0;34m\u001b[0m\u001b[0;34m\u001b[0m\u001b[0m\n\u001b[1;32m     93\u001b[0m             \u001b[0mself\u001b[0m\u001b[0;34m.\u001b[0m\u001b[0maverage_image_ch3\u001b[0m \u001b[0;34m=\u001b[0m \u001b[0mself\u001b[0m\u001b[0;34m.\u001b[0m\u001b[0mcalculate_average_cell_images\u001b[0m\u001b[0;34m(\u001b[0m\u001b[0mexamples\u001b[0m\u001b[0;34m,\u001b[0m\u001b[0mchannel\u001b[0m \u001b[0;34m=\u001b[0m \u001b[0;36m3\u001b[0m\u001b[0;34m)\u001b[0m\u001b[0;34m\u001b[0m\u001b[0;34m\u001b[0m\u001b[0m\n",
      "\u001b[0;32m~/pipeline/src/cell_extractor/CellDetectorBase.py\u001b[0m in \u001b[0;36mload_all_examples_in_brain\u001b[0;34m(self)\u001b[0m\n\u001b[1;32m    102\u001b[0m             \u001b[0mprint\u001b[0m\u001b[0;34m(\u001b[0m\u001b[0msectioni\u001b[0m\u001b[0;34m)\u001b[0m\u001b[0;34m\u001b[0m\u001b[0;34m\u001b[0m\u001b[0m\n\u001b[1;32m    103\u001b[0m             \u001b[0mbase\u001b[0m \u001b[0;34m=\u001b[0m \u001b[0mCellDetectorBase\u001b[0m\u001b[0;34m(\u001b[0m\u001b[0mself\u001b[0m\u001b[0;34m.\u001b[0m\u001b[0manimal\u001b[0m\u001b[0;34m,\u001b[0m\u001b[0msectioni\u001b[0m\u001b[0;34m)\u001b[0m\u001b[0;34m\u001b[0m\u001b[0;34m\u001b[0m\u001b[0m\n\u001b[0;32m--> 104\u001b[0;31m             \u001b[0mbase\u001b[0m\u001b[0;34m.\u001b[0m\u001b[0mload_examples\u001b[0m\u001b[0;34m(\u001b[0m\u001b[0;34m)\u001b[0m\u001b[0;34m\u001b[0m\u001b[0;34m\u001b[0m\u001b[0m\n\u001b[0m\u001b[1;32m    105\u001b[0m             \u001b[0mexamplei\u001b[0m \u001b[0;34m=\u001b[0m \u001b[0;34m[\u001b[0m\u001b[0mi\u001b[0m \u001b[0;32mfor\u001b[0m \u001b[0mtilei\u001b[0m \u001b[0;32min\u001b[0m \u001b[0mbase\u001b[0m\u001b[0;34m.\u001b[0m\u001b[0mExamples\u001b[0m \u001b[0;32mfor\u001b[0m \u001b[0mi\u001b[0m \u001b[0;32min\u001b[0m \u001b[0mtilei\u001b[0m\u001b[0;34m]\u001b[0m\u001b[0;34m\u001b[0m\u001b[0;34m\u001b[0m\u001b[0m\n\u001b[1;32m    106\u001b[0m             \u001b[0mprint\u001b[0m\u001b[0;34m(\u001b[0m\u001b[0mlen\u001b[0m\u001b[0;34m(\u001b[0m\u001b[0mexamplei\u001b[0m\u001b[0;34m)\u001b[0m\u001b[0;34m)\u001b[0m\u001b[0;34m\u001b[0m\u001b[0;34m\u001b[0m\u001b[0m\n",
      "\u001b[0;32m~/pipeline/src/cell_extractor/CellDetectorBase.py\u001b[0m in \u001b[0;36mload_examples\u001b[0;34m(self)\u001b[0m\n\u001b[1;32m     93\u001b[0m         \u001b[0msave_path\u001b[0m \u001b[0;34m=\u001b[0m \u001b[0mself\u001b[0m\u001b[0;34m.\u001b[0m\u001b[0mget_example_save_path\u001b[0m\u001b[0;34m(\u001b[0m\u001b[0;34m)\u001b[0m\u001b[0;34m\u001b[0m\u001b[0;34m\u001b[0m\u001b[0m\n\u001b[1;32m     94\u001b[0m         \u001b[0;32mwith\u001b[0m \u001b[0mopen\u001b[0m\u001b[0;34m(\u001b[0m\u001b[0msave_path\u001b[0m\u001b[0;34m,\u001b[0m\u001b[0;34m'br'\u001b[0m\u001b[0;34m)\u001b[0m \u001b[0;32mas\u001b[0m \u001b[0mpkl_file\u001b[0m\u001b[0;34m:\u001b[0m\u001b[0;34m\u001b[0m\u001b[0;34m\u001b[0m\u001b[0m\n\u001b[0;32m---> 95\u001b[0;31m             \u001b[0mE\u001b[0m\u001b[0;34m=\u001b[0m\u001b[0mpkl\u001b[0m\u001b[0;34m.\u001b[0m\u001b[0mload\u001b[0m\u001b[0;34m(\u001b[0m\u001b[0mpkl_file\u001b[0m\u001b[0;34m)\u001b[0m\u001b[0;34m\u001b[0m\u001b[0;34m\u001b[0m\u001b[0m\n\u001b[0m\u001b[1;32m     96\u001b[0m             \u001b[0mself\u001b[0m\u001b[0;34m.\u001b[0m\u001b[0mExamples\u001b[0m\u001b[0;34m=\u001b[0m\u001b[0mE\u001b[0m\u001b[0;34m[\u001b[0m\u001b[0;34m'Examples'\u001b[0m\u001b[0;34m]\u001b[0m\u001b[0;34m\u001b[0m\u001b[0;34m\u001b[0m\u001b[0m\n\u001b[1;32m     97\u001b[0m \u001b[0;34m\u001b[0m\u001b[0m\n",
      "\u001b[0;31mUnpicklingError\u001b[0m: pickle data was truncated"
     ]
    }
   ],
   "source": [
    "# load cell pickle file for one section, one tile\n",
    "finder = FeatureFinder(List of cells (subset of loaded list)) \n",
    "test_one_section('DK55',220)\n",
    "Feature Organization: List of "
   ]
  },
  {
   "cell_type": "code",
   "execution_count": null,
   "id": "8231e0cd",
   "metadata": {},
   "outputs": [],
   "source": []
  }
 ],
 "metadata": {
  "kernelspec": {
   "display_name": "Python 3",
   "language": "python",
   "name": "python3"
  },
  "language_info": {
   "codemirror_mode": {
    "name": "ipython",
    "version": 3
   },
   "file_extension": ".py",
   "mimetype": "text/x-python",
   "name": "python",
   "nbconvert_exporter": "python",
   "pygments_lexer": "ipython3",
   "version": "3.8.10"
  }
 },
 "nbformat": 4,
 "nbformat_minor": 5
}
