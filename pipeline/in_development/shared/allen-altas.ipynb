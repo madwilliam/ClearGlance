{
 "cells": [
  {
   "cell_type": "code",
   "execution_count": 1,
   "metadata": {},
   "outputs": [],
   "source": [
    "import os\n",
    "import sys\n",
    "import numpy as np\n",
    "from taskqueue import LocalTaskQueue\n",
    "import igneous.task_creation as tc\n",
    "from cloudvolume import CloudVolume"
   ]
  },
  {
   "cell_type": "code",
   "execution_count": 7,
   "metadata": {},
   "outputs": [],
   "source": [
    "HOME = os.path.expanduser(\"~\")\n",
    "PATH = os.path.join(HOME, 'programming/pipeline_utility')\n",
    "sys.path.append(PATH)\n",
    "from utilities.FileLocationManager import FileLocationManager"
   ]
  },
  {
   "cell_type": "code",
   "execution_count": 19,
   "metadata": {},
   "outputs": [],
   "source": [
    "class N2N():\n",
    "    viewer = None\n",
    "\n",
    "    def __init__(self, volume, scales, layer_type, data_type, num_channels=1, chunk_size=[64,64,64]):\n",
    "        self.volume = volume\n",
    "        self.scales = scales\n",
    "        self.layer_type = layer_type\n",
    "        self.data_type = data_type\n",
    "        self.chunk_size = chunk_size\n",
    "        self.precomputed_vol = volume\n",
    "        self.offset = [0, 0, 0]\n",
    "        self.num_channels = num_channels\n",
    "\n",
    "    def init_volume(self, path):\n",
    "        info = CloudVolume.create_new_info(\n",
    "            num_channels = self.volume.shape[2] if len(self.volume.shape) > 2 else 1,\n",
    "            layer_type = self.layer_type,\n",
    "            data_type = self.data_type, # str(self.volume.dtype),  # Channel images might be 'uint8'\n",
    "            encoding = 'raw',  # raw, jpeg, compressed_segmentation, fpzip, kempressed\n",
    "            resolution = self.scales,            # Voxel scaling, units are in nanometers\n",
    "            voxel_offset = self.offset,          # x,y,z offset in voxels from the origin\n",
    "            chunk_size = self.chunk_size,           # units are voxels\n",
    "            volume_size = self.volume.shape[:3], # e.g. a cubic millimeter dataset\n",
    "        )\n",
    "        self.precomputed_vol = CloudVolume(f'file://{path}', mip=0, info=info, compress=True, progress=False)\n",
    "        self.precomputed_vol.commit_info()\n",
    "        #self.precomputed_vol[:, :, :] = self.volume[:, :, :]"
   ]
  },
  {
   "cell_type": "code",
   "execution_count": 2,
   "metadata": {},
   "outputs": [
    {
     "name": "stderr",
     "output_type": "stream",
     "text": [
      "Downloading:  99%|█████████▉| 113/114 [00:05<00:00, 56.26it/s]"
     ]
    }
   ],
   "source": [
    "vol = CloudVolume('precomputed://gs://wanglab-pma/allenatlas_2017_16bit_hierarch_labels_fillmissing', parallel=True, progress=True)\n",
    "image = vol[:,:,:] # Download a whole image stack into a numpy array from the cloud"
   ]
  },
  {
   "cell_type": "code",
   "execution_count": 25,
   "metadata": {},
   "outputs": [],
   "source": [
    "OUTPUT = '/net/birdstore/Active_Atlas_Data/data_root/pipeline_data/structures/allen'\n",
    "filepath = os.path.join(OUTPUT, 'allen.npy')\n",
    "np.save(filepath, timage)"
   ]
  },
  {
   "cell_type": "code",
   "execution_count": 23,
   "metadata": {},
   "outputs": [],
   "source": [
    "timage = image.reshape(320,528,456)"
   ]
  },
  {
   "cell_type": "code",
   "execution_count": 20,
   "metadata": {},
   "outputs": [],
   "source": [
    "scales = [25,25,25]\n",
    "data_type = np.uint16\n",
    "chunks = [64,64,1]\n",
    "OUTPUT = '/net/birdstore/Active_Atlas_Data/data_root/pipeline_data/structures/allen'\n",
    "ng = N2N(image, scales, layer_type='segmentation', data_type=data_type, chunk_size=chunks)\n",
    "ng.init_volume(OUTPUT)\n"
   ]
  },
  {
   "cell_type": "code",
   "execution_count": 21,
   "metadata": {},
   "outputs": [
    {
     "data": {
      "text/plain": [
       "(320, 528, 456, 456)"
      ]
     },
     "execution_count": 21,
     "metadata": {},
     "output_type": "execute_result"
    }
   ],
   "source": [
    "tq = LocalTaskQueue(parallel=2)\n"
   ]
  },
  {
   "cell_type": "code",
   "execution_count": 26,
   "metadata": {},
   "outputs": [
    {
     "name": "stderr",
     "output_type": "stream",
     "text": [
      "Downloading: 100%|██████████| 432/432 [04:54<00:00,  2.00it/s]"
     ]
    }
   ],
   "source": [
    "# pip install numpy tifffile cloud-volume\n",
    "import numpy as np\n",
    "import tifffile\n",
    "from cloudvolume import CloudVolume\n",
    "\n",
    "vol = CloudVolume(\n",
    "    \"s3://open-neurodata/ara_2016/sagittal_10um/nissl_10um\", mip=0, use_https=True\n",
    ")\n",
    "image = vol[:,:,:]\n",
    "# load data into numpy array\n",
    "#cutout = vol[512:1024, 0:512, 512:528]"
   ]
  },
  {
   "cell_type": "code",
   "execution_count": 28,
   "metadata": {},
   "outputs": [
    {
     "data": {
      "text/plain": [
       "(1320, 800, 1140, 1)"
      ]
     },
     "execution_count": 28,
     "metadata": {},
     "output_type": "execute_result"
    }
   ],
   "source": [
    "image.shape"
   ]
  },
  {
   "cell_type": "code",
   "execution_count": 29,
   "metadata": {},
   "outputs": [],
   "source": [
    "# save cutout as TIFF\n",
    "OUTPUT = '/net/birdstore/Active_Atlas_Data/data_root/pipeline_data/structures/allen'\n",
    "filepath = os.path.join(OUTPUT, 'allen.10um.tif')\n",
    "tifffile.imwrite(filepath, data=np.transpose(image))"
   ]
  }
 ],
 "metadata": {
  "kernelspec": {
   "display_name": "Python 3",
   "language": "python",
   "name": "python3"
  },
  "language_info": {
   "codemirror_mode": {
    "name": "ipython",
    "version": 3
   },
   "file_extension": ".py",
   "mimetype": "text/x-python",
   "name": "python",
   "nbconvert_exporter": "python",
   "pygments_lexer": "ipython3",
   "version": "3.8.5"
  }
 },
 "nbformat": 4,
 "nbformat_minor": 4
}
