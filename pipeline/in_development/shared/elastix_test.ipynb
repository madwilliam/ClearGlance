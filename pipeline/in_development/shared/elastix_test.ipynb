{
 "cells": [
  {
   "cell_type": "code",
   "execution_count": 8,
   "metadata": {},
   "outputs": [],
   "source": [
    "import os, sys\n",
    "import numpy as np"
   ]
  },
  {
   "cell_type": "code",
   "execution_count": 3,
   "metadata": {},
   "outputs": [],
   "source": [
    "HOME = os.path.expanduser(\"~\")\n",
    "jobname = 'erodemaskfalse'\n",
    "OUTPUT = os.path.join(HOME, 'elastix_test', jobname)"
   ]
  },
  {
   "cell_type": "code",
   "execution_count": 2,
   "metadata": {},
   "outputs": [],
   "source": [
    "def parameter_elastix_parameter_file_to_dict(filename):\n",
    "    d = {}\n",
    "    with open(filename, 'r') as f:\n",
    "        for line in f.readlines():\n",
    "            if line.startswith('('):\n",
    "                tokens = line[1:-2].split(' ')\n",
    "                key = tokens[0]\n",
    "                if len(tokens) > 2:\n",
    "                    value = []\n",
    "                    for v in tokens[1:]:\n",
    "                        try:\n",
    "                            value.append(float(v))\n",
    "                        except ValueError:\n",
    "                            value.append(v)\n",
    "                else:\n",
    "                    v = tokens[1]\n",
    "                    try:\n",
    "                        value = (float(v))\n",
    "                    except ValueError:\n",
    "                        value = v\n",
    "                d[key] = value\n",
    "        return d"
   ]
  },
  {
   "cell_type": "code",
   "execution_count": 14,
   "metadata": {},
   "outputs": [],
   "source": [
    "filepath = os.path.join(OUTPUT, '337_to_336', 'TransformParameters.0.txt')\n",
    "d = parameter_elastix_parameter_file_to_dict(filepath)"
   ]
  },
  {
   "cell_type": "code",
   "execution_count": 15,
   "metadata": {},
   "outputs": [
    {
     "name": "stdout",
     "output_type": "stream",
     "text": [
      "0.024433 46.923577 -31.10455\n"
     ]
    }
   ],
   "source": [
    "rot_rad, x_mm, y_mm = d['TransformParameters']\n",
    "print(rot_rad, x_mm, y_mm)"
   ]
  },
  {
   "cell_type": "code",
   "execution_count": 16,
   "metadata": {},
   "outputs": [
    {
     "name": "stdout",
     "output_type": "stream",
     "text": [
      "[871.  524.5]\n"
     ]
    }
   ],
   "source": [
    "center = np.array(d['CenterOfRotationPoint']) / np.array(d['Spacing'])\n",
    "print(center)"
   ]
  },
  {
   "cell_type": "code",
   "execution_count": 17,
   "metadata": {},
   "outputs": [
    {
     "name": "stdout",
     "output_type": "stream",
     "text": [
      "46.923577 -31.10455\n"
     ]
    }
   ],
   "source": [
    "xshift = x_mm / d['Spacing'][0]\n",
    "yshift = y_mm / d['Spacing'][1]\n",
    "print(xshift, yshift)"
   ]
  },
  {
   "cell_type": "code",
   "execution_count": 18,
   "metadata": {},
   "outputs": [
    {
     "name": "stdout",
     "output_type": "stream",
     "text": [
      "(2, 2)\n",
      "[[ 0.99970153 -0.02443057]\n",
      " [ 0.02443057  0.99970153]]\n"
     ]
    }
   ],
   "source": [
    "R = np.array([[np.cos(rot_rad), -np.sin(rot_rad)],\n",
    "                  [np.sin(rot_rad), np.cos(rot_rad)]])\n",
    "print(R.shape)\n",
    "print(R)"
   ]
  },
  {
   "cell_type": "code",
   "execution_count": 19,
   "metadata": {},
   "outputs": [
    {
     "name": "stdout",
     "output_type": "stream",
     "text": [
      "[ 59.99737865 -52.22702771]\n"
     ]
    }
   ],
   "source": [
    "shift = center + (xshift, yshift) - np.dot(R, center)\n",
    "print(shift)"
   ]
  },
  {
   "cell_type": "code",
   "execution_count": 13,
   "metadata": {},
   "outputs": [
    {
     "name": "stdout",
     "output_type": "stream",
     "text": [
      "(3, 3)\n",
      "[[  0.99815589  -0.06070266  33.31369429]\n",
      " [  0.06070266   0.99815589 -48.25214448]\n",
      " [  0.           0.           1.        ]]\n"
     ]
    }
   ],
   "source": [
    "T = np.vstack([np.column_stack([R, shift]), [0, 0, 1]])\n",
    "print(T.shape)\n",
    "print(T)       "
   ]
  }
 ],
 "metadata": {
  "kernelspec": {
   "display_name": "Python 3",
   "language": "python",
   "name": "python3"
  },
  "language_info": {
   "codemirror_mode": {
    "name": "ipython",
    "version": 3
   },
   "file_extension": ".py",
   "mimetype": "text/x-python",
   "name": "python",
   "nbconvert_exporter": "python",
   "pygments_lexer": "ipython3",
   "version": "3.8.2"
  }
 },
 "nbformat": 4,
 "nbformat_minor": 4
}
