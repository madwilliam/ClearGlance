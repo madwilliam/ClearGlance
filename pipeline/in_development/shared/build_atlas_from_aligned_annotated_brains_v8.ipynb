{
 "cells": [
  {
   "cell_type": "code",
   "execution_count": 1,
   "metadata": {
    "scrolled": true
   },
   "outputs": [],
   "source": [
    "import os,sys\n",
    "from collections import defaultdict\n",
    "import json\n",
    "import numpy as np\n",
    "import pickle\n",
    "from skimage import io\n",
    "import matplotlib\n",
    "import pandas as pd\n",
    "from matplotlib import pyplot as plt\n",
    "from tqdm import tqdm\n",
    "from scipy.ndimage.morphology import distance_transform_edt\n",
    "%load_ext autoreload\n",
    "%autoreload 2"
   ]
  },
  {
   "cell_type": "code",
   "execution_count": 2,
   "metadata": {},
   "outputs": [],
   "source": [
    "PATH = '/home/eddyod/programming/pipeline_utility/src'\n",
    "\n",
    "sys.path.append(PATH)\n",
    "from lib.FileLocationManager import DATA_PATH, ROOT_DIR\n",
    "\n",
    "from Controllers.SqlController import SqlController\n",
    "from utilities.utilities_atlas import load_original_volume_all_known_structures_v3, get_centroid_3d, \\\n",
    "    load_alignment_results_v3, transform_points, average_location, \\\n",
    "    convert_to_original_name, name_unsided_to_color, paired_structures, \\\n",
    "    convert_to_left_name, convert_to_right_name, load_original_volume_v2, save_alignment_results_v3, \\\n",
    "    convert_transform_forms, transform_volume_v4, volume_to_polydata, singular_structures, \\\n",
    "    MESH_DIR, average_shape, convert_to_surround_name, mirror_volume_v2, save_original_volume, \\\n",
    "    save_mesh_stl, get_surround_volume_v2, transform_volume_v4, high_contrast_colors, \\\n",
    "    plot_centroid_means_and_covars_3d, all_known_structures_sided, load_data, \\\n",
    "    get_instance_mesh_filepath, images_to_volume_v2, find_contour_points, load_cropbox_v2, \\\n",
    "    load_mean_shape, \\\n",
    "    display_volume_sections, get_structure_mean_positions_filepath\n",
    "from lib.atlas_aligner import Aligner\n",
    "from utilities.utilities_alignment import convert_resolution_string_to_um\n",
    "atlas_name = 'atlasV8'\n",
    "ATLAS_PATH = os.path.join(DATA_PATH, 'atlas_data', atlas_name)"
   ]
  },
  {
   "cell_type": "code",
   "execution_count": 3,
   "metadata": {},
   "outputs": [],
   "source": [
    "fixed_brain_name = 'MD589'\n",
    "sqlController = SqlController(fixed_brain_name)\n",
    "structures = sqlController.get_structures_list()\n",
    "structures.remove(\"R\")\n",
    "moving_brain_names = ['MD585', 'MD594']\n",
    "resolution = '10.0um'\n",
    "resolution_um = 10.0\n",
    "structure_centroids_all_brains_um_wrt_fixed = []\n",
    "fixed_brain_spec = {'name': fixed_brain_name, 'vol_type': 'annotationAsScore', 'resolution': resolution}"
   ]
  },
  {
   "cell_type": "code",
   "execution_count": 5,
   "metadata": {
    "scrolled": true
   },
   "outputs": [
    {
     "name": "stdout",
     "output_type": "stream",
     "text": [
      "10N_L /net/birdstore/Active_Atlas_Data/data_root/CSHL_volumes/MD589/10.0um_annotationAsScoreVolume/10N_L.npy\n",
      "10N_L /net/birdstore/Active_Atlas_Data/data_root/CSHL_volumes/MD589/10.0um_annotationAsScoreVolume/10N_L_origin_wrt_wholebrain.txt\n",
      "10N_R /net/birdstore/Active_Atlas_Data/data_root/CSHL_volumes/MD589/10.0um_annotationAsScoreVolume/10N_R.npy\n",
      "10N_R /net/birdstore/Active_Atlas_Data/data_root/CSHL_volumes/MD589/10.0um_annotationAsScoreVolume/10N_R_origin_wrt_wholebrain.txt\n",
      "12N /net/birdstore/Active_Atlas_Data/data_root/CSHL_volumes/MD589/10.0um_annotationAsScoreVolume/12N.npy\n",
      "12N /net/birdstore/Active_Atlas_Data/data_root/CSHL_volumes/MD589/10.0um_annotationAsScoreVolume/12N_origin_wrt_wholebrain.txt\n",
      "3N_L /net/birdstore/Active_Atlas_Data/data_root/CSHL_volumes/MD589/10.0um_annotationAsScoreVolume/3N_L.npy\n",
      "3N_L /net/birdstore/Active_Atlas_Data/data_root/CSHL_volumes/MD589/10.0um_annotationAsScoreVolume/3N_L_origin_wrt_wholebrain.txt\n",
      "3N_R /net/birdstore/Active_Atlas_Data/data_root/CSHL_volumes/MD589/10.0um_annotationAsScoreVolume/3N_R.npy\n",
      "3N_R /net/birdstore/Active_Atlas_Data/data_root/CSHL_volumes/MD589/10.0um_annotationAsScoreVolume/3N_R_origin_wrt_wholebrain.txt\n",
      "4N_L /net/birdstore/Active_Atlas_Data/data_root/CSHL_volumes/MD589/10.0um_annotationAsScoreVolume/4N_L.npy\n",
      "4N_L /net/birdstore/Active_Atlas_Data/data_root/CSHL_volumes/MD589/10.0um_annotationAsScoreVolume/4N_L_origin_wrt_wholebrain.txt\n",
      "4N_R /net/birdstore/Active_Atlas_Data/data_root/CSHL_volumes/MD589/10.0um_annotationAsScoreVolume/4N_R.npy\n",
      "4N_R /net/birdstore/Active_Atlas_Data/data_root/CSHL_volumes/MD589/10.0um_annotationAsScoreVolume/4N_R_origin_wrt_wholebrain.txt\n",
      "5N_L /net/birdstore/Active_Atlas_Data/data_root/CSHL_volumes/MD589/10.0um_annotationAsScoreVolume/5N_L.npy\n",
      "5N_L /net/birdstore/Active_Atlas_Data/data_root/CSHL_volumes/MD589/10.0um_annotationAsScoreVolume/5N_L_origin_wrt_wholebrain.txt\n",
      "5N_R /net/birdstore/Active_Atlas_Data/data_root/CSHL_volumes/MD589/10.0um_annotationAsScoreVolume/5N_R.npy\n",
      "5N_R /net/birdstore/Active_Atlas_Data/data_root/CSHL_volumes/MD589/10.0um_annotationAsScoreVolume/5N_R_origin_wrt_wholebrain.txt\n",
      "6N_L /net/birdstore/Active_Atlas_Data/data_root/CSHL_volumes/MD589/10.0um_annotationAsScoreVolume/6N_L.npy\n",
      "6N_L /net/birdstore/Active_Atlas_Data/data_root/CSHL_volumes/MD589/10.0um_annotationAsScoreVolume/6N_L_origin_wrt_wholebrain.txt\n",
      "6N_R /net/birdstore/Active_Atlas_Data/data_root/CSHL_volumes/MD589/10.0um_annotationAsScoreVolume/6N_R.npy\n",
      "6N_R /net/birdstore/Active_Atlas_Data/data_root/CSHL_volumes/MD589/10.0um_annotationAsScoreVolume/6N_R_origin_wrt_wholebrain.txt\n",
      "7N_L /net/birdstore/Active_Atlas_Data/data_root/CSHL_volumes/MD589/10.0um_annotationAsScoreVolume/7N_L.npy\n",
      "7N_L /net/birdstore/Active_Atlas_Data/data_root/CSHL_volumes/MD589/10.0um_annotationAsScoreVolume/7N_L_origin_wrt_wholebrain.txt\n",
      "7N_R /net/birdstore/Active_Atlas_Data/data_root/CSHL_volumes/MD589/10.0um_annotationAsScoreVolume/7N_R.npy\n",
      "7N_R /net/birdstore/Active_Atlas_Data/data_root/CSHL_volumes/MD589/10.0um_annotationAsScoreVolume/7N_R_origin_wrt_wholebrain.txt\n",
      "7n_L /net/birdstore/Active_Atlas_Data/data_root/CSHL_volumes/MD589/10.0um_annotationAsScoreVolume/7n_L.npy\n",
      "7n_L /net/birdstore/Active_Atlas_Data/data_root/CSHL_volumes/MD589/10.0um_annotationAsScoreVolume/7n_L_origin_wrt_wholebrain.txt\n",
      "7n_R /net/birdstore/Active_Atlas_Data/data_root/CSHL_volumes/MD589/10.0um_annotationAsScoreVolume/7n_R.npy\n",
      "7n_R /net/birdstore/Active_Atlas_Data/data_root/CSHL_volumes/MD589/10.0um_annotationAsScoreVolume/7n_R_origin_wrt_wholebrain.txt\n",
      "AP /net/birdstore/Active_Atlas_Data/data_root/CSHL_volumes/MD589/10.0um_annotationAsScoreVolume/AP.npy\n",
      "AP /net/birdstore/Active_Atlas_Data/data_root/CSHL_volumes/MD589/10.0um_annotationAsScoreVolume/AP_origin_wrt_wholebrain.txt\n",
      "Amb_L /net/birdstore/Active_Atlas_Data/data_root/CSHL_volumes/MD589/10.0um_annotationAsScoreVolume/Amb_L.npy\n",
      "Amb_L /net/birdstore/Active_Atlas_Data/data_root/CSHL_volumes/MD589/10.0um_annotationAsScoreVolume/Amb_L_origin_wrt_wholebrain.txt\n",
      "Amb_R /net/birdstore/Active_Atlas_Data/data_root/CSHL_volumes/MD589/10.0um_annotationAsScoreVolume/Amb_R.npy\n",
      "Amb_R /net/birdstore/Active_Atlas_Data/data_root/CSHL_volumes/MD589/10.0um_annotationAsScoreVolume/Amb_R_origin_wrt_wholebrain.txt\n",
      "DC_L /net/birdstore/Active_Atlas_Data/data_root/CSHL_volumes/MD589/10.0um_annotationAsScoreVolume/DC_L.npy\n",
      "DC_L /net/birdstore/Active_Atlas_Data/data_root/CSHL_volumes/MD589/10.0um_annotationAsScoreVolume/DC_L_origin_wrt_wholebrain.txt\n",
      "DC_R /net/birdstore/Active_Atlas_Data/data_root/CSHL_volumes/MD589/10.0um_annotationAsScoreVolume/DC_R.npy\n",
      "DC_R /net/birdstore/Active_Atlas_Data/data_root/CSHL_volumes/MD589/10.0um_annotationAsScoreVolume/DC_R_origin_wrt_wholebrain.txt\n",
      "IC /net/birdstore/Active_Atlas_Data/data_root/CSHL_volumes/MD589/10.0um_annotationAsScoreVolume/IC.npy\n",
      "IC /net/birdstore/Active_Atlas_Data/data_root/CSHL_volumes/MD589/10.0um_annotationAsScoreVolume/IC_origin_wrt_wholebrain.txt\n",
      "LC_L /net/birdstore/Active_Atlas_Data/data_root/CSHL_volumes/MD589/10.0um_annotationAsScoreVolume/LC_L.npy\n",
      "LC_L /net/birdstore/Active_Atlas_Data/data_root/CSHL_volumes/MD589/10.0um_annotationAsScoreVolume/LC_L_origin_wrt_wholebrain.txt\n",
      "LC_R /net/birdstore/Active_Atlas_Data/data_root/CSHL_volumes/MD589/10.0um_annotationAsScoreVolume/LC_R.npy\n",
      "LC_R /net/birdstore/Active_Atlas_Data/data_root/CSHL_volumes/MD589/10.0um_annotationAsScoreVolume/LC_R_origin_wrt_wholebrain.txt\n",
      "LRt_L /net/birdstore/Active_Atlas_Data/data_root/CSHL_volumes/MD589/10.0um_annotationAsScoreVolume/LRt_L.npy\n",
      "LRt_L /net/birdstore/Active_Atlas_Data/data_root/CSHL_volumes/MD589/10.0um_annotationAsScoreVolume/LRt_L_origin_wrt_wholebrain.txt\n",
      "LRt_R /net/birdstore/Active_Atlas_Data/data_root/CSHL_volumes/MD589/10.0um_annotationAsScoreVolume/LRt_R.npy\n",
      "LRt_R /net/birdstore/Active_Atlas_Data/data_root/CSHL_volumes/MD589/10.0um_annotationAsScoreVolume/LRt_R_origin_wrt_wholebrain.txt\n",
      "PBG_L /net/birdstore/Active_Atlas_Data/data_root/CSHL_volumes/MD589/10.0um_annotationAsScoreVolume/PBG_L.npy\n",
      "PBG_L /net/birdstore/Active_Atlas_Data/data_root/CSHL_volumes/MD589/10.0um_annotationAsScoreVolume/PBG_L_origin_wrt_wholebrain.txt\n",
      "PBG_R /net/birdstore/Active_Atlas_Data/data_root/CSHL_volumes/MD589/10.0um_annotationAsScoreVolume/PBG_R.npy\n",
      "PBG_R /net/birdstore/Active_Atlas_Data/data_root/CSHL_volumes/MD589/10.0um_annotationAsScoreVolume/PBG_R_origin_wrt_wholebrain.txt\n",
      "Pn_L /net/birdstore/Active_Atlas_Data/data_root/CSHL_volumes/MD589/10.0um_annotationAsScoreVolume/Pn_L.npy\n",
      "Pn_L /net/birdstore/Active_Atlas_Data/data_root/CSHL_volumes/MD589/10.0um_annotationAsScoreVolume/Pn_L_origin_wrt_wholebrain.txt\n",
      "Pn_R /net/birdstore/Active_Atlas_Data/data_root/CSHL_volumes/MD589/10.0um_annotationAsScoreVolume/Pn_R.npy\n",
      "Pn_R /net/birdstore/Active_Atlas_Data/data_root/CSHL_volumes/MD589/10.0um_annotationAsScoreVolume/Pn_R_origin_wrt_wholebrain.txt\n",
      "RtTg /net/birdstore/Active_Atlas_Data/data_root/CSHL_volumes/MD589/10.0um_annotationAsScoreVolume/RtTg.npy\n",
      "RtTg /net/birdstore/Active_Atlas_Data/data_root/CSHL_volumes/MD589/10.0um_annotationAsScoreVolume/RtTg_origin_wrt_wholebrain.txt\n",
      "SC /net/birdstore/Active_Atlas_Data/data_root/CSHL_volumes/MD589/10.0um_annotationAsScoreVolume/SC.npy\n",
      "SC /net/birdstore/Active_Atlas_Data/data_root/CSHL_volumes/MD589/10.0um_annotationAsScoreVolume/SC_origin_wrt_wholebrain.txt\n",
      "SNC_L /net/birdstore/Active_Atlas_Data/data_root/CSHL_volumes/MD589/10.0um_annotationAsScoreVolume/SNC_L.npy\n",
      "SNC_L /net/birdstore/Active_Atlas_Data/data_root/CSHL_volumes/MD589/10.0um_annotationAsScoreVolume/SNC_L_origin_wrt_wholebrain.txt\n",
      "SNC_R /net/birdstore/Active_Atlas_Data/data_root/CSHL_volumes/MD589/10.0um_annotationAsScoreVolume/SNC_R.npy\n",
      "SNC_R /net/birdstore/Active_Atlas_Data/data_root/CSHL_volumes/MD589/10.0um_annotationAsScoreVolume/SNC_R_origin_wrt_wholebrain.txt\n",
      "SNR_L /net/birdstore/Active_Atlas_Data/data_root/CSHL_volumes/MD589/10.0um_annotationAsScoreVolume/SNR_L.npy\n",
      "SNR_L /net/birdstore/Active_Atlas_Data/data_root/CSHL_volumes/MD589/10.0um_annotationAsScoreVolume/SNR_L_origin_wrt_wholebrain.txt\n",
      "SNR_R /net/birdstore/Active_Atlas_Data/data_root/CSHL_volumes/MD589/10.0um_annotationAsScoreVolume/SNR_R.npy\n",
      "SNR_R /net/birdstore/Active_Atlas_Data/data_root/CSHL_volumes/MD589/10.0um_annotationAsScoreVolume/SNR_R_origin_wrt_wholebrain.txt\n"
     ]
    },
    {
     "name": "stdout",
     "output_type": "stream",
     "text": [
      "Sp5C_L /net/birdstore/Active_Atlas_Data/data_root/CSHL_volumes/MD589/10.0um_annotationAsScoreVolume/Sp5C_L.npy\n",
      "Sp5C_L /net/birdstore/Active_Atlas_Data/data_root/CSHL_volumes/MD589/10.0um_annotationAsScoreVolume/Sp5C_L_origin_wrt_wholebrain.txt\n",
      "Sp5C_R /net/birdstore/Active_Atlas_Data/data_root/CSHL_volumes/MD589/10.0um_annotationAsScoreVolume/Sp5C_R.npy\n",
      "Sp5C_R /net/birdstore/Active_Atlas_Data/data_root/CSHL_volumes/MD589/10.0um_annotationAsScoreVolume/Sp5C_R_origin_wrt_wholebrain.txt\n",
      "Sp5I_L /net/birdstore/Active_Atlas_Data/data_root/CSHL_volumes/MD589/10.0um_annotationAsScoreVolume/Sp5I_L.npy\n",
      "Sp5I_L /net/birdstore/Active_Atlas_Data/data_root/CSHL_volumes/MD589/10.0um_annotationAsScoreVolume/Sp5I_L_origin_wrt_wholebrain.txt\n",
      "Sp5I_R /net/birdstore/Active_Atlas_Data/data_root/CSHL_volumes/MD589/10.0um_annotationAsScoreVolume/Sp5I_R.npy\n",
      "Sp5I_R /net/birdstore/Active_Atlas_Data/data_root/CSHL_volumes/MD589/10.0um_annotationAsScoreVolume/Sp5I_R_origin_wrt_wholebrain.txt\n",
      "Sp5O_L /net/birdstore/Active_Atlas_Data/data_root/CSHL_volumes/MD589/10.0um_annotationAsScoreVolume/Sp5O_L.npy\n",
      "Sp5O_L /net/birdstore/Active_Atlas_Data/data_root/CSHL_volumes/MD589/10.0um_annotationAsScoreVolume/Sp5O_L_origin_wrt_wholebrain.txt\n",
      "Sp5O_R /net/birdstore/Active_Atlas_Data/data_root/CSHL_volumes/MD589/10.0um_annotationAsScoreVolume/Sp5O_R.npy\n",
      "Sp5O_R /net/birdstore/Active_Atlas_Data/data_root/CSHL_volumes/MD589/10.0um_annotationAsScoreVolume/Sp5O_R_origin_wrt_wholebrain.txt\n",
      "Tz_L /net/birdstore/Active_Atlas_Data/data_root/CSHL_volumes/MD589/10.0um_annotationAsScoreVolume/Tz_L.npy\n",
      "Tz_L /net/birdstore/Active_Atlas_Data/data_root/CSHL_volumes/MD589/10.0um_annotationAsScoreVolume/Tz_L_origin_wrt_wholebrain.txt\n",
      "Tz_R /net/birdstore/Active_Atlas_Data/data_root/CSHL_volumes/MD589/10.0um_annotationAsScoreVolume/Tz_R.npy\n",
      "Tz_R /net/birdstore/Active_Atlas_Data/data_root/CSHL_volumes/MD589/10.0um_annotationAsScoreVolume/Tz_R_origin_wrt_wholebrain.txt\n",
      "VCA_L /net/birdstore/Active_Atlas_Data/data_root/CSHL_volumes/MD589/10.0um_annotationAsScoreVolume/VCA_L.npy\n",
      "VCA_L /net/birdstore/Active_Atlas_Data/data_root/CSHL_volumes/MD589/10.0um_annotationAsScoreVolume/VCA_L_origin_wrt_wholebrain.txt\n",
      "VCA_R /net/birdstore/Active_Atlas_Data/data_root/CSHL_volumes/MD589/10.0um_annotationAsScoreVolume/VCA_R.npy\n",
      "VCA_R /net/birdstore/Active_Atlas_Data/data_root/CSHL_volumes/MD589/10.0um_annotationAsScoreVolume/VCA_R_origin_wrt_wholebrain.txt\n",
      "VCP_L /net/birdstore/Active_Atlas_Data/data_root/CSHL_volumes/MD589/10.0um_annotationAsScoreVolume/VCP_L.npy\n",
      "VCP_L /net/birdstore/Active_Atlas_Data/data_root/CSHL_volumes/MD589/10.0um_annotationAsScoreVolume/VCP_L_origin_wrt_wholebrain.txt\n",
      "VCP_R /net/birdstore/Active_Atlas_Data/data_root/CSHL_volumes/MD589/10.0um_annotationAsScoreVolume/VCP_R.npy\n",
      "VCP_R /net/birdstore/Active_Atlas_Data/data_root/CSHL_volumes/MD589/10.0um_annotationAsScoreVolume/VCP_R_origin_wrt_wholebrain.txt\n",
      "VLL_L /net/birdstore/Active_Atlas_Data/data_root/CSHL_volumes/MD589/10.0um_annotationAsScoreVolume/VLL_L.npy\n",
      "VLL_L /net/birdstore/Active_Atlas_Data/data_root/CSHL_volumes/MD589/10.0um_annotationAsScoreVolume/VLL_L_origin_wrt_wholebrain.txt\n",
      "VLL_R /net/birdstore/Active_Atlas_Data/data_root/CSHL_volumes/MD589/10.0um_annotationAsScoreVolume/VLL_R.npy\n",
      "VLL_R /net/birdstore/Active_Atlas_Data/data_root/CSHL_volumes/MD589/10.0um_annotationAsScoreVolume/VLL_R_origin_wrt_wholebrain.txt\n"
     ]
    }
   ],
   "source": [
    "fixed_brain = load_original_volume_all_known_structures_v3(stack_spec=fixed_brain_spec, structures=structures, \n",
    "                                                           in_bbox_wrt='wholebrain')\n",
    "fixed_brain_structure_centroids = get_centroid_3d(fixed_brain)\n",
    "fixed_brain_structure_centroids_um = {s: c * resolution_um for s, c in fixed_brain_structure_centroids.items()}\n",
    "structure_centroids_all_brains_um_wrt_fixed.append(fixed_brain_structure_centroids_um)"
   ]
  },
  {
   "cell_type": "markdown",
   "metadata": {},
   "source": [
    "## Compute instance centroids"
   ]
  },
  {
   "cell_type": "code",
   "execution_count": 8,
   "metadata": {
    "scrolled": true
   },
   "outputs": [
    {
     "name": "stdout",
     "output_type": "stream",
     "text": [
      "Brain {'name': 'MD585', 'vol_type': 'annotationAsScore', 'resolution': '10.0um'}\n",
      "10N_L /net/birdstore/Active_Atlas_Data/data_root/CSHL_volumes/MD585/10.0um_annotationAsScoreVolume/10N_L.npy\n",
      "10N_L /net/birdstore/Active_Atlas_Data/data_root/CSHL_volumes/MD585/10.0um_annotationAsScoreVolume/10N_L_origin_wrt_wholebrain.txt\n",
      "10N_R /net/birdstore/Active_Atlas_Data/data_root/CSHL_volumes/MD585/10.0um_annotationAsScoreVolume/10N_R.npy\n",
      "10N_R /net/birdstore/Active_Atlas_Data/data_root/CSHL_volumes/MD585/10.0um_annotationAsScoreVolume/10N_R_origin_wrt_wholebrain.txt\n",
      "12N /net/birdstore/Active_Atlas_Data/data_root/CSHL_volumes/MD585/10.0um_annotationAsScoreVolume/12N.npy\n",
      "12N /net/birdstore/Active_Atlas_Data/data_root/CSHL_volumes/MD585/10.0um_annotationAsScoreVolume/12N_origin_wrt_wholebrain.txt\n",
      "3N_L /net/birdstore/Active_Atlas_Data/data_root/CSHL_volumes/MD585/10.0um_annotationAsScoreVolume/3N_L.npy\n",
      "3N_L /net/birdstore/Active_Atlas_Data/data_root/CSHL_volumes/MD585/10.0um_annotationAsScoreVolume/3N_L_origin_wrt_wholebrain.txt\n",
      "3N_R /net/birdstore/Active_Atlas_Data/data_root/CSHL_volumes/MD585/10.0um_annotationAsScoreVolume/3N_R.npy\n",
      "3N_R /net/birdstore/Active_Atlas_Data/data_root/CSHL_volumes/MD585/10.0um_annotationAsScoreVolume/3N_R_origin_wrt_wholebrain.txt\n",
      "4N_L /net/birdstore/Active_Atlas_Data/data_root/CSHL_volumes/MD585/10.0um_annotationAsScoreVolume/4N_L.npy\n",
      "4N_L /net/birdstore/Active_Atlas_Data/data_root/CSHL_volumes/MD585/10.0um_annotationAsScoreVolume/4N_L_origin_wrt_wholebrain.txt\n",
      "4N_R /net/birdstore/Active_Atlas_Data/data_root/CSHL_volumes/MD585/10.0um_annotationAsScoreVolume/4N_R.npy\n",
      "4N_R /net/birdstore/Active_Atlas_Data/data_root/CSHL_volumes/MD585/10.0um_annotationAsScoreVolume/4N_R_origin_wrt_wholebrain.txt\n",
      "5N_L /net/birdstore/Active_Atlas_Data/data_root/CSHL_volumes/MD585/10.0um_annotationAsScoreVolume/5N_L.npy\n",
      "5N_L /net/birdstore/Active_Atlas_Data/data_root/CSHL_volumes/MD585/10.0um_annotationAsScoreVolume/5N_L_origin_wrt_wholebrain.txt\n",
      "5N_R /net/birdstore/Active_Atlas_Data/data_root/CSHL_volumes/MD585/10.0um_annotationAsScoreVolume/5N_R.npy\n",
      "5N_R /net/birdstore/Active_Atlas_Data/data_root/CSHL_volumes/MD585/10.0um_annotationAsScoreVolume/5N_R_origin_wrt_wholebrain.txt\n",
      "6N_L /net/birdstore/Active_Atlas_Data/data_root/CSHL_volumes/MD585/10.0um_annotationAsScoreVolume/6N_L.npy\n",
      "6N_L /net/birdstore/Active_Atlas_Data/data_root/CSHL_volumes/MD585/10.0um_annotationAsScoreVolume/6N_L_origin_wrt_wholebrain.txt\n",
      "6N_R /net/birdstore/Active_Atlas_Data/data_root/CSHL_volumes/MD585/10.0um_annotationAsScoreVolume/6N_R.npy\n",
      "6N_R /net/birdstore/Active_Atlas_Data/data_root/CSHL_volumes/MD585/10.0um_annotationAsScoreVolume/6N_R_origin_wrt_wholebrain.txt\n",
      "7N_L /net/birdstore/Active_Atlas_Data/data_root/CSHL_volumes/MD585/10.0um_annotationAsScoreVolume/7N_L.npy\n",
      "7N_L /net/birdstore/Active_Atlas_Data/data_root/CSHL_volumes/MD585/10.0um_annotationAsScoreVolume/7N_L_origin_wrt_wholebrain.txt\n",
      "7N_R /net/birdstore/Active_Atlas_Data/data_root/CSHL_volumes/MD585/10.0um_annotationAsScoreVolume/7N_R.npy\n",
      "7N_R /net/birdstore/Active_Atlas_Data/data_root/CSHL_volumes/MD585/10.0um_annotationAsScoreVolume/7N_R_origin_wrt_wholebrain.txt\n",
      "7n_L /net/birdstore/Active_Atlas_Data/data_root/CSHL_volumes/MD585/10.0um_annotationAsScoreVolume/7n_L.npy\n",
      "7n_L /net/birdstore/Active_Atlas_Data/data_root/CSHL_volumes/MD585/10.0um_annotationAsScoreVolume/7n_L_origin_wrt_wholebrain.txt\n",
      "7n_R /net/birdstore/Active_Atlas_Data/data_root/CSHL_volumes/MD585/10.0um_annotationAsScoreVolume/7n_R.npy\n",
      "7n_R /net/birdstore/Active_Atlas_Data/data_root/CSHL_volumes/MD585/10.0um_annotationAsScoreVolume/7n_R_origin_wrt_wholebrain.txt\n",
      "AP /net/birdstore/Active_Atlas_Data/data_root/CSHL_volumes/MD585/10.0um_annotationAsScoreVolume/AP.npy\n",
      "AP /net/birdstore/Active_Atlas_Data/data_root/CSHL_volumes/MD585/10.0um_annotationAsScoreVolume/AP_origin_wrt_wholebrain.txt\n",
      "Amb_L /net/birdstore/Active_Atlas_Data/data_root/CSHL_volumes/MD585/10.0um_annotationAsScoreVolume/Amb_L.npy\n",
      "Amb_L /net/birdstore/Active_Atlas_Data/data_root/CSHL_volumes/MD585/10.0um_annotationAsScoreVolume/Amb_L_origin_wrt_wholebrain.txt\n",
      "Amb_R /net/birdstore/Active_Atlas_Data/data_root/CSHL_volumes/MD585/10.0um_annotationAsScoreVolume/Amb_R.npy\n",
      "Amb_R /net/birdstore/Active_Atlas_Data/data_root/CSHL_volumes/MD585/10.0um_annotationAsScoreVolume/Amb_R_origin_wrt_wholebrain.txt\n",
      "DC_L /net/birdstore/Active_Atlas_Data/data_root/CSHL_volumes/MD585/10.0um_annotationAsScoreVolume/DC_L.npy\n",
      "DC_L /net/birdstore/Active_Atlas_Data/data_root/CSHL_volumes/MD585/10.0um_annotationAsScoreVolume/DC_L_origin_wrt_wholebrain.txt\n",
      "DC_R /net/birdstore/Active_Atlas_Data/data_root/CSHL_volumes/MD585/10.0um_annotationAsScoreVolume/DC_R.npy\n",
      "DC_R /net/birdstore/Active_Atlas_Data/data_root/CSHL_volumes/MD585/10.0um_annotationAsScoreVolume/DC_R_origin_wrt_wholebrain.txt\n",
      "IC /net/birdstore/Active_Atlas_Data/data_root/CSHL_volumes/MD585/10.0um_annotationAsScoreVolume/IC.npy\n",
      "IC /net/birdstore/Active_Atlas_Data/data_root/CSHL_volumes/MD585/10.0um_annotationAsScoreVolume/IC_origin_wrt_wholebrain.txt\n",
      "LC_L /net/birdstore/Active_Atlas_Data/data_root/CSHL_volumes/MD585/10.0um_annotationAsScoreVolume/LC_L.npy\n",
      "LC_L /net/birdstore/Active_Atlas_Data/data_root/CSHL_volumes/MD585/10.0um_annotationAsScoreVolume/LC_L_origin_wrt_wholebrain.txt\n",
      "LC_R /net/birdstore/Active_Atlas_Data/data_root/CSHL_volumes/MD585/10.0um_annotationAsScoreVolume/LC_R.npy\n",
      "LC_R /net/birdstore/Active_Atlas_Data/data_root/CSHL_volumes/MD585/10.0um_annotationAsScoreVolume/LC_R_origin_wrt_wholebrain.txt\n",
      "LRt_L /net/birdstore/Active_Atlas_Data/data_root/CSHL_volumes/MD585/10.0um_annotationAsScoreVolume/LRt_L.npy\n",
      "LRt_L /net/birdstore/Active_Atlas_Data/data_root/CSHL_volumes/MD585/10.0um_annotationAsScoreVolume/LRt_L_origin_wrt_wholebrain.txt\n",
      "LRt_R /net/birdstore/Active_Atlas_Data/data_root/CSHL_volumes/MD585/10.0um_annotationAsScoreVolume/LRt_R.npy\n",
      "LRt_R /net/birdstore/Active_Atlas_Data/data_root/CSHL_volumes/MD585/10.0um_annotationAsScoreVolume/LRt_R_origin_wrt_wholebrain.txt\n",
      "PBG_L /net/birdstore/Active_Atlas_Data/data_root/CSHL_volumes/MD585/10.0um_annotationAsScoreVolume/PBG_L.npy\n",
      "PBG_L /net/birdstore/Active_Atlas_Data/data_root/CSHL_volumes/MD585/10.0um_annotationAsScoreVolume/PBG_L_origin_wrt_wholebrain.txt\n",
      "PBG_R /net/birdstore/Active_Atlas_Data/data_root/CSHL_volumes/MD585/10.0um_annotationAsScoreVolume/PBG_R.npy\n",
      "PBG_R /net/birdstore/Active_Atlas_Data/data_root/CSHL_volumes/MD585/10.0um_annotationAsScoreVolume/PBG_R_origin_wrt_wholebrain.txt\n",
      "Pn_L /net/birdstore/Active_Atlas_Data/data_root/CSHL_volumes/MD585/10.0um_annotationAsScoreVolume/Pn_L.npy\n",
      "Pn_L /net/birdstore/Active_Atlas_Data/data_root/CSHL_volumes/MD585/10.0um_annotationAsScoreVolume/Pn_L_origin_wrt_wholebrain.txt\n",
      "Pn_R /net/birdstore/Active_Atlas_Data/data_root/CSHL_volumes/MD585/10.0um_annotationAsScoreVolume/Pn_R.npy\n",
      "Pn_R /net/birdstore/Active_Atlas_Data/data_root/CSHL_volumes/MD585/10.0um_annotationAsScoreVolume/Pn_R_origin_wrt_wholebrain.txt\n",
      "RtTg /net/birdstore/Active_Atlas_Data/data_root/CSHL_volumes/MD585/10.0um_annotationAsScoreVolume/RtTg.npy\n",
      "RtTg /net/birdstore/Active_Atlas_Data/data_root/CSHL_volumes/MD585/10.0um_annotationAsScoreVolume/RtTg_origin_wrt_wholebrain.txt\n",
      "SC /net/birdstore/Active_Atlas_Data/data_root/CSHL_volumes/MD585/10.0um_annotationAsScoreVolume/SC.npy\n",
      "SC /net/birdstore/Active_Atlas_Data/data_root/CSHL_volumes/MD585/10.0um_annotationAsScoreVolume/SC_origin_wrt_wholebrain.txt\n",
      "SNC_L /net/birdstore/Active_Atlas_Data/data_root/CSHL_volumes/MD585/10.0um_annotationAsScoreVolume/SNC_L.npy\n",
      "SNC_L /net/birdstore/Active_Atlas_Data/data_root/CSHL_volumes/MD585/10.0um_annotationAsScoreVolume/SNC_L_origin_wrt_wholebrain.txt\n",
      "SNC_R /net/birdstore/Active_Atlas_Data/data_root/CSHL_volumes/MD585/10.0um_annotationAsScoreVolume/SNC_R.npy\n",
      "SNC_R /net/birdstore/Active_Atlas_Data/data_root/CSHL_volumes/MD585/10.0um_annotationAsScoreVolume/SNC_R_origin_wrt_wholebrain.txt\n",
      "SNR_L /net/birdstore/Active_Atlas_Data/data_root/CSHL_volumes/MD585/10.0um_annotationAsScoreVolume/SNR_L.npy\n",
      "SNR_L /net/birdstore/Active_Atlas_Data/data_root/CSHL_volumes/MD585/10.0um_annotationAsScoreVolume/SNR_L_origin_wrt_wholebrain.txt\n",
      "SNR_R /net/birdstore/Active_Atlas_Data/data_root/CSHL_volumes/MD585/10.0um_annotationAsScoreVolume/SNR_R.npy\n",
      "SNR_R /net/birdstore/Active_Atlas_Data/data_root/CSHL_volumes/MD585/10.0um_annotationAsScoreVolume/SNR_R_origin_wrt_wholebrain.txt\n",
      "Sp5C_L /net/birdstore/Active_Atlas_Data/data_root/CSHL_volumes/MD585/10.0um_annotationAsScoreVolume/Sp5C_L.npy\n",
      "Sp5C_L /net/birdstore/Active_Atlas_Data/data_root/CSHL_volumes/MD585/10.0um_annotationAsScoreVolume/Sp5C_L_origin_wrt_wholebrain.txt\n",
      "Sp5C_R /net/birdstore/Active_Atlas_Data/data_root/CSHL_volumes/MD585/10.0um_annotationAsScoreVolume/Sp5C_R.npy\n",
      "Sp5C_R /net/birdstore/Active_Atlas_Data/data_root/CSHL_volumes/MD585/10.0um_annotationAsScoreVolume/Sp5C_R_origin_wrt_wholebrain.txt\n"
     ]
    },
    {
     "name": "stdout",
     "output_type": "stream",
     "text": [
      "Sp5I_L /net/birdstore/Active_Atlas_Data/data_root/CSHL_volumes/MD585/10.0um_annotationAsScoreVolume/Sp5I_L.npy\n",
      "Sp5I_L /net/birdstore/Active_Atlas_Data/data_root/CSHL_volumes/MD585/10.0um_annotationAsScoreVolume/Sp5I_L_origin_wrt_wholebrain.txt\n",
      "Sp5I_R /net/birdstore/Active_Atlas_Data/data_root/CSHL_volumes/MD585/10.0um_annotationAsScoreVolume/Sp5I_R.npy\n",
      "Sp5I_R /net/birdstore/Active_Atlas_Data/data_root/CSHL_volumes/MD585/10.0um_annotationAsScoreVolume/Sp5I_R_origin_wrt_wholebrain.txt\n",
      "Sp5O_L /net/birdstore/Active_Atlas_Data/data_root/CSHL_volumes/MD585/10.0um_annotationAsScoreVolume/Sp5O_L.npy\n",
      "Sp5O_L /net/birdstore/Active_Atlas_Data/data_root/CSHL_volumes/MD585/10.0um_annotationAsScoreVolume/Sp5O_L_origin_wrt_wholebrain.txt\n",
      "Sp5O_R /net/birdstore/Active_Atlas_Data/data_root/CSHL_volumes/MD585/10.0um_annotationAsScoreVolume/Sp5O_R.npy\n",
      "Sp5O_R /net/birdstore/Active_Atlas_Data/data_root/CSHL_volumes/MD585/10.0um_annotationAsScoreVolume/Sp5O_R_origin_wrt_wholebrain.txt\n",
      "Tz_L /net/birdstore/Active_Atlas_Data/data_root/CSHL_volumes/MD585/10.0um_annotationAsScoreVolume/Tz_L.npy\n",
      "Tz_L /net/birdstore/Active_Atlas_Data/data_root/CSHL_volumes/MD585/10.0um_annotationAsScoreVolume/Tz_L_origin_wrt_wholebrain.txt\n",
      "Tz_R /net/birdstore/Active_Atlas_Data/data_root/CSHL_volumes/MD585/10.0um_annotationAsScoreVolume/Tz_R.npy\n",
      "Tz_R /net/birdstore/Active_Atlas_Data/data_root/CSHL_volumes/MD585/10.0um_annotationAsScoreVolume/Tz_R_origin_wrt_wholebrain.txt\n",
      "VCA_L /net/birdstore/Active_Atlas_Data/data_root/CSHL_volumes/MD585/10.0um_annotationAsScoreVolume/VCA_L.npy\n",
      "VCA_L /net/birdstore/Active_Atlas_Data/data_root/CSHL_volumes/MD585/10.0um_annotationAsScoreVolume/VCA_L_origin_wrt_wholebrain.txt\n",
      "VCA_R /net/birdstore/Active_Atlas_Data/data_root/CSHL_volumes/MD585/10.0um_annotationAsScoreVolume/VCA_R.npy\n",
      "VCA_R /net/birdstore/Active_Atlas_Data/data_root/CSHL_volumes/MD585/10.0um_annotationAsScoreVolume/VCA_R_origin_wrt_wholebrain.txt\n",
      "VCP_L /net/birdstore/Active_Atlas_Data/data_root/CSHL_volumes/MD585/10.0um_annotationAsScoreVolume/VCP_L.npy\n",
      "VCP_L /net/birdstore/Active_Atlas_Data/data_root/CSHL_volumes/MD585/10.0um_annotationAsScoreVolume/VCP_L_origin_wrt_wholebrain.txt\n",
      "VCP_R /net/birdstore/Active_Atlas_Data/data_root/CSHL_volumes/MD585/10.0um_annotationAsScoreVolume/VCP_R.npy\n",
      "VCP_R /net/birdstore/Active_Atlas_Data/data_root/CSHL_volumes/MD585/10.0um_annotationAsScoreVolume/VCP_R_origin_wrt_wholebrain.txt\n",
      "VLL_L /net/birdstore/Active_Atlas_Data/data_root/CSHL_volumes/MD585/10.0um_annotationAsScoreVolume/VLL_L.npy\n",
      "VLL_L /net/birdstore/Active_Atlas_Data/data_root/CSHL_volumes/MD585/10.0um_annotationAsScoreVolume/VLL_L_origin_wrt_wholebrain.txt\n",
      "VLL_R /net/birdstore/Active_Atlas_Data/data_root/CSHL_volumes/MD585/10.0um_annotationAsScoreVolume/VLL_R.npy\n",
      "VLL_R /net/birdstore/Active_Atlas_Data/data_root/CSHL_volumes/MD585/10.0um_annotationAsScoreVolume/VLL_R_origin_wrt_wholebrain.txt\n",
      "Brain {'name': 'MD594', 'vol_type': 'annotationAsScore', 'resolution': '10.0um'}\n",
      "10N_L /net/birdstore/Active_Atlas_Data/data_root/CSHL_volumes/MD594/10.0um_annotationAsScoreVolume/10N_L.npy\n",
      "10N_L /net/birdstore/Active_Atlas_Data/data_root/CSHL_volumes/MD594/10.0um_annotationAsScoreVolume/10N_L_origin_wrt_wholebrain.txt\n",
      "10N_R /net/birdstore/Active_Atlas_Data/data_root/CSHL_volumes/MD594/10.0um_annotationAsScoreVolume/10N_R.npy\n",
      "10N_R /net/birdstore/Active_Atlas_Data/data_root/CSHL_volumes/MD594/10.0um_annotationAsScoreVolume/10N_R_origin_wrt_wholebrain.txt\n",
      "12N /net/birdstore/Active_Atlas_Data/data_root/CSHL_volumes/MD594/10.0um_annotationAsScoreVolume/12N.npy\n",
      "12N /net/birdstore/Active_Atlas_Data/data_root/CSHL_volumes/MD594/10.0um_annotationAsScoreVolume/12N_origin_wrt_wholebrain.txt\n",
      "3N_L /net/birdstore/Active_Atlas_Data/data_root/CSHL_volumes/MD594/10.0um_annotationAsScoreVolume/3N_L.npy\n",
      "3N_L /net/birdstore/Active_Atlas_Data/data_root/CSHL_volumes/MD594/10.0um_annotationAsScoreVolume/3N_L_origin_wrt_wholebrain.txt\n",
      "3N_R /net/birdstore/Active_Atlas_Data/data_root/CSHL_volumes/MD594/10.0um_annotationAsScoreVolume/3N_R.npy\n",
      "3N_R /net/birdstore/Active_Atlas_Data/data_root/CSHL_volumes/MD594/10.0um_annotationAsScoreVolume/3N_R_origin_wrt_wholebrain.txt\n",
      "4N_L /net/birdstore/Active_Atlas_Data/data_root/CSHL_volumes/MD594/10.0um_annotationAsScoreVolume/4N_L.npy\n",
      "4N_L /net/birdstore/Active_Atlas_Data/data_root/CSHL_volumes/MD594/10.0um_annotationAsScoreVolume/4N_L_origin_wrt_wholebrain.txt\n",
      "4N_R /net/birdstore/Active_Atlas_Data/data_root/CSHL_volumes/MD594/10.0um_annotationAsScoreVolume/4N_R.npy\n",
      "4N_R /net/birdstore/Active_Atlas_Data/data_root/CSHL_volumes/MD594/10.0um_annotationAsScoreVolume/4N_R_origin_wrt_wholebrain.txt\n",
      "5N_L /net/birdstore/Active_Atlas_Data/data_root/CSHL_volumes/MD594/10.0um_annotationAsScoreVolume/5N_L.npy\n",
      "5N_L /net/birdstore/Active_Atlas_Data/data_root/CSHL_volumes/MD594/10.0um_annotationAsScoreVolume/5N_L_origin_wrt_wholebrain.txt\n",
      "5N_R /net/birdstore/Active_Atlas_Data/data_root/CSHL_volumes/MD594/10.0um_annotationAsScoreVolume/5N_R.npy\n",
      "5N_R /net/birdstore/Active_Atlas_Data/data_root/CSHL_volumes/MD594/10.0um_annotationAsScoreVolume/5N_R_origin_wrt_wholebrain.txt\n",
      "6N_L /net/birdstore/Active_Atlas_Data/data_root/CSHL_volumes/MD594/10.0um_annotationAsScoreVolume/6N_L.npy\n",
      "6N_L /net/birdstore/Active_Atlas_Data/data_root/CSHL_volumes/MD594/10.0um_annotationAsScoreVolume/6N_L_origin_wrt_wholebrain.txt\n",
      "6N_R /net/birdstore/Active_Atlas_Data/data_root/CSHL_volumes/MD594/10.0um_annotationAsScoreVolume/6N_R.npy\n",
      "6N_R /net/birdstore/Active_Atlas_Data/data_root/CSHL_volumes/MD594/10.0um_annotationAsScoreVolume/6N_R_origin_wrt_wholebrain.txt\n",
      "7N_L /net/birdstore/Active_Atlas_Data/data_root/CSHL_volumes/MD594/10.0um_annotationAsScoreVolume/7N_L.npy\n",
      "7N_L /net/birdstore/Active_Atlas_Data/data_root/CSHL_volumes/MD594/10.0um_annotationAsScoreVolume/7N_L_origin_wrt_wholebrain.txt\n",
      "7N_R /net/birdstore/Active_Atlas_Data/data_root/CSHL_volumes/MD594/10.0um_annotationAsScoreVolume/7N_R.npy\n",
      "7N_R /net/birdstore/Active_Atlas_Data/data_root/CSHL_volumes/MD594/10.0um_annotationAsScoreVolume/7N_R_origin_wrt_wholebrain.txt\n",
      "7n_L /net/birdstore/Active_Atlas_Data/data_root/CSHL_volumes/MD594/10.0um_annotationAsScoreVolume/7n_L.npy\n",
      "7n_L /net/birdstore/Active_Atlas_Data/data_root/CSHL_volumes/MD594/10.0um_annotationAsScoreVolume/7n_L_origin_wrt_wholebrain.txt\n",
      "7n_R /net/birdstore/Active_Atlas_Data/data_root/CSHL_volumes/MD594/10.0um_annotationAsScoreVolume/7n_R.npy\n",
      "7n_R /net/birdstore/Active_Atlas_Data/data_root/CSHL_volumes/MD594/10.0um_annotationAsScoreVolume/7n_R_origin_wrt_wholebrain.txt\n",
      "AP /net/birdstore/Active_Atlas_Data/data_root/CSHL_volumes/MD594/10.0um_annotationAsScoreVolume/AP.npy\n",
      "AP /net/birdstore/Active_Atlas_Data/data_root/CSHL_volumes/MD594/10.0um_annotationAsScoreVolume/AP_origin_wrt_wholebrain.txt\n",
      "Amb_L /net/birdstore/Active_Atlas_Data/data_root/CSHL_volumes/MD594/10.0um_annotationAsScoreVolume/Amb_L.npy\n",
      "Amb_L /net/birdstore/Active_Atlas_Data/data_root/CSHL_volumes/MD594/10.0um_annotationAsScoreVolume/Amb_L_origin_wrt_wholebrain.txt\n",
      "Amb_R /net/birdstore/Active_Atlas_Data/data_root/CSHL_volumes/MD594/10.0um_annotationAsScoreVolume/Amb_R.npy\n",
      "Amb_R /net/birdstore/Active_Atlas_Data/data_root/CSHL_volumes/MD594/10.0um_annotationAsScoreVolume/Amb_R_origin_wrt_wholebrain.txt\n",
      "DC_L /net/birdstore/Active_Atlas_Data/data_root/CSHL_volumes/MD594/10.0um_annotationAsScoreVolume/DC_L.npy\n",
      "DC_L /net/birdstore/Active_Atlas_Data/data_root/CSHL_volumes/MD594/10.0um_annotationAsScoreVolume/DC_L_origin_wrt_wholebrain.txt\n",
      "DC_R /net/birdstore/Active_Atlas_Data/data_root/CSHL_volumes/MD594/10.0um_annotationAsScoreVolume/DC_R.npy\n",
      "DC_R /net/birdstore/Active_Atlas_Data/data_root/CSHL_volumes/MD594/10.0um_annotationAsScoreVolume/DC_R_origin_wrt_wholebrain.txt\n",
      "IC /net/birdstore/Active_Atlas_Data/data_root/CSHL_volumes/MD594/10.0um_annotationAsScoreVolume/IC.npy\n",
      "IC /net/birdstore/Active_Atlas_Data/data_root/CSHL_volumes/MD594/10.0um_annotationAsScoreVolume/IC_origin_wrt_wholebrain.txt\n",
      "LC_L /net/birdstore/Active_Atlas_Data/data_root/CSHL_volumes/MD594/10.0um_annotationAsScoreVolume/LC_L.npy\n",
      "LC_L /net/birdstore/Active_Atlas_Data/data_root/CSHL_volumes/MD594/10.0um_annotationAsScoreVolume/LC_L_origin_wrt_wholebrain.txt\n",
      "LC_R /net/birdstore/Active_Atlas_Data/data_root/CSHL_volumes/MD594/10.0um_annotationAsScoreVolume/LC_R.npy\n",
      "LC_R /net/birdstore/Active_Atlas_Data/data_root/CSHL_volumes/MD594/10.0um_annotationAsScoreVolume/LC_R_origin_wrt_wholebrain.txt\n",
      "LRt_L /net/birdstore/Active_Atlas_Data/data_root/CSHL_volumes/MD594/10.0um_annotationAsScoreVolume/LRt_L.npy\n",
      "LRt_L /net/birdstore/Active_Atlas_Data/data_root/CSHL_volumes/MD594/10.0um_annotationAsScoreVolume/LRt_L_origin_wrt_wholebrain.txt\n",
      "LRt_R /net/birdstore/Active_Atlas_Data/data_root/CSHL_volumes/MD594/10.0um_annotationAsScoreVolume/LRt_R.npy\n",
      "LRt_R /net/birdstore/Active_Atlas_Data/data_root/CSHL_volumes/MD594/10.0um_annotationAsScoreVolume/LRt_R_origin_wrt_wholebrain.txt\n",
      "PBG_L /net/birdstore/Active_Atlas_Data/data_root/CSHL_volumes/MD594/10.0um_annotationAsScoreVolume/PBG_L.npy\n",
      "PBG_L /net/birdstore/Active_Atlas_Data/data_root/CSHL_volumes/MD594/10.0um_annotationAsScoreVolume/PBG_L_origin_wrt_wholebrain.txt\n",
      "PBG_R /net/birdstore/Active_Atlas_Data/data_root/CSHL_volumes/MD594/10.0um_annotationAsScoreVolume/PBG_R.npy\n",
      "PBG_R /net/birdstore/Active_Atlas_Data/data_root/CSHL_volumes/MD594/10.0um_annotationAsScoreVolume/PBG_R_origin_wrt_wholebrain.txt\n",
      "Pn_L /net/birdstore/Active_Atlas_Data/data_root/CSHL_volumes/MD594/10.0um_annotationAsScoreVolume/Pn_L.npy\n",
      "Pn_L /net/birdstore/Active_Atlas_Data/data_root/CSHL_volumes/MD594/10.0um_annotationAsScoreVolume/Pn_L_origin_wrt_wholebrain.txt\n",
      "Pn_R /net/birdstore/Active_Atlas_Data/data_root/CSHL_volumes/MD594/10.0um_annotationAsScoreVolume/Pn_R.npy\n",
      "Pn_R /net/birdstore/Active_Atlas_Data/data_root/CSHL_volumes/MD594/10.0um_annotationAsScoreVolume/Pn_R_origin_wrt_wholebrain.txt\n",
      "RtTg /net/birdstore/Active_Atlas_Data/data_root/CSHL_volumes/MD594/10.0um_annotationAsScoreVolume/RtTg.npy\n",
      "RtTg /net/birdstore/Active_Atlas_Data/data_root/CSHL_volumes/MD594/10.0um_annotationAsScoreVolume/RtTg_origin_wrt_wholebrain.txt\n",
      "SC /net/birdstore/Active_Atlas_Data/data_root/CSHL_volumes/MD594/10.0um_annotationAsScoreVolume/SC.npy\n",
      "SC /net/birdstore/Active_Atlas_Data/data_root/CSHL_volumes/MD594/10.0um_annotationAsScoreVolume/SC_origin_wrt_wholebrain.txt\n"
     ]
    },
    {
     "name": "stdout",
     "output_type": "stream",
     "text": [
      "SNC_L /net/birdstore/Active_Atlas_Data/data_root/CSHL_volumes/MD594/10.0um_annotationAsScoreVolume/SNC_L.npy\n",
      "SNC_L /net/birdstore/Active_Atlas_Data/data_root/CSHL_volumes/MD594/10.0um_annotationAsScoreVolume/SNC_L_origin_wrt_wholebrain.txt\n",
      "SNC_R /net/birdstore/Active_Atlas_Data/data_root/CSHL_volumes/MD594/10.0um_annotationAsScoreVolume/SNC_R.npy\n",
      "SNC_R /net/birdstore/Active_Atlas_Data/data_root/CSHL_volumes/MD594/10.0um_annotationAsScoreVolume/SNC_R_origin_wrt_wholebrain.txt\n",
      "SNR_L /net/birdstore/Active_Atlas_Data/data_root/CSHL_volumes/MD594/10.0um_annotationAsScoreVolume/SNR_L.npy\n",
      "SNR_L /net/birdstore/Active_Atlas_Data/data_root/CSHL_volumes/MD594/10.0um_annotationAsScoreVolume/SNR_L_origin_wrt_wholebrain.txt\n",
      "SNR_R /net/birdstore/Active_Atlas_Data/data_root/CSHL_volumes/MD594/10.0um_annotationAsScoreVolume/SNR_R.npy\n",
      "SNR_R /net/birdstore/Active_Atlas_Data/data_root/CSHL_volumes/MD594/10.0um_annotationAsScoreVolume/SNR_R_origin_wrt_wholebrain.txt\n",
      "Sp5C_L /net/birdstore/Active_Atlas_Data/data_root/CSHL_volumes/MD594/10.0um_annotationAsScoreVolume/Sp5C_L.npy\n",
      "Sp5C_L /net/birdstore/Active_Atlas_Data/data_root/CSHL_volumes/MD594/10.0um_annotationAsScoreVolume/Sp5C_L_origin_wrt_wholebrain.txt\n",
      "Sp5C_R /net/birdstore/Active_Atlas_Data/data_root/CSHL_volumes/MD594/10.0um_annotationAsScoreVolume/Sp5C_R.npy\n",
      "Sp5C_R /net/birdstore/Active_Atlas_Data/data_root/CSHL_volumes/MD594/10.0um_annotationAsScoreVolume/Sp5C_R_origin_wrt_wholebrain.txt\n",
      "Sp5I_L /net/birdstore/Active_Atlas_Data/data_root/CSHL_volumes/MD594/10.0um_annotationAsScoreVolume/Sp5I_L.npy\n",
      "Sp5I_L /net/birdstore/Active_Atlas_Data/data_root/CSHL_volumes/MD594/10.0um_annotationAsScoreVolume/Sp5I_L_origin_wrt_wholebrain.txt\n",
      "Sp5I_R /net/birdstore/Active_Atlas_Data/data_root/CSHL_volumes/MD594/10.0um_annotationAsScoreVolume/Sp5I_R.npy\n",
      "Sp5I_R /net/birdstore/Active_Atlas_Data/data_root/CSHL_volumes/MD594/10.0um_annotationAsScoreVolume/Sp5I_R_origin_wrt_wholebrain.txt\n",
      "Sp5O_L /net/birdstore/Active_Atlas_Data/data_root/CSHL_volumes/MD594/10.0um_annotationAsScoreVolume/Sp5O_L.npy\n",
      "Sp5O_L /net/birdstore/Active_Atlas_Data/data_root/CSHL_volumes/MD594/10.0um_annotationAsScoreVolume/Sp5O_L_origin_wrt_wholebrain.txt\n",
      "Sp5O_R /net/birdstore/Active_Atlas_Data/data_root/CSHL_volumes/MD594/10.0um_annotationAsScoreVolume/Sp5O_R.npy\n",
      "Sp5O_R /net/birdstore/Active_Atlas_Data/data_root/CSHL_volumes/MD594/10.0um_annotationAsScoreVolume/Sp5O_R_origin_wrt_wholebrain.txt\n",
      "Tz_L /net/birdstore/Active_Atlas_Data/data_root/CSHL_volumes/MD594/10.0um_annotationAsScoreVolume/Tz_L.npy\n",
      "Tz_L /net/birdstore/Active_Atlas_Data/data_root/CSHL_volumes/MD594/10.0um_annotationAsScoreVolume/Tz_L_origin_wrt_wholebrain.txt\n",
      "Tz_R /net/birdstore/Active_Atlas_Data/data_root/CSHL_volumes/MD594/10.0um_annotationAsScoreVolume/Tz_R.npy\n",
      "Tz_R /net/birdstore/Active_Atlas_Data/data_root/CSHL_volumes/MD594/10.0um_annotationAsScoreVolume/Tz_R_origin_wrt_wholebrain.txt\n",
      "VCA_L /net/birdstore/Active_Atlas_Data/data_root/CSHL_volumes/MD594/10.0um_annotationAsScoreVolume/VCA_L.npy\n",
      "VCA_L /net/birdstore/Active_Atlas_Data/data_root/CSHL_volumes/MD594/10.0um_annotationAsScoreVolume/VCA_L_origin_wrt_wholebrain.txt\n",
      "VCA_R /net/birdstore/Active_Atlas_Data/data_root/CSHL_volumes/MD594/10.0um_annotationAsScoreVolume/VCA_R.npy\n",
      "VCA_R /net/birdstore/Active_Atlas_Data/data_root/CSHL_volumes/MD594/10.0um_annotationAsScoreVolume/VCA_R_origin_wrt_wholebrain.txt\n",
      "VCP_L /net/birdstore/Active_Atlas_Data/data_root/CSHL_volumes/MD594/10.0um_annotationAsScoreVolume/VCP_L.npy\n",
      "VCP_L /net/birdstore/Active_Atlas_Data/data_root/CSHL_volumes/MD594/10.0um_annotationAsScoreVolume/VCP_L_origin_wrt_wholebrain.txt\n",
      "VCP_R /net/birdstore/Active_Atlas_Data/data_root/CSHL_volumes/MD594/10.0um_annotationAsScoreVolume/VCP_R.npy\n",
      "VCP_R /net/birdstore/Active_Atlas_Data/data_root/CSHL_volumes/MD594/10.0um_annotationAsScoreVolume/VCP_R_origin_wrt_wholebrain.txt\n",
      "VLL_L /net/birdstore/Active_Atlas_Data/data_root/CSHL_volumes/MD594/10.0um_annotationAsScoreVolume/VLL_L.npy\n",
      "VLL_L /net/birdstore/Active_Atlas_Data/data_root/CSHL_volumes/MD594/10.0um_annotationAsScoreVolume/VLL_L_origin_wrt_wholebrain.txt\n",
      "VLL_R /net/birdstore/Active_Atlas_Data/data_root/CSHL_volumes/MD594/10.0um_annotationAsScoreVolume/VLL_R.npy\n",
      "VLL_R /net/birdstore/Active_Atlas_Data/data_root/CSHL_volumes/MD594/10.0um_annotationAsScoreVolume/VLL_R_origin_wrt_wholebrain.txt\n"
     ]
    }
   ],
   "source": [
    "for brain_m in moving_brain_names:\n",
    "    moving_brain_spec = {'name': brain_m, 'vol_type': 'annotationAsScore', 'resolution': resolution}\n",
    "    print('Brain', moving_brain_spec)\n",
    "    moving_brain = load_original_volume_all_known_structures_v3(stack_spec=moving_brain_spec, \n",
    "                                                                structures=structures, in_bbox_wrt='wholebrain')\n",
    "    alignment_spec = dict(stack_m=moving_brain_spec, stack_f=fixed_brain_spec, warp_setting=109)\n",
    "    moving_brain_structure_centroids_input_resol = get_centroid_3d(moving_brain)\n",
    "    # Load registration.\n",
    "    # Alignment results fp: os.path.join(reg_root_dir, alignment_spec['stack_m']['name'], warp_basename, warp_basename + '_' + what + '.' + ext)\n",
    "    transform_parameters_moving_brain_to_fixed_brain = load_alignment_results_v3(alignment_spec=alignment_spec, what='parameters')\n",
    "    # Transform moving brains into alignment with the fixed brain.\n",
    "    transformed_moving_brain_structure_centroids_input_resol_wrt_fixed = \\\n",
    "    dict(list(zip(list(moving_brain_structure_centroids_input_resol.keys()),\n",
    "                  transform_points(pts=list(moving_brain_structure_centroids_input_resol.values()),\n",
    "                                   transform=transform_parameters_moving_brain_to_fixed_brain))))\n",
    "\n",
    "    transformed_moving_brain_structure_centroids_um_wrt_fixed = \\\n",
    "        {s: c * resolution_um for s, c in\n",
    "        list(transformed_moving_brain_structure_centroids_input_resol_wrt_fixed.items())}\n",
    "\n",
    "    structure_centroids_all_brains_um_wrt_fixed.append(transformed_moving_brain_structure_centroids_um_wrt_fixed)\n"
   ]
  },
  {
   "cell_type": "code",
   "execution_count": 9,
   "metadata": {},
   "outputs": [],
   "source": [
    "structure_centroids_all_brains_um_grouped_by_structure_wrt_fixed = defaultdict(list)\n",
    "for sc in structure_centroids_all_brains_um_wrt_fixed:\n",
    "    for k, c in sc.items():\n",
    "        structure_centroids_all_brains_um_grouped_by_structure_wrt_fixed[k].append(c)\n",
    "structure_centroids_all_brains_um_grouped_by_structure_wrt_fixed.default_factory = None"
   ]
  },
  {
   "cell_type": "code",
   "execution_count": 10,
   "metadata": {},
   "outputs": [
    {
     "name": "stdout",
     "output_type": "stream",
     "text": [
      "Pn Mid-sagittal plane normal vector = [ 0.02633371 -0.08777717  0.995792  ]\n",
      "Mid-sagittal plane anchor wrt fixed wholebrain = [11929.41824137  5637.83540897  4678.30261238]\n"
     ]
    }
   ],
   "source": [
    "nominal_centroids, \\\n",
    "instance_centroids_wrt_canonicalAtlasSpace_um, \\\n",
    "canonical_center_wrt_fixed_um, \\\n",
    "canonical_normal, \\\n",
    "transform_matrix_to_canonicalAtlasSpace_um = \\\n",
    "average_location(structure_centroids_all_brains_um_grouped_by_structure_wrt_fixed)"
   ]
  },
  {
   "cell_type": "code",
   "execution_count": 11,
   "metadata": {},
   "outputs": [],
   "source": [
    "filepath = os.path.join(ATLAS_PATH, '1um_meanPositions.pkl')\n",
    "with open(filepath, 'wb') as f:\n",
    "    pickle.dump(nominal_centroids, f)"
   ]
  },
  {
   "cell_type": "code",
   "execution_count": 12,
   "metadata": {},
   "outputs": [
    {
     "name": "stderr",
     "output_type": "stream",
     "text": [
      "\r",
      "  0%|          | 0/49 [00:00<?, ?it/s]"
     ]
    },
    {
     "name": "stdout",
     "output_type": "stream",
     "text": [
      "10N_L /net/birdstore/Active_Atlas_Data/data_root/CSHL_volumes/MD589/10.0um_annotationAsScoreVolume/10N_L.npy\n",
      "10N_L /net/birdstore/Active_Atlas_Data/data_root/CSHL_volumes/MD589/10.0um_annotationAsScoreVolume/10N_L_origin_wrt_wholebrain.txt\n",
      "10N_L /net/birdstore/Active_Atlas_Data/data_root/CSHL_volumes/MD585/10.0um_annotationAsScoreVolume/10N_L.npy\n",
      "10N_L /net/birdstore/Active_Atlas_Data/data_root/CSHL_volumes/MD585/10.0um_annotationAsScoreVolume/10N_L_origin_wrt_wholebrain.txt\n",
      "10N_L /net/birdstore/Active_Atlas_Data/data_root/CSHL_volumes/MD594/10.0um_annotationAsScoreVolume/10N_L.npy\n",
      "10N_L /net/birdstore/Active_Atlas_Data/data_root/CSHL_volumes/MD594/10.0um_annotationAsScoreVolume/10N_L_origin_wrt_wholebrain.txt\n"
     ]
    },
    {
     "name": "stderr",
     "output_type": "stream",
     "text": [
      "\r",
      "  2%|▏         | 1/49 [00:00<00:32,  1.46it/s]"
     ]
    },
    {
     "name": "stdout",
     "output_type": "stream",
     "text": [
      "10N_R /net/birdstore/Active_Atlas_Data/data_root/CSHL_volumes/MD589/10.0um_annotationAsScoreVolume/10N_R.npy\n",
      "10N_R /net/birdstore/Active_Atlas_Data/data_root/CSHL_volumes/MD589/10.0um_annotationAsScoreVolume/10N_R_origin_wrt_wholebrain.txt\n",
      "10N_R /net/birdstore/Active_Atlas_Data/data_root/CSHL_volumes/MD585/10.0um_annotationAsScoreVolume/10N_R.npy\n",
      "10N_R /net/birdstore/Active_Atlas_Data/data_root/CSHL_volumes/MD585/10.0um_annotationAsScoreVolume/10N_R_origin_wrt_wholebrain.txt\n",
      "10N_R /net/birdstore/Active_Atlas_Data/data_root/CSHL_volumes/MD594/10.0um_annotationAsScoreVolume/10N_R.npy\n",
      "10N_R /net/birdstore/Active_Atlas_Data/data_root/CSHL_volumes/MD594/10.0um_annotationAsScoreVolume/10N_R_origin_wrt_wholebrain.txt\n"
     ]
    },
    {
     "name": "stderr",
     "output_type": "stream",
     "text": [
      "\r",
      "  4%|▍         | 2/49 [00:01<00:31,  1.51it/s]"
     ]
    },
    {
     "name": "stdout",
     "output_type": "stream",
     "text": [
      "12N /net/birdstore/Active_Atlas_Data/data_root/CSHL_volumes/MD589/10.0um_annotationAsScoreVolume/12N.npy\n",
      "12N /net/birdstore/Active_Atlas_Data/data_root/CSHL_volumes/MD589/10.0um_annotationAsScoreVolume/12N_origin_wrt_wholebrain.txt\n",
      "12N /net/birdstore/Active_Atlas_Data/data_root/CSHL_volumes/MD585/10.0um_annotationAsScoreVolume/12N.npy\n",
      "12N /net/birdstore/Active_Atlas_Data/data_root/CSHL_volumes/MD585/10.0um_annotationAsScoreVolume/12N_origin_wrt_wholebrain.txt\n",
      "12N /net/birdstore/Active_Atlas_Data/data_root/CSHL_volumes/MD594/10.0um_annotationAsScoreVolume/12N.npy\n",
      "12N /net/birdstore/Active_Atlas_Data/data_root/CSHL_volumes/MD594/10.0um_annotationAsScoreVolume/12N_origin_wrt_wholebrain.txt\n"
     ]
    },
    {
     "name": "stderr",
     "output_type": "stream",
     "text": [
      "\r",
      "  6%|▌         | 3/49 [00:03<01:00,  1.32s/it]"
     ]
    },
    {
     "name": "stdout",
     "output_type": "stream",
     "text": [
      "3N_L /net/birdstore/Active_Atlas_Data/data_root/CSHL_volumes/MD589/10.0um_annotationAsScoreVolume/3N_L.npy\n",
      "3N_L /net/birdstore/Active_Atlas_Data/data_root/CSHL_volumes/MD589/10.0um_annotationAsScoreVolume/3N_L_origin_wrt_wholebrain.txt\n",
      "3N_L /net/birdstore/Active_Atlas_Data/data_root/CSHL_volumes/MD585/10.0um_annotationAsScoreVolume/3N_L.npy\n",
      "3N_L /net/birdstore/Active_Atlas_Data/data_root/CSHL_volumes/MD585/10.0um_annotationAsScoreVolume/3N_L_origin_wrt_wholebrain.txt\n",
      "3N_L /net/birdstore/Active_Atlas_Data/data_root/CSHL_volumes/MD594/10.0um_annotationAsScoreVolume/3N_L.npy\n",
      "3N_L /net/birdstore/Active_Atlas_Data/data_root/CSHL_volumes/MD594/10.0um_annotationAsScoreVolume/3N_L_origin_wrt_wholebrain.txt\n"
     ]
    },
    {
     "name": "stderr",
     "output_type": "stream",
     "text": [
      "\r",
      "  8%|▊         | 4/49 [00:03<00:43,  1.05it/s]"
     ]
    },
    {
     "name": "stdout",
     "output_type": "stream",
     "text": [
      "3N_R /net/birdstore/Active_Atlas_Data/data_root/CSHL_volumes/MD589/10.0um_annotationAsScoreVolume/3N_R.npy\n",
      "3N_R /net/birdstore/Active_Atlas_Data/data_root/CSHL_volumes/MD589/10.0um_annotationAsScoreVolume/3N_R_origin_wrt_wholebrain.txt\n",
      "3N_R /net/birdstore/Active_Atlas_Data/data_root/CSHL_volumes/MD585/10.0um_annotationAsScoreVolume/3N_R.npy\n",
      "3N_R /net/birdstore/Active_Atlas_Data/data_root/CSHL_volumes/MD585/10.0um_annotationAsScoreVolume/3N_R_origin_wrt_wholebrain.txt\n",
      "3N_R /net/birdstore/Active_Atlas_Data/data_root/CSHL_volumes/MD594/10.0um_annotationAsScoreVolume/3N_R.npy\n",
      "3N_R /net/birdstore/Active_Atlas_Data/data_root/CSHL_volumes/MD594/10.0um_annotationAsScoreVolume/3N_R_origin_wrt_wholebrain.txt\n"
     ]
    },
    {
     "name": "stderr",
     "output_type": "stream",
     "text": [
      " 14%|█▍        | 7/49 [00:04<00:16,  2.50it/s]"
     ]
    },
    {
     "name": "stdout",
     "output_type": "stream",
     "text": [
      "4N_L /net/birdstore/Active_Atlas_Data/data_root/CSHL_volumes/MD589/10.0um_annotationAsScoreVolume/4N_L.npy\n",
      "4N_L /net/birdstore/Active_Atlas_Data/data_root/CSHL_volumes/MD589/10.0um_annotationAsScoreVolume/4N_L_origin_wrt_wholebrain.txt\n",
      "4N_L /net/birdstore/Active_Atlas_Data/data_root/CSHL_volumes/MD585/10.0um_annotationAsScoreVolume/4N_L.npy\n",
      "4N_L /net/birdstore/Active_Atlas_Data/data_root/CSHL_volumes/MD585/10.0um_annotationAsScoreVolume/4N_L_origin_wrt_wholebrain.txt\n",
      "4N_L /net/birdstore/Active_Atlas_Data/data_root/CSHL_volumes/MD594/10.0um_annotationAsScoreVolume/4N_L.npy\n",
      "4N_L /net/birdstore/Active_Atlas_Data/data_root/CSHL_volumes/MD594/10.0um_annotationAsScoreVolume/4N_L_origin_wrt_wholebrain.txt\n",
      "4N_R /net/birdstore/Active_Atlas_Data/data_root/CSHL_volumes/MD589/10.0um_annotationAsScoreVolume/4N_R.npy\n",
      "4N_R /net/birdstore/Active_Atlas_Data/data_root/CSHL_volumes/MD589/10.0um_annotationAsScoreVolume/4N_R_origin_wrt_wholebrain.txt\n",
      "4N_R /net/birdstore/Active_Atlas_Data/data_root/CSHL_volumes/MD585/10.0um_annotationAsScoreVolume/4N_R.npy\n",
      "4N_R /net/birdstore/Active_Atlas_Data/data_root/CSHL_volumes/MD585/10.0um_annotationAsScoreVolume/4N_R_origin_wrt_wholebrain.txt\n",
      "4N_R /net/birdstore/Active_Atlas_Data/data_root/CSHL_volumes/MD594/10.0um_annotationAsScoreVolume/4N_R.npy\n",
      "4N_R /net/birdstore/Active_Atlas_Data/data_root/CSHL_volumes/MD594/10.0um_annotationAsScoreVolume/4N_R_origin_wrt_wholebrain.txt\n",
      "5N_L /net/birdstore/Active_Atlas_Data/data_root/CSHL_volumes/MD589/10.0um_annotationAsScoreVolume/5N_L.npy\n",
      "5N_L /net/birdstore/Active_Atlas_Data/data_root/CSHL_volumes/MD589/10.0um_annotationAsScoreVolume/5N_L_origin_wrt_wholebrain.txt\n",
      "5N_L /net/birdstore/Active_Atlas_Data/data_root/CSHL_volumes/MD585/10.0um_annotationAsScoreVolume/5N_L.npy\n",
      "5N_L /net/birdstore/Active_Atlas_Data/data_root/CSHL_volumes/MD585/10.0um_annotationAsScoreVolume/5N_L_origin_wrt_wholebrain.txt\n",
      "5N_L /net/birdstore/Active_Atlas_Data/data_root/CSHL_volumes/MD594/10.0um_annotationAsScoreVolume/5N_L.npy\n",
      "5N_L /net/birdstore/Active_Atlas_Data/data_root/CSHL_volumes/MD594/10.0um_annotationAsScoreVolume/5N_L_origin_wrt_wholebrain.txt\n"
     ]
    },
    {
     "name": "stderr",
     "output_type": "stream",
     "text": [
      "\r",
      " 16%|█▋        | 8/49 [00:05<00:24,  1.71it/s]"
     ]
    },
    {
     "name": "stdout",
     "output_type": "stream",
     "text": [
      "5N_R /net/birdstore/Active_Atlas_Data/data_root/CSHL_volumes/MD589/10.0um_annotationAsScoreVolume/5N_R.npy\n",
      "5N_R /net/birdstore/Active_Atlas_Data/data_root/CSHL_volumes/MD589/10.0um_annotationAsScoreVolume/5N_R_origin_wrt_wholebrain.txt\n",
      "5N_R /net/birdstore/Active_Atlas_Data/data_root/CSHL_volumes/MD585/10.0um_annotationAsScoreVolume/5N_R.npy\n",
      "5N_R /net/birdstore/Active_Atlas_Data/data_root/CSHL_volumes/MD585/10.0um_annotationAsScoreVolume/5N_R_origin_wrt_wholebrain.txt\n",
      "5N_R /net/birdstore/Active_Atlas_Data/data_root/CSHL_volumes/MD594/10.0um_annotationAsScoreVolume/5N_R.npy\n",
      "5N_R /net/birdstore/Active_Atlas_Data/data_root/CSHL_volumes/MD594/10.0um_annotationAsScoreVolume/5N_R_origin_wrt_wholebrain.txt\n"
     ]
    },
    {
     "name": "stderr",
     "output_type": "stream",
     "text": [
      " 20%|██        | 10/49 [00:06<00:21,  1.82it/s]"
     ]
    },
    {
     "name": "stdout",
     "output_type": "stream",
     "text": [
      "6N_L /net/birdstore/Active_Atlas_Data/data_root/CSHL_volumes/MD589/10.0um_annotationAsScoreVolume/6N_L.npy\n",
      "6N_L /net/birdstore/Active_Atlas_Data/data_root/CSHL_volumes/MD589/10.0um_annotationAsScoreVolume/6N_L_origin_wrt_wholebrain.txt\n",
      "6N_L /net/birdstore/Active_Atlas_Data/data_root/CSHL_volumes/MD585/10.0um_annotationAsScoreVolume/6N_L.npy\n",
      "6N_L /net/birdstore/Active_Atlas_Data/data_root/CSHL_volumes/MD585/10.0um_annotationAsScoreVolume/6N_L_origin_wrt_wholebrain.txt\n",
      "6N_L /net/birdstore/Active_Atlas_Data/data_root/CSHL_volumes/MD594/10.0um_annotationAsScoreVolume/6N_L.npy\n",
      "6N_L /net/birdstore/Active_Atlas_Data/data_root/CSHL_volumes/MD594/10.0um_annotationAsScoreVolume/6N_L_origin_wrt_wholebrain.txt\n",
      "6N_R /net/birdstore/Active_Atlas_Data/data_root/CSHL_volumes/MD589/10.0um_annotationAsScoreVolume/6N_R.npy\n",
      "6N_R /net/birdstore/Active_Atlas_Data/data_root/CSHL_volumes/MD589/10.0um_annotationAsScoreVolume/6N_R_origin_wrt_wholebrain.txt\n",
      "6N_R /net/birdstore/Active_Atlas_Data/data_root/CSHL_volumes/MD585/10.0um_annotationAsScoreVolume/6N_R.npy\n",
      "6N_R /net/birdstore/Active_Atlas_Data/data_root/CSHL_volumes/MD585/10.0um_annotationAsScoreVolume/6N_R_origin_wrt_wholebrain.txt\n",
      "6N_R /net/birdstore/Active_Atlas_Data/data_root/CSHL_volumes/MD594/10.0um_annotationAsScoreVolume/6N_R.npy\n",
      "6N_R /net/birdstore/Active_Atlas_Data/data_root/CSHL_volumes/MD594/10.0um_annotationAsScoreVolume/6N_R_origin_wrt_wholebrain.txt\n",
      "7N_L /net/birdstore/Active_Atlas_Data/data_root/CSHL_volumes/MD589/10.0um_annotationAsScoreVolume/7N_L.npy\n",
      "7N_L /net/birdstore/Active_Atlas_Data/data_root/CSHL_volumes/MD589/10.0um_annotationAsScoreVolume/7N_L_origin_wrt_wholebrain.txt\n",
      "7N_L /net/birdstore/Active_Atlas_Data/data_root/CSHL_volumes/MD585/10.0um_annotationAsScoreVolume/7N_L.npy\n",
      "7N_L /net/birdstore/Active_Atlas_Data/data_root/CSHL_volumes/MD585/10.0um_annotationAsScoreVolume/7N_L_origin_wrt_wholebrain.txt\n",
      "7N_L /net/birdstore/Active_Atlas_Data/data_root/CSHL_volumes/MD594/10.0um_annotationAsScoreVolume/7N_L.npy\n",
      "7N_L /net/birdstore/Active_Atlas_Data/data_root/CSHL_volumes/MD594/10.0um_annotationAsScoreVolume/7N_L_origin_wrt_wholebrain.txt\n"
     ]
    },
    {
     "name": "stderr",
     "output_type": "stream",
     "text": [
      "\r",
      " 24%|██▍       | 12/49 [00:08<00:28,  1.29it/s]"
     ]
    },
    {
     "name": "stdout",
     "output_type": "stream",
     "text": [
      "7N_R /net/birdstore/Active_Atlas_Data/data_root/CSHL_volumes/MD589/10.0um_annotationAsScoreVolume/7N_R.npy\n",
      "7N_R /net/birdstore/Active_Atlas_Data/data_root/CSHL_volumes/MD589/10.0um_annotationAsScoreVolume/7N_R_origin_wrt_wholebrain.txt\n",
      "7N_R /net/birdstore/Active_Atlas_Data/data_root/CSHL_volumes/MD585/10.0um_annotationAsScoreVolume/7N_R.npy\n",
      "7N_R /net/birdstore/Active_Atlas_Data/data_root/CSHL_volumes/MD585/10.0um_annotationAsScoreVolume/7N_R_origin_wrt_wholebrain.txt\n",
      "7N_R /net/birdstore/Active_Atlas_Data/data_root/CSHL_volumes/MD594/10.0um_annotationAsScoreVolume/7N_R.npy\n",
      "7N_R /net/birdstore/Active_Atlas_Data/data_root/CSHL_volumes/MD594/10.0um_annotationAsScoreVolume/7N_R_origin_wrt_wholebrain.txt\n"
     ]
    },
    {
     "name": "stderr",
     "output_type": "stream",
     "text": [
      "\r",
      " 27%|██▋       | 13/49 [00:10<00:38,  1.07s/it]"
     ]
    },
    {
     "name": "stdout",
     "output_type": "stream",
     "text": [
      "7n_L /net/birdstore/Active_Atlas_Data/data_root/CSHL_volumes/MD589/10.0um_annotationAsScoreVolume/7n_L.npy\n",
      "7n_L /net/birdstore/Active_Atlas_Data/data_root/CSHL_volumes/MD589/10.0um_annotationAsScoreVolume/7n_L_origin_wrt_wholebrain.txt\n",
      "7n_L /net/birdstore/Active_Atlas_Data/data_root/CSHL_volumes/MD585/10.0um_annotationAsScoreVolume/7n_L.npy\n",
      "7n_L /net/birdstore/Active_Atlas_Data/data_root/CSHL_volumes/MD585/10.0um_annotationAsScoreVolume/7n_L_origin_wrt_wholebrain.txt\n",
      "7n_L /net/birdstore/Active_Atlas_Data/data_root/CSHL_volumes/MD594/10.0um_annotationAsScoreVolume/7n_L.npy\n",
      "7n_L /net/birdstore/Active_Atlas_Data/data_root/CSHL_volumes/MD594/10.0um_annotationAsScoreVolume/7n_L_origin_wrt_wholebrain.txt\n"
     ]
    },
    {
     "name": "stderr",
     "output_type": "stream",
     "text": [
      "\r",
      " 29%|██▊       | 14/49 [00:13<00:48,  1.39s/it]"
     ]
    },
    {
     "name": "stdout",
     "output_type": "stream",
     "text": [
      "7n_R /net/birdstore/Active_Atlas_Data/data_root/CSHL_volumes/MD589/10.0um_annotationAsScoreVolume/7n_R.npy\n",
      "7n_R /net/birdstore/Active_Atlas_Data/data_root/CSHL_volumes/MD589/10.0um_annotationAsScoreVolume/7n_R_origin_wrt_wholebrain.txt\n",
      "7n_R /net/birdstore/Active_Atlas_Data/data_root/CSHL_volumes/MD585/10.0um_annotationAsScoreVolume/7n_R.npy\n",
      "7n_R /net/birdstore/Active_Atlas_Data/data_root/CSHL_volumes/MD585/10.0um_annotationAsScoreVolume/7n_R_origin_wrt_wholebrain.txt\n",
      "7n_R /net/birdstore/Active_Atlas_Data/data_root/CSHL_volumes/MD594/10.0um_annotationAsScoreVolume/7n_R.npy\n",
      "7n_R /net/birdstore/Active_Atlas_Data/data_root/CSHL_volumes/MD594/10.0um_annotationAsScoreVolume/7n_R_origin_wrt_wholebrain.txt\n"
     ]
    },
    {
     "name": "stderr",
     "output_type": "stream",
     "text": [
      "\r",
      " 31%|███       | 15/49 [00:14<00:50,  1.49s/it]"
     ]
    },
    {
     "name": "stdout",
     "output_type": "stream",
     "text": [
      "AP /net/birdstore/Active_Atlas_Data/data_root/CSHL_volumes/MD589/10.0um_annotationAsScoreVolume/AP.npy\n",
      "AP /net/birdstore/Active_Atlas_Data/data_root/CSHL_volumes/MD589/10.0um_annotationAsScoreVolume/AP_origin_wrt_wholebrain.txt\n",
      "AP /net/birdstore/Active_Atlas_Data/data_root/CSHL_volumes/MD585/10.0um_annotationAsScoreVolume/AP.npy\n",
      "AP /net/birdstore/Active_Atlas_Data/data_root/CSHL_volumes/MD585/10.0um_annotationAsScoreVolume/AP_origin_wrt_wholebrain.txt\n",
      "AP /net/birdstore/Active_Atlas_Data/data_root/CSHL_volumes/MD594/10.0um_annotationAsScoreVolume/AP.npy\n",
      "AP /net/birdstore/Active_Atlas_Data/data_root/CSHL_volumes/MD594/10.0um_annotationAsScoreVolume/AP_origin_wrt_wholebrain.txt\n"
     ]
    },
    {
     "name": "stderr",
     "output_type": "stream",
     "text": [
      " 35%|███▍      | 17/49 [00:15<00:28,  1.13it/s]"
     ]
    },
    {
     "name": "stdout",
     "output_type": "stream",
     "text": [
      "Amb_L /net/birdstore/Active_Atlas_Data/data_root/CSHL_volumes/MD589/10.0um_annotationAsScoreVolume/Amb_L.npy\n",
      "Amb_L /net/birdstore/Active_Atlas_Data/data_root/CSHL_volumes/MD589/10.0um_annotationAsScoreVolume/Amb_L_origin_wrt_wholebrain.txt\n",
      "Amb_L /net/birdstore/Active_Atlas_Data/data_root/CSHL_volumes/MD585/10.0um_annotationAsScoreVolume/Amb_L.npy\n",
      "Amb_L /net/birdstore/Active_Atlas_Data/data_root/CSHL_volumes/MD585/10.0um_annotationAsScoreVolume/Amb_L_origin_wrt_wholebrain.txt\n",
      "Amb_L /net/birdstore/Active_Atlas_Data/data_root/CSHL_volumes/MD594/10.0um_annotationAsScoreVolume/Amb_L.npy\n",
      "Amb_L /net/birdstore/Active_Atlas_Data/data_root/CSHL_volumes/MD594/10.0um_annotationAsScoreVolume/Amb_L_origin_wrt_wholebrain.txt\n",
      "Amb_R /net/birdstore/Active_Atlas_Data/data_root/CSHL_volumes/MD589/10.0um_annotationAsScoreVolume/Amb_R.npy\n",
      "Amb_R /net/birdstore/Active_Atlas_Data/data_root/CSHL_volumes/MD589/10.0um_annotationAsScoreVolume/Amb_R_origin_wrt_wholebrain.txt\n",
      "Amb_R /net/birdstore/Active_Atlas_Data/data_root/CSHL_volumes/MD585/10.0um_annotationAsScoreVolume/Amb_R.npy\n",
      "Amb_R /net/birdstore/Active_Atlas_Data/data_root/CSHL_volumes/MD585/10.0um_annotationAsScoreVolume/Amb_R_origin_wrt_wholebrain.txt\n",
      "Amb_R /net/birdstore/Active_Atlas_Data/data_root/CSHL_volumes/MD594/10.0um_annotationAsScoreVolume/Amb_R.npy\n",
      "Amb_R /net/birdstore/Active_Atlas_Data/data_root/CSHL_volumes/MD594/10.0um_annotationAsScoreVolume/Amb_R_origin_wrt_wholebrain.txt\n"
     ]
    },
    {
     "name": "stderr",
     "output_type": "stream",
     "text": [
      "\r",
      " 37%|███▋      | 18/49 [00:15<00:20,  1.50it/s]"
     ]
    },
    {
     "name": "stdout",
     "output_type": "stream",
     "text": [
      "DC_L /net/birdstore/Active_Atlas_Data/data_root/CSHL_volumes/MD589/10.0um_annotationAsScoreVolume/DC_L.npy\n",
      "DC_L /net/birdstore/Active_Atlas_Data/data_root/CSHL_volumes/MD589/10.0um_annotationAsScoreVolume/DC_L_origin_wrt_wholebrain.txt\n",
      "DC_L /net/birdstore/Active_Atlas_Data/data_root/CSHL_volumes/MD585/10.0um_annotationAsScoreVolume/DC_L.npy\n",
      "DC_L /net/birdstore/Active_Atlas_Data/data_root/CSHL_volumes/MD585/10.0um_annotationAsScoreVolume/DC_L_origin_wrt_wholebrain.txt\n",
      "DC_L /net/birdstore/Active_Atlas_Data/data_root/CSHL_volumes/MD594/10.0um_annotationAsScoreVolume/DC_L.npy\n",
      "DC_L /net/birdstore/Active_Atlas_Data/data_root/CSHL_volumes/MD594/10.0um_annotationAsScoreVolume/DC_L_origin_wrt_wholebrain.txt\n"
     ]
    },
    {
     "name": "stderr",
     "output_type": "stream",
     "text": [
      "\r",
      " 39%|███▉      | 19/49 [00:17<00:35,  1.17s/it]"
     ]
    },
    {
     "name": "stdout",
     "output_type": "stream",
     "text": [
      "DC_R /net/birdstore/Active_Atlas_Data/data_root/CSHL_volumes/MD589/10.0um_annotationAsScoreVolume/DC_R.npy\n",
      "DC_R /net/birdstore/Active_Atlas_Data/data_root/CSHL_volumes/MD589/10.0um_annotationAsScoreVolume/DC_R_origin_wrt_wholebrain.txt\n",
      "DC_R /net/birdstore/Active_Atlas_Data/data_root/CSHL_volumes/MD585/10.0um_annotationAsScoreVolume/DC_R.npy\n",
      "DC_R /net/birdstore/Active_Atlas_Data/data_root/CSHL_volumes/MD585/10.0um_annotationAsScoreVolume/DC_R_origin_wrt_wholebrain.txt\n",
      "DC_R /net/birdstore/Active_Atlas_Data/data_root/CSHL_volumes/MD594/10.0um_annotationAsScoreVolume/DC_R.npy\n",
      "DC_R /net/birdstore/Active_Atlas_Data/data_root/CSHL_volumes/MD594/10.0um_annotationAsScoreVolume/DC_R_origin_wrt_wholebrain.txt\n"
     ]
    },
    {
     "name": "stderr",
     "output_type": "stream",
     "text": [
      "\r",
      " 41%|████      | 20/49 [00:19<00:42,  1.46s/it]"
     ]
    },
    {
     "name": "stdout",
     "output_type": "stream",
     "text": [
      "IC /net/birdstore/Active_Atlas_Data/data_root/CSHL_volumes/MD589/10.0um_annotationAsScoreVolume/IC.npy\n",
      "IC /net/birdstore/Active_Atlas_Data/data_root/CSHL_volumes/MD589/10.0um_annotationAsScoreVolume/IC_origin_wrt_wholebrain.txt\n",
      "IC /net/birdstore/Active_Atlas_Data/data_root/CSHL_volumes/MD585/10.0um_annotationAsScoreVolume/IC.npy\n",
      "IC /net/birdstore/Active_Atlas_Data/data_root/CSHL_volumes/MD585/10.0um_annotationAsScoreVolume/IC_origin_wrt_wholebrain.txt\n",
      "IC /net/birdstore/Active_Atlas_Data/data_root/CSHL_volumes/MD594/10.0um_annotationAsScoreVolume/IC.npy\n",
      "IC /net/birdstore/Active_Atlas_Data/data_root/CSHL_volumes/MD594/10.0um_annotationAsScoreVolume/IC_origin_wrt_wholebrain.txt\n"
     ]
    },
    {
     "name": "stderr",
     "output_type": "stream",
     "text": [
      "\r",
      " 43%|████▎     | 21/49 [00:47<04:17,  9.19s/it]"
     ]
    },
    {
     "name": "stdout",
     "output_type": "stream",
     "text": [
      "LC_L /net/birdstore/Active_Atlas_Data/data_root/CSHL_volumes/MD589/10.0um_annotationAsScoreVolume/LC_L.npy\n",
      "LC_L /net/birdstore/Active_Atlas_Data/data_root/CSHL_volumes/MD589/10.0um_annotationAsScoreVolume/LC_L_origin_wrt_wholebrain.txt\n",
      "LC_L /net/birdstore/Active_Atlas_Data/data_root/CSHL_volumes/MD585/10.0um_annotationAsScoreVolume/LC_L.npy\n",
      "LC_L /net/birdstore/Active_Atlas_Data/data_root/CSHL_volumes/MD585/10.0um_annotationAsScoreVolume/LC_L_origin_wrt_wholebrain.txt\n",
      "LC_L /net/birdstore/Active_Atlas_Data/data_root/CSHL_volumes/MD594/10.0um_annotationAsScoreVolume/LC_L.npy\n",
      "LC_L /net/birdstore/Active_Atlas_Data/data_root/CSHL_volumes/MD594/10.0um_annotationAsScoreVolume/LC_L_origin_wrt_wholebrain.txt\n"
     ]
    },
    {
     "name": "stderr",
     "output_type": "stream",
     "text": [
      "\r",
      " 45%|████▍     | 22/49 [00:48<02:59,  6.64s/it]"
     ]
    },
    {
     "name": "stdout",
     "output_type": "stream",
     "text": [
      "LC_R /net/birdstore/Active_Atlas_Data/data_root/CSHL_volumes/MD589/10.0um_annotationAsScoreVolume/LC_R.npy\n",
      "LC_R /net/birdstore/Active_Atlas_Data/data_root/CSHL_volumes/MD589/10.0um_annotationAsScoreVolume/LC_R_origin_wrt_wholebrain.txt\n",
      "LC_R /net/birdstore/Active_Atlas_Data/data_root/CSHL_volumes/MD585/10.0um_annotationAsScoreVolume/LC_R.npy\n",
      "LC_R /net/birdstore/Active_Atlas_Data/data_root/CSHL_volumes/MD585/10.0um_annotationAsScoreVolume/LC_R_origin_wrt_wholebrain.txt\n",
      "LC_R /net/birdstore/Active_Atlas_Data/data_root/CSHL_volumes/MD594/10.0um_annotationAsScoreVolume/LC_R.npy\n",
      "LC_R /net/birdstore/Active_Atlas_Data/data_root/CSHL_volumes/MD594/10.0um_annotationAsScoreVolume/LC_R_origin_wrt_wholebrain.txt\n"
     ]
    },
    {
     "name": "stderr",
     "output_type": "stream",
     "text": [
      "\r",
      " 47%|████▋     | 23/49 [00:48<02:05,  4.82s/it]"
     ]
    },
    {
     "name": "stdout",
     "output_type": "stream",
     "text": [
      "LRt_L /net/birdstore/Active_Atlas_Data/data_root/CSHL_volumes/MD589/10.0um_annotationAsScoreVolume/LRt_L.npy\n",
      "LRt_L /net/birdstore/Active_Atlas_Data/data_root/CSHL_volumes/MD589/10.0um_annotationAsScoreVolume/LRt_L_origin_wrt_wholebrain.txt\n",
      "LRt_L /net/birdstore/Active_Atlas_Data/data_root/CSHL_volumes/MD585/10.0um_annotationAsScoreVolume/LRt_L.npy\n",
      "LRt_L /net/birdstore/Active_Atlas_Data/data_root/CSHL_volumes/MD585/10.0um_annotationAsScoreVolume/LRt_L_origin_wrt_wholebrain.txt\n",
      "LRt_L /net/birdstore/Active_Atlas_Data/data_root/CSHL_volumes/MD594/10.0um_annotationAsScoreVolume/LRt_L.npy\n",
      "LRt_L /net/birdstore/Active_Atlas_Data/data_root/CSHL_volumes/MD594/10.0um_annotationAsScoreVolume/LRt_L_origin_wrt_wholebrain.txt\n"
     ]
    },
    {
     "name": "stderr",
     "output_type": "stream",
     "text": [
      "\r",
      " 49%|████▉     | 24/49 [00:50<01:37,  3.91s/it]"
     ]
    },
    {
     "name": "stdout",
     "output_type": "stream",
     "text": [
      "LRt_R /net/birdstore/Active_Atlas_Data/data_root/CSHL_volumes/MD589/10.0um_annotationAsScoreVolume/LRt_R.npy\n",
      "LRt_R /net/birdstore/Active_Atlas_Data/data_root/CSHL_volumes/MD589/10.0um_annotationAsScoreVolume/LRt_R_origin_wrt_wholebrain.txt\n",
      "LRt_R /net/birdstore/Active_Atlas_Data/data_root/CSHL_volumes/MD585/10.0um_annotationAsScoreVolume/LRt_R.npy\n",
      "LRt_R /net/birdstore/Active_Atlas_Data/data_root/CSHL_volumes/MD585/10.0um_annotationAsScoreVolume/LRt_R_origin_wrt_wholebrain.txt\n",
      "LRt_R /net/birdstore/Active_Atlas_Data/data_root/CSHL_volumes/MD594/10.0um_annotationAsScoreVolume/LRt_R.npy\n",
      "LRt_R /net/birdstore/Active_Atlas_Data/data_root/CSHL_volumes/MD594/10.0um_annotationAsScoreVolume/LRt_R_origin_wrt_wholebrain.txt\n"
     ]
    },
    {
     "name": "stderr",
     "output_type": "stream",
     "text": [
      "\r",
      " 51%|█████     | 25/49 [00:52<01:20,  3.36s/it]"
     ]
    },
    {
     "name": "stdout",
     "output_type": "stream",
     "text": [
      "PBG_L /net/birdstore/Active_Atlas_Data/data_root/CSHL_volumes/MD589/10.0um_annotationAsScoreVolume/PBG_L.npy\n",
      "PBG_L /net/birdstore/Active_Atlas_Data/data_root/CSHL_volumes/MD589/10.0um_annotationAsScoreVolume/PBG_L_origin_wrt_wholebrain.txt\n",
      "PBG_L /net/birdstore/Active_Atlas_Data/data_root/CSHL_volumes/MD585/10.0um_annotationAsScoreVolume/PBG_L.npy\n",
      "PBG_L /net/birdstore/Active_Atlas_Data/data_root/CSHL_volumes/MD585/10.0um_annotationAsScoreVolume/PBG_L_origin_wrt_wholebrain.txt\n",
      "PBG_L /net/birdstore/Active_Atlas_Data/data_root/CSHL_volumes/MD594/10.0um_annotationAsScoreVolume/PBG_L.npy\n",
      "PBG_L /net/birdstore/Active_Atlas_Data/data_root/CSHL_volumes/MD594/10.0um_annotationAsScoreVolume/PBG_L_origin_wrt_wholebrain.txt\n"
     ]
    },
    {
     "name": "stderr",
     "output_type": "stream",
     "text": [
      "\r",
      " 53%|█████▎    | 26/49 [00:52<00:56,  2.46s/it]"
     ]
    },
    {
     "name": "stdout",
     "output_type": "stream",
     "text": [
      "PBG_R /net/birdstore/Active_Atlas_Data/data_root/CSHL_volumes/MD589/10.0um_annotationAsScoreVolume/PBG_R.npy\n",
      "PBG_R /net/birdstore/Active_Atlas_Data/data_root/CSHL_volumes/MD589/10.0um_annotationAsScoreVolume/PBG_R_origin_wrt_wholebrain.txt\n",
      "PBG_R /net/birdstore/Active_Atlas_Data/data_root/CSHL_volumes/MD585/10.0um_annotationAsScoreVolume/PBG_R.npy\n",
      "PBG_R /net/birdstore/Active_Atlas_Data/data_root/CSHL_volumes/MD585/10.0um_annotationAsScoreVolume/PBG_R_origin_wrt_wholebrain.txt\n",
      "PBG_R /net/birdstore/Active_Atlas_Data/data_root/CSHL_volumes/MD594/10.0um_annotationAsScoreVolume/PBG_R.npy\n",
      "PBG_R /net/birdstore/Active_Atlas_Data/data_root/CSHL_volumes/MD594/10.0um_annotationAsScoreVolume/PBG_R_origin_wrt_wholebrain.txt\n"
     ]
    },
    {
     "name": "stderr",
     "output_type": "stream",
     "text": [
      "\r",
      " 55%|█████▌    | 27/49 [00:53<00:39,  1.81s/it]"
     ]
    },
    {
     "name": "stdout",
     "output_type": "stream",
     "text": [
      "Pn_L /net/birdstore/Active_Atlas_Data/data_root/CSHL_volumes/MD589/10.0um_annotationAsScoreVolume/Pn_L.npy\n",
      "Pn_L /net/birdstore/Active_Atlas_Data/data_root/CSHL_volumes/MD589/10.0um_annotationAsScoreVolume/Pn_L_origin_wrt_wholebrain.txt\n",
      "Pn_L /net/birdstore/Active_Atlas_Data/data_root/CSHL_volumes/MD585/10.0um_annotationAsScoreVolume/Pn_L.npy\n",
      "Pn_L /net/birdstore/Active_Atlas_Data/data_root/CSHL_volumes/MD585/10.0um_annotationAsScoreVolume/Pn_L_origin_wrt_wholebrain.txt\n",
      "Pn_L /net/birdstore/Active_Atlas_Data/data_root/CSHL_volumes/MD594/10.0um_annotationAsScoreVolume/Pn_L.npy\n",
      "Pn_L /net/birdstore/Active_Atlas_Data/data_root/CSHL_volumes/MD594/10.0um_annotationAsScoreVolume/Pn_L_origin_wrt_wholebrain.txt\n"
     ]
    },
    {
     "name": "stderr",
     "output_type": "stream",
     "text": [
      "\r",
      " 57%|█████▋    | 28/49 [00:56<00:48,  2.31s/it]"
     ]
    },
    {
     "name": "stdout",
     "output_type": "stream",
     "text": [
      "Pn_R /net/birdstore/Active_Atlas_Data/data_root/CSHL_volumes/MD589/10.0um_annotationAsScoreVolume/Pn_R.npy\n",
      "Pn_R /net/birdstore/Active_Atlas_Data/data_root/CSHL_volumes/MD589/10.0um_annotationAsScoreVolume/Pn_R_origin_wrt_wholebrain.txt\n",
      "Pn_R /net/birdstore/Active_Atlas_Data/data_root/CSHL_volumes/MD585/10.0um_annotationAsScoreVolume/Pn_R.npy\n",
      "Pn_R /net/birdstore/Active_Atlas_Data/data_root/CSHL_volumes/MD585/10.0um_annotationAsScoreVolume/Pn_R_origin_wrt_wholebrain.txt\n",
      "Pn_R /net/birdstore/Active_Atlas_Data/data_root/CSHL_volumes/MD594/10.0um_annotationAsScoreVolume/Pn_R.npy\n",
      "Pn_R /net/birdstore/Active_Atlas_Data/data_root/CSHL_volumes/MD594/10.0um_annotationAsScoreVolume/Pn_R_origin_wrt_wholebrain.txt\n"
     ]
    },
    {
     "name": "stderr",
     "output_type": "stream",
     "text": [
      "\r",
      " 59%|█████▉    | 29/49 [01:00<00:52,  2.62s/it]"
     ]
    },
    {
     "name": "stdout",
     "output_type": "stream",
     "text": [
      "RtTg /net/birdstore/Active_Atlas_Data/data_root/CSHL_volumes/MD589/10.0um_annotationAsScoreVolume/RtTg.npy\n",
      "RtTg /net/birdstore/Active_Atlas_Data/data_root/CSHL_volumes/MD589/10.0um_annotationAsScoreVolume/RtTg_origin_wrt_wholebrain.txt\n",
      "RtTg /net/birdstore/Active_Atlas_Data/data_root/CSHL_volumes/MD585/10.0um_annotationAsScoreVolume/RtTg.npy\n",
      "RtTg /net/birdstore/Active_Atlas_Data/data_root/CSHL_volumes/MD585/10.0um_annotationAsScoreVolume/RtTg_origin_wrt_wholebrain.txt\n",
      "RtTg /net/birdstore/Active_Atlas_Data/data_root/CSHL_volumes/MD594/10.0um_annotationAsScoreVolume/RtTg.npy\n",
      "RtTg /net/birdstore/Active_Atlas_Data/data_root/CSHL_volumes/MD594/10.0um_annotationAsScoreVolume/RtTg_origin_wrt_wholebrain.txt\n"
     ]
    },
    {
     "name": "stderr",
     "output_type": "stream",
     "text": [
      "\r",
      " 61%|██████    | 30/49 [01:06<01:09,  3.63s/it]"
     ]
    },
    {
     "name": "stdout",
     "output_type": "stream",
     "text": [
      "SC /net/birdstore/Active_Atlas_Data/data_root/CSHL_volumes/MD589/10.0um_annotationAsScoreVolume/SC.npy\n",
      "SC /net/birdstore/Active_Atlas_Data/data_root/CSHL_volumes/MD589/10.0um_annotationAsScoreVolume/SC_origin_wrt_wholebrain.txt\n",
      "SC /net/birdstore/Active_Atlas_Data/data_root/CSHL_volumes/MD585/10.0um_annotationAsScoreVolume/SC.npy\n",
      "SC /net/birdstore/Active_Atlas_Data/data_root/CSHL_volumes/MD585/10.0um_annotationAsScoreVolume/SC_origin_wrt_wholebrain.txt\n",
      "SC /net/birdstore/Active_Atlas_Data/data_root/CSHL_volumes/MD594/10.0um_annotationAsScoreVolume/SC.npy\n",
      "SC /net/birdstore/Active_Atlas_Data/data_root/CSHL_volumes/MD594/10.0um_annotationAsScoreVolume/SC_origin_wrt_wholebrain.txt\n"
     ]
    },
    {
     "name": "stderr",
     "output_type": "stream",
     "text": [
      "\r",
      " 63%|██████▎   | 31/49 [01:39<03:44, 12.49s/it]"
     ]
    },
    {
     "name": "stdout",
     "output_type": "stream",
     "text": [
      "SNC_L /net/birdstore/Active_Atlas_Data/data_root/CSHL_volumes/MD589/10.0um_annotationAsScoreVolume/SNC_L.npy\n",
      "SNC_L /net/birdstore/Active_Atlas_Data/data_root/CSHL_volumes/MD589/10.0um_annotationAsScoreVolume/SNC_L_origin_wrt_wholebrain.txt\n",
      "SNC_L /net/birdstore/Active_Atlas_Data/data_root/CSHL_volumes/MD585/10.0um_annotationAsScoreVolume/SNC_L.npy\n",
      "SNC_L /net/birdstore/Active_Atlas_Data/data_root/CSHL_volumes/MD585/10.0um_annotationAsScoreVolume/SNC_L_origin_wrt_wholebrain.txt\n",
      "SNC_L /net/birdstore/Active_Atlas_Data/data_root/CSHL_volumes/MD594/10.0um_annotationAsScoreVolume/SNC_L.npy\n",
      "SNC_L /net/birdstore/Active_Atlas_Data/data_root/CSHL_volumes/MD594/10.0um_annotationAsScoreVolume/SNC_L_origin_wrt_wholebrain.txt\n"
     ]
    },
    {
     "name": "stderr",
     "output_type": "stream",
     "text": [
      "\r",
      " 65%|██████▌   | 32/49 [01:40<02:34,  9.11s/it]"
     ]
    },
    {
     "name": "stdout",
     "output_type": "stream",
     "text": [
      "SNC_R /net/birdstore/Active_Atlas_Data/data_root/CSHL_volumes/MD589/10.0um_annotationAsScoreVolume/SNC_R.npy\n",
      "SNC_R /net/birdstore/Active_Atlas_Data/data_root/CSHL_volumes/MD589/10.0um_annotationAsScoreVolume/SNC_R_origin_wrt_wholebrain.txt\n",
      "SNC_R /net/birdstore/Active_Atlas_Data/data_root/CSHL_volumes/MD585/10.0um_annotationAsScoreVolume/SNC_R.npy\n",
      "SNC_R /net/birdstore/Active_Atlas_Data/data_root/CSHL_volumes/MD585/10.0um_annotationAsScoreVolume/SNC_R_origin_wrt_wholebrain.txt\n",
      "SNC_R /net/birdstore/Active_Atlas_Data/data_root/CSHL_volumes/MD594/10.0um_annotationAsScoreVolume/SNC_R.npy\n",
      "SNC_R /net/birdstore/Active_Atlas_Data/data_root/CSHL_volumes/MD594/10.0um_annotationAsScoreVolume/SNC_R_origin_wrt_wholebrain.txt\n"
     ]
    },
    {
     "name": "stderr",
     "output_type": "stream",
     "text": [
      "\r",
      " 67%|██████▋   | 33/49 [01:41<01:47,  6.70s/it]"
     ]
    },
    {
     "name": "stdout",
     "output_type": "stream",
     "text": [
      "SNR_L /net/birdstore/Active_Atlas_Data/data_root/CSHL_volumes/MD589/10.0um_annotationAsScoreVolume/SNR_L.npy\n",
      "SNR_L /net/birdstore/Active_Atlas_Data/data_root/CSHL_volumes/MD589/10.0um_annotationAsScoreVolume/SNR_L_origin_wrt_wholebrain.txt\n",
      "SNR_L /net/birdstore/Active_Atlas_Data/data_root/CSHL_volumes/MD585/10.0um_annotationAsScoreVolume/SNR_L.npy\n",
      "SNR_L /net/birdstore/Active_Atlas_Data/data_root/CSHL_volumes/MD585/10.0um_annotationAsScoreVolume/SNR_L_origin_wrt_wholebrain.txt\n",
      "SNR_L /net/birdstore/Active_Atlas_Data/data_root/CSHL_volumes/MD594/10.0um_annotationAsScoreVolume/SNR_L.npy\n",
      "SNR_L /net/birdstore/Active_Atlas_Data/data_root/CSHL_volumes/MD594/10.0um_annotationAsScoreVolume/SNR_L_origin_wrt_wholebrain.txt\n"
     ]
    },
    {
     "name": "stderr",
     "output_type": "stream",
     "text": [
      "\r",
      " 69%|██████▉   | 34/49 [01:46<01:33,  6.24s/it]"
     ]
    },
    {
     "name": "stdout",
     "output_type": "stream",
     "text": [
      "SNR_R /net/birdstore/Active_Atlas_Data/data_root/CSHL_volumes/MD589/10.0um_annotationAsScoreVolume/SNR_R.npy\n",
      "SNR_R /net/birdstore/Active_Atlas_Data/data_root/CSHL_volumes/MD589/10.0um_annotationAsScoreVolume/SNR_R_origin_wrt_wholebrain.txt\n",
      "SNR_R /net/birdstore/Active_Atlas_Data/data_root/CSHL_volumes/MD585/10.0um_annotationAsScoreVolume/SNR_R.npy\n",
      "SNR_R /net/birdstore/Active_Atlas_Data/data_root/CSHL_volumes/MD585/10.0um_annotationAsScoreVolume/SNR_R_origin_wrt_wholebrain.txt\n",
      "SNR_R /net/birdstore/Active_Atlas_Data/data_root/CSHL_volumes/MD594/10.0um_annotationAsScoreVolume/SNR_R.npy\n",
      "SNR_R /net/birdstore/Active_Atlas_Data/data_root/CSHL_volumes/MD594/10.0um_annotationAsScoreVolume/SNR_R_origin_wrt_wholebrain.txt\n"
     ]
    },
    {
     "name": "stderr",
     "output_type": "stream",
     "text": [
      "\r",
      " 71%|███████▏  | 35/49 [01:51<01:23,  5.96s/it]"
     ]
    },
    {
     "name": "stdout",
     "output_type": "stream",
     "text": [
      "Sp5C_L /net/birdstore/Active_Atlas_Data/data_root/CSHL_volumes/MD589/10.0um_annotationAsScoreVolume/Sp5C_L.npy\n",
      "Sp5C_L /net/birdstore/Active_Atlas_Data/data_root/CSHL_volumes/MD589/10.0um_annotationAsScoreVolume/Sp5C_L_origin_wrt_wholebrain.txt\n",
      "Sp5C_L /net/birdstore/Active_Atlas_Data/data_root/CSHL_volumes/MD585/10.0um_annotationAsScoreVolume/Sp5C_L.npy\n",
      "Sp5C_L /net/birdstore/Active_Atlas_Data/data_root/CSHL_volumes/MD585/10.0um_annotationAsScoreVolume/Sp5C_L_origin_wrt_wholebrain.txt\n",
      "Sp5C_L /net/birdstore/Active_Atlas_Data/data_root/CSHL_volumes/MD594/10.0um_annotationAsScoreVolume/Sp5C_L.npy\n",
      "Sp5C_L /net/birdstore/Active_Atlas_Data/data_root/CSHL_volumes/MD594/10.0um_annotationAsScoreVolume/Sp5C_L_origin_wrt_wholebrain.txt\n"
     ]
    },
    {
     "name": "stderr",
     "output_type": "stream",
     "text": [
      "\r",
      " 73%|███████▎  | 36/49 [01:58<01:19,  6.15s/it]"
     ]
    },
    {
     "name": "stdout",
     "output_type": "stream",
     "text": [
      "Sp5C_R /net/birdstore/Active_Atlas_Data/data_root/CSHL_volumes/MD589/10.0um_annotationAsScoreVolume/Sp5C_R.npy\n",
      "Sp5C_R /net/birdstore/Active_Atlas_Data/data_root/CSHL_volumes/MD589/10.0um_annotationAsScoreVolume/Sp5C_R_origin_wrt_wholebrain.txt\n",
      "Sp5C_R /net/birdstore/Active_Atlas_Data/data_root/CSHL_volumes/MD585/10.0um_annotationAsScoreVolume/Sp5C_R.npy\n",
      "Sp5C_R /net/birdstore/Active_Atlas_Data/data_root/CSHL_volumes/MD585/10.0um_annotationAsScoreVolume/Sp5C_R_origin_wrt_wholebrain.txt\n",
      "Sp5C_R /net/birdstore/Active_Atlas_Data/data_root/CSHL_volumes/MD594/10.0um_annotationAsScoreVolume/Sp5C_R.npy\n",
      "Sp5C_R /net/birdstore/Active_Atlas_Data/data_root/CSHL_volumes/MD594/10.0um_annotationAsScoreVolume/Sp5C_R_origin_wrt_wholebrain.txt\n"
     ]
    },
    {
     "name": "stderr",
     "output_type": "stream",
     "text": [
      "\r",
      " 76%|███████▌  | 37/49 [02:04<01:13,  6.15s/it]"
     ]
    },
    {
     "name": "stdout",
     "output_type": "stream",
     "text": [
      "Sp5I_L /net/birdstore/Active_Atlas_Data/data_root/CSHL_volumes/MD589/10.0um_annotationAsScoreVolume/Sp5I_L.npy\n",
      "Sp5I_L /net/birdstore/Active_Atlas_Data/data_root/CSHL_volumes/MD589/10.0um_annotationAsScoreVolume/Sp5I_L_origin_wrt_wholebrain.txt\n",
      "Sp5I_L /net/birdstore/Active_Atlas_Data/data_root/CSHL_volumes/MD585/10.0um_annotationAsScoreVolume/Sp5I_L.npy\n",
      "Sp5I_L /net/birdstore/Active_Atlas_Data/data_root/CSHL_volumes/MD585/10.0um_annotationAsScoreVolume/Sp5I_L_origin_wrt_wholebrain.txt\n",
      "Sp5I_L /net/birdstore/Active_Atlas_Data/data_root/CSHL_volumes/MD594/10.0um_annotationAsScoreVolume/Sp5I_L.npy\n",
      "Sp5I_L /net/birdstore/Active_Atlas_Data/data_root/CSHL_volumes/MD594/10.0um_annotationAsScoreVolume/Sp5I_L_origin_wrt_wholebrain.txt\n"
     ]
    },
    {
     "name": "stderr",
     "output_type": "stream",
     "text": [
      "\r",
      " 78%|███████▊  | 38/49 [02:08<00:59,  5.39s/it]"
     ]
    },
    {
     "name": "stdout",
     "output_type": "stream",
     "text": [
      "Sp5I_R /net/birdstore/Active_Atlas_Data/data_root/CSHL_volumes/MD589/10.0um_annotationAsScoreVolume/Sp5I_R.npy\n",
      "Sp5I_R /net/birdstore/Active_Atlas_Data/data_root/CSHL_volumes/MD589/10.0um_annotationAsScoreVolume/Sp5I_R_origin_wrt_wholebrain.txt\n",
      "Sp5I_R /net/birdstore/Active_Atlas_Data/data_root/CSHL_volumes/MD585/10.0um_annotationAsScoreVolume/Sp5I_R.npy\n",
      "Sp5I_R /net/birdstore/Active_Atlas_Data/data_root/CSHL_volumes/MD585/10.0um_annotationAsScoreVolume/Sp5I_R_origin_wrt_wholebrain.txt\n",
      "Sp5I_R /net/birdstore/Active_Atlas_Data/data_root/CSHL_volumes/MD594/10.0um_annotationAsScoreVolume/Sp5I_R.npy\n",
      "Sp5I_R /net/birdstore/Active_Atlas_Data/data_root/CSHL_volumes/MD594/10.0um_annotationAsScoreVolume/Sp5I_R_origin_wrt_wholebrain.txt\n"
     ]
    },
    {
     "name": "stderr",
     "output_type": "stream",
     "text": [
      "\r",
      " 80%|███████▉  | 39/49 [02:11<00:48,  4.87s/it]"
     ]
    },
    {
     "name": "stdout",
     "output_type": "stream",
     "text": [
      "Sp5O_L /net/birdstore/Active_Atlas_Data/data_root/CSHL_volumes/MD589/10.0um_annotationAsScoreVolume/Sp5O_L.npy\n",
      "Sp5O_L /net/birdstore/Active_Atlas_Data/data_root/CSHL_volumes/MD589/10.0um_annotationAsScoreVolume/Sp5O_L_origin_wrt_wholebrain.txt\n",
      "Sp5O_L /net/birdstore/Active_Atlas_Data/data_root/CSHL_volumes/MD585/10.0um_annotationAsScoreVolume/Sp5O_L.npy\n",
      "Sp5O_L /net/birdstore/Active_Atlas_Data/data_root/CSHL_volumes/MD585/10.0um_annotationAsScoreVolume/Sp5O_L_origin_wrt_wholebrain.txt\n",
      "Sp5O_L /net/birdstore/Active_Atlas_Data/data_root/CSHL_volumes/MD594/10.0um_annotationAsScoreVolume/Sp5O_L.npy\n",
      "Sp5O_L /net/birdstore/Active_Atlas_Data/data_root/CSHL_volumes/MD594/10.0um_annotationAsScoreVolume/Sp5O_L_origin_wrt_wholebrain.txt\n"
     ]
    },
    {
     "name": "stderr",
     "output_type": "stream",
     "text": [
      "\r",
      " 82%|████████▏ | 40/49 [02:17<00:44,  4.96s/it]"
     ]
    },
    {
     "name": "stdout",
     "output_type": "stream",
     "text": [
      "Sp5O_R /net/birdstore/Active_Atlas_Data/data_root/CSHL_volumes/MD589/10.0um_annotationAsScoreVolume/Sp5O_R.npy\n",
      "Sp5O_R /net/birdstore/Active_Atlas_Data/data_root/CSHL_volumes/MD589/10.0um_annotationAsScoreVolume/Sp5O_R_origin_wrt_wholebrain.txt\n",
      "Sp5O_R /net/birdstore/Active_Atlas_Data/data_root/CSHL_volumes/MD585/10.0um_annotationAsScoreVolume/Sp5O_R.npy\n",
      "Sp5O_R /net/birdstore/Active_Atlas_Data/data_root/CSHL_volumes/MD585/10.0um_annotationAsScoreVolume/Sp5O_R_origin_wrt_wholebrain.txt\n",
      "Sp5O_R /net/birdstore/Active_Atlas_Data/data_root/CSHL_volumes/MD594/10.0um_annotationAsScoreVolume/Sp5O_R.npy\n",
      "Sp5O_R /net/birdstore/Active_Atlas_Data/data_root/CSHL_volumes/MD594/10.0um_annotationAsScoreVolume/Sp5O_R_origin_wrt_wholebrain.txt\n"
     ]
    },
    {
     "name": "stderr",
     "output_type": "stream",
     "text": [
      "\r",
      " 84%|████████▎ | 41/49 [02:22<00:40,  5.04s/it]"
     ]
    },
    {
     "name": "stdout",
     "output_type": "stream",
     "text": [
      "Tz_L /net/birdstore/Active_Atlas_Data/data_root/CSHL_volumes/MD589/10.0um_annotationAsScoreVolume/Tz_L.npy\n",
      "Tz_L /net/birdstore/Active_Atlas_Data/data_root/CSHL_volumes/MD589/10.0um_annotationAsScoreVolume/Tz_L_origin_wrt_wholebrain.txt\n",
      "Tz_L /net/birdstore/Active_Atlas_Data/data_root/CSHL_volumes/MD585/10.0um_annotationAsScoreVolume/Tz_L.npy\n",
      "Tz_L /net/birdstore/Active_Atlas_Data/data_root/CSHL_volumes/MD585/10.0um_annotationAsScoreVolume/Tz_L_origin_wrt_wholebrain.txt\n",
      "Tz_L /net/birdstore/Active_Atlas_Data/data_root/CSHL_volumes/MD594/10.0um_annotationAsScoreVolume/Tz_L.npy\n",
      "Tz_L /net/birdstore/Active_Atlas_Data/data_root/CSHL_volumes/MD594/10.0um_annotationAsScoreVolume/Tz_L_origin_wrt_wholebrain.txt\n"
     ]
    },
    {
     "name": "stderr",
     "output_type": "stream",
     "text": [
      "\r",
      " 86%|████████▌ | 42/49 [02:23<00:26,  3.74s/it]"
     ]
    },
    {
     "name": "stdout",
     "output_type": "stream",
     "text": [
      "Tz_R /net/birdstore/Active_Atlas_Data/data_root/CSHL_volumes/MD589/10.0um_annotationAsScoreVolume/Tz_R.npy\n",
      "Tz_R /net/birdstore/Active_Atlas_Data/data_root/CSHL_volumes/MD589/10.0um_annotationAsScoreVolume/Tz_R_origin_wrt_wholebrain.txt\n",
      "Tz_R /net/birdstore/Active_Atlas_Data/data_root/CSHL_volumes/MD585/10.0um_annotationAsScoreVolume/Tz_R.npy\n",
      "Tz_R /net/birdstore/Active_Atlas_Data/data_root/CSHL_volumes/MD585/10.0um_annotationAsScoreVolume/Tz_R_origin_wrt_wholebrain.txt\n",
      "Tz_R /net/birdstore/Active_Atlas_Data/data_root/CSHL_volumes/MD594/10.0um_annotationAsScoreVolume/Tz_R.npy\n",
      "Tz_R /net/birdstore/Active_Atlas_Data/data_root/CSHL_volumes/MD594/10.0um_annotationAsScoreVolume/Tz_R_origin_wrt_wholebrain.txt\n"
     ]
    },
    {
     "name": "stderr",
     "output_type": "stream",
     "text": [
      "\r",
      " 88%|████████▊ | 43/49 [02:23<00:17,  2.84s/it]"
     ]
    },
    {
     "name": "stdout",
     "output_type": "stream",
     "text": [
      "VCA_L /net/birdstore/Active_Atlas_Data/data_root/CSHL_volumes/MD589/10.0um_annotationAsScoreVolume/VCA_L.npy\n",
      "VCA_L /net/birdstore/Active_Atlas_Data/data_root/CSHL_volumes/MD589/10.0um_annotationAsScoreVolume/VCA_L_origin_wrt_wholebrain.txt\n",
      "VCA_L /net/birdstore/Active_Atlas_Data/data_root/CSHL_volumes/MD585/10.0um_annotationAsScoreVolume/VCA_L.npy\n",
      "VCA_L /net/birdstore/Active_Atlas_Data/data_root/CSHL_volumes/MD585/10.0um_annotationAsScoreVolume/VCA_L_origin_wrt_wholebrain.txt\n",
      "VCA_L /net/birdstore/Active_Atlas_Data/data_root/CSHL_volumes/MD594/10.0um_annotationAsScoreVolume/VCA_L.npy\n",
      "VCA_L /net/birdstore/Active_Atlas_Data/data_root/CSHL_volumes/MD594/10.0um_annotationAsScoreVolume/VCA_L_origin_wrt_wholebrain.txt\n"
     ]
    },
    {
     "name": "stderr",
     "output_type": "stream",
     "text": [
      "\r",
      " 90%|████████▉ | 44/49 [02:26<00:13,  2.66s/it]"
     ]
    },
    {
     "name": "stdout",
     "output_type": "stream",
     "text": [
      "VCA_R /net/birdstore/Active_Atlas_Data/data_root/CSHL_volumes/MD589/10.0um_annotationAsScoreVolume/VCA_R.npy\n",
      "VCA_R /net/birdstore/Active_Atlas_Data/data_root/CSHL_volumes/MD589/10.0um_annotationAsScoreVolume/VCA_R_origin_wrt_wholebrain.txt\n",
      "VCA_R /net/birdstore/Active_Atlas_Data/data_root/CSHL_volumes/MD585/10.0um_annotationAsScoreVolume/VCA_R.npy\n",
      "VCA_R /net/birdstore/Active_Atlas_Data/data_root/CSHL_volumes/MD585/10.0um_annotationAsScoreVolume/VCA_R_origin_wrt_wholebrain.txt\n",
      "VCA_R /net/birdstore/Active_Atlas_Data/data_root/CSHL_volumes/MD594/10.0um_annotationAsScoreVolume/VCA_R.npy\n",
      "VCA_R /net/birdstore/Active_Atlas_Data/data_root/CSHL_volumes/MD594/10.0um_annotationAsScoreVolume/VCA_R_origin_wrt_wholebrain.txt\n"
     ]
    },
    {
     "name": "stderr",
     "output_type": "stream",
     "text": [
      "\r",
      " 92%|█████████▏| 45/49 [02:28<00:10,  2.52s/it]"
     ]
    },
    {
     "name": "stdout",
     "output_type": "stream",
     "text": [
      "VCP_L /net/birdstore/Active_Atlas_Data/data_root/CSHL_volumes/MD589/10.0um_annotationAsScoreVolume/VCP_L.npy\n",
      "VCP_L /net/birdstore/Active_Atlas_Data/data_root/CSHL_volumes/MD589/10.0um_annotationAsScoreVolume/VCP_L_origin_wrt_wholebrain.txt\n",
      "VCP_L /net/birdstore/Active_Atlas_Data/data_root/CSHL_volumes/MD585/10.0um_annotationAsScoreVolume/VCP_L.npy\n",
      "VCP_L /net/birdstore/Active_Atlas_Data/data_root/CSHL_volumes/MD585/10.0um_annotationAsScoreVolume/VCP_L_origin_wrt_wholebrain.txt\n",
      "VCP_L /net/birdstore/Active_Atlas_Data/data_root/CSHL_volumes/MD594/10.0um_annotationAsScoreVolume/VCP_L.npy\n",
      "VCP_L /net/birdstore/Active_Atlas_Data/data_root/CSHL_volumes/MD594/10.0um_annotationAsScoreVolume/VCP_L_origin_wrt_wholebrain.txt\n"
     ]
    },
    {
     "name": "stderr",
     "output_type": "stream",
     "text": [
      "\r",
      " 94%|█████████▍| 46/49 [02:29<00:06,  2.12s/it]"
     ]
    },
    {
     "name": "stdout",
     "output_type": "stream",
     "text": [
      "VCP_R /net/birdstore/Active_Atlas_Data/data_root/CSHL_volumes/MD589/10.0um_annotationAsScoreVolume/VCP_R.npy\n",
      "VCP_R /net/birdstore/Active_Atlas_Data/data_root/CSHL_volumes/MD589/10.0um_annotationAsScoreVolume/VCP_R_origin_wrt_wholebrain.txt\n",
      "VCP_R /net/birdstore/Active_Atlas_Data/data_root/CSHL_volumes/MD585/10.0um_annotationAsScoreVolume/VCP_R.npy\n",
      "VCP_R /net/birdstore/Active_Atlas_Data/data_root/CSHL_volumes/MD585/10.0um_annotationAsScoreVolume/VCP_R_origin_wrt_wholebrain.txt\n",
      "VCP_R /net/birdstore/Active_Atlas_Data/data_root/CSHL_volumes/MD594/10.0um_annotationAsScoreVolume/VCP_R.npy\n",
      "VCP_R /net/birdstore/Active_Atlas_Data/data_root/CSHL_volumes/MD594/10.0um_annotationAsScoreVolume/VCP_R_origin_wrt_wholebrain.txt\n"
     ]
    },
    {
     "name": "stderr",
     "output_type": "stream",
     "text": [
      "\r",
      " 96%|█████████▌| 47/49 [02:30<00:03,  1.86s/it]"
     ]
    },
    {
     "name": "stdout",
     "output_type": "stream",
     "text": [
      "VLL_L /net/birdstore/Active_Atlas_Data/data_root/CSHL_volumes/MD589/10.0um_annotationAsScoreVolume/VLL_L.npy\n",
      "VLL_L /net/birdstore/Active_Atlas_Data/data_root/CSHL_volumes/MD589/10.0um_annotationAsScoreVolume/VLL_L_origin_wrt_wholebrain.txt\n",
      "VLL_L /net/birdstore/Active_Atlas_Data/data_root/CSHL_volumes/MD585/10.0um_annotationAsScoreVolume/VLL_L.npy\n",
      "VLL_L /net/birdstore/Active_Atlas_Data/data_root/CSHL_volumes/MD585/10.0um_annotationAsScoreVolume/VLL_L_origin_wrt_wholebrain.txt\n",
      "VLL_L /net/birdstore/Active_Atlas_Data/data_root/CSHL_volumes/MD594/10.0um_annotationAsScoreVolume/VLL_L.npy\n",
      "VLL_L /net/birdstore/Active_Atlas_Data/data_root/CSHL_volumes/MD594/10.0um_annotationAsScoreVolume/VLL_L_origin_wrt_wholebrain.txt\n"
     ]
    },
    {
     "name": "stderr",
     "output_type": "stream",
     "text": [
      "\r",
      " 98%|█████████▊| 48/49 [02:33<00:02,  2.15s/it]"
     ]
    },
    {
     "name": "stdout",
     "output_type": "stream",
     "text": [
      "VLL_R /net/birdstore/Active_Atlas_Data/data_root/CSHL_volumes/MD589/10.0um_annotationAsScoreVolume/VLL_R.npy\n",
      "VLL_R /net/birdstore/Active_Atlas_Data/data_root/CSHL_volumes/MD589/10.0um_annotationAsScoreVolume/VLL_R_origin_wrt_wholebrain.txt\n",
      "VLL_R /net/birdstore/Active_Atlas_Data/data_root/CSHL_volumes/MD585/10.0um_annotationAsScoreVolume/VLL_R.npy\n",
      "VLL_R /net/birdstore/Active_Atlas_Data/data_root/CSHL_volumes/MD585/10.0um_annotationAsScoreVolume/VLL_R_origin_wrt_wholebrain.txt\n",
      "VLL_R /net/birdstore/Active_Atlas_Data/data_root/CSHL_volumes/MD594/10.0um_annotationAsScoreVolume/VLL_R.npy\n",
      "VLL_R /net/birdstore/Active_Atlas_Data/data_root/CSHL_volumes/MD594/10.0um_annotationAsScoreVolume/VLL_R_origin_wrt_wholebrain.txt\n"
     ]
    },
    {
     "name": "stderr",
     "output_type": "stream",
     "text": [
      "100%|██████████| 49/49 [02:35<00:00,  3.18s/it]\n"
     ]
    }
   ],
   "source": [
    "# Note that all shapes have voxel resolution matching input resolution (10.0 micron).\n",
    "for structure in tqdm(structures):\n",
    "    # for structure in all_known_structures:\n",
    "    # Load instance volumes.\n",
    "    instance_volumes = []\n",
    "    instance_source = []\n",
    "\n",
    "    for brain_name in [fixed_brain_name] + moving_brain_names:\n",
    "        brain_spec = {'name': brain_name, 'vol_type': 'annotationAsScore', 'resolution': resolution}\n",
    "       \n",
    "        if '_L' in structure:\n",
    "            left_instance_vol, _ = load_original_volume_v2(stack_spec=brain_spec,\n",
    "                                                           structure=structure,\n",
    "                                                           return_origin_instead_of_bbox=True,\n",
    "                                                           crop_to_minimal=True)\n",
    "            instance_volumes.append(left_instance_vol[..., ::-1])  # if left, mirror\n",
    "            instance_source.append((brain_name, 'L'))\n",
    "        \n",
    "        else:\n",
    "            right_instance_vol, _ = load_original_volume_v2(stack_spec=brain_spec,\n",
    "                                                            structure=structure,\n",
    "                                                            return_origin_instead_of_bbox=True,\n",
    "                                                            crop_to_minimal=True)\n",
    "            instance_volumes.append(right_instance_vol)  # if right, do not mirror\n",
    "            instance_source.append((brain_name, 'R'))\n",
    "\n",
    "\n",
    "   # Use the first instance as registration target.\n",
    "    # Register every other instance to the first instance.\n",
    "    template_instance_volume = instance_volumes[0]\n",
    "    template_instance_centroid_wrt_templateOrigin = get_centroid_3d(template_instance_volume).astype(np.int16)\n",
    "    template_instance_wrt_templateCentroid = (template_instance_volume, - template_instance_centroid_wrt_templateOrigin)\n",
    "    aligned_moving_instance_wrt_templateCentroid_all_instances = []\n",
    "\n",
    "    for i in range(1, len(instance_volumes)):\n",
    "        # Compute transform.\n",
    "        moving_instance_volume = instance_volumes[i]\n",
    "        aligner = Aligner({0: template_instance_wrt_templateCentroid},\n",
    "                          {0: (moving_instance_volume, np.array((0,0,0)))},\n",
    "                          labelIndexMap_m2f={0:0},\n",
    "                         verbose=False)\n",
    "        aligner.set_centroid(centroid_m='structure_centroid', centroid_f='structure_centroid')\n",
    "        aligner.compute_gradient(smooth_first=True)\n",
    "        lr = 1.\n",
    "        ### max_iter_num was originally 100 and 1000\n",
    "        _, _ = aligner.optimize(tf_type='rigid',\n",
    "                                history_len=100,\n",
    "                                max_iter_num=2 if structure in ['SC', 'IC'] else 3,\n",
    "                                grad_computation_sample_number=None,\n",
    "                                full_lr=np.array([lr, lr, lr, 0.1, 0.1, 0.1]),\n",
    "                                terminate_thresh_trans=.01)\n",
    "\n",
    "\n",
    "        # Transform instances.\n",
    "        T = convert_transform_forms(aligner=aligner, out_form=(3, 4), select_best='max_value')\n",
    "        aligned_moving_instance_volume, aligned_moving_instance_origin_wrt_templateCentroid = \\\n",
    "            transform_volume_v4(volume=(moving_instance_volume, (0, 0, 0)), transform=T,\n",
    "                                return_origin_instead_of_bbox=True)\n",
    "        aligned_moving_instance_wrt_templateCentroid = (\n",
    "        aligned_moving_instance_volume, aligned_moving_instance_origin_wrt_templateCentroid)\n",
    "        aligned_moving_instance_wrt_templateCentroid_all_instances.append(aligned_moving_instance_wrt_templateCentroid)\n",
    "\n",
    "    # Generate meshes for each instance.\n",
    "    volume_origin_list = [template_instance_wrt_templateCentroid] + aligned_moving_instance_wrt_templateCentroid_all_instances\n",
    "    instance_mesh_wrt_templateCentroid_all_instances = [volume_to_polydata(volume, num_simplify_iter=3, smooth=True)\n",
    "        for volume, o in volume_origin_list]\n",
    "\n",
    "\n",
    "    if structure == 'IC' or structure == 'SC':\n",
    "        # IC and SC boundaries are particularly jagged, so do a larger value smoothing.\n",
    "        sigma = 5.\n",
    "    else:\n",
    "        sigma = 2.\n",
    "\n",
    "\n",
    "    mean_shape_wrt_templateCentroid = \\\n",
    "        average_shape(volume_origin_list=volume_origin_list, force_symmetric=(structure in singular_structures),\n",
    "                      sigma=sigma,\n",
    "                      )\n",
    "\n",
    "\n",
    "    wall_level = .5\n",
    "    surround_distance_um = 200.\n",
    "\n",
    "    # Save mean shape.\n",
    "    filename = f'{structure}.npy'\n",
    "    filepath =  os.path.join(ATLAS_PATH, 'structure', filename)\n",
    "    np.save(filepath, np.ascontiguousarray(mean_shape_wrt_templateCentroid[0]))\n",
    "\n",
    "    filename = f'{structure}.txt'\n",
    "    filepath = os.path.join(ATLAS_PATH, 'origin', filename)\n",
    "    np.savetxt(filepath, mean_shape_wrt_templateCentroid[1])\n"
   ]
  },
  {
   "cell_type": "markdown",
   "metadata": {},
   "source": [
    "# Combine standard shapes with standard centroid locations"
   ]
  },
  {
   "cell_type": "code",
   "execution_count": 13,
   "metadata": {},
   "outputs": [],
   "source": [
    "atlas_resolution = '10.0um'\n",
    "atlas_resolution_um = 10.0\n",
    "filepath = os.path.join(ATLAS_PATH, '1um_meanPositions.pkl')\n",
    "nominal_centroids = pickle.load( open(filepath, \"rb\" ) )\n",
    "nominal_centroids_10um = {s: c / atlas_resolution_um for s, c in nominal_centroids.items()}\n",
    "mean_shapes = {name_u: load_mean_shape(atlas_name=atlas_name, structure=name_u, resolution=atlas_resolution) \n",
    "                    for name_u in structures}"
   ]
  },
  {
   "cell_type": "code",
   "execution_count": 14,
   "metadata": {},
   "outputs": [
    {
     "name": "stderr",
     "output_type": "stream",
     "text": [
      "100%|██████████| 49/49 [00:29<00:00,  1.65it/s]\n"
     ]
    }
   ],
   "source": [
    "for structure in tqdm(structures):\n",
    "\n",
    "    if '_L' in structure:\n",
    "        mean_shape = mirror_volume_v2(volume=mean_shapes[structure], \n",
    "                                      centroid_wrt_origin=-mean_shapes[structure][1],\n",
    "                                      new_centroid=nominal_centroids_10um[structure])\n",
    "    else:\n",
    "        mean_shape = (mean_shapes[structure][0], \n",
    "                        mean_shapes[structure][1] + nominal_centroids_10um[structure])\n",
    "        \n",
    "    volume = mean_shape[0]\n",
    "    origin = mean_shape[1]\n",
    "    \n",
    "    # save origin, this is also the important one\n",
    "    filename = f'{structure}.txt'\n",
    "    filepath = os.path.join(ATLAS_PATH, 'origin', filename)\n",
    "    np.savetxt(filepath, origin)\n",
    "\n",
    "    # Save volume with stated level. This is the important one\n",
    "    filename = f'{structure}.npy'\n",
    "    filepath = os.path.join(ATLAS_PATH, 'structure', filename)\n",
    "    np.save(filepath, volume)\n",
    "    \n",
    "    # mesh\n",
    "    aligned_volume = (mean_shape[0] >= 0.9, mean_shape[1])\n",
    "    aligned_structure = volume_to_polydata(volume=aligned_volume,\n",
    "                           num_simplify_iter=3, smooth=False,\n",
    "                           return_vertex_face_list=False)\n",
    "    filepath = os.path.join(ATLAS_PATH, 'mesh', f'{structure}.stl')\n",
    "    save_mesh_stl(aligned_structure, filepath)\n"
   ]
  }
 ],
 "metadata": {
  "kernelspec": {
   "display_name": "Python 2",
   "language": "python",
   "name": "python2"
  },
  "language_info": {
   "codemirror_mode": {
    "name": "ipython",
    "version": 3
   },
   "file_extension": ".py",
   "mimetype": "text/x-python",
   "name": "python",
   "nbconvert_exporter": "python",
   "pygments_lexer": "ipython3",
   "version": "3.8.10"
  }
 },
 "nbformat": 4,
 "nbformat_minor": 2
}
