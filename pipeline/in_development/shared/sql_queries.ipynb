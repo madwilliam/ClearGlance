{
 "cells": [
  {
   "cell_type": "code",
   "execution_count": 1,
   "metadata": {},
   "outputs": [],
   "source": [
    "import numpy as np\n",
    "import os, sys\n",
    "from datetime import datetime\n",
    "import requests\n",
    "from requests.exceptions import HTTPError\n",
    "%load_ext autoreload\n",
    "%autoreload 2"
   ]
  },
  {
   "cell_type": "code",
   "execution_count": 2,
   "metadata": {},
   "outputs": [],
   "source": [
    "HOME = os.path.expanduser(\"~\")\n",
    "DIR = os.path.join(HOME, 'programming/pipeline_utility')\n",
    "sys.path.append(DIR)\n",
    "from utilities.model.center_of_mass import CenterOfMass\n",
    "from utilities.model.structure import Structure\n",
    "from sqlalchemy import func\n",
    "from sql_setup import session"
   ]
  },
  {
   "cell_type": "code",
   "execution_count": 7,
   "metadata": {},
   "outputs": [],
   "source": [
    "def get_transformation_matrix(animal):\n",
    "    try:\n",
    "        #url = f'https://activebrainatlas.ucsd.edu/activebrainatlas/rotation/{animal}/manual/2'\n",
    "        url = f'http://localhost:8000/rotation/{animal}/manual/2'\n",
    "        response = requests.get(url)\n",
    "        response.raise_for_status()\n",
    "        # access JSOn content\n",
    "        transformation_matrix = response.json()\n",
    "\n",
    "    except HTTPError as http_err:\n",
    "        print(f'HTTP error occurred: {http_err}')\n",
    "    except Exception as err:\n",
    "        print(f'Other error occurred: {err}')\n",
    "\n",
    "    return transformation_matrix"
   ]
  },
  {
   "cell_type": "code",
   "execution_count": 4,
   "metadata": {},
   "outputs": [],
   "source": [
    "prep_id = 'DK52'"
   ]
  },
  {
   "cell_type": "code",
   "execution_count": 8,
   "metadata": {},
   "outputs": [],
   "source": [
    "transformation = get_transformation_matrix(prep_id)\n",
    "r = np.array(transformation['rotation'])\n",
    "t = np.array(transformation['translation'])"
   ]
  },
  {
   "cell_type": "code",
   "execution_count": 9,
   "metadata": {},
   "outputs": [
    {
     "name": "stdout",
     "output_type": "stream",
     "text": [
      "[[ 0.90823119 -0.24441544 -0.05697743]\n",
      " [ 0.2488724   0.90471918  0.08611017]\n",
      " [ 0.03237074 -0.09804858  0.93659374]]\n",
      "[[-15509.17500957]\n",
      " [-12625.10609468]\n",
      " [   -66.471405  ]]\n"
     ]
    }
   ],
   "source": [
    "print(r)\n",
    "print(t)"
   ]
  },
  {
   "cell_type": "code",
   "execution_count": 10,
   "metadata": {},
   "outputs": [],
   "source": [
    "person_id = 1 # me\n",
    "rows = session.query(CenterOfMass).filter(\n",
    "    CenterOfMass.active.is_(True))\\\n",
    "        .filter(CenterOfMass.prep_id == prep_id)\\\n",
    "        .filter(CenterOfMass.person_id == 2)\\\n",
    "        .filter(CenterOfMass.input_type == 'manual')\\\n",
    "        .all()\n",
    "row_dict = {}\n",
    "for row in rows:\n",
    "    structure = row.structure.abbreviation\n",
    "    row_dict[structure] = [row.x, row.y, row.section]"
   ]
  },
  {
   "cell_type": "code",
   "execution_count": 11,
   "metadata": {},
   "outputs": [],
   "source": [
    "def brain_to_atlas_transform(\n",
    "    brain_coord, r, t,\n",
    "    brain_scale=(0.325, 0.325, 20),\n",
    "    atlas_scale=(10, 10, 20)\n",
    "):\n",
    "    \"\"\"\n",
    "    Takes an x,y,z brain coordinates, and a rotation matrix and transform vector.\n",
    "    Returns the point in atlas coordinates.\n",
    "    \n",
    "    The recorded r, t is the transformation from atlas.pipeline.lib.Brain to atlas such that:\n",
    "        t_phys = atlas_scale @ t\n",
    "        atlas_coord_phys = r @ brain_coord_phys + t_phys\n",
    "        \n",
    "    Currently we erraneously have:\n",
    "        t_phys = brain_scale @ t\n",
    "    This should be fixed in the future.\n",
    "    \"\"\"\n",
    "    brain_scale = np.diag(brain_scale)\n",
    "    atlas_scale = np.diag(atlas_scale)\n",
    "\n",
    "    # Transform brain coordinates to physical space\n",
    "    brain_coord = np.array(brain_coord).reshape(3, 1) # Convert to a column vector\n",
    "    brain_coord_phys = brain_scale @ brain_coord\n",
    "    \n",
    "    # Apply affine transformation in physical space\n",
    "    # t_phys = atlas_scale @ t\n",
    "    # The following is wrong but it is what the rest of the code assumes\n",
    "    # We need to fix it in the future\n",
    "    # this gets flip flopped to above line\n",
    "    t_phys = brain_scale @ t\n",
    "    atlas_coord_phys = r @ brain_coord_phys + t_phys\n",
    "\n",
    "    # Bring atlas coordinates back to atlas space\n",
    "    atlas_coord = np.linalg.inv(atlas_scale) @ atlas_coord_phys\n",
    "\n",
    "    return atlas_coord.T[0] # Convert back to a row vector"
   ]
  },
  {
   "cell_type": "code",
   "execution_count": 15,
   "metadata": {},
   "outputs": [
    {
     "name": "stdout",
     "output_type": "stream",
     "text": [
      "DC_L 581.2898481901691 466.8173868766281 49.457019038682986\n",
      "DC_R 575.3076898031396 464.0790662020126 251.32001583909187\n"
     ]
    }
   ],
   "source": [
    "for abbrev,v in row_dict.items():\n",
    "    x = v[0]\n",
    "    y = v[1]\n",
    "    section = v[2]\n",
    "    structure = session.query(Structure).filter(Structure.abbreviation == func.binary(abbrev)).one()\n",
    "    brain_coords = np.asarray([x, y, section])\n",
    "    transformed = brain_to_atlas_transform(brain_coords, r, t)\n",
    "    x = transformed[0]\n",
    "    y = transformed[1]\n",
    "    section = transformed[2]\n",
    "    if 'DC' in abbrev:\n",
    "        print(abbrev,x,y,section)\n",
    "    continue\n",
    "    com = CenterOfMass(\n",
    "        prep_id=prep_id, structure=structure, x=x, y=y, section=section,\n",
    "        created=datetime.utcnow(), active=True, person_id=person_id, input_type='aligned'\n",
    "    )\n",
    "    try:\n",
    "        session.add(com)\n",
    "        session.commit()\n",
    "    except Exception as e:\n",
    "        print(f'No merge for {abbrev} {e}')\n",
    "        session.rollback()\n",
    "\n"
   ]
  },
  {
   "cell_type": "code",
   "execution_count": null,
   "metadata": {},
   "outputs": [],
   "source": [
    "# Print atlas COMs for comparison\n",
    "\n",
    "from utilities.SqlController import SqlController\n",
    "\n",
    "def get_atlas_centers(\n",
    "        atlas_box_size=(1000, 1000, 300),\n",
    "        atlas_box_scales=(10, 10, 20),\n",
    "        atlas_raw_scale=10\n",
    "):\n",
    "    atlas_box_scales = np.array(atlas_box_scales)\n",
    "    atlas_box_size = np.array(atlas_box_size)\n",
    "    atlas_box_center = atlas_box_size / 2\n",
    "    sqlController = SqlController('Atlas')\n",
    "    atlas_centers = sqlController.get_centers_dict('Atlas')\n",
    "\n",
    "    for structure, center in atlas_centers.items():\n",
    "        # transform into the atlas box coordinates that neuroglancer assumes\n",
    "        center = atlas_box_center + np.array(center) * atlas_raw_scale / atlas_box_scales\n",
    "        atlas_centers[structure] = center\n",
    "\n",
    "    return atlas_centers\n",
    "\n",
    "row_dict = get_atlas_centers()"
   ]
  },
  {
   "cell_type": "code",
   "execution_count": null,
   "metadata": {},
   "outputs": [],
   "source": [
    "print(row_dict['3N_L'])\n",
    "print(row_dict['3N_R'])"
   ]
  },
  {
   "cell_type": "code",
   "execution_count": null,
   "metadata": {},
   "outputs": [],
   "source": [
    "11217/364.555"
   ]
  },
  {
   "cell_type": "code",
   "execution_count": null,
   "metadata": {},
   "outputs": [],
   "source": [
    "R = np.array([[ 9.91558000e-01, -1.29661000e-01, -3.46808496e+03],\n",
    " [ 1.29661000e-01,  9.91558000e-01,  1.70894695e+03],\n",
    " [ 0.00000000e+00,  0.00000000e+00,  1.00000000e+00]])\n"
   ]
  },
  {
   "cell_type": "code",
   "execution_count": null,
   "metadata": {},
   "outputs": [],
   "source": [
    "scale = 0.325\n",
    "x = 350.0 \n",
    "y = 494.0\n",
    "T = np.array([[scale, 0, x],[0,scale, y],[0,0,1]])\n",
    "tinv = np.linalg.inv(T)"
   ]
  },
  {
   "cell_type": "code",
   "execution_count": null,
   "metadata": {
    "scrolled": true
   },
   "outputs": [],
   "source": [
    "TRT = tinv @ R @ T\n",
    "TRT[0][2] /= 32\n",
    "TRT[1][2] /= 32\n",
    "print(TRT)"
   ]
  },
  {
   "cell_type": "code",
   "execution_count": null,
   "metadata": {},
   "outputs": [],
   "source": [
    "l = [1,2,3,'junk']\n",
    "l[3]"
   ]
  }
 ],
 "metadata": {
  "kernelspec": {
   "display_name": "Python 3",
   "language": "python",
   "name": "python3"
  },
  "language_info": {
   "codemirror_mode": {
    "name": "ipython",
    "version": 3
   },
   "file_extension": ".py",
   "mimetype": "text/x-python",
   "name": "python",
   "nbconvert_exporter": "python",
   "pygments_lexer": "ipython3",
   "version": "3.8.10"
  }
 },
 "nbformat": 4,
 "nbformat_minor": 4
}
