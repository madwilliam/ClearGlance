{
 "cells": [
  {
   "cell_type": "code",
   "execution_count": 1,
   "metadata": {},
   "outputs": [
    {
     "name": "stdout",
     "output_type": "stream",
     "text": [
      "Connecting dklab@192.168.1.12:3306\n"
     ]
    }
   ],
   "source": [
    "%reload_ext autoreload\n",
    "%autoreload 2\n",
    "\n",
    "import os\n",
    "import sys\n",
    "import numpy as np\n",
    "from timeit import default_timer as timer\n",
    "from _collections import OrderedDict\n",
    "import shutil\n",
    "from pprint import pprint\n",
    "start = timer()\n",
    "HOME = os.path.expanduser(\"~\")\n",
    "PATH = os.path.join(HOME, 'programming/pipeline_utility')\n",
    "sys.path.append(PATH)\n",
    "from utilities.FileLocationManager import FileLocationManager\n",
    "from utilities.SqlController import SqlController\n",
    "from utilities.utilities_cvat_neuroglancer import get_structure_number, NumpyToNeuroglancer, get_segment_properties\n",
    "from utilities.utilities_affine import align_point_sets, align_atlas"
   ]
  },
  {
   "cell_type": "code",
   "execution_count": 2,
   "metadata": {},
   "outputs": [],
   "source": [
    "animal = 'MD589'\n",
    "fileLocationManager = FileLocationManager(animal)\n",
    "OUTPUT_DIR = os.path.join(fileLocationManager.neuroglancer_data, 'atlas')"
   ]
  },
  {
   "cell_type": "code",
   "execution_count": 3,
   "metadata": {},
   "outputs": [
    {
     "name": "stdout",
     "output_type": "stream",
     "text": [
      "resolution: 0.452\n",
      "width: 43700\n",
      "height: 32400\n",
      "Shape of atlas volume (1464, 1975, 447)\n"
     ]
    }
   ],
   "source": [
    "sql_controller = SqlController(animal)\n",
    "thumbnail_dir = os.path.join(fileLocationManager.prep, 'CH1', 'thumbnail_aligned')\n",
    "\n",
    "print(f'resolution: {sql_controller.scan_run.resolution}')\n",
    "print(f'width: {sql_controller.scan_run.width}')\n",
    "print(f'height: {sql_controller.scan_run.height}')\n",
    "box_w = sql_controller.scan_run.width * sql_controller.scan_run.resolution / 10  # 10 mum scale\n",
    "box_h = sql_controller.scan_run.height * sql_controller.scan_run.resolution / 10  # 10 mum scale\n",
    "box_z = len(os.listdir(thumbnail_dir))  # 20 mum scale\n",
    "box_center = np.array([box_w, box_h, box_z]) / 2\n",
    "\n",
    "atlasV7_volume = np.zeros((int(box_h), int(box_w), int(box_z)), dtype=np.uint8)\n",
    "print('Shape of atlas volume', atlasV7_volume.shape)\n"
   ]
  },
  {
   "cell_type": "code",
   "execution_count": 8,
   "metadata": {},
   "outputs": [
    {
     "name": "stdout",
     "output_type": "stream",
     "text": [
      "DK39\n",
      "['5N_L', '5N_R', 'SC']\n",
      "MD589\n",
      "['5N_L', '5N_R', 'SC']\n",
      "[[37315.4   19924.7     172.5  ]\n",
      " [37057.9   18534.5     316.5  ]\n",
      " [32793.8   10894.1     233.482]]\n",
      "[[25863.9 16448.5   160. ]\n",
      " [25617.9 16089.    298. ]\n",
      " [24976.4 10136.9   220. ]]\n"
     ]
    }
   ],
   "source": [
    "#src = points moving from DK39\n",
    "#dst = points moving to DK52\n",
    "src = 'DK39'\n",
    "dst = 'MD589'\n",
    "src_centers = sql_controller.get_centers_dict(src)\n",
    "#print(src_centers)\n",
    "dst_centers = sql_controller.get_centers_dict(dst)\n",
    "#print(dst_centers)\n",
    "common_keys = src_centers.keys() & dst_centers.keys()\n",
    "src_centers_dict = [x for x in src_centers if x in common_keys] \n",
    "dst_centers_dict = [x for x in dst_centers if x in common_keys] \n",
    "print(src)\n",
    "print(src_centers_dict)\n",
    "print(dst)\n",
    "print(dst_centers_dict)\n",
    "src_centers = [src_centers[x] for x in src_centers if x in common_keys] \n",
    "dst_centers = [dst_centers[x] for x in dst_centers if x in common_keys] \n",
    "src_centers = np.array(src_centers)\n",
    "#print('src_centers')\n",
    "print(src_centers)\n",
    "dst_centers = np.array(dst_centers)\n",
    "#print('dst_centers')\n",
    "print(dst_centers)\n",
    "R, t = align_point_sets(src_centers.T, dst_centers.T, with_scaling=True)"
   ]
  },
  {
   "cell_type": "code",
   "execution_count": null,
   "metadata": {},
   "outputs": [],
   "source": [
    "np.shape(src_centers.T)"
   ]
  },
  {
   "cell_type": "code",
   "execution_count": 13,
   "metadata": {},
   "outputs": [
    {
     "name": "stdout",
     "output_type": "stream",
     "text": [
      "(3, 1)\n"
     ]
    },
    {
     "data": {
      "text/plain": [
       "array([[-4543.76941802],\n",
       "       [30179.73326535],\n",
       "       [11180.81441593]])"
      ]
     },
     "execution_count": 13,
     "metadata": {},
     "output_type": "execute_result"
    }
   ],
   "source": [
    "test_point = np.array([40000,30000, 220])\n",
    "test_point = test_point.reshape(3,1)\n",
    "print(test_point.shape)\n",
    "reference_scales = (0.325, 0.325, 20)\n",
    "tp = t / reference_scales\n",
    "R @ test_point "
   ]
  },
  {
   "cell_type": "code",
   "execution_count": null,
   "metadata": {},
   "outputs": [],
   "source": [
    "def get_db_structure_infos():\n",
    "    sqlController = SqlController('MD589')\n",
    "    db_structures = sqlController.get_structures_dict()\n",
    "    return db_structures\n",
    "\n",
    "def get_known_foundation_structure_names():\n",
    "    known_foundation_structures = ['MVePC', 'DTgP', 'VTA', 'Li', 'Op', 'Sp5C', 'RPC', 'MVeMC', 'APT', 'IPR',\n",
    "                                   'Cb', 'pc', 'Amb', 'SolIM', 'Pr5VL', 'IPC', '8n', 'MPB', 'Pr5', 'SNR',\n",
    "                                   'DRD', 'PBG', '10N', 'VTg', 'R', 'IF', 'RR', 'LDTg', '5TT', 'Bar',\n",
    "                                   'Tz', 'IO', 'Cu', 'SuVe', '12N', '6N', 'PTg', 'Sp5I', 'SNC', 'MnR',\n",
    "                                   'RtTg', 'Gr', 'ECu', 'DTgC', '4N', 'IPA', '3N', '7N', 'LC', '7n',\n",
    "                                   'SC', 'LPB', 'EW', 'Pr5DM', 'VCA', '5N', 'Dk', 'DTg', 'LVe', 'SpVe',\n",
    "                                   'MVe', 'LSO', 'InC', 'IC', 'Sp5O', 'DC', 'Pn', 'LRt', 'RMC', 'PF',\n",
    "                                   'VCP', 'CnF', 'Sol', 'IPL', 'X', 'AP', 'MiTg', 'DRI', 'RPF', 'VLL']\n",
    "    return known_foundation_structures"
   ]
  },
  {
   "cell_type": "code",
   "execution_count": null,
   "metadata": {},
   "outputs": [],
   "source": [
    "db_structure_infos = get_db_structure_infos()\n",
    "known_foundation_structure_names = get_known_foundation_structure_names()\n",
    "non_db_structure_names = [structure for structure in known_foundation_structure_names if structure not in db_structure_infos.keys()]\n"
   ]
  },
  {
   "cell_type": "code",
   "execution_count": null,
   "metadata": {},
   "outputs": [],
   "source": [
    "[(number, f'{structure}: {label}') for structure, (label, number) in db_structure_infos.items()]"
   ]
  },
  {
   "cell_type": "code",
   "execution_count": null,
   "metadata": {},
   "outputs": [],
   "source": [
    "segment_properties = [(number, f'{structure}: {label}') for structure, (label, number, sided) in db_structure_infos.items()]\n",
    "if all_known:\n",
    "    segment_properties += [(len(db_structure_infos) + index + 1, structure) for index, structure in enumerate(non_db_structure_names)]\n"
   ]
  }
 ],
 "metadata": {
  "kernelspec": {
   "display_name": "Python 3",
   "language": "python",
   "name": "python3"
  },
  "language_info": {
   "codemirror_mode": {
    "name": "ipython",
    "version": 3
   },
   "file_extension": ".py",
   "mimetype": "text/x-python",
   "name": "python",
   "nbconvert_exporter": "python",
   "pygments_lexer": "ipython3",
   "version": "3.8.5"
  }
 },
 "nbformat": 4,
 "nbformat_minor": 4
}
