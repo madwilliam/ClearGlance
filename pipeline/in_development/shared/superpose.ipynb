{
 "cells": [
  {
   "cell_type": "code",
   "execution_count": 107,
   "metadata": {},
   "outputs": [],
   "source": [
    "import numpy as np\n",
    "from math import *\n",
    "from superpose3d import Superpose3D\n",
    "from collections import OrderedDict\n",
    "import scipy"
   ]
  },
  {
   "cell_type": "code",
   "execution_count": 95,
   "metadata": {},
   "outputs": [],
   "source": [
    "SCALE = (10 / 0.452)\n",
    "MD589_centers = {'5N_L': [23790, 13025, 160],\n",
    "                 '5N_R': [20805, 14163, 298],\n",
    "                 '7n_L': [20988, 18405, 177],\n",
    "                 '7n_R': [24554, 13911, 284],\n",
    "                 'DC_L': [24482, 11985, 134],\n",
    "                 'DC_R': [20424, 11736, 330],\n",
    "                 'LC_L': [25290, 11750, 180],\n",
    "                 'LC_R': [24894, 12079, 268],\n",
    "                  'SC': [24226, 6401, 220]}\n",
    "MD589_centers = OrderedDict(MD589_centers)\n",
    "MD589_center_values = np.array(list(MD589_centers.values()), dtype=np.float32)\n",
    "MD589_list = []\n",
    "for value in MD589_centers.values():\n",
    "    MD589_list.append((value[1] / SCALE, value[0] / SCALE, value[2]))\n",
    "MD589 = np.array(MD589_list)\n",
    "\n",
    "atlas_centers = {'5N_L': [460.53, 685.58, 155],\n",
    "                 '5N_R': [460.53, 685.58, 293],\n",
    "                 '7n_L': [499.04, 729.94, 172],\n",
    "                 '7n_R': [499.04, 729.94, 276],\n",
    "                 'DC_L': [580.29, 650.66, 130],\n",
    "                 'DC_R': [580.29, 650.66, 318],\n",
    "                 'LC_L': [505.55, 629.99, 182],\n",
    "                 'LC_R': [505.55, 629.99, 266],\n",
    "                  'SC': [376.87, 453.2, 226],\n",
    "                 }\n",
    "atlas_centers = OrderedDict(atlas_centers)\n",
    "ATLAS = np.array(list(atlas_centers.values()), dtype=np.float32)"
   ]
  },
  {
   "cell_type": "code",
   "execution_count": 96,
   "metadata": {},
   "outputs": [
    {
     "data": {
      "text/plain": [
       "array([[ 588.73  , 1075.308 ,  160.    ],\n",
       "       [ 640.1676,  940.386 ,  298.    ],\n",
       "       [ 831.906 ,  948.6576,  177.    ],\n",
       "       [ 628.7772, 1109.8408,  284.    ],\n",
       "       [ 541.722 , 1106.5864,  134.    ],\n",
       "       [ 530.4672,  923.1648,  330.    ],\n",
       "       [ 531.1   , 1143.108 ,  180.    ],\n",
       "       [ 545.9708, 1125.2088,  268.    ],\n",
       "       [ 289.3252, 1095.0152,  220.    ]])"
      ]
     },
     "execution_count": 96,
     "metadata": {},
     "output_type": "execute_result"
    }
   ],
   "source": [
    "MD589"
   ]
  },
  {
   "cell_type": "code",
   "execution_count": 104,
   "metadata": {},
   "outputs": [
    {
     "name": "stdout",
     "output_type": "stream",
     "text": [
      "[400 600 200] [-1483.39371288   -15.07889633  -550.5703539 ]\n"
     ]
    }
   ],
   "source": [
    "new_points = np.array([400,600,200])\n",
    "RMSD, R, T, c = Superpose3D(MD589,ATLAS, None, False, False)\n",
    "S = np.eye(3) \n",
    "A = np.dot(T, np.dot(S, R))\n",
    "#trans = np.dot(A, new_points)\n",
    "#_x = np.matrix(new_points).transpose()\n",
    "#_xprime = c*R*_x + T\n",
    "print(new_points, A)"
   ]
  },
  {
   "cell_type": "code",
   "execution_count": 105,
   "metadata": {},
   "outputs": [
    {
     "name": "stdout",
     "output_type": "stream",
     "text": [
      "1.0 338.13708569938194 960.5274066889747 120.41051993846376\n"
     ]
    }
   ],
   "source": [
    "new_points = np.array([600,400,200])\n",
    "result = Superpose3D(MD589,ATLAS, None, False, False)\n",
    "R = np.matrix(result[1])              # rotation matrix\n",
    "T = np.matrix(result[2]).transpose()  # translation vector (3x1 matrix)\n",
    "c = result[3]                         # scalar\n",
    "_x = np.matrix(new_points).transpose()\n",
    "_xprime = c*R*_x + T\n",
    "p = np.array(_xprime.transpose()) # convert to length 3 numpy array\n",
    "print(c, p[0][0], p[0][1], p[0][2])"
   ]
  },
  {
   "cell_type": "code",
   "execution_count": 93,
   "metadata": {},
   "outputs": [
    {
     "name": "stdout",
     "output_type": "stream",
     "text": [
      "1.0 1014.1996324995772 487.0106831996645 164.20170055126422\n"
     ]
    }
   ],
   "source": [
    "new_points = np.array([400,600,200])\n",
    "result = Superpose3D(MD589,ATLAS, None, False, False)\n",
    "R = np.matrix(result[1])              # rotation matrix\n",
    "T = np.matrix(result[2]).transpose()  # translation vector (3x1 matrix)\n",
    "c = result[3]\n",
    "_x = np.matrix(new_points).transpose()\n",
    "_xprime = c*R*_x + T\n",
    "p = np.array(_xprime.transpose()) # convert to length 3 numpy array\n",
    "print(c, p[0][0], p[0][1], p[0][2])"
   ]
  },
  {
   "cell_type": "code",
   "execution_count": 64,
   "metadata": {},
   "outputs": [
    {
     "data": {
      "text/plain": [
       "array([[963.72783124, 607.02380337, 284.17945183]])"
      ]
     },
     "execution_count": 64,
     "metadata": {},
     "output_type": "execute_result"
    }
   ],
   "source": [
    "xprime"
   ]
  },
  {
   "cell_type": "code",
   "execution_count": 40,
   "metadata": {},
   "outputs": [
    {
     "data": {
      "text/plain": [
       "numpy.float64"
      ]
     },
     "execution_count": 40,
     "metadata": {},
     "output_type": "execute_result"
    }
   ],
   "source": [
    "p = np.dot(A,new_points)\n",
    "type(p)"
   ]
  },
  {
   "cell_type": "code",
   "execution_count": 18,
   "metadata": {},
   "outputs": [
    {
     "name": "stdout",
     "output_type": "stream",
     "text": [
      " (quaternion = [[ 9.99993156e-01 -3.59598928e-03  8.70039606e-04]\n",
      " [ 8.22214121e-04 -1.32798221e-02 -9.99911481e-01]\n",
      " [ 3.60722494e-03  9.99905353e-01 -1.32767746e-02]])\n",
      "\n"
     ]
    }
   ],
   "source": [
    "X=[[0,0,0],[0,0,1],[0,1,1],[1,1,1]]\n",
    "x=[[0,0,0],[0,1.05,0],[0,1,-1],[1,1,-1]]  # (a slightly modified rotated X)\n",
    "\n",
    "\n",
    "result = Superpose3D(X,x, None, False, False)\n",
    "print(' (quaternion = '+str(result[1])+')\\n')\n",
    "\n",
    "Xshifted = [ [X[i][0],X[i][1]+100, X[i][2]] for i in range(0,len(X))]\n",
    "xscaled  = [ [2*x[i][0],2*x[i][1],    2*x[i][2]] for i in range(0,len(x))]\n",
    "xscshift = [ [2*x[i][0],2*x[i][1]+200,2*x[i][2]] for i in range(0,len(x))]"
   ]
  },
  {
   "cell_type": "code",
   "execution_count": 11,
   "metadata": {},
   "outputs": [
    {
     "data": {
      "text/plain": [
       "[[0, 200, 0], [0, 202.1, 0], [0, 202, -2], [2, 202, -2]]"
      ]
     },
     "execution_count": 11,
     "metadata": {},
     "output_type": "execute_result"
    }
   ],
   "source": [
    "xscshift"
   ]
  },
  {
   "cell_type": "code",
   "execution_count": 52,
   "metadata": {},
   "outputs": [
    {
     "name": "stdout",
     "output_type": "stream",
     "text": [
      " (quaternion = [ 0.70239529  0.71178469 -0.00097423  0.00157255])\n",
      "\n",
      "_x [[  0.    0.    0.    2. ]\n",
      " [200.  202.1 202.  202. ]\n",
      " [  0.    0.   -2.   -2. ]]\n",
      "1st (frozen) point cloud:\n",
      "[[0, 0, 0], [0, 0, 1], [0, 1, 1], [1, 1, 1]]\n",
      "2nd (mobile) point cloud:\n",
      "[[0, 200, 0], [0, 202.1, 0], [0, 202, -2], [2, 202, -2]]\n",
      "2nd (mobile) point cloud after scale(c), rotation(R), translation(T):\n",
      "[[-0.04671682 -0.0890972  -0.1756188 ]\n",
      " [-0.05125589 -0.10585979  1.0865216 ]\n",
      " [-0.05208566  1.09698428  1.04238038]\n",
      " [ 1.15005837  1.09797271  1.04671682]]\n",
      "rmsd = [0.16620452]\n",
      "scale (c) = 0.601076131135872\n",
      "rotation (R) = \n",
      "[[ 9.99993156e-01 -3.59598928e-03  8.70039606e-04]\n",
      " [ 8.22214121e-04 -1.32798221e-02 -9.99911481e-01]\n",
      " [ 3.60722494e-03  9.99905353e-01 -1.32767746e-02]]\n",
      "translation (T) = [   0.38557585    1.50733962 -120.37946703]\n",
      "transformation used: x_i' = Sum_over_j c*R_ij*x_j + T_i\n"
     ]
    }
   ],
   "source": [
    "X=[[0,0,0],[0,0,1],[0,1,1],[1,1,1]]\n",
    "x=[[0,0,0],[0,1.05,0],[0,1,-1],[1,1,-1]]  # (a slightly modified rotated X)\n",
    "\n",
    "\n",
    "result = Superpose3D(X,x, None, False, True)\n",
    "print(' (quaternion = '+str(result[1])+')\\n')\n",
    "\n",
    "Xshifted = [ [X[i][0],X[i][1]+100, X[i][2]] for i in range(0,len(X))]\n",
    "xscaled  = [ [2*x[i][0],2*x[i][1],    2*x[i][2]] for i in range(0,len(x))]\n",
    "xscshift = [ [2*x[i][0],2*x[i][1]+200,2*x[i][2]] for i in range(0,len(x))]\n",
    "\n",
    "# Now try again using the translated, rescaled coordinates:\n",
    "\n",
    "# now test weights, rescale, and quaternions\n",
    "w = [1.0, 1.0, 1.0, 1.0]\n",
    "result = Superpose3D(X, xscshift, w, True)\n",
    "# Does the RMSD returned in result[0] match the RMSD calculated manually?\n",
    "R = np.matrix(result[1])              # rotation matrix\n",
    "T = np.matrix(result[2]).transpose()  # translation vector (3x1 matrix)\n",
    "c = result[3]                         # scalar\n",
    "if len(X) > 0:\n",
    "    _x = np.matrix(xscshift).transpose()\n",
    "    print('_x', _x)\n",
    "    _xprime = c*R*_x + T\n",
    "    xprime = np.array(_xprime.transpose()) # convert to length 3 numpy array\n",
    "else:\n",
    "    xprime = np.array([])\n",
    "\n",
    "print('1st (frozen) point cloud:\\n'+str(X))\n",
    "print('2nd (mobile) point cloud:\\n'+str(xscshift))\n",
    "print('2nd (mobile) point cloud after scale(c), rotation(R), translation(T):\\n' +\n",
    "      str(xprime))\n",
    "print('rmsd = '+str(result[0]))\n",
    "print('scale (c) = '+str(result[3]))\n",
    "print('rotation (R) = \\n'+str(result[1]))\n",
    "print('translation (T) = '+str(result[2]))\n",
    "print('transformation used: x_i\\' = Sum_over_j c*R_ij*x_j + T_i')\n",
    "\n",
    "RMSD = 0.0\n",
    "for i in range(0, len(X)):\n",
    "    RMSD += ((X[i][0] - xprime[i][0])**2 +\n",
    "             (X[i][1] - xprime[i][1])**2 +\n",
    "             (X[i][2] - xprime[i][2])**2)\n",
    "\n",
    "if len(X) > 0:\n",
    "    RMSD = sqrt(RMSD / len(X))\n",
    "\n",
    "assert(abs(RMSD - result[0]) < 1.0e-6)\n"
   ]
  },
  {
   "cell_type": "code",
   "execution_count": 111,
   "metadata": {},
   "outputs": [
    {
     "ename": "NameError",
     "evalue": "name 'offset' is not defined",
     "output_type": "error",
     "traceback": [
      "\u001b[0;31m---------------------------------------------------------------------------\u001b[0m",
      "\u001b[0;31mNameError\u001b[0m                                 Traceback (most recent call last)",
      "\u001b[0;32m<ipython-input-111-178fcb872ed4>\u001b[0m in \u001b[0;36m<module>\u001b[0;34m\u001b[0m\n\u001b[1;32m      9\u001b[0m \u001b[0ms\u001b[0m\u001b[0;34m=\u001b[0m\u001b[0mnp\u001b[0m\u001b[0;34m.\u001b[0m\u001b[0msin\u001b[0m\u001b[0;34m(\u001b[0m\u001b[0mangle\u001b[0m\u001b[0;34m)\u001b[0m\u001b[0;34m\u001b[0m\u001b[0;34m\u001b[0m\u001b[0m\n\u001b[1;32m     10\u001b[0m \u001b[0mmat\u001b[0m\u001b[0;34m=\u001b[0m\u001b[0mnp\u001b[0m\u001b[0;34m.\u001b[0m\u001b[0marray\u001b[0m\u001b[0;34m(\u001b[0m\u001b[0;34m[\u001b[0m\u001b[0;34m[\u001b[0m\u001b[0mc\u001b[0m\u001b[0;34m,\u001b[0m\u001b[0;34m-\u001b[0m\u001b[0ms\u001b[0m\u001b[0;34m,\u001b[0m\u001b[0;36m0\u001b[0m\u001b[0;34m,\u001b[0m\u001b[0;36m0\u001b[0m\u001b[0;34m]\u001b[0m\u001b[0;34m,\u001b[0m\u001b[0;34m[\u001b[0m\u001b[0ms\u001b[0m\u001b[0;34m,\u001b[0m\u001b[0mc\u001b[0m\u001b[0;34m,\u001b[0m\u001b[0;36m0\u001b[0m\u001b[0;34m,\u001b[0m\u001b[0;36m0\u001b[0m\u001b[0;34m]\u001b[0m\u001b[0;34m,\u001b[0m\u001b[0;34m[\u001b[0m\u001b[0;36m0\u001b[0m\u001b[0;34m,\u001b[0m\u001b[0;36m0\u001b[0m\u001b[0;34m,\u001b[0m\u001b[0;36m1\u001b[0m\u001b[0;34m,\u001b[0m\u001b[0;36m0\u001b[0m\u001b[0;34m]\u001b[0m\u001b[0;34m,\u001b[0m\u001b[0;34m[\u001b[0m\u001b[0;36m0\u001b[0m\u001b[0;34m,\u001b[0m\u001b[0;36m0\u001b[0m\u001b[0;34m,\u001b[0m\u001b[0;36m0\u001b[0m\u001b[0;34m,\u001b[0m\u001b[0;36m1\u001b[0m\u001b[0;34m]\u001b[0m\u001b[0;34m]\u001b[0m\u001b[0;34m)\u001b[0m\u001b[0;34m\u001b[0m\u001b[0;34m\u001b[0m\u001b[0m\n\u001b[0;32m---> 11\u001b[0;31m \u001b[0moutput\u001b[0m\u001b[0;34m=\u001b[0m\u001b[0maffine_transform\u001b[0m\u001b[0;34m(\u001b[0m\u001b[0marr\u001b[0m\u001b[0;34m,\u001b[0m\u001b[0mmat\u001b[0m\u001b[0;34m,\u001b[0m\u001b[0morder\u001b[0m\u001b[0;34m=\u001b[0m\u001b[0;36m2\u001b[0m\u001b[0;34m,\u001b[0m\u001b[0moffset\u001b[0m\u001b[0;34m=\u001b[0m\u001b[0moffset\u001b[0m\u001b[0;34m,\u001b[0m\u001b[0moutput_shape\u001b[0m\u001b[0;34m=\u001b[0m\u001b[0;34m(\u001b[0m\u001b[0;36m512\u001b[0m\u001b[0;34m,\u001b[0m\u001b[0;36m512\u001b[0m\u001b[0;34m)\u001b[0m\u001b[0;34m,\u001b[0m\u001b[0mcval\u001b[0m\u001b[0;34m=\u001b[0m\u001b[0;36m0.0\u001b[0m\u001b[0;34m,\u001b[0m\u001b[0moutput\u001b[0m\u001b[0;34m=\u001b[0m\u001b[0mfloat32\u001b[0m\u001b[0;34m)\u001b[0m\u001b[0;34m\u001b[0m\u001b[0;34m\u001b[0m\u001b[0m\n\u001b[0m",
      "\u001b[0;31mNameError\u001b[0m: name 'offset' is not defined"
     ]
    }
   ],
   "source": [
    "from scipy.ndimage import affine_transform\n",
    "arr=\n",
    "c_in=0.5*array(src.shape)\n",
    "c_out=array((256.0,256.0))\n",
    "\n",
    "angle=10/180*np.pi\n",
    "c=np.cos(angle)\n",
    "s=np.sin(angle)\n",
    "mat=np.array([[c,-s,0,0],[s,c,0,0],[0,0,1,0],[0,0,0,1]])\n",
    "output=affine_transform(arr,mat,order=2,offset=offset,output_shape=(512,512),cval=0.0,output=float32)\n"
   ]
  }
 ],
 "metadata": {
  "kernelspec": {
   "display_name": "Python 3",
   "language": "python",
   "name": "python3"
  },
  "language_info": {
   "codemirror_mode": {
    "name": "ipython",
    "version": 3
   },
   "file_extension": ".py",
   "mimetype": "text/x-python",
   "name": "python",
   "nbconvert_exporter": "python",
   "pygments_lexer": "ipython3",
   "version": "3.8.5"
  }
 },
 "nbformat": 4,
 "nbformat_minor": 4
}
