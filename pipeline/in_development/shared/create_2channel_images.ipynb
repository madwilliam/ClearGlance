{
 "cells": [
  {
   "cell_type": "code",
   "execution_count": 1,
   "metadata": {},
   "outputs": [],
   "source": [
    "import numpy as np\n",
    "import matplotlib\n",
    "from matplotlib import pyplot as plt\n",
    "from skimage import io\n",
    "from os.path import expanduser\n",
    "from tqdm import tqdm\n",
    "HOME = expanduser(\"~\")\n",
    "import os, sys\n",
    "import cv2\n",
    "%load_ext autoreload\n",
    "%autoreload 2"
   ]
  },
  {
   "cell_type": "code",
   "execution_count": 2,
   "metadata": {
    "scrolled": true
   },
   "outputs": [
    {
     "name": "stdout",
     "output_type": "stream",
     "text": [
      "486 484\n"
     ]
    }
   ],
   "source": [
    "DIR = '/net/birdstore/Active_Atlas_Data/data_root/pipeline_data/DK52'\n",
    "CH1 = os.path.join(DIR, 'preps', 'CH1', '16_aligned')\n",
    "CH3 = os.path.join(DIR, 'preps', 'CH3', '16_aligned')\n",
    "OUTPUT = os.path.join(DIR, 'preps', 'CH1_CH3', '16_aligned')\n",
    "ch1_files = sorted(os.listdir(CH1))\n",
    "ch3_files = sorted(os.listdir(CH3))\n",
    "print(len(ch1_files), len(ch3_files))"
   ]
  },
  {
   "cell_type": "code",
   "execution_count": 3,
   "metadata": {},
   "outputs": [
    {
     "name": "stdout",
     "output_type": "stream",
     "text": [
      "Connecting dklab@192.168.1.12:3306\n"
     ]
    }
   ],
   "source": [
    "PATH = '/home/eddyod/programming/pipeline_utility'\n",
    "sys.path.append(PATH)\n",
    "from utilities.utilities_mask import linnorm"
   ]
  },
  {
   "cell_type": "code",
   "execution_count": 4,
   "metadata": {},
   "outputs": [
    {
     "name": "stdout",
     "output_type": "stream",
     "text": [
      "040.tif <class 'numpy.ndarray'> (2250, 4063) uint16\n",
      "040.tif <class 'numpy.ndarray'> (2250, 4063) uint16\n",
      "(2250, 4063, 3) uint8\n"
     ]
    }
   ],
   "source": [
    "ch1_file = ch1_files[40]\n",
    "ch1_path = os.path.join(CH1, ch1_file)\n",
    "ch1_img = cv2.imread(ch1_path, cv2.IMREAD_UNCHANGED)\n",
    "print(ch1_file, type(ch1_img), ch1_img.shape, ch1_img.dtype)\n",
    "ch3_file = ch3_files[40]\n",
    "ch3_path = os.path.join(CH3, ch3_file)\n",
    "ch3_img = cv2.imread(ch3_path, cv2.IMREAD_UNCHANGED)\n",
    "print(ch3_file, type(ch3_img), ch3_img.shape, ch3_img.dtype)\n",
    "merged = np.zeros([ch3_img.shape[0], ch3_img.shape[1],3]).astype(np.uint16)\n",
    "merged[:,:,1] = ch3_img\n",
    "merged[:,:,2] = ch1_img\n",
    "r = np.zeros(ch1_img.shape).astype(np.uint8)\n",
    "rgb_uint8 = (np.dstack((r,ch3_img,ch1_img)) * 255.999) .astype(np.uint8)\n",
    "\n",
    "\n",
    "print(rgb_uint8.shape, rgb_uint8.dtype)"
   ]
  },
  {
   "cell_type": "code",
   "execution_count": 8,
   "metadata": {
    "scrolled": true
   },
   "outputs": [
    {
     "name": "stderr",
     "output_type": "stream",
     "text": [
      "0it [00:00, ?it/s]\n"
     ]
    },
    {
     "ename": "ValueError",
     "evalue": "shape mismatch: value array of shape (3,) could not be broadcast to indexing result of shape (16531309,)",
     "output_type": "error",
     "traceback": [
      "\u001b[0;31m---------------------------------------------------------------------------\u001b[0m",
      "\u001b[0;31mValueError\u001b[0m                                Traceback (most recent call last)",
      "\u001b[0;32m<ipython-input-8-46efc371a596>\u001b[0m in \u001b[0;36m<module>\u001b[0;34m\u001b[0m\n\u001b[1;32m     31\u001b[0m     \u001b[0moutpath\u001b[0m \u001b[0;34m=\u001b[0m \u001b[0mos\u001b[0m\u001b[0;34m.\u001b[0m\u001b[0mpath\u001b[0m\u001b[0;34m.\u001b[0m\u001b[0mjoin\u001b[0m\u001b[0;34m(\u001b[0m\u001b[0mOUTPUT\u001b[0m\u001b[0;34m,\u001b[0m \u001b[0mch1_file\u001b[0m\u001b[0;34m)\u001b[0m\u001b[0;34m\u001b[0m\u001b[0;34m\u001b[0m\u001b[0m\n\u001b[1;32m     32\u001b[0m     \u001b[0mcv2\u001b[0m\u001b[0;34m.\u001b[0m\u001b[0mimwrite\u001b[0m\u001b[0;34m(\u001b[0m\u001b[0moutpath\u001b[0m\u001b[0;34m,\u001b[0m \u001b[0mbgr_uint8\u001b[0m\u001b[0;34m)\u001b[0m\u001b[0;34m\u001b[0m\u001b[0;34m\u001b[0m\u001b[0m\n\u001b[0;32m---> 33\u001b[0;31m     \u001b[0mrgb_uint8\u001b[0m\u001b[0;34m[\u001b[0m\u001b[0mnp\u001b[0m\u001b[0;34m.\u001b[0m\u001b[0mwhere\u001b[0m\u001b[0;34m(\u001b[0m\u001b[0mrgb_uint8\u001b[0m \u001b[0;34m==\u001b[0m \u001b[0;34m(\u001b[0m\u001b[0;36m0\u001b[0m\u001b[0;34m,\u001b[0m\u001b[0;36m40\u001b[0m\u001b[0;34m,\u001b[0m\u001b[0;36m0\u001b[0m\u001b[0;34m)\u001b[0m\u001b[0;34m)\u001b[0m\u001b[0;34m]\u001b[0m \u001b[0;34m=\u001b[0m \u001b[0;34m(\u001b[0m\u001b[0;36m255\u001b[0m\u001b[0;34m,\u001b[0m\u001b[0;36m255\u001b[0m\u001b[0;34m,\u001b[0m\u001b[0;36m255\u001b[0m\u001b[0;34m)\u001b[0m\u001b[0;34m\u001b[0m\u001b[0;34m\u001b[0m\u001b[0m\n\u001b[0m\u001b[1;32m     34\u001b[0m     \u001b[0mimg_outputs\u001b[0m\u001b[0;34m.\u001b[0m\u001b[0mappend\u001b[0m\u001b[0;34m(\u001b[0m\u001b[0mrgb_uint8\u001b[0m\u001b[0;34m)\u001b[0m\u001b[0;34m\u001b[0m\u001b[0;34m\u001b[0m\u001b[0m\n\u001b[1;32m     35\u001b[0m \u001b[0;34m\u001b[0m\u001b[0m\n",
      "\u001b[0;31mValueError\u001b[0m: shape mismatch: value array of shape (3,) could not be broadcast to indexing result of shape (16531309,)"
     ]
    }
   ],
   "source": [
    "low_clahe = cv2.createCLAHE(clipLimit=8.0, tileGridSize=(18, 18))\n",
    "high_clahe = cv2.createCLAHE(clipLimit=40.0, tileGridSize=(18, 18))\n",
    "\n",
    "no_img = 2\n",
    "ch1_inputs = []\n",
    "ch3_inputs = []\n",
    "titles = []\n",
    "img_outputs = []\n",
    "start, finish = (145,150)\n",
    "for ch1_file, ch3_file in tqdm(zip(ch1_files[start:finish], ch3_files[start:finish])):\n",
    "    ch1_infile = os.path.join(CH1, ch1_file)\n",
    "    ch3_infile = os.path.join(CH3, ch3_file)\n",
    "    ch1_img = cv2.imread(ch1_infile, cv2.IMREAD_UNCHANGED)\n",
    "    ch3_img = cv2.imread(ch3_infile, cv2.IMREAD_UNCHANGED)\n",
    "    name = '{}'.format(ch1_file)\n",
    "    ch1_img = low_clahe.apply(ch1_img)\n",
    "    ch1_img = ch1_img * 0.25\n",
    "\n",
    "    ch1_img8 = (ch1_img/256).astype('uint8')\n",
    "    ch3_img8 = (ch3_img/256).astype('uint8')\n",
    "    ch1_inputs.append(ch1_img8)\n",
    "    titles.append(name)\n",
    "    ch3_img8 = high_clahe.apply(ch3_img8)\n",
    "    #mask = ch3_img8 == 0\n",
    "    #ch3_img8[mask] = 255\n",
    "    ch3_inputs.append(ch3_img8)\n",
    "    r = np.zeros(ch1_img8.shape).astype(np.uint8)\n",
    "    rgb_uint8 = np.dstack((r,ch3_img8,ch1_img8)) .astype(np.uint8)\n",
    "    bgr_uint8 = np.dstack((ch1_img8, ch3_img8, r)) .astype(np.uint8)\n",
    "    #img = ch1_img/no_img + ch3_img/no_img\n",
    "    outpath = os.path.join(OUTPUT, ch1_file)\n",
    "    cv2.imwrite(outpath, bgr_uint8)\n",
    "    #rgb_uint8[np.where(rgb_uint8 == (0,40,0))] = (255,255,255)              \n",
    "    img_outputs.append(rgb_uint8)\n",
    "    \n",
    "fig, ax = plt.subplots(nrows=len(titles), ncols=3, sharex=False, sharey=False)\n",
    "plt.style.use('classic')\n",
    "i = 0\n",
    "for ch1, ch3, name, fileout in zip(ch1_inputs, ch3_inputs, titles, img_outputs):\n",
    "    ax[i,0].set_title('CH1 {}'.format(name))\n",
    "    ax[i,0].imshow(ch1, cmap=\"gray\")\n",
    "    ax[i,1].set_title('CH3')\n",
    "    ax[i,1].imshow(ch3, cmap=\"gray\")\n",
    "    ax[i,2].set_title('Merged')\n",
    "    ax[i,2].imshow(fileout, cmap=\"gray\")\n",
    "\n",
    "    i += 1\n",
    "# for wide images, 18,4 * len is good\n",
    "fig.set_size_inches(np.array([18, 4 * len(titles)]), forward=False)\n",
    "plt.tight_layout()\n",
    "plt.show()"
   ]
  }
 ],
 "metadata": {
  "kernelspec": {
   "display_name": "Python 3",
   "language": "python",
   "name": "python3"
  },
  "language_info": {
   "codemirror_mode": {
    "name": "ipython",
    "version": 3
   },
   "file_extension": ".py",
   "mimetype": "text/x-python",
   "name": "python",
   "nbconvert_exporter": "python",
   "pygments_lexer": "ipython3",
   "version": "3.8.2"
  }
 },
 "nbformat": 4,
 "nbformat_minor": 4
}
