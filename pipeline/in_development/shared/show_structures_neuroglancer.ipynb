{
 "cells": [
  {
   "cell_type": "code",
   "execution_count": null,
   "metadata": {},
   "outputs": [],
   "source": [
    "import os\n",
    "import numpy as np\n",
    "import json\n",
    "import neuroglancer\n",
    "from matplotlib import pyplot as plt\n",
    "\n",
    "viewer = neuroglancer.Viewer()\n",
    "viewer"
   ]
  },
  {
   "cell_type": "markdown",
   "metadata": {},
   "source": [
    "## MD589 reference"
   ]
  },
  {
   "cell_type": "code",
   "execution_count": null,
   "metadata": {},
   "outputs": [],
   "source": [
    "MD589_VOLUME_PATH = '/net/birdstore/Active_Atlas_Data/data_root/CSHL_volumes/MD589/MD589_full_filled.npy'\n",
    "MD589 = np.load(MD589_VOLUME_PATH)\n",
    "MD589 = np.swapaxes(MD589, 0, 2)"
   ]
  },
  {
   "cell_type": "code",
   "execution_count": null,
   "metadata": {},
   "outputs": [],
   "source": [
    "layer = neuroglancer.SegmentationLayer(\n",
    "    source=neuroglancer.LocalVolume(\n",
    "        data=MD589, \n",
    "        dimensions=neuroglancer.CoordinateSpace(names=['x', 'y', 'z'], units='um', scales=[5, 5, 20]), \n",
    "        voxel_offset=(0, 0, 0)\n",
    "    ),\n",
    ")\n",
    "\n",
    "with viewer.txn() as s:\n",
    "#     s.layers.clear()\n",
    "    s.layers['MD589'] = layer"
   ]
  },
  {
   "cell_type": "markdown",
   "metadata": {},
   "source": [
    "## Average Volumes"
   ]
  },
  {
   "cell_type": "code",
   "execution_count": null,
   "metadata": {
    "scrolled": false
   },
   "outputs": [],
   "source": [
    "color_filepath = os.path.join('/home/eddyod/programming/pipeline_utility/neuroglancer/contours/json_cache', 'struct_to_color_2.json')\n",
    "with open(color_filepath, 'r') as json_file:\n",
    "    colors = json.load(json_file)\n",
    "colors = {name.upper(): index for name, index in colors.items()}\n",
    "    \n",
    "surround = False\n",
    "VOL_DIR = '/net/birdstore/Active_Atlas_Data/copied_from_S3/mousebrainatlas-data/CSHL_volumes/atlasV7/atlasV7_10.0um_scoreVolume/score_volumes'\n",
    "files = os.listdir(VOL_DIR)\n",
    "volume_files = sorted([f for f in files if f.endswith('.npy') and surround == ('surround' in f)])\n",
    "origin_files = sorted([f for f in files if f.endswith('.txt') and surround == ('surround' in f)])\n",
    "    \n",
    "structure_volume_origin = {}\n",
    "for volume_filename, origin_filename in zip(volume_files, origin_files):\n",
    "    prefix = os.path.splitext(volume_filename)[0]\n",
    "    structure = prefix.replace('atlasV7_10.0um_scoreVolume_', '').replace('_surround_200um', '')\n",
    "    if structure not in origin_filename:\n",
    "        print(structure, origin_filename)\n",
    "        break\n",
    "    \n",
    "    try:\n",
    "        color = colors[structure.upper()]\n",
    "    except:\n",
    "        sided = '{}_R'.format(structure.upper())\n",
    "        color = colors[sided]\n",
    "\n",
    "    volume = np.load(os.path.join(VOL_DIR, volume_filename))\n",
    "    origin = np.loadtxt(os.path.join(VOL_DIR, origin_filename))\n",
    "    \n",
    "    volume = np.rot90(volume, axes=(0,1))\n",
    "    volume = np.flip(volume, axis=0)\n",
    "    volume[volume > 0.8] = color\n",
    "    volume = volume.astype(np.uint8)\n",
    "    \n",
    "    structure_volume_origin[structure] = (volume, origin)\n",
    "print(structure_volume_origin.keys())"
   ]
  },
  {
   "cell_type": "markdown",
   "metadata": {},
   "source": [
    "## Adding volumes individually to NG\n",
    "### (Origin of each volume is set in NG)"
   ]
  },
  {
   "cell_type": "code",
   "execution_count": null,
   "metadata": {},
   "outputs": [],
   "source": [
    "with viewer.txn() as s:\n",
    "    s.layers.clear()\n",
    "\n",
    "for structure, (volume, origin) in structure_volume_origin.items():\n",
    "#     if structure not in ['SC', 'IC', 'SNR_L', 'SNR_R', 'Pn_L', 'Pn_R', 'SNC_L', 'SNC_R']:\n",
    "#         continue\n",
    "        \n",
    "    volume_layer = neuroglancer.SegmentationLayer(\n",
    "        source = neuroglancer.LocalVolume(\n",
    "            data=volume, \n",
    "            dimensions=neuroglancer.CoordinateSpace(names=['x', 'y', 'z'], units='um', scales=[10, 10, 10]), \n",
    "            voxel_offset=origin),\n",
    "    )\n",
    "    with viewer.txn() as s:\n",
    "        s.layers[structure] = volume_layer"
   ]
  },
  {
   "cell_type": "markdown",
   "metadata": {},
   "source": [
    "## Aggregate volumes in one volume and add to NG \n",
    "### (Origin of each volume is set in numpy)"
   ]
  },
  {
   "cell_type": "code",
   "execution_count": null,
   "metadata": {},
   "outputs": [],
   "source": [
    "x_length = 2000\n",
    "y_length = 1500\n",
    "z_length = 1500\n",
    "full_brain_volume_annotated = np.zeros((x_length, y_length, z_length), dtype=np.uint8)\n",
    "\n",
    "for structure, (volume, origin) in structure_volume_origin.items():\n",
    "#     if structure not in ['SC', 'IC', 'SNR_L', 'SNR_R', 'Pn_L', 'Pn_R', 'SNC_L', 'SNC_R']:\n",
    "#         continue    \n",
    "    \n",
    "    x, y, z = origin\n",
    "    x_start = int(x) + x_length // 2\n",
    "    y_start = int(y) + y_length // 2\n",
    "    z_start = int(z) + z_length // 2\n",
    "    x_end = x_start + volume.shape[0]\n",
    "    y_end = y_start + volume.shape[1]\n",
    "    z_end = z_start + volume.shape[2]\n",
    "\n",
    "    full_brain_volume_annotated[x_start:x_end, y_start:y_end,z_start:z_end] += volume\n",
    "\n",
    "\n",
    "all_volume_layer = neuroglancer.SegmentationLayer(\n",
    "    source = neuroglancer.LocalVolume(\n",
    "        data=full_brain_volume_annotated, \n",
    "        dimensions=neuroglancer.CoordinateSpace(names=['x', 'y', 'z'], units='um', scales=[10, 10, 10])\n",
    "        , \n",
    "        voxel_offset=(0, 0, 0)\n",
    "    ),\n",
    ")\n",
    "\n",
    "with viewer.txn() as s:\n",
    "    s.layers.clear()\n",
    "    s.layers['all'] = all_volume_layer"
   ]
  },
  {
   "cell_type": "code",
   "execution_count": null,
   "metadata": {},
   "outputs": [],
   "source": [
    "print(viewer)"
   ]
  },
  {
   "cell_type": "code",
   "execution_count": null,
   "metadata": {},
   "outputs": [],
   "source": []
  }
 ],
 "metadata": {
  "kernelspec": {
   "display_name": "Python 3",
   "language": "python",
   "name": "python3"
  },
  "language_info": {
   "codemirror_mode": {
    "name": "ipython",
    "version": 3
   },
   "file_extension": ".py",
   "mimetype": "text/x-python",
   "name": "python",
   "nbconvert_exporter": "python",
   "pygments_lexer": "ipython3",
   "version": "3.8.5"
  }
 },
 "nbformat": 4,
 "nbformat_minor": 1
}
