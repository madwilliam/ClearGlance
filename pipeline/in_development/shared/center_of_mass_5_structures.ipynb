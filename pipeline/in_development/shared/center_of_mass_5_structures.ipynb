{
 "cells": [
  {
   "cell_type": "code",
   "execution_count": 1,
   "metadata": {},
   "outputs": [
    {
     "name": "stdout",
     "output_type": "stream",
     "text": [
      "Connecting dklab@192.168.1.12:3306\n",
      "No histology for atlas\n",
      "No scan run for atlas\n"
     ]
    }
   ],
   "source": [
    "%reload_ext autoreload\n",
    "%autoreload 2\n",
    "import os, sys\n",
    "import numpy as np\n",
    "from collections import OrderedDict\n",
    "HOME = os.path.expanduser(\"~\")\n",
    "PATH = os.path.join(HOME, 'programming/pipeline_utility')\n",
    "sys.path.append(PATH)\n",
    "from utilities.SqlController import SqlController\n",
    "from utilities.utilities_cvat_neuroglancer import get_structure_number\n",
    "atlas_name = 'atlas'\n",
    "sqlController = SqlController(atlas_name)\n",
    "from utilities.FileLocationManager import DATA_PATH"
   ]
  },
  {
   "cell_type": "code",
   "execution_count": 2,
   "metadata": {},
   "outputs": [],
   "source": [
    "# static variables used by both methods\n",
    "col_length = 1000\n",
    "row_length = 1000\n",
    "z_length = 300\n",
    "atlas_box_size=(row_length, col_length, z_length)\n",
    "atlas_box_scales=(10, 10, 20)\n",
    "atlas_raw_scale=10"
   ]
  },
  {
   "cell_type": "code",
   "execution_count": 3,
   "metadata": {},
   "outputs": [],
   "source": [
    "# calculate the centers of mass for the atlas with the existing algorithm\n",
    "atlas_centers = sqlController.get_centers_dict(atlas_name)\n",
    "# with no sql connection, comment line above and uncomment the next 4 lines\n",
    "#atlas_centers = {}\n",
    "#atlas_centers['DC_L'] = [83,-43,-215]\n",
    "#atlas_centers['DC_R'] = [83,-43,215]\n",
    "#atlas_centers['SC'] = [-128,-241,3]\n",
    "atlas_box_scales = np.array(atlas_box_scales)\n",
    "atlas_box_size = np.array(atlas_box_size)\n",
    "atlas_box_center = atlas_box_size / 2\n",
    "com_calc = OrderedDict()\n",
    "for structure, origin in atlas_centers.items():\n",
    "    x,y,section = atlas_box_center + np.array(origin) * atlas_raw_scale / atlas_box_scales\n",
    "    com_calc[structure] = [x,y,section]"
   ]
  },
  {
   "cell_type": "code",
   "execution_count": 4,
   "metadata": {},
   "outputs": [],
   "source": [
    "# get the centers of mass from the existing structures\n",
    "# This is the process that is used to create the actual atlas we see in neuroglancer,\n",
    "# to see the entire code for creating an atlas, see:\n",
    "# https://github.com/eddyod/pipeline_utility/blob/master/utilities/atlas/create_atlas_volume.py\n",
    "ATLAS_PATH = os.path.join(DATA_PATH, 'atlas_data', atlas_name)\n",
    "ORIGIN_PATH = os.path.join(ATLAS_PATH, 'origin')\n",
    "VOLUME_PATH = os.path.join(ATLAS_PATH, 'structure')\n",
    "origin_files = sorted(os.listdir(ORIGIN_PATH))\n",
    "volume_files = sorted(os.listdir(VOLUME_PATH))\n",
    "\n",
    "structure_volume_origin = {}\n",
    "for volume_filename, origin_filename in zip(volume_files, origin_files):\n",
    "    structure = os.path.splitext(volume_filename)[0]\n",
    "    origin = np.loadtxt(os.path.join(ORIGIN_PATH, origin_filename))\n",
    "    volume_path = os.path.join(VOLUME_PATH, volume_filename)\n",
    "    volume = np.load(volume_path)\n",
    "    volume = np.rot90(volume, axes=(0, 1))\n",
    "    volume = np.flip(volume, axis=0)\n",
    "    volume = volume.astype(np.uint8)\n",
    "    structure_volume_origin[structure] = (volume, origin)\n",
    "\n",
    "common_keys = com_calc.keys() & structure_volume_origin.keys()\n",
    "com_existing = OrderedDict()\n",
    "for structure, (volume, origin) in sorted(structure_volume_origin.items()):\n",
    "    if structure not in common_keys:\n",
    "        continue\n",
    "\n",
    "    x, y, z = origin\n",
    "    x_start = x + col_length / 2\n",
    "    y_start = y + row_length / 2\n",
    "    z_start = z / 2 + z_length / 2\n",
    "    x_end = x_start + volume.shape[0]\n",
    "    y_end = y_start + volume.shape[1]\n",
    "    z_end = z_start + (volume.shape[2] + 1) / 2\n",
    "\n",
    "    midx = ((x_start + x_end) / 2)\n",
    "    midy = ((y_start + y_end) / 2)\n",
    "    midz = (z_start + z_end) / 2\n",
    "    com_existing[structure] = [midx,midy,midz]"
   ]
  },
  {
   "cell_type": "code",
   "execution_count": 5,
   "metadata": {},
   "outputs": [
    {
     "name": "stdout",
     "output_type": "stream",
     "text": [
      "10N_L\t[ -9 -15   0]\n",
      "10N_R\t[ -9 -15   0]\n",
      "12N\t[-6 -3  0]\n",
      "3N_L\t[-1 -1  0]\n",
      "3N_R\t[-1 -1  0]\n",
      "4N_L\t[ 0 -1  0]\n",
      "4N_R\t[ 0 -1  0]\n",
      "5N_L\t[2 0 0]\n",
      "5N_R\t[ 2  0 -1]\n",
      "6N_L\t[1 0 0]\n",
      "6N_R\t[ 1  0 -1]\n",
      "AP\t[ 0 -2  0]\n",
      "Amb_L\t[-4 -1  0]\n",
      "Amb_R\t[-4 -1  0]\n",
      "DC_L\t[  8 -11 -14]\n",
      "DC_R\t[  8 -11  13]\n",
      "IC\t[39 -3  0]\n",
      "LC_L\t[-3 -4  0]\n",
      "LC_R\t[-3 -4  0]\n",
      "LRt_L\t[-3  7  0]\n",
      "LRt_R\t[-3  7 -1]\n",
      "PBG_L\t[-5  0  0]\n",
      "PBG_R\t[-5  0  0]\n",
      "Pn_L\t[-8  1  3]\n",
      "Pn_R\t[-8  1 -4]\n",
      "RtTg\t[-21  -7   0]\n",
      "SC\t[  1 -11   0]\n",
      "SNC_L\t[-6  6 -1]\n",
      "SNC_R\t[-6  6  0]\n",
      "SNR_L\t[ 3  7 -1]\n",
      "SNR_R\t[3 7 0]\n",
      "Sp5C_L\t[-18  -7  -6]\n",
      "Sp5C_R\t[-18  -7   5]\n",
      "Sp5I_L\t[-7 -6  0]\n",
      "Sp5I_R\t[-7 -6 -1]\n",
      "Sp5O_L\t[2 0 0]\n",
      "Sp5O_R\t[ 2  0 -1]\n",
      "Tz_L\t[-3  0 -1]\n",
      "Tz_R\t[-3  0  0]\n",
      "VCA_L\t[  0 -10  -3]\n",
      "VCA_R\t[  0 -10   2]\n",
      "VCP_L\t[-2  3 -3]\n",
      "VCP_R\t[-2  3  2]\n",
      "VLL_L\t[-12  -1  -2]\n",
      "VLL_R\t[-12  -1   1]\n"
     ]
    }
   ],
   "source": [
    "# look at the difference between the two methods. Most are very close,\n",
    "# but some like DC_L and DC_R vary a lot in the section\n",
    "for (kc,vc),(ke,ve) in zip(com_calc.items(), com_existing.items()):\n",
    "    arrc = np.array(vc)\n",
    "    arre = np.array(ve)\n",
    "    if kc == ke:\n",
    "        diffed = np.array(arrc-arre).astype(np.int)\n",
    "        print(kc,end=\"\\t\")\n",
    "        print(diffed)\n"
   ]
  }
 ],
 "metadata": {
  "kernelspec": {
   "display_name": "Python 3",
   "language": "python",
   "name": "python3"
  },
  "language_info": {
   "codemirror_mode": {
    "name": "ipython",
    "version": 3
   },
   "file_extension": ".py",
   "mimetype": "text/x-python",
   "name": "python",
   "nbconvert_exporter": "python",
   "pygments_lexer": "ipython3",
   "version": "3.8.5"
  }
 },
 "nbformat": 4,
 "nbformat_minor": 1
}
