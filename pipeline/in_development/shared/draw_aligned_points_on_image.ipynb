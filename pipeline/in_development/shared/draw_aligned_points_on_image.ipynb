{
 "cells": [
  {
   "cell_type": "code",
   "execution_count": null,
   "metadata": {},
   "outputs": [],
   "source": [
    "import os, sys\n",
    "import pandas as pd\n",
    "import numpy as np\n",
    "import json\n",
    "from matplotlib import pyplot as plt\n",
    "import cv2\n",
    "from tqdm import tqdm\n",
    "from collections import defaultdict\n",
    "import random"
   ]
  },
  {
   "cell_type": "code",
   "execution_count": null,
   "metadata": {},
   "outputs": [],
   "source": [
    "HOME = os.path.expanduser(\"~\")\n",
    "PATH = os.path.join(HOME, 'programming/pipeline_utility/src')\n",
    "sys.path.append(PATH)\n",
    "from lib.FileLocationManager import DATA_PATH\n",
    "from Controllers.SqlController import SqlController\n",
    "color_radius = 3\n",
    "animal = 'MD594'\n",
    "sqlController = SqlController(animal)\n",
    "ATLAS = 'atlasV8'\n",
    "CSVPATH = os.path.join(DATA_PATH, 'atlas_data', ATLAS, animal)\n",
    "jsonpath = os.path.join(CSVPATH,  'aligned_padded_structures.json')\n",
    "print(jsonpath)\n",
    "with open(jsonpath) as f:\n",
    "    aligned_dict = json.load(f)"
   ]
  },
  {
   "cell_type": "code",
   "execution_count": null,
   "metadata": {},
   "outputs": [],
   "source": [
    "structure_dict = sqlController.get_structures_dict()\n",
    "SC = 'SC'\n",
    "structure_dict[SC]"
   ]
  },
  {
   "cell_type": "code",
   "execution_count": null,
   "metadata": {},
   "outputs": [],
   "source": [
    "#structure = random.choice(list(aligned_dict.keys()))\n",
    "structure = 'SC'\n",
    "onestructure = aligned_dict[structure]"
   ]
  },
  {
   "cell_type": "code",
   "execution_count": null,
   "metadata": {},
   "outputs": [],
   "source": [
    "sections = [int(i) for i in onestructure.keys()]\n",
    "section = random.choice(sections)\n",
    "#section = 159\n",
    "points = onestructure[str(section)]\n",
    "arr = np.array(np.round(points)).astype(np.int32)\n",
    "np.mean(arr, axis=0)"
   ]
  },
  {
   "cell_type": "code",
   "execution_count": null,
   "metadata": {},
   "outputs": [],
   "source": [
    "INPUT = f'/net/birdstore/Active_Atlas_Data/data_root/pipeline_data/{animal}/preps/CH1/thumbnail_aligned'\n",
    "ORIGINPATH = '/net/birdstore/Active_Atlas_Data/data_root/CSHL/CSHL_volumes/MD585/10.0um_annotationAsScoreVolume'"
   ]
  },
  {
   "cell_type": "code",
   "execution_count": null,
   "metadata": {},
   "outputs": [],
   "source": [
    "filepath = os.path.join(INPUT, f'{section}.tif')\n",
    "img = cv2.imread(filepath)\n",
    "for s, points in onestructure.items():\n",
    "    if str(s) == str(section):\n",
    "        arr = np.array(np.round(points)).astype(np.int32)\n",
    "        color = sqlController.get_structure_color_rgb(structure)\n",
    "        cv2.fillPoly(img, pts = [arr], color = color)\n",
    "\n",
    "\n",
    "fig=plt.figure(figsize=(26,18), dpi= 100, facecolor='w', edgecolor='k')\n",
    "plt.imshow(img, cmap=\"gray\")\n",
    "plt.title(f'{structure} on {animal} aligned section:{section}', fontsize=20)\n",
    "plt.tick_params(axis='x', labelsize=30)\n",
    "plt.tick_params(axis='y', labelsize=30)\n",
    "plt.show()"
   ]
  },
  {
   "cell_type": "code",
   "execution_count": null,
   "metadata": {},
   "outputs": [],
   "source": [
    "title = []\n",
    "filepath = os.path.join(INPUT, f'{section}.tif')\n",
    "print(filepath)\n",
    "img = cv2.imread(filepath)\n",
    "for structure, data in aligned_dict.items():\n",
    "    for s, points in data.items():\n",
    "        if str(s) == str(section):\n",
    "            title.append(structure)\n",
    "            arr = np.array(np.round(points)).astype(np.int32)\n",
    "            color = sqlController.get_structure_color_rgb(structure)\n",
    "            cv2.polylines(img, [arr], isClosed=True, color=color, thickness=3)\n",
    "            cv2.fillPoly(img, pts = [arr], color = color)\n",
    "            com = np.mean(arr, axis=0)\n",
    "            cv2.circle(img, (int(com[0]), int(com[1])), 5, (255,255,200), 2)\n",
    "\n",
    "\n",
    "fig=plt.figure(figsize=(26,18), dpi= 100, facecolor='w', edgecolor='k')\n",
    "plt.imshow(img, cmap=\"gray\")\n",
    "plt.title(f'{title} on {animal} aligned section:{section}', fontsize=20)\n",
    "plt.tick_params(axis='x', labelsize=30)\n",
    "plt.tick_params(axis='y', labelsize=30)\n",
    "plt.show()"
   ]
  }
 ],
 "metadata": {
  "kernelspec": {
   "display_name": "Python 3",
   "language": "python",
   "name": "python3"
  },
  "language_info": {
   "codemirror_mode": {
    "name": "ipython",
    "version": 3
   },
   "file_extension": ".py",
   "mimetype": "text/x-python",
   "name": "python",
   "nbconvert_exporter": "python",
   "pygments_lexer": "ipython3",
   "version": "3.8.10"
  }
 },
 "nbformat": 4,
 "nbformat_minor": 1
}
