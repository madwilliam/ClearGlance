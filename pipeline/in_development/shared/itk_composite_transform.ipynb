{
 "cells": [
  {
   "cell_type": "code",
   "execution_count": null,
   "metadata": {},
   "outputs": [],
   "source": [
    "import os, sys\n",
    "import numpy as np\n",
    "import matplotlib.pyplot as plt\n",
    "import SimpleITK as sitk\n",
    "%matplotlib inline\n",
    "%load_ext autoreload\n",
    "%autoreload 2"
   ]
  },
  {
   "cell_type": "code",
   "execution_count": null,
   "metadata": {},
   "outputs": [],
   "source": [
    "HOME = os.path.expanduser(\"~\")\n",
    "sys.path.append(os.path.join(HOME, 'programming', 'pipeline_utility'))\n",
    "from utilities.utilities_registration import start_plot, end_plot, update_multires_iterations, plot_values"
   ]
  },
  {
   "cell_type": "code",
   "execution_count": null,
   "metadata": {},
   "outputs": [],
   "source": [
    "# Get a middle section image from DK52\n",
    "DIR = '/net/birdstore/Active_Atlas_Data/data_root/pipeline_data/DK52'\n",
    "INPUT = os.path.join(DIR, 'preps', 'CH1', 'thumbnail_cleaned')\n",
    "fixed_filename = os.path.join(INPUT, '217.tif')\n",
    "fixed = sitk.ReadImage(fixed_filename, sitk.sitkFloat32)"
   ]
  },
  {
   "cell_type": "code",
   "execution_count": null,
   "metadata": {},
   "outputs": [],
   "source": [
    "def register(fixed, moving):\n",
    "    rotation_transform = sitk.CenteredTransformInitializer(\n",
    "        fixed, moving,\n",
    "        sitk.Similarity2DTransform())\n",
    "\n",
    "    R2 = sitk.ImageRegistrationMethod()\n",
    "    R2.SetInitialTransform(rotation_transform, inPlace=True)\n",
    "    R2.SetMetricAsCorrelation() # -0439\n",
    "    R2.SetMetricSamplingStrategy(R2.REGULAR) # random = 0.442 # regular -0.439\n",
    "    R2.SetMetricSamplingPercentage(0.2)\n",
    "    R2.SetOptimizerAsRegularStepGradientDescent(learningRate=1.0,\n",
    "                                               minStep=1e-4,\n",
    "                                               numberOfIterations=100,\n",
    "                                               gradientMagnitudeTolerance=1e-8)\n",
    "    #R2.SetOptimizerScalesFromPhysicalShift()\n",
    "    R2.SetInterpolator(sitk.sitkLinear)\n",
    "    R2.AddCommand(sitk.sitkStartEvent, start_plot)\n",
    "    R2.AddCommand(sitk.sitkEndEvent, end_plot)\n",
    "    R2.AddCommand(sitk.sitkMultiResolutionIterationEvent, update_multires_iterations)\n",
    "    R2.AddCommand(sitk.sitkIterationEvent, lambda: plot_values(R2))\n",
    "    rotation_transform = R2.Execute(sitk.Cast(fixed, sitk.sitkFloat32),\n",
    "                                                   sitk.Cast(moving, sitk.sitkFloat32))\n",
    "    return rotation_transform\n",
    "\n"
   ]
  },
  {
   "cell_type": "code",
   "execution_count": null,
   "metadata": {},
   "outputs": [],
   "source": [
    "# create a drastic rotation and translation\n",
    "mr = np.radians(40)\n",
    "mx = 130.0\n",
    "my = 100.0\n",
    "transform = sitk.Euler2DTransform()\n",
    "transform.SetCenter(np.array(fixed.GetSize()) / 2)\n",
    "transform.SetAngle(mr)\n",
    "transform.SetTranslation([mx, my])"
   ]
  },
  {
   "cell_type": "code",
   "execution_count": null,
   "metadata": {},
   "outputs": [],
   "source": [
    "resample = sitk.ResampleImageFilter()\n",
    "resample.SetReferenceImage(fixed)\n",
    "resample.SetInterpolator(sitk.sitkLinear)\n",
    "resample.SetDefaultPixelValue(0)\n",
    "resample.SetOutputPixelType(fixed.GetPixelID())"
   ]
  },
  {
   "cell_type": "code",
   "execution_count": null,
   "metadata": {},
   "outputs": [],
   "source": [
    "plt.imshow(sitk.GetArrayViewFromImage(fixed), cmap='gray')\n",
    "plt.title('Original image')"
   ]
  },
  {
   "cell_type": "code",
   "execution_count": null,
   "metadata": {},
   "outputs": [],
   "source": [
    "resample.SetTransform(transform)\n",
    "transformed = resample.Execute(fixed)\n",
    "plt.imshow(sitk.GetArrayViewFromImage(transformed), cmap='gray')\n",
    "plt.title('Manually transformed image')"
   ]
  },
  {
   "cell_type": "code",
   "execution_count": null,
   "metadata": {},
   "outputs": [],
   "source": [
    "# run transform with metrics displayed\n",
    "final_transform = register(fixed, transformed)\n",
    "finalParameters = final_transform.GetParameters()\n",
    "scale, tr, tx, ty = finalParameters\n",
    "\n",
    "print('manual rotation, xshift, yshift', round(mr,2), mx, my)\n",
    "print('transf rotation, xshift, yshift', round(tr,2), round(tx), round(ty), scale)\n",
    "print('Rotation is off by ', abs(mr) - abs(tr))\n",
    "print('X shift is off by ', abs(mx) - abs(tx))\n",
    "print('Y shift is off by ', abs(my) - abs(ty))\n",
    "\n",
    "#print(finalParameters)"
   ]
  },
  {
   "cell_type": "code",
   "execution_count": null,
   "metadata": {},
   "outputs": [],
   "source": []
  },
  {
   "cell_type": "code",
   "execution_count": null,
   "metadata": {},
   "outputs": [],
   "source": [
    "moving_resampled = sitk.Resample(transformed, fixed, final_transform, sitk.sitkLinear, 0.0, transformed.GetPixelID())\n",
    "fig = plt.figure(figsize=(15,8))\n",
    "plt.imshow(sitk.GetArrayViewFromImage(fixed), cmap='gray')\n",
    "plt.grid()\n",
    "plt.title('fixed image', fontsize=10)\n",
    "\n",
    "fig = plt.figure(figsize=(15, 8))\n",
    "plt.imshow(sitk.GetArrayViewFromImage(moving_resampled), cmap='gray')\n",
    "plt.grid()\n",
    "plt.title('resampled image via sitk.Similarity2DTransform() transform')\n",
    "\n",
    "fig = plt.figure(figsize=(15, 8))\n",
    "plt.title('manually rotated and translated image')\n",
    "plt.grid()\n",
    "plt.imshow(sitk.GetArrayViewFromImage(transformed), cmap='gray')\n",
    "    "
   ]
  }
 ],
 "metadata": {
  "kernelspec": {
   "display_name": "Python 3",
   "language": "python",
   "name": "python3"
  },
  "language_info": {
   "codemirror_mode": {
    "name": "ipython",
    "version": 3
   },
   "file_extension": ".py",
   "mimetype": "text/x-python",
   "name": "python",
   "nbconvert_exporter": "python",
   "pygments_lexer": "ipython3",
   "version": "3.8.5"
  }
 },
 "nbformat": 4,
 "nbformat_minor": 4
}
