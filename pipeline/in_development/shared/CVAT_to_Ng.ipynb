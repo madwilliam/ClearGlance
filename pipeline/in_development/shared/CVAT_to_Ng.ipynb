{
 "cells": [
  {
   "cell_type": "code",
   "execution_count": 4,
   "metadata": {},
   "outputs": [],
   "source": [
    "import os\n",
    "import json\n",
    "import numpy as np\n",
    "from glob import glob\n",
    "from skimage import measure, io\n",
    "from shapely.geometry import Polygon\n",
    "import cv2\n",
    "from matplotlib import pyplot as plt"
   ]
  },
  {
   "cell_type": "code",
   "execution_count": 2,
   "metadata": {},
   "outputs": [],
   "source": [
    "def read_from_cvat(annotations):\n",
    "    '''\n",
    "    Read labels and vertices of each polygon in every section from cvat structure data.\n",
    "    :param annotations: cvat structure data loaded from json files\n",
    "    :return: a dictionary containing vertex coordinates organized by section numbers and labels\n",
    "    '''\n",
    "    contours = {}\n",
    "    for annotation in annotations:\n",
    "        if not annotation['image_id'] in contours.keys():\n",
    "            contours[annotation['image_id']] = {}\n",
    "        landmarks = contours[annotation['image_id']]\n",
    "        if not annotation['category_id'] in landmarks.keys():\n",
    "            landmarks[annotation['category_id']] = []\n",
    "        landmarks[annotation['category_id']].extend(annotation['segmentation'])\n",
    "    return contours\n",
    "\n",
    "def npy_for_Ng(width,length,z_value,contours):\n",
    "    '''\n",
    "    Generate a 3D numpy array including all polygons in CVAT for Neuroglancer.\n",
    "    :param width: width of thumbnail images\n",
    "    :param length: length of thumbnail images\n",
    "    :param z_value: the total section number\n",
    "    :param contours: a dictionary read from cvat\n",
    "    :return: a 3D numpy array including all polygons\n",
    "    '''\n",
    "    shells = np.zeros([width,length,z_value],dtype='uint8')\n",
    "    for section in contours.keys():\n",
    "        shell = np.zeros([width,length],dtype='uint8')\n",
    "        landmarks = contours[section]\n",
    "        for structure_id in landmarks.keys():\n",
    "            for i in range(len(landmarks[structure_id])):\n",
    "                polygon = np.array(landmarks[structure_id][i])\n",
    "                polygon = np.c_[polygon[::2], polygon[1::2]]\n",
    "                cv2.polylines(shell, [polygon.astype(np.int32)], True, structure_id, 3, lineType=8)\n",
    "        shells[:,:,section-1] = shell\n",
    "    return shells"
   ]
  },
  {
   "cell_type": "code",
   "execution_count": 5,
   "metadata": {},
   "outputs": [],
   "source": [
    "# import cvat structure data\n",
    "JSON_PATH = '/net/birdstore/Active_Atlas_Data/data_root/atlas_data/masks/MD589'\n",
    "fn = os.path.join(JSON_PATH, 'outlines.json')\n",
    "annotation = json.load(open(fn,'r'))\n",
    "annotations = annotation['annotations']\n",
    "\n",
    "fn = os.path.join(JSON_PATH, 'landmarks.json')\n",
    "annotation = json.load(open(fn,'r'))\n",
    "annotations.extend(annotation['annotations'])"
   ]
  },
  {
   "cell_type": "code",
   "execution_count": 6,
   "metadata": {},
   "outputs": [
    {
     "name": "stdout",
     "output_type": "stream",
     "text": [
      "CPU times: user 4.89 s, sys: 164 ms, total: 5.05 s\n",
      "Wall time: 5.11 s\n"
     ]
    }
   ],
   "source": [
    "%%time\n",
    "contours = read_from_cvat(annotations)\n",
    "shells = npy_for_Ng(1012,1365,447, contours)\n",
    "#np.save('/data/Shapeology_Files/BstemAtlasDataBackup/ucsd_brain/masks/MD589/MD589.npy', shells)"
   ]
  },
  {
   "cell_type": "code",
   "execution_count": 8,
   "metadata": {},
   "outputs": [
    {
     "data": {
      "text/plain": [
       "<matplotlib.image.AxesImage at 0x7f63162e8070>"
      ]
     },
     "execution_count": 8,
     "metadata": {},
     "output_type": "execute_result"
    },
    {
     "data": {
      "image/png": "[encoded data removed]",
      "text/plain": [
       "<Figure size 432x288 with 1 Axes>"
      ]
     },
     "metadata": {
      "needs_background": "light"
     },
     "output_type": "display_data"
    }
   ],
   "source": [
    "plt.imshow(shells[:,:,150]!=0,cmap='cool')"
   ]
  },
  {
   "cell_type": "code",
   "execution_count": null,
   "metadata": {},
   "outputs": [],
   "source": []
  }
 ],
 "metadata": {
  "kernelspec": {
   "display_name": "Python 3",
   "language": "python",
   "name": "python3"
  },
  "language_info": {
   "codemirror_mode": {
    "name": "ipython",
    "version": 3
   },
   "file_extension": ".py",
   "mimetype": "text/x-python",
   "name": "python",
   "nbconvert_exporter": "python",
   "pygments_lexer": "ipython3",
   "version": "3.8.2"
  }
 },
 "nbformat": 4,
 "nbformat_minor": 4
}
