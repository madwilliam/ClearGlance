{
 "cells": [
  {
   "cell_type": "code",
   "execution_count": 1,
   "metadata": {},
   "outputs": [],
   "source": [
    "from scipy import ndimage\n",
    "from pathlib import Path\n",
    "import numpy as np\n",
    "import os, sys\n",
    "%load_ext autoreload\n",
    "%autoreload 2"
   ]
  },
  {
   "cell_type": "code",
   "execution_count": 2,
   "metadata": {},
   "outputs": [
    {
     "name": "stdout",
     "output_type": "stream",
     "text": [
      "Connecting dklab@192.168.1.12:3306\n",
      "No histology for Atlas\n",
      "No scan run for Atlas\n"
     ]
    }
   ],
   "source": [
    "HOME = os.path.expanduser(\"~\")\n",
    "DIR = os.path.join(HOME, 'programming/pipeline_utility')\n",
    "sys.path.append(DIR)\n",
    "from utilities.SqlController import SqlController\n",
    "sqlController = SqlController('Atlas')"
   ]
  },
  {
   "cell_type": "code",
   "execution_count": 13,
   "metadata": {},
   "outputs": [],
   "source": [
    "atlas_box_size=(1000, 1000, 300)\n",
    "atlas_box_scales=(10, 10, 20)\n",
    "atlas_raw_scale=10\n",
    "atlas_box_scales = np.array(atlas_box_scales)\n",
    "atlas_box_size = np.array(atlas_box_size)\n",
    "atlas_box_center = atlas_box_size / 2\n",
    "\n",
    "# unzip your structure and origin zip files in this path, or create your own path\n",
    "atlas_dir = Path('/net/birdstore/Active_Atlas_Data/data_root/atlas_data/atlasV8')\n",
    "origin_dir = atlas_dir / 'origin'\n",
    "volume_dir = atlas_dir / 'structure'\n",
    "\n",
    "atlas_centers = {}\n",
    "\n",
    "for origin_file, volume_file in zip(sorted(origin_dir.iterdir()), sorted(volume_dir.iterdir())):\n",
    "    assert origin_file.stem == volume_file.stem\n",
    "    name = origin_file.stem\n",
    "    origin = np.loadtxt(origin_file)\n",
    "    volume = np.load(volume_file)\n",
    "    volume = np.rot90(volume, axes=(0, 1))\n",
    "    volume = np.flip(volume, axis=0)\n",
    "    x,y,z = (origin + ndimage.measurements.center_of_mass(volume))\n",
    "    #print(name, x,y,z)\n",
    "    sqlController.add_center_of_mass('10N_L', 'AtlasV7', 1,2,3)"
   ]
  },
  {
   "cell_type": "code",
   "execution_count": 6,
   "metadata": {},
   "outputs": [],
   "source": [
    "sqlController.add_center_of_mass('10N_L', 'AtlasV7', 1,2,3)"
   ]
  }
 ],
 "metadata": {
  "kernelspec": {
   "display_name": "Python 3",
   "language": "python",
   "name": "python3"
  },
  "language_info": {
   "codemirror_mode": {
    "name": "ipython",
    "version": 3
   },
   "file_extension": ".py",
   "mimetype": "text/x-python",
   "name": "python",
   "nbconvert_exporter": "python",
   "pygments_lexer": "ipython3",
   "version": "3.8.5"
  }
 },
 "nbformat": 4,
 "nbformat_minor": 4
}
