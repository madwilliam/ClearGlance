{
 "cells": [
  {
   "cell_type": "code",
   "execution_count": 1,
   "metadata": {},
   "outputs": [],
   "source": [
    "import numpy as np\n",
    "import os, sys\n",
    "import neuroglancer\n",
    "import matplotlib\n",
    "from matplotlib import pyplot as plt"
   ]
  },
  {
   "cell_type": "code",
   "execution_count": 2,
   "metadata": {},
   "outputs": [
    {
     "name": "stdout",
     "output_type": "stream",
     "text": [
      "Connecting dklab@192.168.1.12:3306\n"
     ]
    }
   ],
   "source": [
    "PATH = '/home/eddyod/programming/pipeline_utility'\n",
    "sys.path.append(PATH)\n",
    "from utilities.contour_utilities import get_structure_colors\n",
    "VOL_DIR = '/net/birdstore/Active_Atlas_Data/data_root/CSHL_volumes/atlasV7/10.0um_annotationAsScoreVolume'\n",
    "MD589_VOLUME_PATH = '/net/birdstore/Active_Atlas_Data/data_root/CSHL_volumes/MD589/MD589_full_filled.npy'\n",
    "MD589 = np.load(MD589_VOLUME_PATH)\n",
    "xy_ng_resolution_um = 5\n",
    "neuroglancer.set_server_bind_address(bind_port='33645')"
   ]
  },
  {
   "cell_type": "code",
   "execution_count": null,
   "metadata": {},
   "outputs": [],
   "source": [
    "height, width, zdim = (1000,1000,288)\n",
    "#full_brain_volume_annotated = np.zeros((zdim,height,width), dtype=np.uint8)\n",
    "full_brain_volume_annotated = np.zeros((height, width, zdim), dtype=np.uint8)\n",
    "files = os.listdir(VOL_DIR)\n",
    "numpy_files = [f for f in files if f.endswith('.npy') and 'surround' not in f]\n",
    "print('full brain volume shape:', full_brain_volume_annotated.shape)\n",
    "midx = width // 2\n",
    "midy = height // 2\n",
    "midz = zdim // 2\n",
    "print(\"origin\", midx, midy, midz)\n",
    "colors = get_structure_colors()"
   ]
  },
  {
   "cell_type": "code",
   "execution_count": null,
   "metadata": {},
   "outputs": [],
   "source": [
    "full_brain_volume_annotated = np.zeros((height, width, zdim), dtype=np.uint8)\n",
    "for n in numpy_files:\n",
    "    structure = os.path.splitext(n)[0]\n",
    "    try:\n",
    "        color = colors[structure.upper()]\n",
    "    except:\n",
    "        sided = '{}_R'.format(structure.upper())\n",
    "        color = colors[sided]\n",
    "\n",
    "    if structure not in ['SC', 'Sp5C_R']:\n",
    "        continue\n",
    "    surround_filename = os.path.join(VOL_DIR, f'{structure}_surround_200um.npy')\n",
    "    surround_input = np.load(surround_filename)\n",
    "    surround_input = np.swapaxes(surround_input, 0, 2)\n",
    "    surround_nonzero_indices = surround_input > 0\n",
    "    surround_input[surround_nonzero_indices] = 200\n",
    "    surround_volume = surround_input.astype(np.uint8)\n",
    "\n",
    "    volume_filename = os.path.join(VOL_DIR, f'{structure}.npy')\n",
    "    volume_input = np.load(volume_filename)\n",
    "    volume_input = np.swapaxes(volume_input, 0, 2)\n",
    "    volume_nonzero_indices = volume_input > 0\n",
    "    volume_input[volume_nonzero_indices] = color\n",
    "    structure_volume = volume_input.astype(np.uint8)\n",
    "\n",
    "    origin_filename = os.path.join(VOL_DIR, f'{structure}_origin_wrt_canonicalAtlasSpace.txt')\n",
    "    origin_wrt = np.loadtxt(origin_filename)\n",
    "    x,y,z = origin_wrt\n",
    "    \n",
    "    surround_origin_filename = os.path.join(VOL_DIR, f'{structure}_surround_200um_origin_wrt_canonicalAtlasSpace.txt')\n",
    "    surround_origin_wrt = np.loadtxt(surround_origin_filename)\n",
    "    sx,sy,sz = surround_origin_wrt\n",
    "    \n",
    "\n",
    "    z_start = 30\n",
    "    \n",
    "    y_start = int(y) + midy\n",
    "    x_start = int(x) + midx\n",
    "    x_end = x_start + structure_volume.shape[1]\n",
    "    y_end = y_start + structure_volume.shape[0]\n",
    "    z_end = z_start + structure_volume.shape[2]\n",
    "\n",
    "    sy_start = int(sy) + midy\n",
    "    sx_start = int(sx) + midx\n",
    "    sx_end = sx_start + surround_volume.shape[1]\n",
    "    sy_end = sy_start + surround_volume.shape[0]\n",
    "    sz_end = z_start + surround_volume.shape[2]\n",
    "\n",
    "    \n",
    "    try:\n",
    "        #full_brain_volume_annotated[z_start:z_end, y_start:y_end,x_start:x_end] = structure_volume\n",
    "        full_brain_volume_annotated[y_start:y_end, x_start:x_end,z_start:z_end] = structure_volume\n",
    "    except:\n",
    "        print('Error',str(structure).ljust(8), str(color).rjust(2), end=\"\\t\")\n",
    "        print('shape', str(structure_volume.shape).rjust(18), end=\", \")\n",
    "        print('x range', str(x_start).rjust(4), str(x_end).rjust(4), end=\", \")\n",
    "        print('y range', str(y_start).rjust(4), str(y_end).rjust(4), end=\", \")\n",
    "        print('z range', str(z_start).rjust(4), str(z_end).rjust(4))\n",
    "    \n",
    "    try:\n",
    "        #full_brain_volume_annotated[z_start:z_end, y_start:y_end,x_start:x_end] = structure_volume\n",
    "        full_brain_volume_annotated[sy_start:sy_end, sx_start:sx_end,z_start:sz_end] = surround_volume\n",
    "    except:\n",
    "        print('SError',str(structure).ljust(8), str(color).rjust(2), end=\"\\t\")\n",
    "        print('shape', str(surround_volume.shape).rjust(18), end=\", \")\n",
    "        print('x range', str(sx_start).rjust(4), str(sx_end).rjust(4), end=\", \")\n",
    "        print('y range', str(sy_start).rjust(4), str(sy_end).rjust(4), end=\", \")\n",
    "        print('z range', str(z_start).rjust(4), str(sz_end).rjust(4))\n",
    "\n"
   ]
  },
  {
   "cell_type": "code",
   "execution_count": null,
   "metadata": {},
   "outputs": [],
   "source": [
    "full_brain_volume_annotated.shape, full_brain_volume_annotated.dtype"
   ]
  },
  {
   "cell_type": "code",
   "execution_count": null,
   "metadata": {},
   "outputs": [],
   "source": [
    "arr = full_brain_volume_annotated\n",
    "limit = 10\n",
    "start = (arr.shape[2] // 2) - limit\n",
    "end = start + limit * 2\n",
    "start = 70\n",
    "end = 170\n",
    "nrows = end - start\n",
    "ncols = 1\n",
    "plt.style.use('classic')\n",
    "for i in range(30, 90, 10):\n",
    "    plt.title('Z {}'.format(i))\n",
    "    plt.imshow(arr[:,:,i], cmap='gray')\n",
    "    #plt.imshow(mat, cmap='tab20', interpolation='none')\n",
    "    plt.show()"
   ]
  },
  {
   "cell_type": "code",
   "execution_count": null,
   "metadata": {},
   "outputs": [],
   "source": [
    "zdim = full_brain_volume_annotated.shape[2]\n",
    "dimensions = neuroglancer.CoordinateSpace(\n",
    "    names=['x', 'y', 'z'],\n",
    "    units='um',\n",
    "    scales=[5,5,10])\n",
    "viewer = neuroglancer.Viewer()\n",
    "with viewer.txn() as s:\n",
    "    s.dimensions = dimensions\n",
    "    s.layout = '4panel'\n",
    "    s.layers['Altas'] = neuroglancer.ImageLayer(\n",
    "        source=neuroglancer.LocalVolume(\n",
    "            data=full_brain_volume_annotated,\n",
    "            dimensions=dimensions,\n",
    "            voxel_offset=(0, 0, 0),\n",
    "        ),\n",
    "        shader=\"\"\"\n",
    "#uicontrol float min slider(min=0, max=1, default=0)\n",
    "#uicontrol float max slider(min=0, max=1, default=1)\n",
    "#uicontrol float invert slider(min=0, max=1, default=0, step=1)\n",
    "#uicontrol float brightness slider(min=-1, max=1)\n",
    "#uicontrol float contrast slider(min=-3, max=3, step=0.01)\n",
    "void main() {\n",
    "  float pix_val = float(toRaw(getDataValue()));\n",
    "  if(pix_val < min){\n",
    "  \tpix_val = 0.0;\n",
    "  }\n",
    "  if(pix_val > max){\n",
    "    pix_val = 1.0;\n",
    "  }\n",
    "\n",
    "  if(invert==1.0){\n",
    "  \t  emitGrayscale((1.0 -(pix_val - brightness)) *\n",
    "       exp(contrast));\n",
    "  }\n",
    "  else{\n",
    "    emitGrayscale((pix_val + brightness) *\n",
    "                  exp(contrast));\n",
    "  }\n",
    "\n",
    "}\n",
    "\n",
    "\"\"\")\n",
    "\n",
    "print(viewer)"
   ]
  },
  {
   "cell_type": "code",
   "execution_count": null,
   "metadata": {},
   "outputs": [],
   "source": [
    "#neuroglancer.stop()"
   ]
  }
 ],
 "metadata": {
  "kernelspec": {
   "display_name": "Python 3",
   "language": "python",
   "name": "python3"
  },
  "language_info": {
   "codemirror_mode": {
    "name": "ipython",
    "version": 3
   },
   "file_extension": ".py",
   "mimetype": "text/x-python",
   "name": "python",
   "nbconvert_exporter": "python",
   "pygments_lexer": "ipython3",
   "version": "3.8.5"
  }
 },
 "nbformat": 4,
 "nbformat_minor": 4
}
