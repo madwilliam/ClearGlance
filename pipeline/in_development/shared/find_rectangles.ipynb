{
 "cells": [
  {
   "cell_type": "code",
   "execution_count": null,
   "metadata": {},
   "outputs": [],
   "source": [
    "import numpy as np\n",
    "import imutils\n",
    "import cv2\n",
    "from matplotlib import pyplot as plt\n",
    "from skimage import io\n",
    "import os\n",
    "from os.path import expanduser\n",
    "HOME = expanduser(\"~\")\n",
    "SCALED =  'programming/dk43/scaled'\n",
    "INVERTED = 'programming/dk43/inverted'\n",
    "ROTATED = 'programming/dk43/rotated'\n",
    "NORMALIZED = 'programming/dk43/normalized'\n",
    "MASKED = 'programming/dk43/masked'"
   ]
  },
  {
   "cell_type": "code",
   "execution_count": null,
   "metadata": {},
   "outputs": [],
   "source": [
    "def is_rectangle(c):\n",
    "    # approximate the contour    \n",
    "    peri = cv2.arcLength(c, True)\n",
    "    approx = cv2.approxPolyDP(c, 0.001 * peri, True)\n",
    "    # the contour is 'bad' if it is not a rectangle\n",
    "    result = len(approx) == 4\n",
    "    return result\n",
    "\n",
    "def is_barcode(c):\n",
    "    x,y,w,h = cv2.boundingRect(c)\n",
    "    #print ('rectangle size: x=%s y=%s w=%s h=%s' %(x,y,w,h))\n",
    "    result = (x > 100 and y > 100 and w > 10 and h < 100)\n",
    "    return result\n",
    "\n",
    "def norm(img):\n",
    "    flat = img.flatten()\n",
    "    hist,bins = np.histogram(flat,256)\n",
    "    cdf = hist.cumsum() #cumulative distribution function\n",
    "    cdf = 255 * cdf / cdf[-1] #normalize\n",
    "    #use linear interpolation of cdf to find new pixel values\n",
    "    img_norm = np.interp(flat,bins[:-1],cdf)\n",
    "    img_norm = np.reshape(img_norm, img.shape)\n",
    "    return img_norm"
   ]
  },
  {
   "cell_type": "code",
   "execution_count": null,
   "metadata": {},
   "outputs": [],
   "source": [
    "def mask_rect(original):\n",
    "    copied = np.copy(original)\n",
    "    #original = cv2.normalize(original, None, alpha=0, beta=255, norm_type=cv2.NORM_MINMAX)\n",
    "    #img_gray = cv2.cvtColor(original, cv2.COLOR_BGR2GRAY)\n",
    "    #img_blur = cv2.GaussianBlur(img_gray,(5,5),0)\n",
    "    #img_bgr = cv2.cvtColor(img_blur,cv2.COLOR_GRAY2BGR)\n",
    "    \"\"\"\n",
    "    img_hsv = cv2.cvtColor(original, cv2.COLOR_BGR2HSV)\n",
    "\n",
    "    lowHue = 0\n",
    "    lowSat = 0\n",
    "    lowVal = 5\n",
    "    highHue = 55\n",
    "    highSat = 50\n",
    "    highVal = 50\n",
    "\n",
    "    # creation of mask\n",
    "    colorLow = np.array([lowHue,lowSat,lowVal])\n",
    "    colorHigh = np.array([highHue,highSat,highVal])\n",
    "    img_mask = cv2.inRange(img_hsv, colorLow, colorHigh)\n",
    "    \"\"\"\n",
    "    # find  contours\n",
    "    #contours = cv2.findContours(original, cv2.RETR_TREE, cv2.CHAIN_APPROX_SIMPLE)\n",
    "    gray = cv2.cvtColor(original, cv2.COLOR_BGR2GRAY)\n",
    "    edged = cv2.Canny(gray, 50, 100)\n",
    "    contours = cv2.findContours(edged.copy(), cv2.RETR_LIST, cv2.CHAIN_APPROX_SIMPLE)\n",
    "    contours = imutils.grab_contours(contours)\n",
    "    \n",
    "    mx = (0,0,0,0)      # biggest bounding box so far\n",
    "    mx_area = 0\n",
    "    for c in contours:\n",
    "        if is_rectangle(c):\n",
    "            #print('is rectangle')\n",
    "            x,y,w,h = cv2.boundingRect(c)\n",
    "            #print ('rectangle size: x=%s y=%s w=%s h=%s' %(x,y,w,h))\n",
    "        if is_barcode(c):\n",
    "            #print('is barcode')\n",
    "            pass\n",
    "\n",
    "        if is_rectangle(c) and is_barcode(c):\n",
    "            print('found barcode and rect')\n",
    "            copied = cv2.fillPoly(copied, [c], [255,255,0])\n",
    "\n",
    "    #find largest contour\n",
    "    #contour_sizes = [(cv2.contourArea(contour), contour) for contour in contours]\n",
    "    #biggest_contour = max(contour_sizes, key=lambda x: x[0])[1]\n",
    "    #result = original.copy()\n",
    "    #if is_barcode(biggest_contour):        \n",
    "    #    result = cv2.fillPoly(copied, [biggest_contour] , [0,255,0])\n",
    "    #else:\n",
    "    #    return result\n",
    "    return copied"
   ]
  },
  {
   "cell_type": "code",
   "execution_count": null,
   "metadata": {},
   "outputs": [],
   "source": [
    "# normalize the image\n",
    "dir = os.path.join(HOME,ROTATED)\n",
    "files = os.listdir(dir)\n",
    "files = []\n",
    "for file in sorted(files):\n",
    "    filename = os.path.join(HOME, ROTATED, file)\n",
    "    img = cv2.imread(filename)\n",
    "    img = mask_rect(img)\n",
    "    output = os.path.join(HOME, MASKED, file)\n",
    "    cv2.imwrite(output, img) "
   ]
  },
  {
   "cell_type": "code",
   "execution_count": null,
   "metadata": {},
   "outputs": [],
   "source": [
    "file = 'DK43_slide020_2020_01_23_798515_C0.tif'\n",
    "file = 'DK43_slide001_2020_01_27_808119_C0.tif'\n",
    "file = 'DK43_slide052_2020_01_23_801622_C0.tif'\n",
    "\n",
    "filename = os.path.join(HOME, ROTATED, file)\n",
    "original = cv2.imread(filename)\n",
    "img_norm = cv2.normalize(original, None, alpha=1, beta=255, norm_type=cv2.NORM_MINMAX)\n",
    "#copied = original\n",
    "copied = mask_rect(img_norm)\n",
    "#(x > 200 and y > 500 and w > 200 and y < 100)"
   ]
  },
  {
   "cell_type": "code",
   "execution_count": null,
   "metadata": {},
   "outputs": [],
   "source": [
    "# display images\n",
    "fig, ax = plt.subplots(nrows=3, sharex=True, figsize=(28, 20))\n",
    "ax[0].set_title('Original')\n",
    "ax[0].imshow(original)\n",
    "ax[1].set_title('Normalized')\n",
    "ax[1].imshow(img_norm)\n",
    "ax[2].set_title('Filled rect')\n",
    "ax[2].imshow(copied)"
   ]
  }
 ],
 "metadata": {
  "kernelspec": {
   "display_name": "Python 3",
   "language": "python",
   "name": "python3"
  },
  "language_info": {
   "codemirror_mode": {
    "name": "ipython",
    "version": 3
   },
   "file_extension": ".py",
   "mimetype": "text/x-python",
   "name": "python",
   "nbconvert_exporter": "python",
   "pygments_lexer": "ipython3",
   "version": "3.8.10"
  }
 },
 "nbformat": 4,
 "nbformat_minor": 4
}
