{
 "cells": [
  {
   "cell_type": "code",
   "execution_count": 1,
   "metadata": {},
   "outputs": [],
   "source": [
    "import numpy as np\n",
    "import matplotlib\n",
    "from matplotlib import pyplot as plt\n",
    "from skimage import io\n",
    "from os.path import expanduser\n",
    "from tqdm import tqdm\n",
    "HOME = expanduser(\"~\")\n",
    "import os, sys\n",
    "import SimpleITK as sitk\n",
    "import cv2\n",
    "%load_ext autoreload\n",
    "%autoreload 2"
   ]
  },
  {
   "cell_type": "code",
   "execution_count": 4,
   "metadata": {},
   "outputs": [],
   "source": [
    "animal = 'DK63'\n",
    "DIR = f'/net/birdstore/Active_Atlas_Data/data_root/pipeline_data/{animal}/preps'\n",
    "INPUT = os.path.join(DIR, 'CH1', 'thumbnail_cleaned')\n",
    "ELASTIX = os.path.join(DIR, 'elastix')\n",
    "PATH = os.path.join(HOME, 'programming/pipeline_utility')\n",
    "sys.path.append(PATH)\n",
    "from utilities.utilities_registration import register_test, register_simple"
   ]
  },
  {
   "cell_type": "code",
   "execution_count": 5,
   "metadata": {},
   "outputs": [],
   "source": [
    "fixed_index = str(225).zfill(3)\n",
    "moving_index = str(226).zfill(3)"
   ]
  },
  {
   "cell_type": "code",
   "execution_count": 6,
   "metadata": {},
   "outputs": [
    {
     "data": {
      "image/png": "[encoded data removed]",
      "text/plain": [
       "<Figure size 432x288 with 1 Axes>"
      ]
     },
     "metadata": {
      "needs_background": "light"
     },
     "output_type": "display_data"
    },
    {
     "name": "stdout",
     "output_type": "stream",
     "text": [
      "Final metric value: -0.7132642329944574\n",
      "Optimizer's stopping condition, RegularStepGradientDescentOptimizerv4: Step too small after 47 iterations. Current step (6.10352e-05) is less than minimum step (0.0001).\n",
      "final (0.02136454597075685, 35.1459461161664, 7.760768082692268)\n",
      "fixed (870.3303243786136, 552.6018190469305)\n"
     ]
    }
   ],
   "source": [
    "test_transform, fixed, moving, R = register_test(INPUT, fixed_index, moving_index)\n",
    "testParameters = test_transform.GetParameters()\n",
    "testFixedParameters = test_transform.GetFixedParameters()\n",
    "# Always check the reason optimization terminated.\n",
    "stop_condition = R.GetOptimizerStopConditionDescription()\n",
    "iterations = R.GetOptimizerIteration()\n",
    "metric_value = R.GetMetricValue()\n",
    "\n",
    "print(f'Final metric value: {metric_value}')\n",
    "print(f'Optimizer\\'s stopping condition, {stop_condition}')\n",
    "print('final', testParameters)\n",
    "print('fixed', testFixedParameters)"
   ]
  },
  {
   "cell_type": "code",
   "execution_count": 7,
   "metadata": {},
   "outputs": [
    {
     "ename": "AttributeError",
     "evalue": "'ElastixImageFilter' object has no attribute 'AddCommand'",
     "output_type": "error",
     "traceback": [
      "\u001b[0;31m---------------------------------------------------------------------------\u001b[0m",
      "\u001b[0;31mAttributeError\u001b[0m                            Traceback (most recent call last)",
      "\u001b[0;32m<ipython-input-7-95a22a812973>\u001b[0m in \u001b[0;36m<module>\u001b[0;34m\u001b[0m\n\u001b[0;32m----> 1\u001b[0;31m \u001b[0mR\u001b[0m\u001b[0;34m,\u001b[0m \u001b[0mxshift\u001b[0m\u001b[0;34m,\u001b[0m \u001b[0myshift\u001b[0m \u001b[0;34m=\u001b[0m \u001b[0mregister_simple\u001b[0m\u001b[0;34m(\u001b[0m\u001b[0mINPUT\u001b[0m\u001b[0;34m,\u001b[0m \u001b[0mfixed_index\u001b[0m\u001b[0;34m,\u001b[0m \u001b[0mmoving_index\u001b[0m\u001b[0;34m)\u001b[0m\u001b[0;34m\u001b[0m\u001b[0;34m\u001b[0m\u001b[0m\n\u001b[0m",
      "\u001b[0;32m~/programming/pipeline_utility/src/lib/utilities_registration.py\u001b[0m in \u001b[0;36mregister_simple\u001b[0;34m(INPUT, fixed_index, moving_index)\u001b[0m\n\u001b[1;32m    349\u001b[0m \u001b[0;34m\u001b[0m\u001b[0m\n\u001b[1;32m    350\u001b[0m     \u001b[0;31m# Connect all of the observers so that we can perform plotting during registration.\u001b[0m\u001b[0;34m\u001b[0m\u001b[0;34m\u001b[0m\u001b[0;34m\u001b[0m\u001b[0m\n\u001b[0;32m--> 351\u001b[0;31m     \u001b[0melastixImageFilter\u001b[0m\u001b[0;34m.\u001b[0m\u001b[0mAddCommand\u001b[0m\u001b[0;34m(\u001b[0m\u001b[0msitk\u001b[0m\u001b[0;34m.\u001b[0m\u001b[0msitkStartEvent\u001b[0m\u001b[0;34m,\u001b[0m \u001b[0mstart_plot\u001b[0m\u001b[0;34m)\u001b[0m\u001b[0;34m\u001b[0m\u001b[0;34m\u001b[0m\u001b[0m\n\u001b[0m\u001b[1;32m    352\u001b[0m     \u001b[0melastixImageFilter\u001b[0m\u001b[0;34m.\u001b[0m\u001b[0mAddCommand\u001b[0m\u001b[0;34m(\u001b[0m\u001b[0msitk\u001b[0m\u001b[0;34m.\u001b[0m\u001b[0msitkEndEvent\u001b[0m\u001b[0;34m,\u001b[0m \u001b[0mend_plot\u001b[0m\u001b[0;34m)\u001b[0m\u001b[0;34m\u001b[0m\u001b[0;34m\u001b[0m\u001b[0m\n\u001b[1;32m    353\u001b[0m     \u001b[0melastixImageFilter\u001b[0m\u001b[0;34m.\u001b[0m\u001b[0mAddCommand\u001b[0m\u001b[0;34m(\u001b[0m\u001b[0msitk\u001b[0m\u001b[0;34m.\u001b[0m\u001b[0msitkMultiResolutionIterationEvent\u001b[0m\u001b[0;34m,\u001b[0m \u001b[0mupdate_multires_iterations\u001b[0m\u001b[0;34m)\u001b[0m\u001b[0;34m\u001b[0m\u001b[0;34m\u001b[0m\u001b[0m\n",
      "\u001b[0;32m/usr/local/share/pipeline/lib/python3.8/site-packages/SimpleITK-2.0.0rc2.dev910+ga138e-py3.8-linux-x86_64.egg/SimpleITK/SimpleITK.py\u001b[0m in \u001b[0;36m<lambda>\u001b[0;34m(self, name)\u001b[0m\n\u001b[1;32m  10772\u001b[0m     \u001b[0m__setattr__\u001b[0m \u001b[0;34m=\u001b[0m \u001b[0;32mlambda\u001b[0m \u001b[0mself\u001b[0m\u001b[0;34m,\u001b[0m \u001b[0mname\u001b[0m\u001b[0;34m,\u001b[0m \u001b[0mvalue\u001b[0m\u001b[0;34m:\u001b[0m \u001b[0m_swig_setattr\u001b[0m\u001b[0;34m(\u001b[0m\u001b[0mself\u001b[0m\u001b[0;34m,\u001b[0m \u001b[0mElastixImageFilter\u001b[0m\u001b[0;34m,\u001b[0m \u001b[0mname\u001b[0m\u001b[0;34m,\u001b[0m \u001b[0mvalue\u001b[0m\u001b[0;34m)\u001b[0m\u001b[0;34m\u001b[0m\u001b[0;34m\u001b[0m\u001b[0m\n\u001b[1;32m  10773\u001b[0m     \u001b[0m__swig_getmethods__\u001b[0m \u001b[0;34m=\u001b[0m \u001b[0;34m{\u001b[0m\u001b[0;34m}\u001b[0m\u001b[0;34m\u001b[0m\u001b[0;34m\u001b[0m\u001b[0m\n\u001b[0;32m> 10774\u001b[0;31m     \u001b[0m__getattr__\u001b[0m \u001b[0;34m=\u001b[0m \u001b[0;32mlambda\u001b[0m \u001b[0mself\u001b[0m\u001b[0;34m,\u001b[0m \u001b[0mname\u001b[0m\u001b[0;34m:\u001b[0m \u001b[0m_swig_getattr\u001b[0m\u001b[0;34m(\u001b[0m\u001b[0mself\u001b[0m\u001b[0;34m,\u001b[0m \u001b[0mElastixImageFilter\u001b[0m\u001b[0;34m,\u001b[0m \u001b[0mname\u001b[0m\u001b[0;34m)\u001b[0m\u001b[0;34m\u001b[0m\u001b[0;34m\u001b[0m\u001b[0m\n\u001b[0m\u001b[1;32m  10775\u001b[0m     \u001b[0m__repr__\u001b[0m \u001b[0;34m=\u001b[0m \u001b[0m_swig_repr\u001b[0m\u001b[0;34m\u001b[0m\u001b[0;34m\u001b[0m\u001b[0m\n\u001b[1;32m  10776\u001b[0m \u001b[0;34m\u001b[0m\u001b[0m\n",
      "\u001b[0;32m/usr/local/share/pipeline/lib/python3.8/site-packages/SimpleITK-2.0.0rc2.dev910+ga138e-py3.8-linux-x86_64.egg/SimpleITK/SimpleITK.py\u001b[0m in \u001b[0;36m_swig_getattr\u001b[0;34m(self, class_type, name)\u001b[0m\n\u001b[1;32m     78\u001b[0m     \u001b[0;32mif\u001b[0m \u001b[0mmethod\u001b[0m\u001b[0;34m:\u001b[0m\u001b[0;34m\u001b[0m\u001b[0;34m\u001b[0m\u001b[0m\n\u001b[1;32m     79\u001b[0m         \u001b[0;32mreturn\u001b[0m \u001b[0mmethod\u001b[0m\u001b[0;34m(\u001b[0m\u001b[0mself\u001b[0m\u001b[0;34m)\u001b[0m\u001b[0;34m\u001b[0m\u001b[0;34m\u001b[0m\u001b[0m\n\u001b[0;32m---> 80\u001b[0;31m     \u001b[0;32mraise\u001b[0m \u001b[0mAttributeError\u001b[0m\u001b[0;34m(\u001b[0m\u001b[0;34m\"'%s' object has no attribute '%s'\"\u001b[0m \u001b[0;34m%\u001b[0m \u001b[0;34m(\u001b[0m\u001b[0mclass_type\u001b[0m\u001b[0;34m.\u001b[0m\u001b[0m__name__\u001b[0m\u001b[0;34m,\u001b[0m \u001b[0mname\u001b[0m\u001b[0;34m)\u001b[0m\u001b[0;34m)\u001b[0m\u001b[0;34m\u001b[0m\u001b[0;34m\u001b[0m\u001b[0m\n\u001b[0m\u001b[1;32m     81\u001b[0m \u001b[0;34m\u001b[0m\u001b[0m\n\u001b[1;32m     82\u001b[0m \u001b[0;34m\u001b[0m\u001b[0m\n",
      "\u001b[0;31mAttributeError\u001b[0m: 'ElastixImageFilter' object has no attribute 'AddCommand'"
     ]
    }
   ],
   "source": [
    "R, xshift, yshift = register_simple(INPUT, fixed_index, moving_index)"
   ]
  },
  {
   "cell_type": "code",
   "execution_count": null,
   "metadata": {},
   "outputs": [],
   "source": [
    "width=1703\n",
    "height=1109\n",
    "print(width/2)\n",
    "print(height/2)\n",
    "img = cv2.imread(os.path.join(INPUT, '200.tif'), -1)\n",
    "rows = img.shape[0]\n",
    "cols = img.shape[1]\n",
    "print(rows/2)\n",
    "print(cols/2)"
   ]
  },
  {
   "cell_type": "code",
   "execution_count": null,
   "metadata": {},
   "outputs": [],
   "source": [
    "%%time\n",
    "files = sorted(os.listdir(INPUT))\n",
    "img = cv2.imread(os.path.join(INPUT, files[0]), -1)\n",
    "midx = img.shape[1] / 2\n",
    "midy = img.shape[0] / 2\n",
    "\n",
    "for f in tqdm(range(len(files) - 1)):\n",
    "    fixed_index = str(f).zfill(3)\n",
    "    moving_index = str(f+1).zfill(3)\n",
    "    outdir = os.path.join(ELASTIX, f'{moving_index}_to_{fixed_index}')\n",
    "    os.makedirs(outdir, exist_ok=True)\n",
    "    outfile = os.path.join(outdir, 'TransformParameters.0.txt')\n",
    "    \n",
    "    if os.path.exists(outfile):\n",
    "        continue\n",
    "    \n",
    "    R, xshift, yshift = register_simple(INPUT, fixed_index, moving_index)\n",
    "\n",
    "    f = open(outfile, \"a\")\n",
    "    f.write(f\"(TransformParameters {R} {xshift} {yshift})\\n\")\n",
    "    f.write(f\"(CenterOfRotationPoint {midx} {midy})\\n\")\n",
    "    f.write(\"(Spacing 1.0 1.0)\\n\")\n",
    "    f.close()\n"
   ]
  },
  {
   "cell_type": "code",
   "execution_count": null,
   "metadata": {},
   "outputs": [],
   "source": [
    "%%time\n",
    "pixelType = sitk.sitkFloat32\n",
    "fixed_file = os.path.join(INPUT, f'{fixed_index}.tif')\n",
    "moving_file = os.path.join(INPUT, f'{moving_index}.tif')\n",
    "fixed = sitk.ReadImage(fixed_file, pixelType)\n",
    "moving = sitk.ReadImage(moving_file, pixelType)\n",
    "\n",
    "elastixImageFilter = sitk.ElastixImageFilter()\n",
    "elastixImageFilter.SetFixedImage(fixed)\n",
    "elastixImageFilter.SetMovingImage(moving)\n",
    "elastixImageFilter.SetParameterMap(sitk.GetDefaultParameterMap(\"rigid\"))\n",
    "translation_params = elastixImageFilter.GetDefaultParameterMap('translation')\n",
    "translation_params['MaximumNumberOfIterations']=['100']\n",
    "elastixImageFilter.AddParameterMap(translation_params)\n",
    "elastixImageFilter.Execute()\n",
    "r, xshift, yshift = elastixImageFilter.GetTransformParameterMap()[0][\"TransformParameters\"]\n",
    "print(r)\n",
    "print(xshift)\n",
    "print(yshift)"
   ]
  },
  {
   "cell_type": "code",
   "execution_count": null,
   "metadata": {},
   "outputs": [],
   "source": []
  },
  {
   "cell_type": "code",
   "execution_count": null,
   "metadata": {
    "scrolled": true
   },
   "outputs": [],
   "source": [
    "    # Connect all of the observers so that we can perform plotting during registration.\n",
    "    elastixImageFilter.AddCommand(sitk.sitkStartEvent, start_plot)\n",
    "    elastixImageFilter.AddCommand(sitk.sitkEndEvent, end_plot)\n",
    "    elastixImageFilter.AddCommand(sitk.sitkMultiResolutionIterationEvent, update_multires_iterations)\n",
    "    elastixImageFilter.AddCommand(sitk.sitkIterationEvent, lambda: plot_values(R))\n",
    "moving_resampled = sitk.Resample(moving, fixed, final_transform, sitk.sitkLinear, 0.0, moving.GetPixelID())\n",
    "fig = plt.figure(figsize=(15,8))\n",
    "plt.imshow(sitk.GetArrayViewFromImage(fixed), cmap='gray')\n",
    "plt.grid()\n",
    "plt.title('fixed image', fontsize=10)\n",
    "\n",
    "fig = plt.figure(figsize=(15, 8))\n",
    "plt.imshow(sitk.GetArrayViewFromImage(moving_resampled), cmap='gray')\n",
    "plt.grid()\n",
    "plt.title('resampled image')\n",
    "\n",
    "fig = plt.figure(figsize=(15, 8))\n",
    "plt.title('moving image')\n",
    "plt.grid()\n",
    "plt.imshow(sitk.GetArrayViewFromImage(moving), cmap='gray')\n",
    "    "
   ]
  },
  {
   "cell_type": "code",
   "execution_count": null,
   "metadata": {},
   "outputs": [],
   "source": [
    "#geometry Final metric value: -0.3050850951798145\n",
    "#Optimizer's stopping condition, RegularStepGradientDescentOptimizerv4: Step too small after 69 iterations. Current step (6.10352e-05) is less than minimum step (0.0001).\n",
    "#rotation, xshift, yshift (0.002372645049694355, 1.06484770727788, -29.715144692551913)\n",
    "\n",
    "#moments Final metric value: -0.31838088083076627\n",
    "#Optimizer's stopping condition, RegularStepGradientDescentOptimizerv4: Maximum number of iterations (80) exceeded.\n",
    "#rotation, xshift, yshift (-0.0034537801668540033, -28.17482735969523, -45.74971520579796)\n",
    "\n",
    "#moments, with no Setoptscales Final metric value: -0.31014666630255233\n",
    "#Optimizer's stopping condition, RegularStepGradientDescentOptimizerv4: Step too small after 26 iterations. .\n",
    "#rotation, xshift, yshift (-0.06870509561607951, -4.210244784366168, -35.41774791170732)\n",
    "\n",
    "# means square\n",
    "#rotation, xshift, yshift (-0.004593785628556457, -28.54399266359482, -45.8018880776268)\n",
    "\n",
    "#simialarity Final metric value: -0.3653938756091227\n",
    "#Optimizer's stopping condition, RegularStepGradientDescentOptimizerv4: Maximum number of iterations (80) exceeded.\n",
    "#rotation, xshift, yshift (0.9354990407253294, 0.006315032681630877, -47.83047698059379, -41.41794215960105)"
   ]
  },
  {
   "cell_type": "code",
   "execution_count": null,
   "metadata": {},
   "outputs": [],
   "source": [
    "0.9354990407253294 * 0.006315032681630877"
   ]
  }
 ],
 "metadata": {
  "kernelspec": {
   "display_name": "Python 3",
   "language": "python",
   "name": "python3"
  },
  "language_info": {
   "codemirror_mode": {
    "name": "ipython",
    "version": 3
   },
   "file_extension": ".py",
   "mimetype": "text/x-python",
   "name": "python",
   "nbconvert_exporter": "python",
   "pygments_lexer": "ipython3",
   "version": "3.8.10"
  }
 },
 "nbformat": 4,
 "nbformat_minor": 4
}
