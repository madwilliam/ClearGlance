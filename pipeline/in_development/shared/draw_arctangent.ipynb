{
 "cells": [
  {
   "cell_type": "code",
   "execution_count": 1,
   "metadata": {},
   "outputs": [],
   "source": [
    "import os, sys\n",
    "import numpy as np\n",
    "from matplotlib import pyplot as plt\n",
    "import math"
   ]
  },
  {
   "cell_type": "code",
   "execution_count": 2,
   "metadata": {},
   "outputs": [],
   "source": [
    "HOME = os.path.expanduser(\"~\")\n",
    "PATH = os.path.join(HOME, 'programming/pipeline_utility/src')\n",
    "sys.path.append(PATH)\n",
    "from lib.sqlcontroller import SqlController"
   ]
  },
  {
   "cell_type": "code",
   "execution_count": 34,
   "metadata": {},
   "outputs": [],
   "source": [
    "def sort_from_center(polygon):\n",
    "    coords = np.array(polygon)\n",
    "    center = coords.mean(axis=0)\n",
    "    centered = coords - center\n",
    "    angles = -np.arctan2(centered[:,1], centered[:,0])\n",
    "    sorted_coords = coords[np.argsort(angles)]\n",
    "    return list(map(tuple, sorted_coords)), center, angles\n",
    "\n",
    "def interpolate2d(points, new_len):\n",
    "    '''\n",
    "    Interpolates a list of tuples to the specified length. The points param\n",
    "    must be a list of tuples in 2d\n",
    "    :param points: list of floats\n",
    "    :param new_len: integer you want to interpolate to. This will be the new\n",
    "    length of the array\n",
    "    There can't be any consecutive identical points or an error will be thrown\n",
    "    unique_rows = np.unique(original_array, axis=0)\n",
    "    '''\n",
    "    points = np.array(points)\n",
    "    lastcolumn = np.round(points[:,-1])\n",
    "    z = mode(lastcolumn)\n",
    "    points2d = np.delete(points, -1, axis=1)\n",
    "    pu = points2d.astype(int)\n",
    "    indexes = np.unique(pu, axis=0, return_index=True)[1]\n",
    "    points = np.array([points2d[index] for index in sorted(indexes)])\n",
    "    addme = points2d[0].reshape(1, 2)\n",
    "    points2d = np.concatenate((points2d, addme), axis=0)\n",
    "\n",
    "    tck, u = splprep(points2d.T, u=None, s=3, per=1)\n",
    "    u_new = np.linspace(u.min(), u.max(), new_len)\n",
    "    x_array, y_array = splev(u_new, tck, der=0)\n",
    "    arr_2d = np.concatenate([x_array[:, None], y_array[:, None]], axis=1)\n",
    "    arr_3d = np.c_[ arr_2d, np.zeros(new_len)+z ] \n",
    "    return list(map(tuple, arr_3d))\n",
    "\n",
    "\n",
    "def is_convex_polygon(polygon):\n",
    "    \"\"\"Return True if the polynomial defined by the sequence of 2D\n",
    "    points is 'strictly convex': points are valid, side lengths non-\n",
    "    zero, interior angles are strictly between zero and a straight\n",
    "    angle, and the polygon does not intersect itself.\n",
    "\n",
    "    NOTES:  1.  Algorithm: the signed changes of the direction angles\n",
    "                from one side to the next side must be all positive or\n",
    "                all negative, and their sum must equal plus-or-minus\n",
    "                one full turn (2 pi radians). Also check for too few,\n",
    "                invalid, or repeated points.\n",
    "            2.  No check is explicitly done for zero internal angles\n",
    "                (180 degree direction-change angle) as this is covered\n",
    "                in other ways, including the `n < 3` check.\n",
    "    \"\"\"\n",
    "    TWO_PI = 2 * math.pi\n",
    "    polygon = [(int(x[0]), int(x[1])) for x in polygon]\n",
    "\n",
    "    try:  # needed for any bad points or direction changes\n",
    "        # Check for too few points\n",
    "        if len(polygon) < 3:\n",
    "            return False\n",
    "        # Get starting information\n",
    "        old_x, old_y = polygon[-2]\n",
    "        new_x, new_y = polygon[-1]\n",
    "        print('old', old_x, old_y)\n",
    "        print('old', new_x, new_y)\n",
    "        new_direction = math.atan2(new_y - old_y, new_x - old_x)\n",
    "        angle_sum = 0.0\n",
    "        # Check each point (the side ending there, its angle) and accum. angles\n",
    "        for ndx, newpoint in enumerate(polygon):\n",
    "            print(ndx, newpoint)\n",
    "            # Update point coordinates and side directions, check side length\n",
    "            old_x, old_y, old_direction = new_x, new_y, new_direction\n",
    "            new_x, new_y = newpoint\n",
    "            new_direction = math.atan2(new_y - old_y, new_x - old_x)\n",
    "            if old_x == new_x and old_y == new_y:\n",
    "                print('check 1')\n",
    "                return False  # repeated consecutive points\n",
    "            # Calculate & check the normalized direction-change angle\n",
    "            angle = new_direction - old_direction\n",
    "            if angle <= -math.pi:\n",
    "                angle += TWO_PI  # make it in half-open interval (-Pi, Pi]\n",
    "            elif angle > math.pi:\n",
    "                angle -= TWO_PI\n",
    "            if ndx == 0:  # if first time through loop, initialize orientation\n",
    "                if angle == 0.0:\n",
    "                    print('check 2')\n",
    "                    return False\n",
    "                orientation = 1.0 if angle > 0.0 else -1.0\n",
    "            else:  # if other time through loop, check orientation is stable\n",
    "                if orientation * angle <= 0.0:  # not both pos. or both neg.\n",
    "                    print('check 3')\n",
    "                    return False\n",
    "            # Accumulate the direction-change angle\n",
    "            angle_sum += angle\n",
    "        # Check that the total number of full turns is plus-or-minus 1\n",
    "        result = abs(round(angle_sum / TWO_PI))\n",
    "        print('check 4', result)\n",
    "\n",
    "        return abs(round(angle_sum / TWO_PI)) == 1\n",
    "    except (ArithmeticError, TypeError, ValueError) as err:\n",
    "        print('check 5', err)\n",
    "\n",
    "        return False  # any exception means not a proper convex polygon\n",
    "\n",
    "    \n",
    "def zCrossProduct(a,b,c):\n",
    "   return (a[0]-b[0])*(b[1]-c[1])-(a[1]-b[1])*(b[0]-c[0])\n",
    "\n",
    "def is_convex(vertices):\n",
    "    if len(vertices)<4:\n",
    "        return True\n",
    "    signs= [zCrossProduct(a,b,c)>0 for a,b,c in zip(vertices[2:],vertices[1:],vertices)]\n",
    "    return all(signs) or not any(signs)"
   ]
  },
  {
   "cell_type": "code",
   "execution_count": 26,
   "metadata": {},
   "outputs": [
    {
     "name": "stdout",
     "output_type": "stream",
     "text": [
      "old 0 1\n",
      "old 0 0\n",
      "0 (0, 1)\n",
      "1 (1, 1)\n",
      "check 3\n"
     ]
    },
    {
     "data": {
      "text/plain": [
       "False"
      ]
     },
     "execution_count": 26,
     "metadata": {},
     "output_type": "execute_result"
    }
   ],
   "source": [
    "polygon = [(37755.692307692305, 10026.276923076923, 236), (36032.92307692308, 14735.692307692309, 236), (36109.53846153846, 16994.676923076924, 236), (42273.84615384615, 19253.661538461536, 236), (45260.307692307695, 19483.384615384617, 236), (45375.07692307692, 16726.64615384615, 236), (43881.846153846156, 12974.430769230768, 236), (40678.153846153844, 9906.984615384616, 236)]\n",
    "polygon = [(0,1),(1,1),(0,1),(0,0)]\n",
    "is_convex_polygon(polygon)"
   ]
  },
  {
   "cell_type": "code",
   "execution_count": 9,
   "metadata": {},
   "outputs": [
    {
     "name": "stdout",
     "output_type": "stream",
     "text": [
      "[(974, 668), (946, 640), (946, 640), (918, 590), (918, 590), (873, 530), (873, 530), (855, 498), (855, 498), (895, 493), (895, 493), (914, 495), (914, 495), (954, 536), (954, 536), (990, 599), (990, 599), (1003, 617), (1003, 617), (974, 668)]\n",
      "\n",
      "old 974 668\n",
      "old 946 640\n",
      "0 (974, 668)\n",
      "1 (946, 640)\n",
      "2 (946, 640)\n",
      "check 1\n"
     ]
    },
    {
     "data": {
      "text/plain": [
       "False"
      ]
     },
     "execution_count": 9,
     "metadata": {},
     "output_type": "execute_result"
    }
   ],
   "source": [
    "lim = 1400\n",
    "polygon = [(974.1384615384616, 732.5907692307693, 146), (946.1261538461538, 760.5999999999999, 146), (946.1261538461538, 760.5999999999999, 146), (918.116923076923, 810.0338461538462, 146), (918.116923076923, 810.0338461538462, 146), (873.6276923076922, 870.996923076923, 146), (873.6276923076922, 870.996923076923, 146), (855.5015384615384, 902.3046153846154, 146), (855.5015384615384, 902.3046153846154, 146), (895.0492307692308, 907.2492307692307, 146), (895.0492307692308, 907.2492307692307, 146), (914.8215384615385, 905.5999999999999, 146), (914.8215384615385, 905.5999999999999, 146), (954.3661538461538, 864.4092307692307, 146), (954.3661538461538, 864.4092307692307, 146), (990.6153846153845, 801.7938461538462, 146), (990.6153846153845, 801.7938461538462, 146), (1003.796923076923, 783.6707692307692, 146), (1003.796923076923, 783.6707692307692, 146), (974, 732, 146)]\n",
    "p = [(int(x[0]), lim-int(x[1])) for x in polygon]\n",
    "print(p)\n",
    "print()\n",
    "is_convex_polygon(p)"
   ]
  },
  {
   "cell_type": "code",
   "execution_count": 40,
   "metadata": {},
   "outputs": [
    {
     "name": "stdout",
     "output_type": "stream",
     "text": [
      "False\n"
     ]
    },
    {
     "data": {
      "text/plain": [
       "<matplotlib.collections.PathCollection at 0x7fe924508b50>"
      ]
     },
     "execution_count": 40,
     "metadata": {},
     "output_type": "execute_result"
    },
    {
     "data": {
      "image/png": "[encoded data removed]",
      "text/plain": [
       "<Figure size 432x288 with 1 Axes>"
      ]
     },
     "metadata": {
      "needs_background": "light"
     },
     "output_type": "display_data"
    }
   ],
   "source": [
    "p = ((0,0), (1,0), (1,1), (0,1))\n",
    "# p = ((0,1),(1,1),(0,1),(0,0))\n",
    "p = [(10,0), (12,0), (11,0), (1,11), (10,1)]\n",
    "convex = is_convex( p )\n",
    "print(convex)\n",
    "p_arr = np.array(p)\n",
    "xs = p_arr[:,0]\n",
    "ys = p_arr[:,1]\n",
    "fig, ax = plt.subplots()\n",
    "#ax.invert_yaxis()\n",
    "#ax.invert_xaxis()\n",
    "ax.scatter(x=xs, y=ys, c='b', s=75, label='polygon')\n",
    "#ax.set_xlim([0, 1200])\n",
    "#ax.set_ylim([0,lim])"
   ]
  },
  {
   "cell_type": "code",
   "execution_count": null,
   "metadata": {},
   "outputs": [],
   "source": [
    "sorted_points2, center, angles = sort_from_center_np(polygon)"
   ]
  },
  {
   "cell_type": "code",
   "execution_count": null,
   "metadata": {},
   "outputs": [],
   "source": [
    "print(sorted_points2)\n",
    "print(angles)"
   ]
  },
  {
   "cell_type": "code",
   "execution_count": null,
   "metadata": {},
   "outputs": [],
   "source": [
    "sorted_points = np.array(sorted_points2)\n",
    "xs = sorted_points[:,0]\n",
    "ys = sorted_points[:,1]\n",
    "#xus = unsorted_points[:,0]\n",
    "#yus = unsorted_points[:,1]"
   ]
  },
  {
   "cell_type": "code",
   "execution_count": null,
   "metadata": {},
   "outputs": [],
   "source": [
    "X = xs.tolist()\n",
    "Y = ys.tolist()\n",
    "y0 = center[1]\n",
    "x0 = center[0]\n",
    "\n",
    "for x,y in zip(X,Y):    \n",
    "    angle_degrees = math.degrees(math.atan2(y0 - y, x0 - x)) % 360\n",
    "    angle_radians = math.atan2(y0 - y, x0 - x)\n",
    "    print(x,y,angle_degrees, angle_radians)"
   ]
  },
  {
   "cell_type": "code",
   "execution_count": null,
   "metadata": {},
   "outputs": [],
   "source": [
    "xs"
   ]
  },
  {
   "cell_type": "code",
   "execution_count": null,
   "metadata": {},
   "outputs": [],
   "source": [
    "point1 = [1, 2]\n",
    "point2 = [3, 4]\n",
    "\n",
    "x_values = [point1[0], point2[0]]\n",
    "y_values = [point1[1], point2[1]]\n",
    "\n",
    "y0 = center[1]\n",
    "x0 = center[0]\n",
    "nd = [int(math.degrees(math.atan2(y0 - y, x0 - x))) % 360 for y,x in zip(ys,xs)]\n",
    "nr = [round(math.atan2(y0 - y, x0 - x),2) for y,x in zip(ys,xs)]\n",
    "\n",
    "fig, ax = plt.subplots()\n",
    "ax.invert_yaxis()\n",
    "ax.scatter(x=center[0], y=center[1], s=200, c='r', label='Centroid')  # use this to plot a single point\n",
    "ax.scatter(x=xs, y=ys, c='b', s=75, label='Cerebellum')\n",
    "ax.legend(bbox_to_anchor=(1.1, 1.1))\n",
    "#ax.scatter(z, y)\n",
    "for i, txt in enumerate(nr):\n",
    "    x_values = [center[0], xs[i]]\n",
    "    y_values = [center[1], ys[i]]\n",
    "    plt.plot(x_values, y_values)\n",
    "    ax.annotate(txt, (xs[i], ys[i]), fontsize=20)"
   ]
  }
 ],
 "metadata": {
  "kernelspec": {
   "display_name": "Python 3",
   "language": "python",
   "name": "python3"
  },
  "language_info": {
   "codemirror_mode": {
    "name": "ipython",
    "version": 3
   },
   "file_extension": ".py",
   "mimetype": "text/x-python",
   "name": "python",
   "nbconvert_exporter": "python",
   "pygments_lexer": "ipython3",
   "version": "3.8.10"
  }
 },
 "nbformat": 4,
 "nbformat_minor": 1
}
