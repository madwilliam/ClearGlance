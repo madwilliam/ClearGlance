{
 "cells": [
  {
   "cell_type": "code",
   "execution_count": null,
   "metadata": {},
   "outputs": [],
   "source": [
    "import os, sys\n",
    "import numpy as np\n",
    "import torch\n",
    "torch.set_default_dtype(torch.float64)\n",
    "import registration as reg"
   ]
  },
  {
   "cell_type": "code",
   "execution_count": null,
   "metadata": {},
   "outputs": [],
   "source": [
    "HOME = os.path.expanduser(\"~\")\n",
    "PATH = os.path.join(HOME, 'programming/pipeline_utility')\n",
    "sys.path.append(PATH)\n",
    "from utilities.SqlController import SqlController\n",
    "from utilities.utilities_cvat_neuroglancer import get_structure_number\n",
    "atlas_name = 'atlas'\n",
    "sqlController = SqlController(atlas_name)"
   ]
  },
  {
   "cell_type": "code",
   "execution_count": null,
   "metadata": {},
   "outputs": [],
   "source": [
    "def align_point_sets(src, dst, with_scaling=True):\n",
    "    torch.set_default_dtype(torch.float64)\n",
    "\n",
    "    registration = reg.LandmarkRegistration(\n",
    "        dst,\n",
    "        src\n",
    "    )\n",
    "\n",
    "    transform = reg.LandmarkAffineTransform()\n",
    "    transform.init_guess(\n",
    "        dst,\n",
    "        src\n",
    "    )\n",
    "    registration.set_transform(transform)\n",
    "\n",
    "    #registration.set_similarity_metric(reg.MSESimilarity())\n",
    "    registration.set_optimizer_class(torch.optim.Adam)\n",
    "\n",
    "    registration.run(max_iteration=5000)\n",
    "    \n",
    "    r = transform.get_linear_transform_matrix()\n",
    "    t = transform.get_translation()\n",
    "    \n",
    "    return r.T, t.reshape([1, -1]).T"
   ]
  },
  {
   "cell_type": "code",
   "execution_count": null,
   "metadata": {},
   "outputs": [],
   "source": [
    "src = sqlController.get_centers_dict('DK52', person_id=2, input_type_id=2)\n",
    "dst = sqlController.get_centers_dict('Atlas', person_id=1, input_type_id=4)\n",
    "structures = sorted(src.keys())\n",
    "common_keys = src.keys() & dst.keys()\n",
    "fixed_landmark = np.array([dst[s] for s in structures if s in common_keys])\n",
    "moving_landmark = np.array([src[s] for s in structures if s in common_keys])"
   ]
  },
  {
   "cell_type": "code",
   "execution_count": null,
   "metadata": {},
   "outputs": [],
   "source": [
    "registration = reg.LandmarkRegistration(\n",
    "    fixed_landmark,\n",
    "    moving_landmark\n",
    ")\n",
    "\n",
    "transform = reg.LandmarkAffineTransform()\n",
    "transform.init_guess(\n",
    "    fixed_landmark,\n",
    "    moving_landmark\n",
    ")\n",
    "registration.set_transform(transform)\n",
    "\n",
    "registration.set_similarity_metric(reg.MSESimilarity())\n",
    "registration.set_optimizer_class(torch.optim.Adam)\n",
    "\n",
    "registration.run(max_iteration=5000)"
   ]
  },
  {
   "cell_type": "code",
   "execution_count": null,
   "metadata": {},
   "outputs": [],
   "source": [
    "R, t = align_point_sets(moving_landmark, fixed_landmark)"
   ]
  }
 ],
 "metadata": {
  "kernelspec": {
   "display_name": "Python 3",
   "language": "python",
   "name": "python3"
  },
  "language_info": {
   "codemirror_mode": {
    "name": "ipython",
    "version": 3
   },
   "file_extension": ".py",
   "mimetype": "text/x-python",
   "name": "python",
   "nbconvert_exporter": "python",
   "pygments_lexer": "ipython3",
   "version": "3.6.9"
  }
 },
 "nbformat": 4,
 "nbformat_minor": 4
}
