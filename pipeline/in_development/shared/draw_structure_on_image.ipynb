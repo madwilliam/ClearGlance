{
 "cells": [
  {
   "cell_type": "code",
   "execution_count": 1,
   "metadata": {},
   "outputs": [],
   "source": [
    "%reload_ext autoreload\n",
    "%autoreload 2\n",
    "\n",
    "import os, sys\n",
    "import pandas as pd\n",
    "import numpy as np\n",
    "from matplotlib import pyplot as plt\n",
    "import cv2\n",
    "import ast\n",
    "from skimage import io\n",
    "from skimage.color import gray2rgb\n",
    "from tqdm import tqdm\n",
    "from collections import defaultdict\n",
    "from scipy.interpolate import UnivariateSpline\n",
    "from pymicro.view.vol_utils import compute_affine_transform\n",
    "#https://pypi.org/project/affine6p/"
   ]
  },
  {
   "cell_type": "code",
   "execution_count": 2,
   "metadata": {},
   "outputs": [
    {
     "name": "stdout",
     "output_type": "stream",
     "text": [
      "Connecting dklab@192.168.1.12:3306\n"
     ]
    },
    {
     "data": {
      "text/html": [
       "<div>\n",
       "<style scoped>\n",
       "    .dataframe tbody tr th:only-of-type {\n",
       "        vertical-align: middle;\n",
       "    }\n",
       "\n",
       "    .dataframe tbody tr th {\n",
       "        vertical-align: top;\n",
       "    }\n",
       "\n",
       "    .dataframe thead th {\n",
       "        text-align: right;\n",
       "    }\n",
       "</style>\n",
       "<table border=\"1\" class=\"dataframe\">\n",
       "  <thead>\n",
       "    <tr style=\"text-align: right;\">\n",
       "      <th></th>\n",
       "      <th>index</th>\n",
       "      <th>name</th>\n",
       "      <th>section</th>\n",
       "      <th>side</th>\n",
       "      <th>vertices</th>\n",
       "    </tr>\n",
       "  </thead>\n",
       "  <tbody>\n",
       "    <tr>\n",
       "      <th>0</th>\n",
       "      <td>1908</td>\n",
       "      <td>R</td>\n",
       "      <td>190</td>\n",
       "      <td>L</td>\n",
       "      <td>[[21970.54123866, 11536.7946962], [21795.56575...</td>\n",
       "    </tr>\n",
       "  </tbody>\n",
       "</table>\n",
       "</div>"
      ],
      "text/plain": [
       "   index name  section side                                           vertices\n",
       "0   1908    R      190    L  [[21970.54123866, 11536.7946962], [21795.56575..."
      ]
     },
     "execution_count": 2,
     "metadata": {},
     "output_type": "execute_result"
    }
   ],
   "source": [
    "HOME = os.path.expanduser(\"~\")\n",
    "DIR = os.path.join(HOME, 'programming/pipeline_utility')\n",
    "sys.path.append(DIR)\n",
    "from utilities.contour_utilities import get_contours_from_annotations, add_structure_to_neuroglancer, \\\n",
    "    create_full_volume, get_structure_colors\n",
    "from utilities.SqlController import SqlController\n",
    "animal = 'MD589'\n",
    "sqlController = SqlController(animal)\n",
    "color_radius = 3\n",
    "xy_ng_resolution_um = 5\n",
    "color_radius = 3\n",
    "\n",
    "CSV_PATH = '/net/birdstore/Active_Atlas_Data/data_root/atlas_data/foundation_brain_annotations'\n",
    "csvfile = os.path.join(CSV_PATH, 'MD589_annotation_contours_05312018031718.csv')\n",
    "hand_annotations = pd.read_csv(csvfile)\n",
    "hand_annotations.head()\n",
    "hand_annotations['vertices'] = hand_annotations['vertices'] \\\n",
    "    .apply(lambda x: x.replace(' ', ','))\\\n",
    "    .apply(lambda x: x.replace('\\n',','))\\\n",
    "    .apply(lambda x: x.replace(',]',']'))\\\n",
    "    .apply(lambda x: x.replace(',,', ','))\\\n",
    "    .apply(lambda x: x.replace(',,', ','))\\\n",
    "    .apply(lambda x: x.replace(',,', ',')).apply(lambda x: x.replace(',,', ','))\n",
    "\n",
    "hand_annotations['vertices'] = hand_annotations['vertices'].apply(lambda x: ast.literal_eval(x))\n",
    "df = hand_annotations[['name', 'section', 'side', 'vertices']].copy()\n",
    "R = df['name'] == \"R\"\n",
    "df = df[R]\n",
    "df = df.reset_index()\n",
    "df = df.sort_values(by=['name', 'section'])\n",
    "df.head()"
   ]
  },
  {
   "cell_type": "code",
   "execution_count": null,
   "metadata": {},
   "outputs": [],
   "source": [
    "structures = ['DC', 'LC','SC', '5N', '7n']\n",
    "# SC is the only singular structure\n",
    "df = hand_annotations[['name', 'section', 'side', 'vertices']].copy()\n",
    "df = df.loc[df['name'].isin(structures)\n",
    "DC_L =  \"DC\" & df['side'] == \"L\"\n",
    "DC_R = df['name'] == \"LC\" & df['side'] == \"R\"\n",
    "LC_L = df['name'] == \"DC\" & df['side'] == \"L\"\n",
    "LC_R = df['name'] == \"LC\" & df['side'] == \"R\"\n",
    "SC = df['name'] == \"SC\"\n",
    "n5_L = df['name'] == \"5N\" & df['side'] == \"L\"\n",
    "n5_R = df['name'] == \"5N\" & df['side'] == \"R\"\n",
    "n7_L = df['name'] == \"7n\" & df['side'] == \"L\"\n",
    "n7_R = df['name'] == \"7n\" & df['side'] == \"R\"\n",
    "df = df[DC_L | DC_R | LC_L | LC_R | SC | n5_L | n5_R | n7_L | n7_R]\n",
    "df = df.reset_index()\n",
    "df = df.sort_values(by=['name', 'section'])\n",
    "df.head()"
   ]
  },
  {
   "cell_type": "code",
   "execution_count": null,
   "metadata": {},
   "outputs": [],
   "source": [
    "midpoints = {}\n",
    "for structure in structures:    \n",
    "    df2 = df.copy()\n",
    "    df3 = df2[df2[\"name\"] == structure]\n",
    "    first_section = df3['section'].min()\n",
    "    last_section = df3['section'].max()\n",
    "    midpoints[structure] = int(((last_section - first_section) / 2) + first_section)"
   ]
  },
  {
   "cell_type": "code",
   "execution_count": null,
   "metadata": {},
   "outputs": [],
   "source": [
    "midpoints"
   ]
  },
  {
   "cell_type": "code",
   "execution_count": null,
   "metadata": {},
   "outputs": [],
   "source": [
    "section_structure_vertices = defaultdict(dict)\n",
    "for structure in tqdm(structures):\n",
    "    contour_annotations, first_sec, last_sec = get_contours_from_annotations(animal, structure, df, densify=0)\n",
    "    for section in sorted(contour_annotations):\n",
    "        print(structure, first_sec, last_sec, section)\n",
    "        section_structure_vertices[section][structure] = contour_annotations[section][structure][1]"
   ]
  },
  {
   "cell_type": "code",
   "execution_count": null,
   "metadata": {},
   "outputs": [],
   "source": [
    "section_structure_vertices[230]['DC']"
   ]
  },
  {
   "cell_type": "code",
   "execution_count": null,
   "metadata": {},
   "outputs": [],
   "source": [
    "point_array = {}\n",
    "for structure, section in midpoints.items():\n",
    "    try:\n",
    "        point_array[structure] = section_structure_vertices[section][structure]\n",
    "    except:\n",
    "        print('no key for ', structure)\n",
    "structures"
   ]
  },
  {
   "cell_type": "code",
   "execution_count": null,
   "metadata": {},
   "outputs": [],
   "source": [
    "centers = {}\n",
    "for structure in structures:\n",
    "    cx = int(np.mean([x[0] for x in point_array[structure]]))\n",
    "    cy = int(np.mean([x[1] for x in point_array[structure]]))\n",
    "    centers[structure] = [cx,cy, midpoints[structure]]\n",
    "    print(structure, cx, cy, midpoints[structure])"
   ]
  },
  {
   "cell_type": "code",
   "execution_count": null,
   "metadata": {},
   "outputs": [],
   "source": [
    "font = cv2.FONT_HERSHEY_SIMPLEX\n",
    "fontScale = 0.5\n",
    "thickness = 1\n",
    "colors = {}\n",
    "colors['DC'] = (0,0,0)\n",
    "colors['LC'] = (255,0,0)\n",
    "colors['SC'] = (255,0,255)\n",
    "colors['5N'] = (0,255,255)\n",
    "colors['7n'] = (100,10,255)\n",
    "\n",
    "section_images = {}\n",
    "points = {}\n",
    "SCALE = 32\n",
    "PATH = f'/net/birdstore/Active_Atlas_Data/data_root/pipeline_data/{animal}/preps/CH1'\n",
    "OUTPUT = os.path.join(PATH, 'r_rmc_vta')\n",
    "os.makedirs(OUTPUT, exist_ok=True)\n",
    "thumbnail_dir = os.path.join(PATH, 'thumbnail')\n",
    "files = sorted(os.listdir(thumbnail_dir))\n",
    "for file_name in tqdm(files):\n",
    "    filepath = os.path.join(thumbnail_dir, file_name)\n",
    "    #img = io.imread(filepath)\n",
    "    img = cv2.imread(filepath)\n",
    "    section = int(file_name.split('.')[0])\n",
    "    \n",
    "    for structure in section_structure_vertices[section]:\n",
    "        pts = section_structure_vertices[section][structure]\n",
    "        points = np.array(pts, dtype=np.int32)\n",
    "        \n",
    "        point_arr = np.array(pts,dtype=np.float64)\n",
    "        x = np.array([v[0] for v in point_arr])\n",
    "        y = np.array([v[1] for v in point_arr])\n",
    "        midx = int((sum(x) // len(point_arr)) // SCALE)\n",
    "        midy = int((sum(y) // len(point_arr)) // SCALE)\n",
    "        midx = int(min(x) // SCALE)\n",
    "        midy = int(min(y) // SCALE)\n",
    "        \"\"\"\n",
    "        old_len = points.shape[0]\n",
    "        new_len = int(old_len * 1)\n",
    "        indexes = np.arange(0, old_len)\n",
    "        new_indexes = np.linspace(0,old_len-1, new_len)\n",
    "        splx = UnivariateSpline(indexes,x,k=3,s=0)\n",
    "        x_smooth = splx(new_indexes)\n",
    "        sply = UnivariateSpline(indexes,y,k=3,s=0)\n",
    "        y_smooth = sply(new_indexes)\n",
    "        points = np.column_stack((x_smooth, y_smooth)).astype(np.int32)\n",
    "        \"\"\"\n",
    "        points = points // SCALE\n",
    "        if section == midpoints[structure]:\n",
    "            points_diff = np.rint(points + np.random.rand() * 500)\n",
    "            points_diff = points_diff.astype(np.int32)\n",
    "            cv2.polylines(img, [points_diff], isClosed=True, color=(0,0,0), thickness=5)\n",
    "            cx = centers[structure][0] // SCALE\n",
    "            cy = centers[structure][1] // SCALE\n",
    "            cv2.circle(img, (cx,cy), 10, (0,0,0), -1)\n",
    "            \n",
    "        cv2.polylines(img, [points], isClosed=True, color=colors[structure], thickness=2)\n",
    "        cv2.putText(img, structure, (midx,midy), font,\n",
    "                    fontScale, colors[structure], thickness, cv2.LINE_AA)\n",
    "        outpath = os.path.join(OUTPUT, file_name)\n",
    "        cv2.imwrite(outpath, img)\n",
    "            \n",
    "    section_images[section] = img"
   ]
  },
  {
   "cell_type": "code",
   "execution_count": null,
   "metadata": {},
   "outputs": [],
   "source": [
    "section = 225\n",
    "fig=plt.figure(figsize=(26,18), dpi= 100, facecolor='w', edgecolor='k')\n",
    "plt.imshow(section_images[section], cmap=\"cool\")\n",
    "plt.title('{} section:{}'.format(animal, section))\n",
    "plt.show()"
   ]
  },
  {
   "cell_type": "code",
   "execution_count": null,
   "metadata": {},
   "outputs": [],
   "source": [
    "offsets = {}\n",
    "for structure, coords in centers.items():\n",
    "    cxoff = int(coords[0] + np.random.rand() * 500)\n",
    "    cyoff = int(coords[1] + np.random.rand() * 500)\n",
    "    print(structure, coords, cxoff, cyoff)\n",
    "    offsets[structure] = [cxoff, cyoff, midpoints[structure]]"
   ]
  },
  {
   "cell_type": "code",
   "execution_count": null,
   "metadata": {},
   "outputs": [],
   "source": [
    "origin = np.array(list(centers.values()), dtype=np.float32)\n",
    "fitted = np.array(list(offsets.values()), dtype=np.float32)\n",
    "other_structure = (25000,15000,200)\n",
    "print(origin.shape, fitted.shape)"
   ]
  },
  {
   "cell_type": "code",
   "execution_count": null,
   "metadata": {},
   "outputs": [],
   "source": [
    "origin_centroid = np.mean(origin, axis=0)\n",
    "fitted_centroid = np.mean(fitted, axis=0)"
   ]
  },
  {
   "cell_type": "code",
   "execution_count": null,
   "metadata": {},
   "outputs": [],
   "source": [
    "import affine6p\n",
    "trans = affine6p.estimate(origin, fitted)\n",
    "translated = trans.transform(other_structure)\n",
    "print('translated',translated)\n",
    "rotated = trans.rotate(other_structure)\n",
    "print('rotated',rotated)\n",
    "both = trans.rotate(translated)\n",
    "print('both',both)"
   ]
  },
  {
   "cell_type": "code",
   "execution_count": null,
   "metadata": {},
   "outputs": [],
   "source": [
    "from superpose3d import Superpose3D\n",
    "results = Superpose3D(origin, fitted)"
   ]
  },
  {
   "cell_type": "code",
   "execution_count": null,
   "metadata": {},
   "outputs": [],
   "source": [
    "origin_centroid + np.dot(results[1], other_structure - fitted_centroid)"
   ]
  },
  {
   "cell_type": "code",
   "execution_count": null,
   "metadata": {},
   "outputs": [],
   "source": [
    "# compute the affine transform from the point set\n",
    "translation, transformation = compute_affine_transform(origin, fitted)\n",
    "invt = np.linalg.inv(transformation)\n",
    "offset = -np.dot(invt, translation)\n",
    "origin_centroid + np.dot(transformation, other_structure - fitted_centroid)"
   ]
  },
  {
   "cell_type": "code",
   "execution_count": null,
   "metadata": {},
   "outputs": [],
   "source": [
    "colors = 'brgmk'\n",
    "new_points = np.empty_like(origin)\n",
    "for i in range(len(origin)):\n",
    "    new_points[i] = origin_centroid + np.dot(transformation, fitted[i] - fitted_centroid)\n",
    "    print('point %d will move to (%3.1f, %3.1f, %3.1f) to be compared with (%3.1f, %3.1f, %3.1f)' % (\n",
    "    i, new_points[i, 0], new_points[i, 1], new_points[i, 2], origin[i, 0], origin[i, 1], origin[i, 2]))\n",
    "    plt.plot(new_points[i, 0], new_points[i, 1], 'x', color=colors[i], markersize=12,\n",
    "             label='new points' if i == 0 else '')\n",
    "plt.legend(numpoints=1)\n",
    "plt.show()\n"
   ]
  },
  {
   "cell_type": "code",
   "execution_count": null,
   "metadata": {},
   "outputs": [],
   "source": [
    "new_points"
   ]
  }
 ],
 "metadata": {
  "kernelspec": {
   "display_name": "Python 3",
   "language": "python",
   "name": "python3"
  },
  "language_info": {
   "codemirror_mode": {
    "name": "ipython",
    "version": 3
   },
   "file_extension": ".py",
   "mimetype": "text/x-python",
   "name": "python",
   "nbconvert_exporter": "python",
   "pygments_lexer": "ipython3",
   "version": "3.8.5"
  }
 },
 "nbformat": 4,
 "nbformat_minor": 1
}
