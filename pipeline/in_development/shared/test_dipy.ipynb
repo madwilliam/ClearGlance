{
 "cells": [
  {
   "cell_type": "code",
   "execution_count": null,
   "metadata": {},
   "outputs": [],
   "source": [
    "import os, sys\n",
    "import numpy as np\n",
    "from dipy.data import get_fnames\n",
    "from dipy.align.imwarp import SymmetricDiffeomorphicRegistration\n",
    "from dipy.align.metrics import SSDMetric, CCMetric, EMMetric\n",
    "import dipy.align.imwarp as imwarp\n",
    "from dipy.viz import regtools\n",
    "import matplotlib.pyplot as plt\n",
    "from skimage import io\n",
    "import SimpleITK as sitk\n",
    "%matplotlib inline\n",
    "%load_ext autoreload\n",
    "%autoreload 2\n",
    "fname_moving = get_fnames('reg_o')\n",
    "fname_static = get_fnames('reg_c')"
   ]
  },
  {
   "cell_type": "code",
   "execution_count": null,
   "metadata": {},
   "outputs": [],
   "source": [
    "PATH = '/home/eddyod/programming/pipeline_utility'\n",
    "sys.path.append(PATH)\n",
    "from utilities.utilities_registration import register_files, register_translation"
   ]
  },
  {
   "cell_type": "code",
   "execution_count": null,
   "metadata": {},
   "outputs": [],
   "source": [
    "DIR = '/net/birdstore/Active_Atlas_Data/data_root/pipeline_data/DK52'\n",
    "INPUT = os.path.join(DIR, 'preps', 'CH1', 'thumbnail_aligned')\n",
    "fixed_filename = os.path.join(INPUT, '200.tif')\n",
    "fixed = sitk.ReadImage(fixed_filename, sitk.sitkFloat32)"
   ]
  },
  {
   "cell_type": "code",
   "execution_count": null,
   "metadata": {},
   "outputs": [],
   "source": [
    "angle = np.radians(33)\n",
    "xshift = -130\n",
    "yshift = -100\n",
    "transform = sitk.Euler2DTransform()\n",
    "transform.SetCenter(np.array(fixed.GetSize()) / 2)\n",
    "transform.SetAngle(angle)\n",
    "transform.SetTranslation([xshift, yshift])"
   ]
  },
  {
   "cell_type": "code",
   "execution_count": null,
   "metadata": {},
   "outputs": [],
   "source": [
    "resample = sitk.ResampleImageFilter()\n",
    "resample.SetReferenceImage(fixed)\n",
    "resample.SetInterpolator(sitk.sitkLinear)\n",
    "resample.SetDefaultPixelValue(0)\n",
    "resample.SetOutputPixelType(fixed.GetPixelID())"
   ]
  },
  {
   "cell_type": "code",
   "execution_count": null,
   "metadata": {
    "scrolled": true
   },
   "outputs": [],
   "source": [
    "resample.SetTransform(transform)\n",
    "transformed = resample.Execute(fixed)\n",
    "plt.imshow(sitk.GetArrayViewFromImage(transformed), cmap='gray')"
   ]
  },
  {
   "cell_type": "code",
   "execution_count": null,
   "metadata": {},
   "outputs": [],
   "source": [
    "final_transform = register_files(fixed, transformed)    \n",
    "finalParameters = final_transform.GetParameters()\n",
    "fixedParameters = final_transform.GetFixedParameters()\n",
    "\n",
    "print('set rotation, xshift, yshift', angle, xshift, yshift)\n",
    "print('rotation, xshift, yshift', finalParameters)\n",
    "print('center', fixedParameters)"
   ]
  },
  {
   "cell_type": "code",
   "execution_count": null,
   "metadata": {},
   "outputs": [],
   "source": [
    "moving_resampled = sitk.Resample(transformed, fixed, final_transform, sitk.sitkLinear, 0.0, transformed.GetPixelID())\n",
    "fig = plt.figure(figsize=(15,8))\n",
    "plt.imshow(sitk.GetArrayViewFromImage(fixed), cmap='gray')\n",
    "plt.grid()\n",
    "plt.title('fixed image', fontsize=10)\n",
    "\n",
    "fig = plt.figure(figsize=(15, 8))\n",
    "plt.imshow(sitk.GetArrayViewFromImage(moving_resampled), cmap='gray')\n",
    "plt.grid()\n",
    "plt.title('resampled image')\n",
    "\n",
    "fig = plt.figure(figsize=(15, 8))\n",
    "plt.title('tranformed image')\n",
    "plt.grid()\n",
    "plt.imshow(sitk.GetArrayViewFromImage(transformed), cmap='gray')\n",
    "    "
   ]
  },
  {
   "cell_type": "code",
   "execution_count": null,
   "metadata": {},
   "outputs": [],
   "source": [
    "def callback_CC(sdr, status):\n",
    "    # Status indicates at which stage of the optimization we currently are\n",
    "    # For now, we will only react at the end of each resolution of the scale\n",
    "    # space\n",
    "    if status == imwarp.RegistrationStages.SCALE_END:\n",
    "        # get the current images from the metric\n",
    "        wmoving = sdr.metric.moving_image\n",
    "        wstatic = sdr.metric.static_image\n",
    "        # draw the images on top of each other with different colors\n",
    "        regtools.overlay_images(wmoving, wstatic, 'Warped moving', 'Overlay',\n",
    "                                'Warped static')"
   ]
  },
  {
   "cell_type": "code",
   "execution_count": null,
   "metadata": {},
   "outputs": [],
   "source": [
    "regtools.overlay_images(static, moving, 'Static', 'Overlay', 'Moving')"
   ]
  },
  {
   "cell_type": "code",
   "execution_count": null,
   "metadata": {},
   "outputs": [],
   "source": [
    "# this takes a while\n",
    "dim = static.ndim\n",
    "metric = SSDMetric(dim)\n",
    "level_iters = [200, 100, 50, 25]\n",
    "sdr = SymmetricDiffeomorphicRegistration(metric, level_iters, inv_iter=50)\n",
    "mapping = sdr.optimize(static, moving)"
   ]
  },
  {
   "cell_type": "code",
   "execution_count": null,
   "metadata": {},
   "outputs": [],
   "source": [
    "regtools.plot_2d_diffeomorphic_map(mapping, 10, 'diffeomorphic_map.png')"
   ]
  },
  {
   "cell_type": "code",
   "execution_count": null,
   "metadata": {},
   "outputs": [],
   "source": [
    "warped_moving = mapping.transform(moving, 'linear')\n",
    "regtools.overlay_images(static, warped_moving, 'Static', 'Overlay',\n",
    "                        'Warped moving', 'direct_warp_result.png')"
   ]
  },
  {
   "cell_type": "code",
   "execution_count": null,
   "metadata": {},
   "outputs": [],
   "source": [
    "# Two subplots, unpack the axes array immediately\n",
    "fig, (ax1, ax2, ax3) = plt.subplots(3, 1, sharey=True)\n",
    "fig.set_size_inches(np.array([24, 20]), forward=False)\n",
    "ax1.imshow(moving, cmap=\"gray\")\n",
    "ax1.set_title('moving 100')\n",
    "ax2.imshow(warped_moving, cmap=\"gray\")\n",
    "ax2.set_title('warped')\n",
    "ax3.imshow(static, cmap=\"gray\")\n",
    "ax3.set_title('static 200')\n"
   ]
  },
  {
   "cell_type": "code",
   "execution_count": null,
   "metadata": {},
   "outputs": [],
   "source": []
  }
 ],
 "metadata": {
  "kernelspec": {
   "display_name": "Python 3",
   "language": "python",
   "name": "python3"
  },
  "language_info": {
   "codemirror_mode": {
    "name": "ipython",
    "version": 3
   },
   "file_extension": ".py",
   "mimetype": "text/x-python",
   "name": "python",
   "nbconvert_exporter": "python",
   "pygments_lexer": "ipython3",
   "version": "3.8.5"
  }
 },
 "nbformat": 4,
 "nbformat_minor": 4
}
