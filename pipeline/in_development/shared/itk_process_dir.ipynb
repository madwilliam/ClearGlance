{
 "cells": [
  {
   "cell_type": "code",
   "execution_count": null,
   "metadata": {},
   "outputs": [],
   "source": [
    "import numpy as np\n",
    "from skimage import io\n",
    "from os.path import expanduser\n",
    "from tqdm import tqdm\n",
    "HOME = expanduser(\"~\")\n",
    "import os, sys\n",
    "import cv2\n",
    "import numpy as np\n",
    "import SimpleITK as sitk\n",
    "from collections import OrderedDict\n",
    "from shutil import copyfile\n",
    "import subprocess\n",
    "import pickle\n",
    "%load_ext autoreload\n",
    "%autoreload 2"
   ]
  },
  {
   "cell_type": "code",
   "execution_count": null,
   "metadata": {},
   "outputs": [],
   "source": [
    "PATH = '/home/eddyod/programming/pipeline_utility'\n",
    "sys.path.append(PATH)\n",
    "from utilities.SqlController import SqlController\n",
    "from utilities.FileLocationManager import FileLocationManager\n",
    "from utilities.utilities_registration import create_warp_transforms, register\n",
    "from utilities.alignment_utility import SCALING_FACTOR"
   ]
  },
  {
   "cell_type": "code",
   "execution_count": null,
   "metadata": {},
   "outputs": [],
   "source": [
    "animal = 'DK39'\n",
    "DIR = f'/net/birdstore/Active_Atlas_Data/data_root/pipeline_data/{animal}/preps'\n",
    "INPUT = os.path.join(DIR, 'CH1', 'thumbnail_cleaned')\n",
    "OUTPUT = os.path.join(DIR, 'CH1', 'thumbnail_aligned')\n",
    "STORAGE = os.path.join(DIR, 'elastix')"
   ]
  },
  {
   "cell_type": "code",
   "execution_count": null,
   "metadata": {},
   "outputs": [],
   "source": [
    "rotation_storage = os.path.join(STORAGE, 'rotations.pickle')\n",
    "rotations = pickle.load( open( rotation_storage, \"rb\" ) )\n",
    "\n",
    "#translation_storage = os.path.join(STORAGE, 'translations.pickle')\n",
    "#translations = pickle.load( open( translation_storage, \"rb\" ) )"
   ]
  },
  {
   "cell_type": "code",
   "execution_count": null,
   "metadata": {},
   "outputs": [],
   "source": [
    "transformation_to_previous_section = OrderedDict()\n",
    "for rf, R in rotations.items():\n",
    "    transformation_to_previous_section[rf] = R\n",
    "\n",
    "files = sorted(os.listdir(INPUT))"
   ]
  },
  {
   "cell_type": "code",
   "execution_count": null,
   "metadata": {},
   "outputs": [],
   "source": [
    "anchor_index = len(files) // 2 # middle section of the brain\n",
    "transformation_to_anchor_section = {}\n",
    "# Converts every transformation\n",
    "for moving_index in range(len(files)):\n",
    "    if moving_index == anchor_index:\n",
    "        transformation_to_anchor_section[files[moving_index]] = np.eye(3)\n",
    "    elif moving_index < anchor_index:\n",
    "        T_composed = np.eye(3)\n",
    "        for i in range(anchor_index, moving_index, -1):\n",
    "            T_composed = np.dot(np.linalg.inv(transformation_to_previous_section[files[i]]), T_composed)\n",
    "        transformation_to_anchor_section[files[moving_index]] = T_composed\n",
    "    else:\n",
    "        T_composed = np.eye(3)\n",
    "        for i in range(anchor_index + 1, moving_index + 1):\n",
    "            T_composed = np.dot(transformation_to_previous_section[files[i]], T_composed)\n",
    "        transformation_to_anchor_section[files[moving_index]] = T_composed\n"
   ]
  },
  {
   "cell_type": "markdown",
   "metadata": {},
   "source": [
    "#### Set the resolution and create a dictionary of transforms"
   ]
  },
  {
   "cell_type": "code",
   "execution_count": null,
   "metadata": {},
   "outputs": [],
   "source": [
    "resolution = 'thumbnail'\n",
    "warp_transforms = create_warp_transforms(animal, transformation_to_anchor_section, 'thumbnail', resolution)\n",
    "sqlController = SqlController(animal)\n",
    "width = sqlController.scan_run.width\n",
    "height = sqlController.scan_run.height\n",
    "max_width = int(width * SCALING_FACTOR)\n",
    "max_height = int(height * SCALING_FACTOR)\n",
    "bgcolor = 'black' # this should be black, but white lets you see the rotation and shift"
   ]
  },
  {
   "cell_type": "markdown",
   "metadata": {},
   "source": [
    "##### This gets the dictionary of transforms and passes those parameters to imagemagick's convert tool to rotate, shift and crop the image"
   ]
  },
  {
   "cell_type": "code",
   "execution_count": null,
   "metadata": {},
   "outputs": [],
   "source": [
    "#OUTPUT = \"setme to some place where you can write files\"\n",
    "ordered_transforms = OrderedDict(sorted(warp_transforms.items()))\n",
    "for file, arr in tqdm(ordered_transforms.items()):\n",
    "    T = np.linalg.inv(arr)\n",
    "    sx = T[0, 0]\n",
    "    sy = T[1, 1]\n",
    "    rx = T[1, 0]\n",
    "    ry = T[0, 1]\n",
    "    tx = T[0, 2]\n",
    "    ty = T[1, 2]\n",
    "    # sx, rx, ry, sy, tx, ty\n",
    "    op_str = f\" +distort AffineProjection '{sx},{rx},{ry},{sy},{tx},{ty}'\"\n",
    "    op_str += f' -crop {max_width}x{max_height}+0.0+0.0!'\n",
    "    input_fp = os.path.join(INPUT, file)\n",
    "    output_fp = os.path.join(OUTPUT, file)\n",
    "    if os.path.exists(output_fp):\n",
    "        continue\n",
    "\n",
    "    cmd = f\"convert {input_fp} -define white-point=0x0 +repage -virtual-pixel background -background {bgcolor} {op_str} -flatten -compress lzw {output_fp}\"\n",
    "    subprocess.run(cmd, shell=True)\n"
   ]
  }
 ],
 "metadata": {
  "kernelspec": {
   "display_name": "Python 3",
   "language": "python",
   "name": "python3"
  },
  "language_info": {
   "codemirror_mode": {
    "name": "ipython",
    "version": 3
   },
   "file_extension": ".py",
   "mimetype": "text/x-python",
   "name": "python",
   "nbconvert_exporter": "python",
   "pygments_lexer": "ipython3",
   "version": "3.8.5"
  }
 },
 "nbformat": 4,
 "nbformat_minor": 4
}
