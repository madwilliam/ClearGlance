{
 "cells": [
  {
   "cell_type": "code",
   "execution_count": 1,
   "metadata": {},
   "outputs": [
    {
     "data": {
      "text/html": [
       "<a href=\"http://127.0.0.1:36867/v/fe0bb573ef21249085916fcd11d2d9e19ea554d7/\" target=\"_blank\">Viewer</a>"
      ],
      "text/plain": [
       "http://127.0.0.1:36867/v/fe0bb573ef21249085916fcd11d2d9e19ea554d7/"
      ]
     },
     "execution_count": 1,
     "metadata": {},
     "output_type": "execute_result"
    }
   ],
   "source": [
    "import os, sys\n",
    "import numpy as np\n",
    "import json\n",
    "import neuroglancer\n",
    "from matplotlib import pyplot as plt\n",
    "viewer = neuroglancer.Viewer()\n",
    "viewer"
   ]
  },
  {
   "cell_type": "code",
   "execution_count": 2,
   "metadata": {},
   "outputs": [
    {
     "name": "stdout",
     "output_type": "stream",
     "text": [
      "Connecting dklab@192.168.1.12:3306\n"
     ]
    }
   ],
   "source": [
    "#color_filepath = os.path.join('./', 'neuroglancer/contours/json_cache', 'struct_to_color.json')\n",
    "#with open(color_filepath, 'r') as json_file:\n",
    "#    colors = json.load(json_file)\n",
    "#print('Color maps:', colors)\n",
    "HOME = os.path.expanduser(\"~\")\n",
    "DIR = os.path.join(HOME, 'programming/pipeline_utility')\n",
    "sys.path.append(DIR)\n",
    "from utilities.contour_utilities import get_structure_colors\n",
    "colors = get_structure_colors()"
   ]
  },
  {
   "cell_type": "code",
   "execution_count": 3,
   "metadata": {},
   "outputs": [
    {
     "name": "stdout",
     "output_type": "stream",
     "text": [
      "Number of numpy files: 51\n"
     ]
    }
   ],
   "source": [
    "VOL_DIR = '/net/birdstore/Active_Atlas_Data/copied_from_S3/mousebrainatlas-data/CSHL_volumes/atlasV7/atlasV7_10.0um_scoreVolume/score_volumes'\n",
    "files = os.listdir(VOL_DIR)\n",
    "numpy_files = [f for f in files if f.endswith('.npy') and 'surround' not in f]\n",
    "print('Number of numpy files:', len(numpy_files))"
   ]
  },
  {
   "cell_type": "markdown",
   "metadata": {},
   "source": [
    "## MD589 reference"
   ]
  },
  {
   "cell_type": "code",
   "execution_count": null,
   "metadata": {},
   "outputs": [],
   "source": [
    "MD589_VOLUME_PATH = '/net/birdstore/Active_Atlas_Data/data_root/CSHL_volumes/MD589/MD589_full_filled.npy'\n",
    "MD589 = np.load(MD589_VOLUME_PATH)\n",
    "MD589 = np.swapaxes(MD589, 0, 2)\n",
    "np.unique(MD589, return_counts=True)"
   ]
  },
  {
   "cell_type": "code",
   "execution_count": null,
   "metadata": {},
   "outputs": [],
   "source": [
    "layer = neuroglancer.SegmentationLayer(\n",
    "    source=neuroglancer.LocalVolume(\n",
    "        data=MD589, \n",
    "        dimensions=neuroglancer.CoordinateSpace(names=['x', 'y', 'z'], units='um', scales=[5, 5, 20]), \n",
    "        voxel_offset=(0, 0, 0)\n",
    "    ),\n",
    ")\n",
    "with viewer.txn() as s:\n",
    "#     s.layers.clear()\n",
    "    s.layers['layer'] = layer"
   ]
  },
  {
   "cell_type": "markdown",
   "metadata": {},
   "source": [
    "## Aggregation"
   ]
  },
  {
   "cell_type": "code",
   "execution_count": 15,
   "metadata": {
    "scrolled": false
   },
   "outputs": [
    {
     "name": "stdout",
     "output_type": "stream",
     "text": [
      "Fit\t Tz_R     24\tshape      (61, 47, 106), x range  878  984, y range 1096 1143, z range  319  380\n",
      "Fit\t 4N_L      4\tshape       (21, 23, 19), x range  891  910, y range  887  910, z range  266  287\n",
      "Fit\t PBG_R    14\tshape       (34, 91, 67), x range  868  935, y range  827  918, z range  469  503\n",
      "Fit\t Sp5C_L   21\tshape    (182, 165, 167), x range 1191 1358, y range 1006 1171, z range   88  270\n",
      "Fit\t RMC_L    16\tshape       (87, 58, 91), x range  782  873, y range  913  971, z range  202  289\n",
      "Fit\t LC_L     12\tshape       (31, 71, 93), x range  954 1047, y range  912  983, z range  202  233\n",
      "Fit\t Tz_L     24\tshape      (61, 47, 106), x range  878  984, y range 1096 1143, z range  221  282\n",
      "Fit\t LC_R     12\tshape       (31, 71, 93), x range  954 1047, y range  912  983, z range  368  399\n",
      "Fit\t SNC_R    19\tshape     (104, 109, 80), x range  736  816, y range  922 1031, z range  367  471\n",
      "Fit\t 7n_L      7\tshape    (150, 108, 107), x range  940 1047, y range  993 1101, z range  122  272\n",
      "Fit\t VCA_R    25\tshape     (76, 112, 133), x range  938 1071, y range  950 1062, z range  499  575\n",
      "Fit\t Sp5I_L   22\tshape     (92, 132, 122), x range 1125 1247, y range  992 1124, z range   62  154\n",
      "Fit\t PBG_L    14\tshape       (34, 91, 67), x range  868  935, y range  827  918, z range   98  132\n",
      "Fit\t 7N_R      7\tshape      (94, 76, 101), x range  982 1083, y range 1082 1158, z range  369  463\n",
      "Fit\t 3N_L      3\tshape       (52, 41, 63), x range  835  898, y range  873  914, z range  262  314\n",
      "Fit\t SNC_L    19\tshape     (104, 109, 80), x range  736  816, y range  922 1031, z range  130  234\n",
      "Fit\t VCP_R    26\tshape      (75, 112, 94), x range 1015 1109, y range  955 1067, z range  487  562\n",
      "Fit\t Sp5I_R   22\tshape     (92, 132, 122), x range 1125 1247, y range  992 1124, z range  447  539\n",
      "Fit\t SC       18\tshape    (377, 176, 238), x range  752  990, y range  683  859, z range  115  492\n",
      "Fit\t SNR_L    20\tshape    (140, 149, 139), x range  729  868, y range  896 1045, z range   92  232\n",
      "Fit\t Amb_R     8\tshape       (14, 27, 68), x range 1083 1151, y range 1091 1118, z range  417  431\n",
      "Fit\t 7n_R      7\tshape    (150, 108, 107), x range  940 1047, y range  993 1101, z range  329  479\n",
      "Fit\t VLL_L    27\tshape     (95, 251, 104), x range  839  943, y range  892 1143, z range  108  203\n",
      "Fit\t DC_R     10\tshape     (147, 88, 143), x range 1002 1145, y range  924 1012, z range  414  561\n",
      "Fit\t IC       11\tshape    (389, 187, 220), x range  847 1067, y range  662  849, z range  106  495\n",
      "Fit\t VLL_R    27\tshape     (95, 251, 104), x range  839  943, y range  892 1143, z range  398  493\n",
      "Fit\t AP        9\tshape       (43, 42, 67), x range 1169 1236, y range 1007 1049, z range  281  324\n",
      "Fit\t SNR_R    20\tshape    (140, 149, 139), x range  729  868, y range  896 1045, z range  369  509\n",
      "Fit\t VCA_L    25\tshape     (76, 112, 133), x range  938 1071, y range  950 1062, z range   26  102\n",
      "Fit\t 12N       2\tshape      (86, 78, 124), x range 1141 1265, y range 1031 1109, z range  256  342\n",
      "Fit\t RMC_R    16\tshape       (87, 58, 91), x range  782  873, y range  913  971, z range  312  399\n",
      "Fit\t 5N_L      5\tshape       (59, 86, 73), x range  919  992, y range  960 1046, z range  134  193\n",
      "Fit\t Sp5O_R   23\tshape     (99, 125, 201), x range  999 1200, y range  988 1113, z range  438  537\n",
      "Fit\t LRt_R    13\tshape      (84, 93, 142), x range 1120 1262, y range 1092 1185, z range  372  456\n",
      "Fit\t VCP_L    26\tshape      (75, 112, 94), x range 1015 1109, y range  955 1067, z range   39  114\n",
      "Fit\t 10N_L     1\tshape      (53, 88, 130), x range 1147 1277, y range 1019 1107, z range  245  298\n",
      "Fit\t Sp5O_L   23\tshape     (99, 125, 201), x range  999 1200, y range  988 1113, z range   64  163\n",
      "Fit\t Amb_L     8\tshape       (14, 27, 68), x range 1083 1151, y range 1091 1118, z range  170  184\n",
      "Fit\t 3N_R      3\tshape       (52, 41, 63), x range  835  898, y range  873  914, z range  288  340\n",
      "Fit\t 5N_R      5\tshape       (59, 86, 73), x range  919  992, y range  960 1046, z range  408  467\n",
      "Fit\t 4N_R      4\tshape       (21, 23, 19), x range  891  910, y range  887  910, z range  314  335\n",
      "Fit\t RtTg     17\tshape    (186, 107, 152), x range  825  977, y range 1016 1123, z range  204  390\n",
      "Fit\t 10N_R     1\tshape      (53, 88, 130), x range 1147 1277, y range 1019 1107, z range  303  356\n",
      "Fit\t Pn_L     15\tshape     (116, 114, 99), x range  788  887, y range 1034 1148, z range  180  296\n",
      "Fit\t 6N_R      6\tshape       (26, 25, 26), x range 1002 1028, y range 1000 1025, z range  324  350\n",
      "Fit\t LRt_L    13\tshape      (84, 93, 142), x range 1120 1262, y range 1092 1185, z range  145  229\n",
      "Fit\t Pn_R     15\tshape     (116, 114, 99), x range  788  887, y range 1034 1148, z range  305  421\n",
      "Fit\t 6N_L      6\tshape       (26, 25, 26), x range 1002 1028, y range 1000 1025, z range  251  277\n",
      "Fit\t 7N_L      7\tshape      (94, 76, 101), x range  982 1083, y range 1082 1158, z range  138  232\n",
      "Fit\t Sp5C_R   21\tshape    (182, 165, 167), x range 1191 1358, y range 1006 1171, z range  331  513\n",
      "Fit\t DC_L     10\tshape     (147, 88, 143), x range 1002 1145, y range  924 1012, z range   40  187\n"
     ]
    }
   ],
   "source": [
    "x_length = 2000\n",
    "y_length = 2000\n",
    "z_length = 600\n",
    "full_brain_volume_annotated = np.zeros((z_length, y_length, x_length), dtype=np.uint8)\n",
    "\n",
    "for n in numpy_files:\n",
    "    prefix = os.path.splitext(n)[0]\n",
    "    structure = prefix.split('_', 3)[3]\n",
    "        \n",
    "    try:\n",
    "        color = colors[structure.upper()]\n",
    "    except:\n",
    "        sided = '{}_R'.format(structure.upper())\n",
    "        color = colors[sided]\n",
    "\n",
    "    volume_filename = os.path.join(VOL_DIR, n)\n",
    "    volume_input = np.load(volume_filename)\n",
    "    volume_input = np.swapaxes(volume_input, 0, 2)\n",
    "    volume_input = np.swapaxes(volume_input, 1, 2)\n",
    "\n",
    "    volume_nonzero_indices = volume_input > 0.9\n",
    "    volume_input[volume_nonzero_indices] = color\n",
    "    structure_volume = volume_input.astype(np.uint8)\n",
    "\n",
    "    origin_filename = os.path.join(VOL_DIR, '{}_origin_wrt_canonicalAtlasSpace.txt'.format(prefix))\n",
    "    origin_wrt = np.loadtxt(origin_filename)\n",
    "    x,y,z = origin_wrt\n",
    "    x_start = int(x) + x_length // 2\n",
    "    y_start = int(y) + y_length // 2\n",
    "    z_start = int(z) + z_length // 2\n",
    "    x_end = x_start + structure_volume.shape[2]\n",
    "    y_end = y_start + structure_volume.shape[1]\n",
    "    z_end = z_start + structure_volume.shape[0]\n",
    "\n",
    "    try:\n",
    "        full_brain_volume_annotated[z_start:z_end, y_start:y_end,x_start:x_end] = structure_volume\n",
    "    except:\n",
    "        print('Error\\t',str(structure).ljust(8), str(color).rjust(2), end=\"\\t\")\n",
    "        print('shape', str(structure_volume.shape).rjust(18), end=\", \")\n",
    "        print('x range', str(x_start).rjust(4), str(x_end).rjust(4), end=\", \")\n",
    "        print('y range', str(y_start).rjust(4), str(y_end).rjust(4), end=\", \")\n",
    "        print('z range', str(z_start).rjust(4), str(z_end).rjust(4))\n",
    "        \n",
    "full_brain_volume_annotated = np.swapaxes(full_brain_volume_annotated, 0, 2)"
   ]
  },
  {
   "cell_type": "code",
   "execution_count": 16,
   "metadata": {},
   "outputs": [
    {
     "name": "stdout",
     "output_type": "stream",
     "text": [
      "http://127.0.0.1:36867/v/fe0bb573ef21249085916fcd11d2d9e19ea554d7/\n"
     ]
    }
   ],
   "source": [
    "test_layer = neuroglancer.SegmentationLayer(\n",
    "    source = neuroglancer.LocalVolume(\n",
    "        data=full_brain_volume_annotated, \n",
    "        dimensions=neuroglancer.CoordinateSpace(names=['x', 'y', 'z'], units='um', scales=[10, 10, 10]), \n",
    "        voxel_offset=(0, 0, 0)\n",
    "    ),\n",
    ")\n",
    "\n",
    "with viewer.txn() as s:\n",
    "    s.layers.clear()\n",
    "    s.layers['aggregate'] = test_layer\n",
    "print(viewer)"
   ]
  },
  {
   "cell_type": "markdown",
   "metadata": {},
   "source": [
    "## Individual volume "
   ]
  },
  {
   "cell_type": "code",
   "execution_count": null,
   "metadata": {},
   "outputs": [],
   "source": [
    "for file in numpy_files:\n",
    "    volume_filename = os.path.join(VOL_DIR, file)\n",
    "    volume_input = np.load(volume_filename)\n",
    "    volume_input[volume_input > 0.9] = 1\n",
    "    volume_input = np.swapaxes(volume_input, 0, 2)\n",
    "    \n",
    "    dimensions = neuroglancer.CoordinateSpace(names=['x', 'y', 'z'], units='um', scales=[10, 10, 10])\n",
    "    \n",
    "    prefix = os.path.splitext(file)[0]\n",
    "    origin_filename = os.path.join(VOL_DIR, '{}_origin_wrt_canonicalAtlasSpace.txt'.format(prefix))\n",
    "    origin_wrt = np.loadtxt(origin_filename)\n",
    "    \n",
    "    volume_layer = neuroglancer.SegmentationLayer(\n",
    "        source = neuroglancer.LocalVolume(data=volume_input, dimensions=dimensions, voxel_offset=[0, 0, 0]),\n",
    "    )\n",
    "    with viewer.txn() as s:\n",
    "        s.layers[prefix.split('_', 3)[3]] = volume_layer"
   ]
  }
 ],
 "metadata": {
  "kernelspec": {
   "display_name": "Python 3",
   "language": "python",
   "name": "python3"
  },
  "language_info": {
   "codemirror_mode": {
    "name": "ipython",
    "version": 3
   },
   "file_extension": ".py",
   "mimetype": "text/x-python",
   "name": "python",
   "nbconvert_exporter": "python",
   "pygments_lexer": "ipython3",
   "version": "3.8.2"
  }
 },
 "nbformat": 4,
 "nbformat_minor": 1
}
