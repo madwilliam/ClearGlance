{
 "cells": [
  {
   "cell_type": "code",
   "execution_count": null,
   "metadata": {},
   "outputs": [],
   "source": [
    "import numpy as np\n",
    "import os, sys\n",
    "from skimage import io\n",
    "from matplotlib.colors import ListedColormap\n",
    "from matplotlib.cm import hsv\n",
    "import math\n",
    "from tqdm import tqdm\n",
    "from matplotlib import pyplot as plt\n",
    "from matplotlib import colors\n",
    "from pylab import cm\n",
    "\n",
    "from pprint import pprint\n",
    "HOME = os.path.expanduser(\"~\")\n",
    "PATH = os.path.join(HOME, 'programming/pipeline_utility')\n",
    "sys.path.append(PATH)\n",
    "from utilities.utilities_cvat_neuroglancer import NumpyToNeuroglancer, get_cpus, get_segment_ids\n"
   ]
  },
  {
   "cell_type": "code",
   "execution_count": null,
   "metadata": {},
   "outputs": [],
   "source": [
    "HOME = os.path.expanduser(\"~\")\n",
    "PATH = os.path.join(HOME, 'programming/pipeline_utility')\n",
    "sys.path.append(PATH)\n",
    "from utilities.SqlController import SqlController\n",
    "from utilities.FileLocationManager import DATA_PATH, ROOT_DIR"
   ]
  },
  {
   "cell_type": "code",
   "execution_count": null,
   "metadata": {},
   "outputs": [],
   "source": [
    "INPUT = '/net/birdstore/Active_Atlas_Data/data_root/pipeline_data/X/preps/CH2/full_aligned'\n",
    "files = sorted(os.listdir(INPUT))\n",
    "midpoint = len(files) // 2\n",
    "midfilepath = os.path.join(INPUT, files[midpoint])\n",
    "limit = 1\n",
    "files = files[midpoint-limit:midpoint+limit]\n",
    "#files = [f for i,f in enumerate(files) if i % 10 == 0]\n",
    "midfile = io.imread(midfilepath)\n",
    "height, width = midfile.shape\n",
    "data_type = np.uint8\n",
    "volume_size = (width, height, len(files))\n",
    "volume = np.zeros((volume_size), dtype=data_type)"
   ]
  },
  {
   "cell_type": "code",
   "execution_count": null,
   "metadata": {},
   "outputs": [],
   "source": [
    "ids = [int(i) for i in np.unique(volume[:])]"
   ]
  },
  {
   "cell_type": "code",
   "execution_count": null,
   "metadata": {},
   "outputs": [],
   "source": [
    "# use skimage\n",
    "for i, f in enumerate(tqdm(files)):\n",
    "    infile = os.path.join(INPUT, f)\n",
    "    img = io.imread(infile)\n",
    "    img = img.T\n",
    "    volume[:,:,i] = img.reshape(img.shape[0], img.shape[1])"
   ]
  },
  {
   "cell_type": "code",
   "execution_count": null,
   "metadata": {},
   "outputs": [],
   "source": [
    "labels = [[v-8,v-1] for v in range(9,256,8)]\n",
    "arr = np.copy(midfile)\n",
    "for label in labels:\n",
    "    mask = (arr >= label[0]) & (arr <= label[1])\n",
    "    arr[mask] = label[1]\n",
    "arr[arr > 248] = 255        \n",
    "midfile = arr.T"
   ]
  },
  {
   "cell_type": "code",
   "execution_count": null,
   "metadata": {},
   "outputs": [],
   "source": [
    "print(f'midfile shape: {midfile.shape} dtype: {midfile.dtype} counts {np.unique(midfile, return_counts=True)}')"
   ]
  },
  {
   "cell_type": "code",
   "execution_count": null,
   "metadata": {
    "scrolled": false
   },
   "outputs": [],
   "source": [
    "#volume[volume > 0] = 255\n",
    "#volume[volume < 1] = 0\n",
    "flat = midfile.flatten()\n",
    "fig = plt.figure()\n",
    "plt.rcParams['figure.figsize'] = [10, 6]\n",
    "plt.hist(flat, bins=35, color='b')\n",
    "plt.style.use('ggplot')\n",
    "plt.yscale('log')\n",
    "plt.grid(axis='y', alpha=0.75)\n",
    "plt.xlabel('Value')\n",
    "plt.ylabel('Frequency')\n",
    "plt.title(f' {volume.dtype}')"
   ]
  },
  {
   "cell_type": "code",
   "execution_count": null,
   "metadata": {},
   "outputs": [],
   "source": [
    "segment_properties = get_segment_ids(midfile)"
   ]
  },
  {
   "cell_type": "code",
   "execution_count": null,
   "metadata": {},
   "outputs": [],
   "source": [
    "info = {\n",
    "    \"@type\": \"neuroglancer_segment_properties\",\n",
    "    \"inline\": {\n",
    "        \"ids\": [str(number) for number, label in segment_properties],\n",
    "        \"properties\": [{\n",
    "            \"id\": \"label\",\n",
    "            \"type\": \"label\",\n",
    "            \"values\": [str(label) for number, label in segment_properties]\n",
    "        }]\n",
    "    }\n",
    "}\n",
    "pprint(info)"
   ]
  },
  {
   "cell_type": "code",
   "execution_count": null,
   "metadata": {},
   "outputs": [],
   "source": [
    "def get_hex_from_id(id, colormap='coolwarm'):\n",
    "    cmap = cm.get_cmap(colormap, 255)\n",
    "    rgba = cmap(id)\n",
    "    return colors.rgb2hex(rgba)"
   ]
  },
  {
   "cell_type": "code",
   "execution_count": null,
   "metadata": {},
   "outputs": [],
   "source": [
    "get_hex_from_id(0, 'gray')"
   ]
  },
  {
   "cell_type": "code",
   "execution_count": null,
   "metadata": {},
   "outputs": [],
   "source": [
    "ids = [  8,  16,  24,  32,  40,  48,  56,  64,  72,  80,  88,  96,\n",
    "       104, 112, 120, 128, 136, 144, 152, 160, 168, 176, 184, 192, 200,\n",
    "       208, 216, 224, 232, 240, 248, 255]\n",
    "cmap = cm.get_cmap('seismic', 255)    # PiYG\n",
    "print(\"\\\"segmentColors\\\": {\")\n",
    "for id in ids:\n",
    "    rgba = cmap(id)\n",
    "    # rgb2hex accepts rgb or rgba\n",
    "    row = f'\\t\"{id}\": \"{colors.rgb2hex(rgba)}\",'\n",
    "    print(row)\n",
    "print(\"}\")"
   ]
  },
  {
   "cell_type": "code",
   "execution_count": null,
   "metadata": {},
   "outputs": [],
   "source": [
    "arr = np.rot90(volume,axes=(0, 1))\n",
    "#arr = np.rot90(arr, 3)\n",
    "arr = np.flip(arr, axis=0)\n",
    "#arr = volume.copy()\n",
    "print(arr.shape)\n",
    "start = 0\n",
    "end = arr.shape[2]\n",
    "nrows = end - start\n",
    "ncols = 1\n",
    "plt.style.use('classic')\n",
    "for i in range(start, end, 1):\n",
    "    plt.title('Z {}'.format(i))\n",
    "    plt.imshow(arr[:,:,i], cmap=\"seismic\")\n",
    "    plt.show()\n",
    "    if i > 1:\n",
    "        break"
   ]
  }
 ],
 "metadata": {
  "kernelspec": {
   "display_name": "Python 3",
   "language": "python",
   "name": "python3"
  },
  "language_info": {
   "codemirror_mode": {
    "name": "ipython",
    "version": 3
   },
   "file_extension": ".py",
   "mimetype": "text/x-python",
   "name": "python",
   "nbconvert_exporter": "python",
   "pygments_lexer": "ipython3",
   "version": "3.8.5"
  }
 },
 "nbformat": 4,
 "nbformat_minor": 4
}
