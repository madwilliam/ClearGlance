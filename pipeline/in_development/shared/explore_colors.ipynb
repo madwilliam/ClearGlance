{
 "cells": [
  {
   "cell_type": "code",
   "execution_count": 15,
   "metadata": {},
   "outputs": [],
   "source": [
    "import argparse\n",
    "import numpy as np\n",
    "import pandas as pd\n",
    "import pickle\n",
    "import ast, os, sys\n",
    "import neuroglancer\n",
    "import matplotlib\n",
    "import cv2\n",
    "from skimage import img_as_ubyte\n",
    "from matplotlib import pyplot as plt\n",
    "from collections import defaultdict\n",
    "from pprint import pprint"
   ]
  },
  {
   "cell_type": "code",
   "execution_count": 22,
   "metadata": {},
   "outputs": [
    {
     "name": "stdout",
     "output_type": "stream",
     "text": [
      "{'data_type': 'uint8',\n",
      " 'num_channels': 3,\n",
      " 'scales': [{'chunk_sizes': [[64, 64, 64]],\n",
      "             'encoding': 'raw',\n",
      "             'key': '14um',\n",
      "             'resolution': [14464, 14464, 20000],\n",
      "             'size': [1365, 1012, 447],\n",
      "             'voxel_offset': [0, 0, 0]},\n",
      "            {'chunk_sizes': [[64, 64, 64]],\n",
      "             'encoding': 'raw',\n",
      "             'key': '29um',\n",
      "             'resolution': [28928, 28928, 40000],\n",
      "             'size': [683, 506, 224],\n",
      "             'voxel_offset': [0, 0, 0]},\n",
      "            {'chunk_sizes': [[64, 64, 64]],\n",
      "             'encoding': 'raw',\n",
      "             'key': '58um',\n",
      "             'resolution': [57856, 57856, 80000],\n",
      "             'size': [342, 253, 112],\n",
      "             'voxel_offset': [0, 0, 0]},\n",
      "            {'chunk_sizes': [[64, 64, 64]],\n",
      "             'encoding': 'raw',\n",
      "             'key': '116um',\n",
      "             'resolution': [115712, 115712, 160000],\n",
      "             'size': [171, 127, 56],\n",
      "             'voxel_offset': [0, 0, 0]},\n",
      "            {'chunk_sizes': [[64, 64, 64]],\n",
      "             'encoding': 'raw',\n",
      "             'key': '231um',\n",
      "             'resolution': [231424, 231424, 320000],\n",
      "             'size': [86, 64, 28],\n",
      "             'voxel_offset': [0, 0, 0]}],\n",
      " 'type': 'image'}\n"
     ]
    }
   ],
   "source": [
    "md589_info = {\"data_type\":\"uint8\",\"num_channels\":3,\"scales\":[{\"chunk_sizes\":[[64,64,64]],\"encoding\":\"raw\",\"key\":\"14um\",\"resolution\":[14464,14464,20000],\"size\":[1365,1012,447],\"voxel_offset\":[0,0,0]},{\"chunk_sizes\":[[64,64,64]],\"encoding\":\"raw\",\"key\":\"29um\",\"resolution\":[28928,28928,40000],\"size\":[683,506,224],\"voxel_offset\":[0,0,0]},{\"chunk_sizes\":[[64,64,64]],\"encoding\":\"raw\",\"key\":\"58um\",\"resolution\":[57856,57856,80000],\"size\":[342,253,112],\"voxel_offset\":[0,0,0]},{\"chunk_sizes\":[[64,64,64]],\"encoding\":\"raw\",\"key\":\"116um\",\"resolution\":[115712,115712,160000],\"size\":[171,127,56],\"voxel_offset\":[0,0,0]},{\"chunk_sizes\":[[64,64,64]],\"encoding\":\"raw\",\"key\":\"231um\",\"resolution\":[231424,231424,320000],\"size\":[86,64,28],\"voxel_offset\":[0,0,0]}],\"type\":\"image\"}\n",
    "dk39_info = {\"data_type\":\"uint16\",\"num_channels\":1,\"scales\":[{\"chunk_sizes\":[[256,256,4]],\"encoding\":\"raw\",\"key\":\"325nm\",\"resolution\":[325,325,20000],\"size\":[56000,36000,469],\"voxel_offset\":[0,0,0]},{\"chunk_sizes\":[[256,256,8]],\"encoding\":\"raw\",\"key\":\"650nm\",\"resolution\":[650,650,20000],\"size\":[28000,18000,469],\"voxel_offset\":[0,0,0]},{\"chunk_sizes\":[[128,128,8]],\"encoding\":\"raw\",\"key\":\"1300nm\",\"resolution\":[1300,1300,20000],\"size\":[14000,9000,469],\"voxel_offset\":[0,0,0]},{\"chunk_sizes\":[[128,128,16]],\"encoding\":\"raw\",\"key\":\"2600nm\",\"resolution\":[2600,2600,20000],\"size\":[7000,4500,469],\"voxel_offset\":[0,0,0]},{\"chunk_sizes\":[[128,128,32]],\"encoding\":\"raw\",\"key\":\"5200nm\",\"resolution\":[5200,5200,20000],\"size\":[3500,2250,469],\"voxel_offset\":[0,0,0]},{\"chunk_sizes\":[[64,64,32]],\"encoding\":\"raw\",\"key\":\"10400nm\",\"resolution\":[10400,10400,20000],\"size\":[1750,1125,469],\"voxel_offset\":[0,0,0]},{\"chunk_sizes\":[[64,64,64]],\"encoding\":\"raw\",\"key\":\"20000nm\",\"resolution\":[20800,20800,20000],\"size\":[875,563,469],\"voxel_offset\":[0,0,0]},{\"chunk_sizes\":[[64,64,64]],\"encoding\":\"raw\",\"key\":\"40000nm\",\"resolution\":[41600,41600,40000],\"size\":[438,282,235],\"voxel_offset\":[0,0,0]},{\"chunk_sizes\":[[64,64,64]],\"encoding\":\"raw\",\"key\":\"80000nm\",\"resolution\":[83200,83200,80000],\"size\":[219,141,118],\"voxel_offset\":[0,0,0]},{\"chunk_sizes\":[[64,64,64]],\"encoding\":\"raw\",\"key\":\"160000nm\",\"resolution\":[166400,166400,160000],\"size\":[110,71,59],\"voxel_offset\":[0,0,0]}],\"type\":\"image\"}\n",
    "pprint(md589_info)"
   ]
  },
  {
   "cell_type": "code",
   "execution_count": 2,
   "metadata": {},
   "outputs": [],
   "source": [
    "d = defaultdict(dict)"
   ]
  },
  {
   "cell_type": "code",
   "execution_count": 9,
   "metadata": {},
   "outputs": [],
   "source": [
    "def calculate_chunks(downsample, mip):\n",
    "    d = defaultdict(dict)\n",
    "    result = [64,64,64]\n",
    "    d['full'][0] = [1024,124,1]\n",
    "    d['full'][1] = [512,512,64]\n",
    "    d['full'][2] = [256,256,64]\n",
    "    d['full'][3] = [256,256,64]\n",
    "    d['full'][4] = [128,128,64]\n",
    "    d['full'][5] = [64,64,64]\n",
    "\n",
    "    d['thumbnail'][0] = [256,256,1]\n",
    "    d['thumbnail'][1] = [128,128,64]\n",
    "    d['thumbnail'][2] = [64,64,64]\n",
    "    d['thumbnail'][3] = [64,64,64]\n",
    "    try:\n",
    "        result = d[downsample][mip]\n",
    "    except:\n",
    "        print('Error, no value')\n",
    "    return result\n",
    "\n"
   ]
  },
  {
   "cell_type": "code",
   "execution_count": 14,
   "metadata": {},
   "outputs": [
    {
     "data": {
      "text/plain": [
       "[64, 64, 64]"
      ]
     },
     "execution_count": 14,
     "metadata": {},
     "output_type": "execute_result"
    }
   ],
   "source": [
    "calculate_chunks('thumbnail',3)"
   ]
  }
 ],
 "metadata": {
  "kernelspec": {
   "display_name": "Python 3",
   "language": "python",
   "name": "python3"
  },
  "language_info": {
   "codemirror_mode": {
    "name": "ipython",
    "version": 3
   },
   "file_extension": ".py",
   "mimetype": "text/x-python",
   "name": "python",
   "nbconvert_exporter": "python",
   "pygments_lexer": "ipython3",
   "version": "3.8.5"
  }
 },
 "nbformat": 4,
 "nbformat_minor": 4
}
