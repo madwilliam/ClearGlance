{
 "cells": [
  {
   "cell_type": "code",
   "execution_count": null,
   "metadata": {},
   "outputs": [],
   "source": [
    "%reload_ext autoreload\n",
    "%autoreload 2\n",
    "\n",
    "import math, os, sys\n",
    "import json\n",
    "import plotly.express as px\n",
    "import plotly.graph_objects as go\n",
    "import pandas as pd\n",
    "import numpy as np\n",
    "import plotly.offline as py\n",
    "from pathlib import Path\n",
    "from datetime import datetime\n",
    "from scipy import ndimage\n",
    "\n",
    "\n",
    "from ipywidgets import interactive, HBox, VBox\n",
    "HOME = os.path.expanduser(\"~\")\n",
    "PATH = os.path.join(HOME, 'programming/pipeline_utility')\n",
    "sys.path.append(PATH)\n",
    "\n",
    "from utilities.FileLocationManager import FileLocationManager\n",
    "from utilities.SqlController import SqlController"
   ]
  },
  {
   "cell_type": "code",
   "execution_count": null,
   "metadata": {},
   "outputs": [],
   "source": [
    "animal = 'MD589'\n",
    "sqlController = SqlController(animal)\n",
    "atlas_dir = Path('/net/birdstore/Active_Atlas_Data/data_root/atlas_data/atlasV7')\n",
    "origin_dir = atlas_dir / 'origin'\n",
    "volume_dir = atlas_dir / 'structure'"
   ]
  },
  {
   "cell_type": "code",
   "execution_count": null,
   "metadata": {
    "scrolled": true
   },
   "outputs": [],
   "source": [
    "for origin_file, volume_file in zip(sorted(origin_dir.iterdir()), sorted(volume_dir.iterdir())):\n",
    "    assert origin_file.stem == volume_file.stem\n",
    "    name = origin_file.stem\n",
    "    origin = np.loadtxt(origin_file)\n",
    "    if name.endswith('_L'):\n",
    "        abbreviation = name.replace('_L','')\n",
    "        side = 'L'\n",
    "    elif name.endswith('_R'):\n",
    "        abbreviation = name.replace('_R','')\n",
    "        side = 'R'\n",
    "    else:\n",
    "        abbreviation = name\n",
    "        side = 'S'\n",
    "    if abbreviation == 'RMC':\n",
    "        continue\n",
    "    #structure = sqlController.get_structure(abbreviation)\n",
    "    \n",
    "    volume = np.load(volume_file)\n",
    "    volume = np.rot90(volume, axes=(0, 1))\n",
    "    volume = np.flip(volume, axis=0)\n",
    "\n",
    "    # computer volume center of mass in raw array coordinates\n",
    "    center = (origin + ndimage.measurements.center_of_mass(volume))\n",
    "    x,y,z = center\n",
    "    \n",
    "    structure = sqlController.get_structure(abbreviation)\n",
    "    print(\"insert into center_of_mass (prep_id, structure_id, x,y,section,side,created) values (\",end=\"\" )\n",
    "    print(f\"'Atlas','{structure.id}',  {x},{y},{z}, '{side}', NOW());\")\n",
    "    #sqlController.add_center_of_mass(abbreviation, 'Atlas', x, y, z, side)\n",
    "\n"
   ]
  },
  {
   "cell_type": "code",
   "execution_count": null,
   "metadata": {},
   "outputs": [],
   "source": [
    "abbreviation, animal, x,y,z,side = 'RtTg', 'Atlas', -121.54587226705019, 62.24769427642217, -3.499999999999986, 'S'\n",
    "sqlController.add_center_of_mass(abbreviation, animal, x, y, z, side)"
   ]
  },
  {
   "cell_type": "code",
   "execution_count": null,
   "metadata": {},
   "outputs": [],
   "source": [
    "def find_values(id, json_repr):\n",
    "    results = []\n",
    "    def _decode_dict(a_dict):\n",
    "        try:\n",
    "            results.append(a_dict[id])\n",
    "        except KeyError:\n",
    "            pass\n",
    "        return a_dict\n",
    "\n",
    "    json.loads(json_repr, object_hook=_decode_dict) # Return value ignored.\n",
    "    return results"
   ]
  }
 ],
 "metadata": {
  "kernelspec": {
   "display_name": "Django Shell-Plus",
   "language": "python",
   "name": "django_extensions"
  },
  "language_info": {
   "codemirror_mode": {
    "name": "ipython",
    "version": 3
   },
   "file_extension": ".py",
   "mimetype": "text/x-python",
   "name": "python",
   "nbconvert_exporter": "python",
   "pygments_lexer": "ipython3",
   "version": "3.8.5"
  }
 },
 "nbformat": 4,
 "nbformat_minor": 4
}
