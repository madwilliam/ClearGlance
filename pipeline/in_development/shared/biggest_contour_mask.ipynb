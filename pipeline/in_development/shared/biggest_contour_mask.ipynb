{
 "cells": [
  {
   "cell_type": "code",
   "execution_count": null,
   "metadata": {},
   "outputs": [],
   "source": [
    "import numpy as np\n",
    "import imutils\n",
    "import cv2 as cv\n",
    "from matplotlib import pyplot as plt\n",
    "from skimage import io\n",
    "import os\n",
    "from os.path import expanduser\n",
    "HOME = expanduser(\"~\")\n",
    "SCALED =  'programming/dk43/scaled'\n",
    "INVERTED = 'programming/dk43/inverted'\n",
    "ROTATED = 'programming/dk43/rotated'\n",
    "NORMALIZED = 'programming/dk43/normalized'\n",
    "MASKED = 'programming/dk43/masked'"
   ]
  },
  {
   "cell_type": "code",
   "execution_count": null,
   "metadata": {},
   "outputs": [],
   "source": [
    "def is_barcode(rect):\n",
    "    x,y,w,h = rect\n",
    "    area = w * h\n",
    "    result = (x > 10 and y > 10 and w > 10 and h > 40 and area > 1000)\n",
    "    if result:\n",
    "        print ('rectangle size: x=%s y=%s w=%s h=%s' %(x,y,w,h))\n",
    "    return result"
   ]
  },
  {
   "cell_type": "code",
   "execution_count": null,
   "metadata": {},
   "outputs": [],
   "source": [
    "def create_mask(original):\n",
    "    copied = np.copy(original)\n",
    "    #original = cv2.normalize(original, None, alpha=0, beta=255, norm_type=cv2.NORM_MINMAX)\n",
    "    #img_gray = cv2.cvtColor(original, cv2.COLOR_BGR2GRAY)\n",
    "    #img_blur = cv2.GaussianBlur(img_gray,(5,5),0)\n",
    "    #img_bgr = cv2.cvtColor(img_blur,cv2.COLOR_GRAY2BGR)\n",
    "    \n",
    "    img_hsv = cv.cvtColor(original, cv.COLOR_BGR2HSV)\n",
    "\n",
    "    lowHue = 0\n",
    "    lowSat = 0\n",
    "    lowVal = 2\n",
    "    highHue = 255\n",
    "    highSat = 55\n",
    "    highVal = 250\n",
    "\n",
    "    # creation of mask\n",
    "    colorLow = np.array([lowHue,lowSat,lowVal])\n",
    "    colorHigh = np.array([highHue,highSat,highVal])\n",
    "    img_mask = cv.inRange(img_hsv, colorLow, colorHigh)\n",
    "    # find and draw contours\n",
    "    #find\n",
    "    contours, hierarchy = cv.findContours(img_mask, cv.RETR_TREE, cv.CHAIN_APPROX_SIMPLE)\n",
    "    #find largest contour\n",
    "    contour_sizes = [(cv.contourArea(contour), contour) for contour in contours]\n",
    "    biggest_contour = [max(contour_sizes, key=lambda x: x[0])[1]]\n",
    "    contours_poly = [None]*len(contours)\n",
    "    boundRect = [None]*len(contours)\n",
    "    centers = [None]*len(contours)\n",
    "    radius = [None]*len(contours)\n",
    "    #contours = contours\n",
    "    color = (255,100,0)\n",
    "    #contour_and_sizes = [(cv.contourArea(contour), contour) for contour in contours]\n",
    "    #biggest_contours = sorted(contour_and_sizes, key = lambda x: x[0], reverse=True)[:2]\n",
    "\n",
    "    for i, c in enumerate(contours):\n",
    "        contours_poly[i] = cv.approxPolyDP(c, 3, True)\n",
    "        boundRect[i] = cv.boundingRect(contours_poly[i])\n",
    "        if is_barcode(boundRect[i]):\n",
    "            centers[i], radius[i] = cv.minEnclosingCircle(contours_poly[i])\n",
    "        \n",
    "            cv.rectangle(copied, (int(boundRect[i][0]), int(boundRect[i][1])), \\\n",
    "              (int(boundRect[i][0]+boundRect[i][2]), int(boundRect[i][1]+boundRect[i][3])), color, 2)\n",
    "        \n",
    "        \n",
    "    #cv.fillPoly(copied, [biggest_contour], [255,155,0])\n",
    "    \n",
    "    return copied"
   ]
  },
  {
   "cell_type": "code",
   "execution_count": null,
   "metadata": {},
   "outputs": [],
   "source": [
    "def create_rects(original):\n",
    "    copied = original.copy()\n",
    "    copied = np.copy(original)\n",
    "    img_hsv = cv.cvtColor(original, cv.COLOR_BGR2HSV)\n",
    "\n",
    "    lowHue = 0\n",
    "    lowSat = 0\n",
    "    lowVal = 2\n",
    "    highHue = 255\n",
    "    highSat = 55\n",
    "    highVal = 250\n",
    "\n",
    "    # creation of mask\n",
    "    colorLow = np.array([lowHue,lowSat,lowVal])\n",
    "    colorHigh = np.array([highHue,highSat,highVal])\n",
    "    img_mask = cv.inRange(img_hsv, colorLow, colorHigh)\n",
    "    # find and draw contours\n",
    "    contours, hierarchy = cv.findContours(img_mask, cv.RETR_TREE, cv.CHAIN_APPROX_SIMPLE)\n",
    "    #find largest contours\n",
    "    contour_and_sizes = [(cv.contourArea(contour), contour) for contour in contours]\n",
    "    biggest_contours = sorted(contour_and_sizes, key = lambda x: x[0], reverse=True)[0]\n",
    "    for i, c in enumerate(biggest_contours):\n",
    "        contours_poly[i] = cv.approxPolyDP(c, 3, True)\n",
    "        boundRect[i] = cv.boundingRect(contours_poly[i])\n",
    "        centers[i], radius[i] = cv.minEnclosingCircle(contours_poly[i])\n",
    "        \n",
    "        cv.rectangle(copied, (int(boundRect[i][0]), int(boundRect[i][1])), \\\n",
    "          (int(boundRect[i][0]+boundRect[i][2]), int(boundRect[i][1]+boundRect[i][3])), color, 2)\n",
    "        \n",
    "        \n",
    "        #cv.fillPoly(copied, [biggest_contour], [255,155,0])\n",
    "    \n",
    "    return copied\n"
   ]
  },
  {
   "cell_type": "code",
   "execution_count": null,
   "metadata": {},
   "outputs": [],
   "source": [
    "#file = 'DK43_slide020_2020_01_23_798515_C0.tif'\n",
    "#file = 'DK43_slide001_2020_01_27_808119_C0.tif'\n",
    "file = 'DK43_slide052_2020_01_23_801622_C0.tif'\n",
    "\n",
    "filename = os.path.join(HOME, NORMALIZED, file)\n",
    "original = cv.imread(filename)\n",
    "tissue = create_mask(original)"
   ]
  },
  {
   "cell_type": "code",
   "execution_count": null,
   "metadata": {},
   "outputs": [],
   "source": [
    "# display images\n",
    "fig, ax = plt.subplots(nrows=2, sharex=True, figsize=(28, 20))\n",
    "ax[0].set_title('Original')\n",
    "ax[0].imshow(original)\n",
    "ax[1].set_title('Mask')\n",
    "ax[1].imshow(tissue)"
   ]
  }
 ],
 "metadata": {
  "kernelspec": {
   "display_name": "Python 3",
   "language": "python",
   "name": "python3"
  },
  "language_info": {
   "codemirror_mode": {
    "name": "ipython",
    "version": 3
   },
   "file_extension": ".py",
   "mimetype": "text/x-python",
   "name": "python",
   "nbconvert_exporter": "python",
   "pygments_lexer": "ipython3",
   "version": "3.8.2"
  }
 },
 "nbformat": 4,
 "nbformat_minor": 4
}
