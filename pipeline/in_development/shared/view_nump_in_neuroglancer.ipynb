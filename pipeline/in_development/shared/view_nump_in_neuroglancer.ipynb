{
 "cells": [
  {
   "cell_type": "code",
   "execution_count": 1,
   "metadata": {},
   "outputs": [],
   "source": [
    "import argparse\n",
    "import numpy as np\n",
    "import pandas as pd\n",
    "import pickle\n",
    "import ast, os, sys\n",
    "import neuroglancer\n",
    "import matplotlib\n",
    "import cv2\n",
    "from skimage import img_as_ubyte\n",
    "from matplotlib import pyplot as plt"
   ]
  },
  {
   "cell_type": "code",
   "execution_count": 2,
   "metadata": {},
   "outputs": [
    {
     "name": "stdout",
     "output_type": "stream",
     "text": [
      "Connecting dklab@192.168.1.12:3306\n"
     ]
    }
   ],
   "source": [
    "HOME = os.path.expanduser(\"~\")\n",
    "PATH = os.path.join(HOME, 'programming/pipeline_utility')\n",
    "sys.path.append(PATH)\n",
    "from utilities.SqlController import SqlController\n",
    "from utilities.FileLocationManager import DATA_PATH, ROOT_DIR"
   ]
  },
  {
   "cell_type": "code",
   "execution_count": null,
   "metadata": {},
   "outputs": [],
   "source": [
    "atlas_name = 'atlasV9'\n",
    "animal = 'MD589'\n",
    "ATLAS_PATH = os.path.join(DATA_PATH, 'atlas_data', atlas_name, animal)\n",
    "ORIGIN_PATH = os.path.join(ATLAS_PATH, 'origin')\n",
    "VOLUME_PATH = os.path.join(ATLAS_PATH, 'structure')\n",
    "structure = 'SC'\n",
    "filename = os.path.join(VOLUME_PATH, f'{structure}.npy')\n",
    "volume = np.load(filename)\n",
    "volume.dtype, volume.shape, np.median(volume), np.mean(volume), np.amax(volume)"
   ]
  },
  {
   "cell_type": "code",
   "execution_count": null,
   "metadata": {
    "scrolled": true
   },
   "outputs": [],
   "source": [
    "#volume[volume > 0.09] = 18\n",
    "flat = volume.flatten()\n",
    "fig = plt.figure()\n",
    "plt.rcParams['figure.figsize'] = [10, 6]\n",
    "plt.hist(flat, color='b')\n",
    "plt.style.use('ggplot')\n",
    "plt.yscale('log')\n",
    "plt.grid(axis='y', alpha=0.75)\n",
    "plt.xlabel('Value')\n",
    "plt.ylabel('Frequency')\n",
    "plt.title(f'{structure} float')"
   ]
  },
  {
   "cell_type": "code",
   "execution_count": null,
   "metadata": {},
   "outputs": [],
   "source": [
    "arr = volume\n",
    "#arr = np.rot90(arr, axes=(0, 1))\n",
    "#arr = np.flip(arr, axis=0)\n",
    "print(arr.shape)\n",
    "limit = 20\n",
    "start = (arr.shape[2] // 2) - limit\n",
    "end = start + limit * 2\n",
    "#start = limit\n",
    "#end = arr.shape[2] - limit\n",
    "nrows = end - start\n",
    "ncols = 1\n",
    "plt.style.use('classic')\n",
    "for i in range(start, end, 1):\n",
    "    plt.title('Z {}'.format(i))\n",
    "    plt.imshow(arr[:,:,i], cmap=\"gray\")\n",
    "    plt.show()"
   ]
  },
  {
   "cell_type": "code",
   "execution_count": null,
   "metadata": {},
   "outputs": [],
   "source": [
    "# Set ipython's max row display\n",
    "pd.set_option('display.max_row', 1000)\n",
    "pd.set_option('display.max_columns', 50)\n",
    "csvfile = os.path.join(PATH, 'neuroglancer/contours','MD589_annotation_contours.csv')\n",
    "df = pd.read_csv(csvfile)\n",
    "structures_arr = df.name.unique()"
   ]
  },
  {
   "cell_type": "code",
   "execution_count": null,
   "metadata": {},
   "outputs": [],
   "source": [
    "df[['name','creator', 'section', 'vertices']].head(5)\n",
    "#df.head(5)\n"
   ]
  },
  {
   "cell_type": "code",
   "execution_count": null,
   "metadata": {},
   "outputs": [],
   "source": [
    "structures = structures_arr.tolist()\n",
    "type(structures)"
   ]
  },
  {
   "cell_type": "code",
   "execution_count": null,
   "metadata": {},
   "outputs": [],
   "source": [
    "df = MD589_annotations.groupby(['creator', 'name'])"
   ]
  },
  {
   "cell_type": "code",
   "execution_count": null,
   "metadata": {},
   "outputs": [],
   "source": [
    "df.name.unique()"
   ]
  },
  {
   "cell_type": "code",
   "execution_count": null,
   "metadata": {},
   "outputs": [],
   "source": [
    "sc = df.loc[df['name'] == 'SC']"
   ]
  },
  {
   "cell_type": "code",
   "execution_count": null,
   "metadata": {},
   "outputs": [],
   "source": [
    "vertices = df['vertices'][244]"
   ]
  },
  {
   "cell_type": "code",
   "execution_count": null,
   "metadata": {},
   "outputs": [],
   "source": [
    "sc[['name', 'section','creator', 'vertices']].sort_values(by=['section'])"
   ]
  },
  {
   "cell_type": "code",
   "execution_count": null,
   "metadata": {},
   "outputs": [],
   "source": [
    "animal = 'atlasV7'\n",
    "target_structure = 'Tz'\n",
    "str_contours_annotation, first_sec, last_sec = get_contours_from_annotations(animal, target_structure, hand_annotations, densify=0)"
   ]
  },
  {
   "cell_type": "code",
   "execution_count": null,
   "metadata": {},
   "outputs": [],
   "source": [
    "first_sec, last_sec"
   ]
  },
  {
   "cell_type": "code",
   "execution_count": null,
   "metadata": {},
   "outputs": [],
   "source": [
    "dimensions = neuroglancer.CoordinateSpace(\n",
    "    names=['x', 'y', 'z'],\n",
    "    units='nm',\n",
    "    scales=[460,460,20000])\n",
    "\n",
    "viewer = neuroglancer.Viewer()\n",
    "with viewer.txn() as s:\n",
    "    s.dimensions = dimensions\n",
    "    s.layers['Altas'] = neuroglancer.ImageLayer(\n",
    "        source=neuroglancer.LocalVolume(\n",
    "            data=vm,\n",
    "            dimensions=dimensions,\n",
    "            voxel_offset=(0, 0, 0),\n",
    "        ),\n",
    "        shader=\"\"\"\n",
    "#uicontrol float min slider(min=0, max=1, default=0)\n",
    "#uicontrol float max slider(min=0, max=1, default=1)\n",
    "#uicontrol float invert slider(min=0, max=1, default=0, step=1)\n",
    "#uicontrol float brightness slider(min=-1, max=1)\n",
    "#uicontrol float contrast slider(min=-3, max=3, step=0.01)\n",
    "void main() {\n",
    "  float pix_val = toNormalized(getDataValue());\n",
    "  if(pix_val < min){\n",
    "  \tpix_val = 0.0;\n",
    "  }\n",
    "  if(pix_val > max){\n",
    "    pix_val = 1.0;\n",
    "  }\n",
    "\n",
    "  if(invert==1.0){\n",
    "  \t  emitGrayscale((1.0 -(pix_val - brightness)) *\n",
    "       exp(contrast));\n",
    "  }\n",
    "  else{\n",
    "    emitGrayscale((pix_val + brightness) *\n",
    "                  exp(contrast));\n",
    "  }\n",
    "\n",
    "}\n",
    "\n",
    "\"\"\")\n",
    "print(viewer)"
   ]
  },
  {
   "cell_type": "code",
   "execution_count": null,
   "metadata": {},
   "outputs": [],
   "source": [
    "csvfile = os.path.join(PATH, 'neuroglancer/contours', 'hand_annotations.csv')\n",
    "hand_annotations = pd.read_csv(csvfile)\n",
    "hand_annotations['vertices'] = hand_annotations['vertices'].apply(lambda x: ast.literal_eval(x))\n",
    "animal = 'MD589'\n",
    "color_codes = {\"3N\": 3, \"4N\": 4, \"5N\": 5, \"6N\": 6, \"Tz\": 24, \"VCA_L\": 25, \"VCA_R\": 25, \"SC\":18, \"IC\":11}\n",
    "viewer = neuroglancer.Viewer()\n",
    "# Sets 'Image' layer to be MD585 prep2 images from S3\n",
    "with viewer.txn() as s:\n",
    "    s.layers[animal] = neuroglancer.ImageLayer(source='precomputed://https://mousebrainatlas-datajoint-jp2k.s3.amazonaws.com/precomputed/'+animal+'_fullres')\n",
    "    s.layout = 'xy' # '3d'/'4panel'/'xy'\n",
    "print(viewer)"
   ]
  },
  {
   "cell_type": "code",
   "execution_count": null,
   "metadata": {},
   "outputs": [],
   "source": [
    "neuroglancer.stop()"
   ]
  },
  {
   "cell_type": "code",
   "execution_count": null,
   "metadata": {
    "scrolled": false
   },
   "outputs": [],
   "source": [
    "structures = ['SC', 'IC']\n",
    "\n",
    "for target_structure in structures:\n",
    "    color = color_codes[target_structure]\n",
    "    str_contours_annotation, first_sec, last_sec = get_contours_from_annotations(animal, target_structure, hand_annotations, densify=0)\n",
    "    ng_structure_volume, xyz_offsets = add_structure_to_neuroglancer(viewer, str_contours_annotation, target_structure, animal, first_sec, last_sec, \\\n",
    "                                                        color_radius=2, xy_ng_resolution_um=5, threshold=1, color=color, \\\n",
    "                                                        solid_volume=False, no_offset_big_volume=True, save_results=False, \\\n",
    "                                                        return_with_offsets=True, add_to_ng=True, human_annotation=True )\n"
   ]
  },
  {
   "cell_type": "code",
   "execution_count": null,
   "metadata": {},
   "outputs": [],
   "source": [
    "print(viewer)"
   ]
  },
  {
   "cell_type": "code",
   "execution_count": null,
   "metadata": {},
   "outputs": [],
   "source": [
    "structures = ['3N', '4N', '5N', '6N', 'Tz']\n",
    "for structure, volume, offset in zip(structures, structure_volumes,offsets):\n",
    "    vm = np.swapaxes(volume,0,2)\n",
    "    print(structure, vm.shape, offset)"
   ]
  }
 ],
 "metadata": {
  "kernelspec": {
   "display_name": "Python 3",
   "language": "python",
   "name": "python3"
  },
  "language_info": {
   "codemirror_mode": {
    "name": "ipython",
    "version": 3
   },
   "file_extension": ".py",
   "mimetype": "text/x-python",
   "name": "python",
   "nbconvert_exporter": "python",
   "pygments_lexer": "ipython3",
   "version": "3.8.5"
  }
 },
 "nbformat": 4,
 "nbformat_minor": 4
}
