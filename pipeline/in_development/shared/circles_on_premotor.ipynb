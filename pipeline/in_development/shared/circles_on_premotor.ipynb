{
 "cells": [
  {
   "cell_type": "code",
   "execution_count": 2,
   "source": [
    "import pandas as pd\n",
    "import numpy as np\n",
    "import matplotlib\n",
    "from matplotlib import pyplot as plt\n",
    "from os.path import expanduser\n",
    "HOME = expanduser(\"~\")\n",
    "import os\n",
    "import cv2"
   ],
   "outputs": [],
   "metadata": {}
  },
  {
   "cell_type": "code",
   "execution_count": 3,
   "source": [
    "animal = 'DK55'\n",
    "section = 172\n",
    "INPUT = os.path.join(HOME, 'programming/brains', animal, str(section))\n",
    "files = sorted(os.listdir(INPUT))\n",
    "files"
   ],
   "outputs": [
    {
     "output_type": "error",
     "ename": "FileNotFoundError",
     "evalue": "[Errno 2] No such file or directory: '/home/zhw272/programming/brains/DK55/172'",
     "traceback": [
      "\u001b[0;31m---------------------------------------------------------------------------\u001b[0m",
      "\u001b[0;31mFileNotFoundError\u001b[0m                         Traceback (most recent call last)",
      "\u001b[0;32m<ipython-input-3-2de241a6a795>\u001b[0m in \u001b[0;36m<module>\u001b[0;34m\u001b[0m\n\u001b[1;32m      2\u001b[0m \u001b[0msection\u001b[0m \u001b[0;34m=\u001b[0m \u001b[0;36m172\u001b[0m\u001b[0;34m\u001b[0m\u001b[0;34m\u001b[0m\u001b[0m\n\u001b[1;32m      3\u001b[0m \u001b[0mINPUT\u001b[0m \u001b[0;34m=\u001b[0m \u001b[0mos\u001b[0m\u001b[0;34m.\u001b[0m\u001b[0mpath\u001b[0m\u001b[0;34m.\u001b[0m\u001b[0mjoin\u001b[0m\u001b[0;34m(\u001b[0m\u001b[0mHOME\u001b[0m\u001b[0;34m,\u001b[0m \u001b[0;34m'programming/brains'\u001b[0m\u001b[0;34m,\u001b[0m \u001b[0manimal\u001b[0m\u001b[0;34m,\u001b[0m \u001b[0mstr\u001b[0m\u001b[0;34m(\u001b[0m\u001b[0msection\u001b[0m\u001b[0;34m)\u001b[0m\u001b[0;34m)\u001b[0m\u001b[0;34m\u001b[0m\u001b[0;34m\u001b[0m\u001b[0m\n\u001b[0;32m----> 4\u001b[0;31m \u001b[0mfiles\u001b[0m \u001b[0;34m=\u001b[0m \u001b[0msorted\u001b[0m\u001b[0;34m(\u001b[0m\u001b[0mos\u001b[0m\u001b[0;34m.\u001b[0m\u001b[0mlistdir\u001b[0m\u001b[0;34m(\u001b[0m\u001b[0mINPUT\u001b[0m\u001b[0;34m)\u001b[0m\u001b[0;34m)\u001b[0m\u001b[0;34m\u001b[0m\u001b[0;34m\u001b[0m\u001b[0m\n\u001b[0m\u001b[1;32m      5\u001b[0m \u001b[0mfiles\u001b[0m\u001b[0;34m\u001b[0m\u001b[0;34m\u001b[0m\u001b[0m\n",
      "\u001b[0;31mFileNotFoundError\u001b[0m: [Errno 2] No such file or directory: '/home/zhw272/programming/brains/DK55/172'"
     ]
    }
   ],
   "metadata": {}
  },
  {
   "cell_type": "code",
   "execution_count": 26,
   "source": [
    "# I think either tile 5 or 7 would contain lots of premotor cells\n",
    "# the original images are width=60000, height=34000. We also need to adjust the origin point of the tile.\n",
    "SCALE = 32 # images are downsampled by 1/32\n",
    "# downsampled size\n",
    "width = 60000 / 32\n",
    "height = 34000 / 32\n",
    "tile_height = height / 5\n",
    "# for using tile = 5, we push the origin down 2 tile_heights\n",
    "print(width, height, tile_height)\n",
    "section = 248\n",
    "dfpath = os.path.join(HOME, f'programming/brains/{animal}', f'{animal}.CH3.Premotor.csv')\n",
    "df = pd.read_csv(dfpath)\n",
    "options = ['Premotor']\n",
    "rslt_df = df[(df['Section'] == section) & df['Layer'].isin(options)]\n",
    "rslt_df.drop(columns=['Description'], inplace=True)\n",
    "#print(df.groupby(['Section']).agg(['count']).tail(10))\n",
    "print(rslt_df.head(2))\n",
    "outpath = os.path.join(HOME, f'programming/brains/{animal}', f'CH3.{section}.csv')\n",
    "rslt_df.to_csv(outpath, index=False)\n",
    "#df['xs'] = (df['x'] / SCALE) - (width/2)\n",
    "#df['ys'] = (df['y'] / SCALE) - (tile_height * 2)\n",
    "#df = df.loc[df['ys'] > 0] # remove rows that are not on the tile\n",
    "#df.head()"
   ],
   "outputs": [
    {
     "output_type": "stream",
     "name": "stdout",
     "text": [
      "1875.0 1062.5 212.5\n",
      "         Layer             X             Y  Section\n",
      "1871  Premotor  32694.339844  16725.058594      248\n",
      "1872  Premotor  32703.347656  16788.117188      248\n"
     ]
    },
    {
     "output_type": "stream",
     "name": "stderr",
     "text": [
      "/usr/local/share/pipeline/lib/python3.8/site-packages/pandas/core/frame.py:4167: SettingWithCopyWarning: \n",
      "A value is trying to be set on a copy of a slice from a DataFrame\n",
      "\n",
      "See the caveats in the documentation: https://pandas.pydata.org/pandas-docs/stable/user_guide/indexing.html#returning-a-view-versus-a-copy\n",
      "  return super().drop(\n"
     ]
    }
   ],
   "metadata": {}
  },
  {
   "cell_type": "code",
   "execution_count": null,
   "source": [
    "file = 'tile-norm-5.tif'\n",
    "radius = 4\n",
    "color = (255)\n",
    "infile = os.path.join(INPUT, file)\n",
    "img = cv2.imread(infile, -1)\n",
    "for index,row in df.iterrows():\n",
    "    x = int(round(row['xs']))\n",
    "    y = int(round(row['ys']))\n",
    "    cv2.circle(img, (int(x), int(y)), radius, color, 2)"
   ],
   "outputs": [],
   "metadata": {}
  },
  {
   "cell_type": "code",
   "execution_count": null,
   "source": [
    "fig=plt.figure(figsize=(26,18), dpi= 100, facecolor='w', edgecolor='k')\n",
    "plt.imshow(img, cmap=\"gray\")\n",
    "plt.title(f'{animal} CH3, section: {section}', fontsize=30)\n",
    "plt.tick_params(axis='x', labelsize=30)\n",
    "plt.tick_params(axis='y', labelsize=30)\n",
    "plt.show()"
   ],
   "outputs": [],
   "metadata": {
    "scrolled": false
   }
  }
 ],
 "metadata": {
  "kernelspec": {
   "name": "python3",
   "display_name": "Python 3.8.10 64-bit ('pipeline': venv)"
  },
  "language_info": {
   "codemirror_mode": {
    "name": "ipython",
    "version": 3
   },
   "file_extension": ".py",
   "mimetype": "text/x-python",
   "name": "python",
   "nbconvert_exporter": "python",
   "pygments_lexer": "ipython3",
   "version": "3.8.10"
  },
  "interpreter": {
   "hash": "2bd29f7b10431261d8beeb897d602198a8ccc2be7cc6f93af9f327223ffe0508"
  }
 },
 "nbformat": 4,
 "nbformat_minor": 4
}