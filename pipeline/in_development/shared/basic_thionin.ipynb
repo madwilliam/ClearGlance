{
 "cells": [
  {
   "cell_type": "code",
   "execution_count": 1,
   "metadata": {},
   "outputs": [
    {
     "ename": "ModuleNotFoundError",
     "evalue": "No module named 'imutils'",
     "output_type": "error",
     "traceback": [
      "\u001b[0;31m---------------------------------------------------------------------------\u001b[0m",
      "\u001b[0;31mModuleNotFoundError\u001b[0m                       Traceback (most recent call last)",
      "\u001b[0;32m<ipython-input-1-742fa1e540a8>\u001b[0m in \u001b[0;36m<module>\u001b[0;34m\u001b[0m\n\u001b[1;32m     12\u001b[0m \u001b[0mget_ipython\u001b[0m\u001b[0;34m(\u001b[0m\u001b[0;34m)\u001b[0m\u001b[0;34m.\u001b[0m\u001b[0mrun_line_magic\u001b[0m\u001b[0;34m(\u001b[0m\u001b[0;34m'load_ext'\u001b[0m\u001b[0;34m,\u001b[0m \u001b[0;34m'autoreload'\u001b[0m\u001b[0;34m)\u001b[0m\u001b[0;34m\u001b[0m\u001b[0;34m\u001b[0m\u001b[0m\n\u001b[1;32m     13\u001b[0m \u001b[0mget_ipython\u001b[0m\u001b[0;34m(\u001b[0m\u001b[0;34m)\u001b[0m\u001b[0;34m.\u001b[0m\u001b[0mrun_line_magic\u001b[0m\u001b[0;34m(\u001b[0m\u001b[0;34m'autoreload'\u001b[0m\u001b[0;34m,\u001b[0m \u001b[0;34m'2'\u001b[0m\u001b[0;34m)\u001b[0m\u001b[0;34m\u001b[0m\u001b[0;34m\u001b[0m\u001b[0m\n\u001b[0;32m---> 14\u001b[0;31m \u001b[0;32mimport\u001b[0m \u001b[0mimutils\u001b[0m\u001b[0;34m\u001b[0m\u001b[0;34m\u001b[0m\u001b[0m\n\u001b[0m",
      "\u001b[0;31mModuleNotFoundError\u001b[0m: No module named 'imutils'"
     ]
    }
   ],
   "source": [
    "import numpy as np\n",
    "import matplotlib\n",
    "from matplotlib import pyplot as plt\n",
    "from skimage import io\n",
    "from os.path import expanduser\n",
    "from tqdm import tqdm\n",
    "HOME = expanduser(\"~\")\n",
    "import os, sys\n",
    "import cv2\n",
    "import skimage.exposure\n",
    "import pandas as pd\n",
    "%load_ext autoreload\n",
    "%autoreload 2\n",
    "import imutils"
   ]
  },
  {
   "cell_type": "code",
   "execution_count": null,
   "metadata": {},
   "outputs": [],
   "source": [
    "sys.path.append(\"../..\")\n",
    "from utilities.utilities_mask import fix_thionin"
   ]
  },
  {
   "cell_type": "code",
   "execution_count": null,
   "metadata": {},
   "outputs": [],
   "source": [
    "def merge_fix(infile, mask):\n",
    "    imgfull = cv2.imread(infile)\n",
    "    img_ch1 = imgfull[:, :, 0]\n",
    "    img_ch2 = imgfull[:, :, 1]\n",
    "    img_ch3 = imgfull[:, :, 2]\n",
    "    fixed1 = cv2.bitwise_and(img_ch1, img_ch1, mask=mask)\n",
    "    fixed2 = cv2.bitwise_and(img_ch2, img_ch2, mask=mask)\n",
    "    fixed3 = cv2.bitwise_and(img_ch3, img_ch3, mask=mask)\n",
    "    fixed = np.dstack((fixed1, fixed2, fixed3))\n",
    "    return fixed"
   ]
  },
  {
   "cell_type": "markdown",
   "metadata": {},
   "source": [
    "The following `merge_fix` function will mark the masked area with gray color."
   ]
  },
  {
   "cell_type": "code",
   "execution_count": null,
   "metadata": {},
   "outputs": [],
   "source": [
    "def merge_fix(infile, mask):\n",
    "    imgfull = cv2.imread(infile)\n",
    "    mask = 255 - mask\n",
    "    mask = np.dstack((mask, mask, mask))\n",
    "    imgfull = cv2.addWeighted(mask, 0.2, imgfull, 0.8, 0)\n",
    "    return imgfull"
   ]
  },
  {
   "cell_type": "markdown",
   "metadata": {},
   "source": [
    "### Testing masks with different levels of dilation for the brain MD589"
   ]
  },
  {
   "cell_type": "code",
   "execution_count": null,
   "metadata": {},
   "outputs": [],
   "source": [
    "DIR = '/net/birdstore/Active_Atlas_Data/data_root/pipeline_data/MD589'\n",
    "INPUT = os.path.join(DIR, 'preps', 'CH1', 'thumbnail')\n",
    "CLEANED = os.path.join(DIR, 'preps', 'CH1', 'thumbnail_cleaned')\n",
    "MASKED = os.path.join(DIR, 'preps', 'thumbnail_masked')\n",
    "files = sorted(os.listdir(INPUT))"
   ]
  },
  {
   "cell_type": "code",
   "execution_count": null,
   "metadata": {},
   "outputs": [],
   "source": [
    "len(files)"
   ]
  },
  {
   "cell_type": "code",
   "execution_count": null,
   "metadata": {},
   "outputs": [],
   "source": [
    "plt.ioff()"
   ]
  },
  {
   "cell_type": "code",
   "execution_count": null,
   "metadata": {
    "scrolled": false
   },
   "outputs": [],
   "source": [
    "min_dilation = 0\n",
    "max_dilation = 2\n",
    "start = 0\n",
    "end = len(files) # non-inclusive\n",
    "num_dil = max_dilation - min_dilation + 1\n",
    "num_pics = end - start\n",
    "\n",
    "batch_size = 25\n",
    "\n",
    "for batch in range(((num_pics-1) // batch_size)+1):\n",
    "    b_start = start + batch * batch_size\n",
    "    b_end = min(start + (batch+1)*batch_size, end)\n",
    "    b_pics = b_end - b_start\n",
    "    \n",
    "    fig, ax = plt.subplots(nrows=b_pics, ncols=num_dil, sharex=False, sharey=False)\n",
    "    plt.style.use('classic')\n",
    "    fig.set_size_inches(np.array([num_dil * 8, b_pics * 6]), forward=False)\n",
    "\n",
    "    for i, file in enumerate(tqdm(files[b_start:b_end])):\n",
    "        infile = os.path.join(INPUT, file)\n",
    "        src = cv2.imread(infile, cv2.IMREAD_GRAYSCALE)\n",
    "        for j, dil in enumerate(range(min_dilation, max_dilation+1)):\n",
    "            mask = fix_thionin(src, dilation_itr=dil, bg_mask=True, debug=True)\n",
    "            fixed = merge_fix(infile, mask)\n",
    "            ax[i, j].set_title(f'image {file}, dilation {dil}')\n",
    "            ax[i, j].imshow(fixed, cmap=\"gray\")\n",
    "\n",
    "    plt.tight_layout()\n",
    "    plt.savefig(f'mask_comparison/MD589_debug_bgmask_{b_start}_{b_end - 1}.png')\n"
   ]
  },
  {
   "cell_type": "code",
   "execution_count": null,
   "metadata": {
    "scrolled": true
   },
   "outputs": [],
   "source": [
    "min_dilation = 0\n",
    "max_dilation = 2\n",
    "start = 0\n",
    "end = len(files) # non-inclusive\n",
    "num_dil = max_dilation - min_dilation + 1\n",
    "num_pics = end - start\n",
    "\n",
    "batch_size = 25\n",
    "\n",
    "for batch in range(((num_pics-1) // batch_size)+1):\n",
    "    b_start = start + batch * batch_size\n",
    "    b_end = min(start + (batch+1)*batch_size, end)\n",
    "    b_pics = b_end - b_start\n",
    "    \n",
    "    fig, ax = plt.subplots(nrows=b_pics, ncols=num_dil, sharex=False, sharey=False)\n",
    "    plt.style.use('classic')\n",
    "    fig.set_size_inches(np.array([num_dil * 8, b_pics * 6]), forward=False)\n",
    "\n",
    "    for i, file in enumerate(tqdm(files[b_start:b_end])):\n",
    "        infile = os.path.join(INPUT, file)\n",
    "        src = cv2.imread(infile, cv2.IMREAD_GRAYSCALE)\n",
    "        for j, dil in enumerate(range(min_dilation, max_dilation+1)):\n",
    "            mask = fix_thionin(src, dilation_itr=dil, bg_mask=True, debug=False)\n",
    "            fixed = merge_fix(infile, mask)\n",
    "            ax[i, j].set_title(f'image {file}, dilation {dil}')\n",
    "            ax[i, j].imshow(fixed, cmap=\"gray\")\n",
    "\n",
    "    plt.tight_layout()\n",
    "    plt.savefig(f'mask_comparison/MD589_bgmask_{b_start}_{b_end - 1}.png')\n"
   ]
  },
  {
   "cell_type": "code",
   "execution_count": null,
   "metadata": {
    "scrolled": true
   },
   "outputs": [],
   "source": [
    "min_dilation = 0\n",
    "max_dilation = 2\n",
    "start = 0\n",
    "end = len(files) # non-inclusive\n",
    "num_dil = max_dilation - min_dilation + 1\n",
    "num_pics = end - start\n",
    "\n",
    "batch_size = 25\n",
    "\n",
    "for batch in range(((num_pics-1) // batch_size)+1):\n",
    "    b_start = start + batch * batch_size\n",
    "    b_end = min(start + (batch+1)*batch_size, end)\n",
    "    b_pics = b_end - b_start\n",
    "    \n",
    "    fig, ax = plt.subplots(nrows=b_pics, ncols=num_dil, sharex=False, sharey=False)\n",
    "    plt.style.use('classic')\n",
    "    fig.set_size_inches(np.array([num_dil * 8, b_pics * 6]), forward=False)\n",
    "\n",
    "    for i, file in enumerate(tqdm(files[b_start:b_end])):\n",
    "        infile = os.path.join(INPUT, file)\n",
    "        src = cv2.imread(infile, cv2.IMREAD_GRAYSCALE)\n",
    "        for j, dil in enumerate(range(min_dilation, max_dilation+1)):\n",
    "            mask = fix_thionin(src, dilation_itr=dil, bg_mask=False, debug=False)\n",
    "            fixed = merge_fix(infile, mask)\n",
    "            ax[i, j].set_title(f'image {file}, dilation {dil}')\n",
    "            ax[i, j].imshow(fixed, cmap=\"gray\")\n",
    "\n",
    "    plt.tight_layout()\n",
    "    plt.savefig(f'mask_comparison/MD589_{b_start}_{b_end - 1}.png')\n"
   ]
  },
  {
   "cell_type": "markdown",
   "metadata": {},
   "source": [
    "### Testing masks with different levels of dilation for the brain DK54"
   ]
  },
  {
   "cell_type": "code",
   "execution_count": null,
   "metadata": {},
   "outputs": [],
   "source": [
    "DIR = '/net/birdstore/Active_Atlas_Data/data_root/pipeline_data/DK54'\n",
    "INPUT = os.path.join(DIR, 'preps', 'CH1', 'thumbnail')\n",
    "CLEANED = os.path.join(DIR, 'preps', 'CH1', 'thumbnail_cleaned')\n",
    "MASKED = os.path.join(DIR, 'preps', 'thumbnail_masked')\n",
    "files = sorted(os.listdir(INPUT))"
   ]
  },
  {
   "cell_type": "code",
   "execution_count": null,
   "metadata": {
    "scrolled": true
   },
   "outputs": [],
   "source": [
    "min_dilation = 0\n",
    "max_dilation = 2\n",
    "start = 0\n",
    "end = len(files) # non-inclusive\n",
    "num_dil = max_dilation - min_dilation + 1\n",
    "num_pics = end - start\n",
    "\n",
    "batch_size = 25\n",
    "\n",
    "for batch in range(((num_pics-1) // batch_size)+1):\n",
    "    b_start = start + batch * batch_size\n",
    "    b_end = min(start + (batch+1)*batch_size, end)\n",
    "    b_pics = b_end - b_start\n",
    "    \n",
    "    fig, ax = plt.subplots(nrows=b_pics, ncols=num_dil, sharex=False, sharey=False)\n",
    "    plt.style.use('classic')\n",
    "    fig.set_size_inches(np.array([num_dil * 8, b_pics * 6]), forward=False)\n",
    "\n",
    "    for i, file in enumerate(tqdm(files[b_start:b_end])):\n",
    "        infile = os.path.join(INPUT, file)\n",
    "        src = cv2.imread(infile, cv2.IMREAD_GRAYSCALE)\n",
    "        src = cv2.bitwise_not(src)\n",
    "        for j, dil in enumerate(range(min_dilation, max_dilation+1)):\n",
    "            mask = fix_thionin(src, dilation_itr=dil, debug=True)\n",
    "            fixed = merge_fix(infile, mask)\n",
    "            ax[i, j].set_title(f'image {file}, dilation {dil}')\n",
    "            ax[i, j].imshow(fixed, cmap=\"gray\")\n",
    "\n",
    "    plt.tight_layout()\n",
    "    plt.savefig(f'mask_comparison/DK54_{b_start}_{b_end - 1}.png')"
   ]
  },
  {
   "cell_type": "code",
   "execution_count": null,
   "metadata": {},
   "outputs": [],
   "source": [
    "infile = os.path.join(INPUT, files[250])\n",
    "image = cv2.imread(infile, cv2.IMREAD_GRAYSCALE)\n",
    "image = cv2.bitwise_not(image)\n",
    "gray = cv2.GaussianBlur(image, (3, 3), 0)"
   ]
  },
  {
   "cell_type": "code",
   "execution_count": null,
   "metadata": {},
   "outputs": [],
   "source": [
    "plt.figure(figsize=(18,18))\n",
    "plt.imshow(gray, cmap=\"gray\")\n",
    "plt.axis('off')\n",
    "plt.show()"
   ]
  },
  {
   "cell_type": "markdown",
   "metadata": {},
   "source": [
    "### Previous work done by Ed"
   ]
  },
  {
   "cell_type": "code",
   "execution_count": null,
   "metadata": {
    "scrolled": false
   },
   "outputs": [],
   "source": [
    "##### get oriented for comparison\n",
    "\n",
    "img_inputs = []\n",
    "img_outputs = []\n",
    "file_inputs = []\n",
    "masks = []\n",
    "\n",
    "start, finish = (100,110)\n",
    "\n",
    "    \n",
    "\n",
    "# for i, file in enumerate(tqdm(files[start:finish])):\n",
    "for i, file in enumerate(tqdm(files[start:finish])):\n",
    "    infile = os.path.join(INPUT, file)\n",
    "    src = cv2.imread(infile, cv2.IMREAD_GRAYSCALE)\n",
    "    mask = fix_thionin(src, debug=True, bg_mask=True)\n",
    "    fixed = merge_fix(infile, mask)\n",
    "    img_inputs.append(src)    \n",
    "    file_inputs.append(file)        \n",
    "    masks.append(mask)\n",
    "    img_outputs.append(fixed)\n",
    "        \n",
    "\n",
    "fig, ax = plt.subplots(nrows=len(masks), ncols=3, sharex=False, sharey=False)\n",
    "plt.style.use('classic')\n",
    "i = 0\n",
    "for filein, fileout, mask, name in zip(img_inputs, img_outputs, masks, file_inputs):\n",
    "    ax[i,0].set_title('Original {}'.format(name))\n",
    "    ax[i,0].imshow(filein, cmap=\"gray\")\n",
    "    ax[i,1].set_title('fixed {}'.format(name))\n",
    "    ax[i,1].imshow(fileout, cmap=\"gray\")\n",
    "    ax[i,2].set_title('mask {}'.format(name))\n",
    "    ax[i,2].imshow(mask, cmap=\"gray\")\n",
    "\n",
    "    i += 1\n",
    "\n",
    "fig.set_size_inches(np.array([20, 6 * len(masks)]), forward=False)\n",
    "plt.tight_layout()\n",
    "plt.show()\n"
   ]
  }
 ],
 "metadata": {
  "kernelspec": {
   "display_name": "Python 3",
   "language": "python",
   "name": "python3"
  },
  "language_info": {
   "codemirror_mode": {
    "name": "ipython",
    "version": 3
   },
   "file_extension": ".py",
   "mimetype": "text/x-python",
   "name": "python",
   "nbconvert_exporter": "python",
   "pygments_lexer": "ipython3",
   "version": "3.8.5"
  }
 },
 "nbformat": 4,
 "nbformat_minor": 4
}
