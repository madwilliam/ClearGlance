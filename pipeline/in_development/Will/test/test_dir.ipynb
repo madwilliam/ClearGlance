{
 "cells": [
  {
   "cell_type": "code",
   "execution_count": 17,
   "metadata": {},
   "outputs": [],
   "source": [
    "animal='DK73'\n",
    "directory='/net/birdstore/Active_Atlas_Data/data_root/pipeline_data/DK73/preps/CH1/thumbnail_cleaned/'\n",
    "downsample=True \n",
    "same_size=False\n",
    "from Controllers.SqlController import SqlController\n",
    "import os\n",
    "SCALING_FACTOR = 0.03125\n",
    "from utilities.utilities_process import get_image_size\n",
    "import sys"
   ]
  },
  {
   "cell_type": "code",
   "execution_count": 18,
   "metadata": {},
   "outputs": [],
   "source": [
    "error = \"\"\n",
    "#thumbnail resolution ntb is 10400 and min size of DK52 is 16074\n",
    "#thumbnail resolution thion is 14464 and min size for MD585 is 21954\n",
    "# so 3000 is a good min size\n",
    "# min size on NTB is 8.8K\n",
    "starting_size = 3000\n",
    "min_size = starting_size * SCALING_FACTOR * 1000\n",
    "if downsample:\n",
    "    min_size = starting_size\n",
    "\n",
    "sqlController = SqlController(animal)\n",
    "section_count = sqlController.get_section_count(animal)\n",
    "try:\n",
    "    files = sorted(os.listdir(directory))\n",
    "except:\n",
    "    print(f'{directory} does not exist')\n",
    "    \n",
    "if section_count == 0:\n",
    "    section_count = len(files)\n",
    "widths = set()\n",
    "heights = set()\n",
    "for f in files:\n",
    "    filepath = os.path.join(directory, f)\n",
    "    width, height = get_image_size(filepath)\n",
    "    widths.add(int(width))\n",
    "    heights.add(int(height))\n",
    "    size = os.path.getsize(filepath)\n",
    "    if size < min_size:\n",
    "        error += f\"{size} is less than min: {min_size} {filepath} \\n\"\n",
    "# picked 100 as an arbitrary number. the min file count is usually around 380 or so\n",
    "if len(files) > 100:\n",
    "    min_width = min(widths)\n",
    "    max_width = max(widths)\n",
    "    min_height = min(heights)\n",
    "    max_height = max(heights)\n",
    "else:\n",
    "    min_width = 0\n",
    "    max_width = 0\n",
    "    min_height = 0\n",
    "    max_height = 0\n",
    "if section_count != len(files):\n",
    "    error += f\"Number of files in {directory} is incorrect.\\n\"\n",
    "if min_width != max_width and min_width > 0 and same_size:\n",
    "    error += f\"Widths are not of equal size, min is {min_width} and max is {max_width}.\\n\"\n",
    "if min_height != max_height and min_height > 0 and same_size:\n",
    "    error += f\"Heights are not of equal size, min is {min_height} and max is {max_height}.\\n\"\n",
    "if len(error) > 0:\n",
    "        print(error)\n",
    "        sys.exit()\n",
    "        "
   ]
  },
  {
   "cell_type": "code",
   "execution_count": 19,
   "metadata": {},
   "outputs": [
    {
     "data": {
      "text/plain": [
       "(1957, 1958)"
      ]
     },
     "execution_count": 19,
     "metadata": {},
     "output_type": "execute_result"
    }
   ],
   "source": [
    "min_width,max_width"
   ]
  },
  {
   "cell_type": "code",
   "execution_count": 16,
   "metadata": {},
   "outputs": [
    {
     "data": {
      "text/plain": [
       "21"
      ]
     },
     "execution_count": 16,
     "metadata": {},
     "output_type": "execute_result"
    }
   ],
   "source": [
    "import numpy as np\n",
    "np.sum(np.array(widths)==1957)"
   ]
  },
  {
   "cell_type": "code",
   "execution_count": 14,
   "metadata": {},
   "outputs": [],
   "source": [
    "widths = []\n",
    "heights = []\n",
    "for f in files:\n",
    "    filepath = os.path.join(directory, f)\n",
    "    width, height = get_image_size(filepath)\n",
    "    widths.append(int(width))\n",
    "    heights.append(int(height))"
   ]
  },
  {
   "cell_type": "code",
   "execution_count": 11,
   "metadata": {},
   "outputs": [
    {
     "data": {
      "text/plain": [
       "216"
      ]
     },
     "execution_count": 11,
     "metadata": {},
     "output_type": "execute_result"
    }
   ],
   "source": [
    "len(widths)"
   ]
  },
  {
   "cell_type": "code",
   "execution_count": null,
   "metadata": {},
   "outputs": [],
   "source": []
  }
 ],
 "metadata": {
  "interpreter": {
   "hash": "9b29855540defb355a50951874e4b3a9a33e036ed29af88ad65ef37e45f70f6e"
  },
  "kernelspec": {
   "display_name": "Python 3.8.10 ('pipeline')",
   "language": "python",
   "name": "python3"
  },
  "language_info": {
   "codemirror_mode": {
    "name": "ipython",
    "version": 3
   },
   "file_extension": ".py",
   "mimetype": "text/x-python",
   "name": "python",
   "nbconvert_exporter": "python",
   "pygments_lexer": "ipython3",
   "version": "3.6.9"
  },
  "orig_nbformat": 4
 },
 "nbformat": 4,
 "nbformat_minor": 2
}
