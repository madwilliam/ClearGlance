{
 "cells": [
  {
   "cell_type": "code",
   "execution_count": 2,
   "metadata": {},
   "outputs": [],
   "source": [
    "import os \n",
    "import sys\n",
    "sys.path.append(os.path.abspath('./../../..'))\n",
    "from lib.CZIManager import CZIManager"
   ]
  },
  {
   "cell_type": "code",
   "execution_count": 6,
   "metadata": {},
   "outputs": [
    {
     "data": {
      "text/plain": [
       "((36934, 24091), (36934, 24091))"
      ]
     },
     "execution_count": 6,
     "metadata": {},
     "output_type": "execute_result"
    }
   ],
   "source": [
    "czi = CZIManager('/net/birdstore/Active_Atlas_Data/data_root/pipeline_data/DK73/czi/DK73_slide056_2022_02_28_axion2-1.czi')\n",
    "d1 = czi.get_scene(scene_index=1, channel=1, scale=1)\n",
    "d2 = czi.get_scene(scene_index=1, channel=2, scale=1)\n",
    "d1.shape,d2.shape"
   ]
  },
  {
   "cell_type": "code",
   "execution_count": null,
   "metadata": {},
   "outputs": [],
   "source": [
    "from utilities.utilities_registration import (\n",
    "    register_simple,\n",
    "    parameters_to_rigid_transform,\n",
    "    rigid_transform_to_parmeters,\n",
    ")"
   ]
  },
  {
   "cell_type": "code",
   "execution_count": 10,
   "metadata": {},
   "outputs": [
    {
     "name": "stdout",
     "output_type": "stream",
     "text": [
      "0 Experiment {'Version': '1.1'} \n",
      "   \n",
      "1 HardwareSetting {} \n",
      "   \n",
      "2 CustomAttributes {} \n",
      "   \n",
      "3 Information {} \n",
      "   \n",
      "4 Scaling {} \n",
      "   \n",
      "5 DisplaySetting {} \n",
      "   \n",
      "6 Layers {} None\n",
      "7 AttachmentInfos {} \n",
      "   \n"
     ]
    }
   ],
   "source": [
    "second_transform_parameters, initial_transform_parameters = register_simple(\n",
    "    INPUT, fixed_index, moving_index, True\n",
    ")\n",
    "T1 = parameters_to_rigid_transform(*initial_transform_parameters)\n",
    "T2 = parameters_to_rigid_transform(*second_transform_parameters, center)\n",
    "T = T1 @ T2"
   ]
  },
  {
   "cell_type": "code",
   "execution_count": 1,
   "metadata": {},
   "outputs": [],
   "source": [
    "from Controllers.StructuresController import StructuresController\n",
    "controller  = StructuresController()\n"
   ]
  },
  {
   "cell_type": "code",
   "execution_count": 3,
   "metadata": {},
   "outputs": [
    {
     "data": {
      "text/plain": [
       "8"
      ]
     },
     "execution_count": 3,
     "metadata": {},
     "output_type": "execute_result"
    }
   ],
   "source": [
    "controller.structure_abbreviation_to_id('5N_L')"
   ]
  },
  {
   "cell_type": "code",
   "execution_count": null,
   "metadata": {},
   "outputs": [],
   "source": []
  }
 ],
 "metadata": {
  "interpreter": {
   "hash": "9b29855540defb355a50951874e4b3a9a33e036ed29af88ad65ef37e45f70f6e"
  },
  "kernelspec": {
   "display_name": "Python 3.8.10 ('pipeline')",
   "language": "python",
   "name": "python3"
  },
  "language_info": {
   "codemirror_mode": {
    "name": "ipython",
    "version": 3
   },
   "file_extension": ".py",
   "mimetype": "text/x-python",
   "name": "python",
   "nbconvert_exporter": "python",
   "pygments_lexer": "ipython3",
   "version": "3.6.9"
  },
  "orig_nbformat": 4
 },
 "nbformat": 4,
 "nbformat_minor": 2
}
