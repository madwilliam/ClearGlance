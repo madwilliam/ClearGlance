{
 "cells": [
  {
   "cell_type": "code",
   "execution_count": 1,
   "metadata": {},
   "outputs": [],
   "source": [
    "from aicspylibczi import CziFile"
   ]
  },
  {
   "cell_type": "code",
   "execution_count": 2,
   "metadata": {},
   "outputs": [],
   "source": [
    "volume_id = '9df3e7981321d6249c88fdada72a1230a76829bc'\n",
    "controller = UrlController()\n",
    "url = controller.get_urlModel(462)\n",
    "state_json = json.loads(url.url)\n",
    "layers = state_json['layers']\n",
    "for layeri in layers:\n",
    "    if layeri['type'] == 'annotation':\n",
    "        layer = AnnotationLayer(layeri)\n",
    "        volume = layer.get_annotation_with_id(volume_id)\n",
    "        if volume is not None:\n",
    "            break"
   ]
  },
  {
   "cell_type": "code",
   "execution_count": 3,
   "metadata": {},
   "outputs": [
    {
     "data": {
      "text/plain": [
       "<pipeline.lib.annotation_layer.Volume at 0x7fe160077c40>"
      ]
     },
     "execution_count": 3,
     "metadata": {},
     "output_type": "execute_result"
    }
   ],
   "source": [
    "volume"
   ]
  },
  {
   "cell_type": "code",
   "execution_count": null,
   "metadata": {},
   "outputs": [],
   "source": [
    "animal = 'test'\n",
    "vmaker = VolumeMaker(animal,check_path = False)\n",
    "structure,contours = volume.get_volume_name_and_contours()\n",
    "vmaker.set_aligned_contours({structure:contours})\n",
    "vmaker.compute_COMs_origins_and_volumes()\n",
    "res = vmaker.get_resolution()\n",
    "segment_properties = vmaker.get_segment_properties(structures_to_include=[structure])\n",
    "folder_name = f'{animal}_{structure}'\n",
    "output_dir = os.path.join(vmaker.path.segmentation_layer,folder_name)\n",
    "maker = NgConverter(volume = vmaker.volumes[structure].astype(np.uint8),scales = [res*1000,res*1000,20000],offset=list(vmaker.origins[structure]))\n",
    "maker.create_neuroglancer_files(output_dir,segment_properties)"
   ]
  }
 ],
 "metadata": {
  "interpreter": {
   "hash": "97e209aa8511c3356558c5b4441d0fe17ed27fc557fbfde94b259769985fb2e3"
  },
  "kernelspec": {
   "display_name": "Python 3.8.10 ('pipeline')",
   "language": "python",
   "name": "python3"
  },
  "language_info": {
   "codemirror_mode": {
    "name": "ipython",
    "version": 3
   },
   "file_extension": ".py",
   "mimetype": "text/x-python",
   "name": "python",
   "nbconvert_exporter": "python",
   "pygments_lexer": "ipython3",
   "version": "3.8.10"
  },
  "orig_nbformat": 4
 },
 "nbformat": 4,
 "nbformat_minor": 2
}
