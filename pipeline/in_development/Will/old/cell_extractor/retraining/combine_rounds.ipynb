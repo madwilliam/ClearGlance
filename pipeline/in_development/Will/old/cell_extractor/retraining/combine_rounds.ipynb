{
 "cells": [
  {
   "cell_type": "code",
   "execution_count": 12,
   "metadata": {},
   "outputs": [],
   "source": [
    "import sys\n",
    "sys.path.append('/home/zhw272/programming/pipeline_utility/in_development/Will')\n",
    "sys.path.append('/home/zhw272/programming/pipeline_utility/src')\n",
    "from cell_extractor.CellDetectorTrainer import CellDetectorTrainer\n",
    "from cell_extractor.AnnotationProximityTool import DetectorMetricsDK55\n",
    "import pandas as pd\n",
    "import os"
   ]
  },
  {
   "cell_type": "code",
   "execution_count": 6,
   "metadata": {},
   "outputs": [
    {
     "name": "stdout",
     "output_type": "stream",
     "text": [
      "{'eta': 0.3, 'objective': 'binary:logistic', 'nthread': 7}\n"
     ]
    },
    {
     "data": {
      "text/plain": [
       "['detector_round_2_threshold_2300.pkl',\n",
       " 'detector_round_2_threshold_2200.pkl',\n",
       " 'detector_round_2_threshold_2100.pkl',\n",
       " 'detector_round_2.pkl',\n",
       " 'detector_round_2_threshold_2000.pkl',\n",
       " 'detector_round_1.pkl',\n",
       " 'detector_round_2_threshold_2700.pkl']"
      ]
     },
     "execution_count": 6,
     "metadata": {},
     "output_type": "execute_result"
    }
   ],
   "source": [
    "trainer = CellDetectorTrainer('DK55',round=2,segmentation_threshold=2300)\n",
    "trainer.list_detectors()"
   ]
  },
  {
   "cell_type": "code",
   "execution_count": 7,
   "metadata": {},
   "outputs": [
    {
     "name": "stdout",
     "output_type": "stream",
     "text": [
      "{'eta': 0.3, 'objective': 'binary:logistic', 'nthread': 7}\n",
      "{'eta': 0.3, 'objective': 'binary:logistic', 'nthread': 7}\n",
      "{'eta': 0.3, 'objective': 'binary:logistic', 'nthread': 7}\n",
      "{'eta': 0.3, 'objective': 'binary:logistic', 'nthread': 7}\n",
      "{'eta': 0.3, 'objective': 'binary:logistic', 'nthread': 7}\n"
     ]
    }
   ],
   "source": [
    "all_detections = []\n",
    "for threshold in [2000,2100,2200,2300,2700]:\n",
    "    trainer = CellDetectorTrainer('DK55',round=2,segmentation_threshold=threshold)\n",
    "    detections = trainer.load_detections()\n",
    "    detections = detections[['row','col','section','predictions']]\n",
    "    detections['name'] = str(threshold)\n",
    "    all_detections.append(detections)\n",
    "all_detections = pd.concat(all_detections)"
   ]
  },
  {
   "cell_type": "code",
   "execution_count": 8,
   "metadata": {},
   "outputs": [],
   "source": [
    "sures = all_detections[all_detections.predictions==2]\n",
    "unsures = all_detections[all_detections.predictions==0]"
   ]
  },
  {
   "cell_type": "code",
   "execution_count": 12,
   "metadata": {},
   "outputs": [
    {
     "name": "stdout",
     "output_type": "stream",
     "text": [
      "calculating distance matrix\n",
      "finding points that are close to each other\n",
      "grouping and labeling points that are close to each other\n",
      "before removing duplicates 1486\n",
      "after removing duplicates 553\n"
     ]
    }
   ],
   "source": [
    "util = AnnotationProximityTool()\n",
    "util.set_annotations_to_compare(unsures)\n",
    "util.find_equivalent_points()\n",
    "pair_id = [pair[0] for pair in util.pairs.values()]\n",
    "unsure_cells = util.annotations_to_compare.iloc[pair_id]"
   ]
  },
  {
   "cell_type": "code",
   "execution_count": 14,
   "metadata": {},
   "outputs": [],
   "source": [
    "sures = sures.drop('predictions',axis=1)\n",
    "unsures = unsures.drop('predictions',axis=1)\n",
    "sures.columns = ['x','y','section','name']\n",
    "unsures.columns = ['x','y','section','name']"
   ]
  },
  {
   "cell_type": "code",
   "execution_count": 20,
   "metadata": {},
   "outputs": [
    {
     "data": {
      "text/html": [
       "<div>\n",
       "<style scoped>\n",
       "    .dataframe tbody tr th:only-of-type {\n",
       "        vertical-align: middle;\n",
       "    }\n",
       "\n",
       "    .dataframe tbody tr th {\n",
       "        vertical-align: top;\n",
       "    }\n",
       "\n",
       "    .dataframe thead th {\n",
       "        text-align: right;\n",
       "    }\n",
       "</style>\n",
       "<table border=\"1\" class=\"dataframe\">\n",
       "  <thead>\n",
       "    <tr style=\"text-align: right;\">\n",
       "      <th></th>\n",
       "      <th>x</th>\n",
       "      <th>y</th>\n",
       "      <th>section</th>\n",
       "      <th>name</th>\n",
       "    </tr>\n",
       "  </thead>\n",
       "  <tbody>\n",
       "    <tr>\n",
       "      <th>0</th>\n",
       "      <td>18851</td>\n",
       "      <td>37633</td>\n",
       "      <td>132</td>\n",
       "      <td>2000</td>\n",
       "    </tr>\n",
       "    <tr>\n",
       "      <th>1</th>\n",
       "      <td>17423</td>\n",
       "      <td>38133</td>\n",
       "      <td>145</td>\n",
       "      <td>2000</td>\n",
       "    </tr>\n",
       "    <tr>\n",
       "      <th>2</th>\n",
       "      <td>17638</td>\n",
       "      <td>37839</td>\n",
       "      <td>145</td>\n",
       "      <td>2000</td>\n",
       "    </tr>\n",
       "    <tr>\n",
       "      <th>3</th>\n",
       "      <td>17708</td>\n",
       "      <td>37725</td>\n",
       "      <td>145</td>\n",
       "      <td>2000</td>\n",
       "    </tr>\n",
       "    <tr>\n",
       "      <th>4</th>\n",
       "      <td>17794</td>\n",
       "      <td>37634</td>\n",
       "      <td>145</td>\n",
       "      <td>2000</td>\n",
       "    </tr>\n",
       "  </tbody>\n",
       "</table>\n",
       "</div>"
      ],
      "text/plain": [
       "       x      y  section  name\n",
       "0  18851  37633      132  2000\n",
       "1  17423  38133      145  2000\n",
       "2  17638  37839      145  2000\n",
       "3  17708  37725      145  2000\n",
       "4  17794  37634      145  2000"
      ]
     },
     "execution_count": 20,
     "metadata": {},
     "output_type": "execute_result"
    }
   ],
   "source": [
    "sure_cells.head()"
   ]
  },
  {
   "cell_type": "code",
   "execution_count": 30,
   "metadata": {},
   "outputs": [],
   "source": [
    "mec = DetectorMetricsDK55('DK55',round =1)\n",
    "qc_annotation_input_path = '/home/zhw272/programming/pipeline_utility/in_development/yoav/marked_cell_detector/data2/'\n",
    "sure_cells = sure_cells.drop('prediction',axis=1)\n",
    "unsure_cells = unsure_cells.drop('prediction',axis=1)\n",
    "sure_cells.to_csv(qc_annotation_input_path+'multi-threshold_cell_detection(round3)sure.csv',header=False, index=False)\n",
    "unsure_cells.to_csv(qc_annotation_input_path+'multi-threshold_cell_detection(round3)unsure.csv',header=False, index=False)"
   ]
  },
  {
   "cell_type": "code",
   "execution_count": 32,
   "metadata": {},
   "outputs": [],
   "source": [
    "mec = DetectorMetricsDK55('DK55',round =1,sure_file_name = 'multi-threshold_cell_detection(round3)sure.csv',unsure_file_name='multi-threshold_cell_detection(round3)unsure.csv')\n",
    "mec.qc_annotation_input_path = '/home/zhw272/programming/pipeline_utility/in_development/yoav/marked_cell_detector/data2/'"
   ]
  },
  {
   "cell_type": "code",
   "execution_count": 33,
   "metadata": {},
   "outputs": [],
   "source": [
    "a = mec.load_human_qc()\n",
    "b = mec.load_machine_detection()"
   ]
  },
  {
   "cell_type": "code",
   "execution_count": 36,
   "metadata": {},
   "outputs": [
    {
     "name": "stdout",
     "output_type": "stream",
     "text": [
      "calculating distance matrix\n",
      "finding points that are close to each other\n",
      "grouping and labeling points that are close to each other\n",
      "before removing duplicates 16462\n",
      "after removing duplicates 16035\n",
      "computer missed, human detected\n",
      "705\n",
      "computer sure, human negative\n",
      "0\n",
      "computer  UNsure, human negative\n",
      "0\n",
      "computer UNsure, human positive\n",
      "0\n",
      "Total computer UNsure\n",
      "552\n",
      "computer UNsure, human unmarked\n",
      "362\n",
      "computer sure, human unmarked\n",
      "12548\n",
      "More than 2 labels\n",
      "6\n",
      "Computer Detected, Human Missed\n",
      "12548\n",
      "total train\n",
      "1905\n",
      "Human mind change\n",
      "32\n",
      "original training set after mind change\n",
      "1873\n"
     ]
    }
   ],
   "source": [
    "mec.load_annotations_to_compare()\n",
    "mec.calculate_qualification()"
   ]
  },
  {
   "cell_type": "code",
   "execution_count": 24,
   "metadata": {},
   "outputs": [
    {
     "data": {
      "text/html": [
       "<div>\n",
       "<style scoped>\n",
       "    .dataframe tbody tr th:only-of-type {\n",
       "        vertical-align: middle;\n",
       "    }\n",
       "\n",
       "    .dataframe tbody tr th {\n",
       "        vertical-align: top;\n",
       "    }\n",
       "\n",
       "    .dataframe thead th {\n",
       "        text-align: right;\n",
       "    }\n",
       "</style>\n",
       "<table border=\"1\" class=\"dataframe\">\n",
       "  <thead>\n",
       "    <tr style=\"text-align: right;\">\n",
       "      <th></th>\n",
       "      <th>0</th>\n",
       "      <th>1</th>\n",
       "      <th>2</th>\n",
       "      <th>name</th>\n",
       "      <th>3</th>\n",
       "      <th>4</th>\n",
       "    </tr>\n",
       "  </thead>\n",
       "  <tbody>\n",
       "    <tr>\n",
       "      <th>0</th>\n",
       "      <td>36418.769231</td>\n",
       "      <td>19700.2</td>\n",
       "      <td>124</td>\n",
       "      <td>manual_train</td>\n",
       "      <td>NaN</td>\n",
       "      <td>NaN</td>\n",
       "    </tr>\n",
       "    <tr>\n",
       "      <th>1</th>\n",
       "      <td>36386.153846</td>\n",
       "      <td>19514.8</td>\n",
       "      <td>124</td>\n",
       "      <td>manual_train</td>\n",
       "      <td>NaN</td>\n",
       "      <td>NaN</td>\n",
       "    </tr>\n",
       "    <tr>\n",
       "      <th>2</th>\n",
       "      <td>41504.615385</td>\n",
       "      <td>14066.1</td>\n",
       "      <td>128</td>\n",
       "      <td>manual_train</td>\n",
       "      <td>NaN</td>\n",
       "      <td>NaN</td>\n",
       "    </tr>\n",
       "    <tr>\n",
       "      <th>3</th>\n",
       "      <td>41209.846154</td>\n",
       "      <td>14259.3</td>\n",
       "      <td>136</td>\n",
       "      <td>manual_train</td>\n",
       "      <td>NaN</td>\n",
       "      <td>NaN</td>\n",
       "    </tr>\n",
       "    <tr>\n",
       "      <th>4</th>\n",
       "      <td>41190.769231</td>\n",
       "      <td>14322.1</td>\n",
       "      <td>136</td>\n",
       "      <td>manual_train</td>\n",
       "      <td>NaN</td>\n",
       "      <td>NaN</td>\n",
       "    </tr>\n",
       "    <tr>\n",
       "      <th>...</th>\n",
       "      <td>...</td>\n",
       "      <td>...</td>\n",
       "      <td>...</td>\n",
       "      <td>...</td>\n",
       "      <td>...</td>\n",
       "      <td>...</td>\n",
       "    </tr>\n",
       "    <tr>\n",
       "      <th>549</th>\n",
       "      <td>12391.000000</td>\n",
       "      <td>14217</td>\n",
       "      <td>14082</td>\n",
       "      <td>computer_unsure</td>\n",
       "      <td>201</td>\n",
       "      <td>0</td>\n",
       "    </tr>\n",
       "    <tr>\n",
       "      <th>550</th>\n",
       "      <td>12449.000000</td>\n",
       "      <td>20817</td>\n",
       "      <td>40885</td>\n",
       "      <td>computer_unsure</td>\n",
       "      <td>201</td>\n",
       "      <td>0</td>\n",
       "    </tr>\n",
       "    <tr>\n",
       "      <th>551</th>\n",
       "      <td>12564.000000</td>\n",
       "      <td>11163</td>\n",
       "      <td>30752</td>\n",
       "      <td>computer_unsure</td>\n",
       "      <td>175</td>\n",
       "      <td>0</td>\n",
       "    </tr>\n",
       "    <tr>\n",
       "      <th>552</th>\n",
       "      <td>12569.000000</td>\n",
       "      <td>17097</td>\n",
       "      <td>37947</td>\n",
       "      <td>computer_unsure</td>\n",
       "      <td>175</td>\n",
       "      <td>0</td>\n",
       "    </tr>\n",
       "    <tr>\n",
       "      <th>553</th>\n",
       "      <td>12779.000000</td>\n",
       "      <td>22905</td>\n",
       "      <td>48806</td>\n",
       "      <td>computer_unsure</td>\n",
       "      <td>191</td>\n",
       "      <td>0</td>\n",
       "    </tr>\n",
       "  </tbody>\n",
       "</table>\n",
       "<p>16464 rows × 6 columns</p>\n",
       "</div>"
      ],
      "text/plain": [
       "                0        1      2             name    3    4\n",
       "0    36418.769231  19700.2    124     manual_train  NaN  NaN\n",
       "1    36386.153846  19514.8    124     manual_train  NaN  NaN\n",
       "2    41504.615385  14066.1    128     manual_train  NaN  NaN\n",
       "3    41209.846154  14259.3    136     manual_train  NaN  NaN\n",
       "4    41190.769231  14322.1    136     manual_train  NaN  NaN\n",
       "..            ...      ...    ...              ...  ...  ...\n",
       "549  12391.000000    14217  14082  computer_unsure  201    0\n",
       "550  12449.000000    20817  40885  computer_unsure  201    0\n",
       "551  12564.000000    11163  30752  computer_unsure  175    0\n",
       "552  12569.000000    17097  37947  computer_unsure  175    0\n",
       "553  12779.000000    22905  48806  computer_unsure  191    0\n",
       "\n",
       "[16464 rows x 6 columns]"
      ]
     },
     "execution_count": 24,
     "metadata": {},
     "output_type": "execute_result"
    }
   ],
   "source": [
    "mec.annotations_to_compare"
   ]
  },
  {
   "cell_type": "code",
   "execution_count": null,
   "metadata": {},
   "outputs": [],
   "source": [
    "\"util = AnnotationProximityTool()\\n\",\n",
    "\"util.set_annotations_to_compare(unsures)\\n\",\n",
    "\"util.find_equivalent_points()\\n\",\n",
    "\"pair_id = [pair[0] for pair in util.pairs.values()]\\n\",\n",
    "\"unsure_cells = util.annotations_to_compare.iloc[pair_id]\""
   ]
  }
 ],
 "metadata": {
  "interpreter": {
   "hash": "97e209aa8511c3356558c5b4441d0fe17ed27fc557fbfde94b259769985fb2e3"
  },
  "kernelspec": {
   "display_name": "Python 3.6.9 64-bit ('pipeline': venv)",
   "language": "python",
   "name": "python3"
  },
  "language_info": {
   "codemirror_mode": {
    "name": "ipython",
    "version": 3
   },
   "file_extension": ".py",
   "mimetype": "text/x-python",
   "name": "python",
   "nbconvert_exporter": "python",
   "pygments_lexer": "ipython3",
   "version": "3.6.9"
  },
  "orig_nbformat": 4
 },
 "nbformat": 4,
 "nbformat_minor": 2
}
