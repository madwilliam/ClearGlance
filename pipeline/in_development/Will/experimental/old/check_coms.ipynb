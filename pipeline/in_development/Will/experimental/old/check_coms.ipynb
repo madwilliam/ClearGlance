{
 "cells": [
  {
   "cell_type": "code",
   "execution_count": 11,
   "metadata": {},
   "outputs": [],
   "source": [
    "import sys\n",
    "sys.path.append('/home/zhw272/programming/pipeline_utility')\n",
    "sys.path.append('/home/zhw272/programming/pipeline_utility/src')\n",
    "from sql_setup import session\n",
    "from model.center_of_mass import CenterOfMass\n",
    "from toolbox.IOs.LoadComPickle import LoadComPickle\n",
    "from toolbox.IOs.LoadComDatabase import LoadComDatabase\n",
    "from toolbox.IOs.TransformCom import TransformCom\n",
    "import numpy as np\n",
    "from lib.comparison_tools import compare_lists\n",
    "getcomp = LoadComPickle()\n",
    "gettc = TransformCom(getcomp)\n",
    "getcomd = LoadComDatabase()"
   ]
  },
  {
   "cell_type": "code",
   "execution_count": 2,
   "metadata": {},
   "outputs": [],
   "source": [
    "import notebooks.Will.experimental.old.get_coms_from_pickle as getcomp\n",
    "import notebooks.Will.experimental.old.get_transformed_coms as gettc"
   ]
  },
  {
   "cell_type": "code",
   "execution_count": 6,
   "metadata": {},
   "outputs": [],
   "source": [
    "def query_brain_coms(brain, person_id=28, input_type_id=4,factor = np.array([0.325,0.325,20])):\n",
    "    # default: person is bili, input_type is aligned\n",
    "    rows = session.query(CenterOfMass)\\\n",
    "        .filter(CenterOfMass.active.is_(True))\\\n",
    "        .filter(CenterOfMass.prep_id == brain)\\\n",
    "        .filter(CenterOfMass.person_id == person_id)\\\n",
    "        .filter(CenterOfMass.input_type_id == input_type_id)\\\n",
    "        .all()\n",
    "    row_dict = {}\n",
    "    for row in rows:\n",
    "        structure = row.structure.abbreviation\n",
    "        row_dict[structure] = np.array([row.x, row.y, row.section])*factor\n",
    "    return row_dict"
   ]
  },
  {
   "cell_type": "code",
   "execution_count": 7,
   "metadata": {},
   "outputs": [],
   "source": [
    "\n",
    "def check_dict(d1:dict,d2:dict,verbose = True):\n",
    "    if (d1.keys()==d2.keys()):\n",
    "        bools = []\n",
    "        for keyi in d1.keys():\n",
    "            equal = np.all(np.isclose(d1[keyi],d2[keyi],atol = 1))\n",
    "            if not equal and verbose:\n",
    "                # print('nonequal entry:')\n",
    "                print(keyi,d1[keyi],d2[keyi])\n",
    "            bools.append(equal)\n",
    "            \n",
    "    else:\n",
    "        print('unequal keys')\n",
    "        compare_lists(list(d1.keys()),list(d2.keys()))\n",
    "        bools = None\n",
    "    return np.all(bools)"
   ]
  },
  {
   "cell_type": "code",
   "execution_count": 8,
   "metadata": {},
   "outputs": [
    {
     "data": {
      "text/plain": [
       "True"
      ]
     },
     "execution_count": 8,
     "metadata": {},
     "output_type": "execute_result"
    }
   ],
   "source": [
    "#compare atlas\n",
    "a1 = getcomp.get_atlas_com()\n",
    "a2 = getcomd.get_atlas_com()\n",
    "check_dict(a1,a2) "
   ]
  },
  {
   "cell_type": "code",
   "execution_count": 11,
   "metadata": {},
   "outputs": [
    {
     "name": "stdout",
     "output_type": "stream",
     "text": [
      "DK39 True\n",
      "DK41 True\n",
      "DK43 True\n",
      "DK54 True\n",
      "DK55 True\n",
      "DK52 True\n"
     ]
    }
   ],
   "source": [
    "#compare com save vs database corrected beth\n",
    "prep_list = getcomp.get_prep_list()\n",
    "for prepi in prep_list:\n",
    "    d1 = getcomp.get_corrected_prepi_com(prepi)\n",
    "    d2 = getcomd.get_corrected_prepi_com(prepi)\n",
    "    print(prepi,check_dict(d1,d2) )"
   ]
  },
  {
   "cell_type": "code",
   "execution_count": 12,
   "metadata": {},
   "outputs": [
    {
     "name": "stdout",
     "output_type": "stream",
     "text": [
      "unequal keys\n",
      "in l2 not l1\n",
      "{'IC', '12N'}\n",
      "DK39 None\n",
      "DK41 True\n",
      "DK43 True\n",
      "unequal keys\n",
      "in l2 not l1\n",
      "{'IC', 'SC'}\n",
      "DK54 None\n",
      "unequal keys\n",
      "in l1 not l2\n",
      "{'3N_R', 'Tz_L', 'Tz_R', 'LRt_R', '3N_L', '7N_L', 'Pn_R', '10N_R', 'LC_R', '5N_L', '6N_L', '10N_L', 'Amb_R', '7N_R', 'LRt_L', 'Amb_L', '5N_R', 'DC_R', '6N_R', 'LC_L', 'DC_L', 'Pn_L'}\n",
      "DK55 None\n",
      "unequal keys\n",
      "in l2 not l1\n",
      "{'Amb_R', 'Sp5C_R', 'VCP_L', 'Pn_R', 'VCP_R', 'VLL_L', 'Sp5C_L', 'VLL_R', 'Pn_L'}\n",
      "DK52 None\n"
     ]
    }
   ],
   "source": [
    "#compare com save vs database beth\n",
    "prep_list = getcomp.get_prep_list()\n",
    "for prepi in prep_list:\n",
    "    d1 = getcomp.get_prepi_com(prepi)\n",
    "    d2 = getcomd.get_prepi_com(prepi)\n",
    "    print(prepi,check_dict(d1,d2) )"
   ]
  },
  {
   "cell_type": "code",
   "execution_count": 13,
   "metadata": {},
   "outputs": [
    {
     "name": "stdout",
     "output_type": "stream",
     "text": [
      "DK39 True\n",
      "DK41 True\n",
      "DK43 True\n",
      "DK54 True\n",
      "DK55 True\n",
      "DK52 True\n"
     ]
    }
   ],
   "source": [
    "#compare com Com table(old) vs save beth\n",
    "prep_list = getcomp.get_prep_list()\n",
    "for prepi in prep_list:\n",
    "    d1 = getcomp.get_prepi_com(prepi)\n",
    "    d2 = query_brain_coms(prepi, person_id=2, input_type_id=1)\n",
    "    print(prepi,check_dict(d1,d2) )"
   ]
  },
  {
   "cell_type": "code",
   "execution_count": 14,
   "metadata": {},
   "outputs": [
    {
     "name": "stdout",
     "output_type": "stream",
     "text": [
      "DK39 True\n",
      "DK41 True\n",
      "nonequal entry:\n",
      "6N_R [12704.575  6462.17   4840.   ] [12704.575   245.05   4840.   ]\n",
      "DK43 False\n",
      "DK54 True\n",
      "DK52 True\n"
     ]
    }
   ],
   "source": [
    "#compare com Com table(old) vs save corrected beth\n",
    "prep_list = getcomp.get_prep_list()\n",
    "prep_list.remove('DK55')\n",
    "for prepi in prep_list:\n",
    "    d1 = getcomp.get_corrected_prepi_com(prepi)\n",
    "    d2 = query_brain_coms(prepi, person_id=2, input_type_id=2)\n",
    "    print(prepi,check_dict(d1,d2) )\n"
   ]
  },
  {
   "cell_type": "code",
   "execution_count": 12,
   "metadata": {},
   "outputs": [
    {
     "name": "stdout",
     "output_type": "stream",
     "text": [
      "reflection detected\n",
      "reflection detected\n",
      "reflection detected\n",
      "reflection detected\n",
      "reflection detected\n"
     ]
    }
   ],
   "source": [
    "beth_aligned = gettc.get_beth_coms_aligned_to_atlas()"
   ]
  },
  {
   "cell_type": "code",
   "execution_count": 13,
   "metadata": {},
   "outputs": [
    {
     "name": "stdout",
     "output_type": "stream",
     "text": [
      "10N_L [5929.91051017 5098.8992364  2796.22026953] [6793.02 5220.86 2619.38]\n",
      "10N_R [5960.90059205 5111.40146603 3134.83131441] [6849.63 5243.03 3238.28]\n",
      "3N_L [4352.55493209 6025.47219634 2862.0352299 ] [3795.6  3755.17 2865.02]\n",
      "3N_R [4396.17026673 6006.83238879 3002.52464011] [3878.3  3803.6  3118.52]\n",
      "5N_L [4779.15198056 5231.97663809 2214.91144875] [4674.73 5047.04 1573.48]\n",
      "5N_R [4767.35943527 5342.21807337 3723.28973533] [4646.53 5066.49 4337.5 ]\n",
      "6N_L [5056.34119387 5181.61095113 2785.22227831] [5189.64 5184.43 2606.72]\n",
      "6N_R [5054.58771518 5221.78189158 3168.45601992] [5183.13 5167.11 3310.74]\n",
      "7N_L [5032.90847752 4562.62252114 2405.98091105] [5226.76 6257.44 1826.1 ]\n",
      "7N_R [5023.63347241 4671.34976562 3708.83127324] [5202.28 6249.57 4215.46]\n",
      "DC_L [5317.04419318 5398.91612112 1766.85275681] [5630.83  4607.78   784.142]\n",
      "DC_R [5177.15384402 5518.6281616  4225.32701406] [5372.83 4764.39 5279.84]\n",
      "LC_L [5145.21600585 5597.27019355 2488.01656415] [5295.15 4374.39 2125.82]\n",
      "LC_R [5057.85672648 5710.38987803 3373.34554372] [5125.58 4308.46 3754.72]\n",
      "Pn_L [4012.63374422 4854.93336806 2777.37007288] [3330.24 5914.86 2539.64]\n",
      "Pn_R [4018.5978311  4871.206101   3456.00699721] [3342.51 5982.67 3778.44]\n",
      "Tz_L [4526.09151431 4589.3130701  2766.35477384] [4301.26 6328.06 2483.86]\n",
      "Tz_R [4522.15836498 4626.02357803 3344.42315679] [4292.25 6345.5  3542.34]\n",
      "DK39 False\n",
      "10N_L [5750.13956072 5971.10175375 2823.42341873] [6810.15 5136.76 2682.88]\n",
      "10N_R [5817.75378905 5972.59203188 3112.41552846] [6908.06 5223.08 3224.36]\n",
      "3N_L [3970.53249853 5506.86929377 2927.30896219] [3647.73 3754.71 2883.14]\n",
      "3N_R [3980.89297238 5524.10361678 3024.28678561] [3681.88 3744.69 3065.56]\n",
      "5N_L [4822.75534374 5275.1908279  2315.14054879] [4640.93  5065.86  1716.412]\n",
      "5N_R [4776.44035564 5348.9440561  3696.51110971] [4642.11 4950.71 4311.4 ]\n",
      "6N_L [5059.05221006 5452.27286423 2800.45888819] [5189.16 5096.46 2630.28]\n",
      "6N_R [5050.76503019 5456.10260321 3157.85997626] [5177.17 5093.42 3301.1 ]\n",
      "7N_L [5499.24626349 4960.87995625 2377.13992828] [5271.21 6317.47 1813.92]\n",
      "7N_R [5491.8774949  5057.3081106  3679.20618934] [5357.06 6211.48 4260.42]\n",
      "DC_L [5133.14636152 5970.17479199 1895.54728611] [5911.22  4388.92   949.192]\n",
      "DC_R [5144.51442616 5919.35139725 4153.339505  ] [5842.13 4554.31 5183.7 ]\n",
      "LC_L [4763.84884082 5778.16521122 2524.88366364] [5136.52 4263.84 2127.88]\n",
      "LC_R [4763.14937711 5769.76952207 3439.22706522] [5114.9  4306.7  3843.22]\n",
      "LRt_L [6132.10091712 5222.73094236 2782.84820462] [6503.09 6681.6  2576.58]\n",
      "LRt_R [6130.07524806 5246.12972219 3237.14545521] [6521.93 6660.35 3429.82]\n",
      "Pn_L [4602.65534253 4417.92475587 2684.39367781] [3315.55 6085.05 2382.54]\n",
      "Pn_R [4627.15164928 4454.92483141 3341.68686464] [3386.87 6081.56 3616.82]\n",
      "Tz_L [5215.60184326 4605.4743721  2734.80322235] [4435.91 6523.3  2476.24]\n",
      "Tz_R [5162.45127543 4648.09493907 3292.37371984] [4400.57 6417.82 3524.52]\n",
      "DK41 False\n",
      "10N_L [5927.4295091  5881.46749039 2881.97877895] [6203.48 5477.82 2872.34]\n",
      "10N_R [5901.01089561 5881.73795105 3199.97780387] [6177.38 5474.96 3231.3 ]\n",
      "3N_L [3971.09259013 5663.63611449 2936.75150649] [4197.16 4529.47 2963.6 ]\n",
      "3N_R [3959.22816569 5624.56380151 3068.35663561] [4162.23 4565.31 3110.74]\n",
      "5N_L [4765.25505591 5317.63250857 2225.4255913 ] [4755.99 5302.66 2134.02]\n",
      "5N_R [4736.26078365 5307.50232117 3813.77403236] [4717.6  5360.42 3924.5 ]\n",
      "6N_L [5091.00174195 5413.52056392 2829.29171901] [5123.65 5428.58 2811.92]\n",
      "7N_L [5442.99487423 4912.63358522 2254.95943282] [5166.02 6093.84 2139.56]\n",
      "7N_R [5417.39531179 4895.67875167 3688.95819387] [5127.28 6153.82 3755.76]\n",
      "DC_L [5169.28462265 5966.92934464 1873.73392574] [5529.66  4905.15  1753.538]\n",
      "DC_R [5186.99453156 5924.1559568  4184.55453345] [5514.64 5051.56 4356.26]\n",
      "LC_L [4848.54087202 5815.23593782 2529.97837268] [5130.09 4887.45 2493.84]\n",
      "LC_R [4821.93043948 5768.88709587 3411.54772717] [5074.54 4952.32 3486.3 ]\n",
      "LRt_L [6226.00408827 5320.94063327 2203.51465711] [6159.53 6164.31 2081.48]\n",
      "LRt_R [6299.28895572 5226.3797188  3701.94920144] [6169.46 6359.95 3765.58]\n",
      "Pn_L [4400.28380719 4485.30272521 2647.44354645] [3911.07 5901.69 2586.34]\n",
      "Pn_R [4348.41806064 4474.96334811 3283.55880204] [3853.35 5906.99 3303.96]\n",
      "Tz_L [4945.24980713 4545.5911623  2718.91449104] [4469.48 6169.8  2658.66]\n",
      "Tz_R [4990.76733379 4559.94004644 3275.42928039] [4520.06 6205.88 3285.58]\n",
      "6N_R [5445.7193535  5571.40654276 3269.90176822] [5931.51 1666.12 3284.74]\n",
      "DK43 False\n",
      "10N_L [5472.27580496 6040.11216519 2878.40733595] [6818.55 5122.06 2707.42]\n",
      "10N_R [5445.71531738 6022.85201857 3134.83467071] [6778.5  5069.89 3195.08]\n",
      "3N_L [3875.64666641 4794.64834061 2952.30462308] [3183.92 3837.81 2887.78]\n",
      "3N_R [3880.13949335 4770.04510546 3114.5514404 ] [3158.64 3852.93 3199.04]\n",
      "4N_L [4213.21575191 5358.40551917 2931.86680991] [4432.91 3801.35 2808.42]\n",
      "4N_R [4222.29665226 5332.64273247 3171.53046762] [4415.01 3816.74 3267.2 ]\n",
      "5N_L [4819.48757011 5115.35370578 2282.36130248] [4630.96 5090.57 1635.27]\n",
      "5N_R [4890.02357278 5054.26421076 3671.52735559] [4686.89 5117.82 4286.16]\n",
      "6N_L [5055.75294411 5331.93742413 2822.24368764] [5252.59 5188.63 2652.02]\n",
      "6N_R [5024.86953194 5300.46809794 3183.14372638] [5191.43 5132.98 3339.5 ]\n",
      "7N_L [5533.05990374 5015.49657898 2367.24308738] [5211.6   6326.04  1848.868]\n",
      "7N_R [5591.51712487 4994.60279049 3652.56768654] [5313.35 6303.78 4297.4 ]\n",
      "DC_L [4947.02726183 5857.87835252 2016.60720994] [5935.27 4560.61 1058.32]\n",
      "DC_R [4980.21022726 5727.18865341 4081.0387911 ] [5880.67 4527.44 4997.86]\n",
      "LC_L [4616.43770221 5627.02816717 2613.94866841] [5259.89 4204.79 2199.  ]\n",
      "LC_R [4645.95529398 5551.18947075 3429.63476504] [5216.5  4242.79 3759.12]\n",
      "LRt_L [6049.35505308 5431.56591925 2746.02517121] [6431.72 6684.63 2554.46]\n",
      "LRt_R [5985.2570431  5406.70866529 3200.85254937] [6352.39 6559.   3417.82]\n",
      "Pn_L [4964.50887249 4329.6393168  2617.27216948] [3542.51 6093.69 2364.16]\n",
      "Pn_R [4946.39086394 4254.65522741 3216.72963445] [3438.78 6077.67 3510.44]\n",
      "Tz_L [5339.20062892 4586.55848046 2681.33999694] [4343.62 6422.69 2480.34]\n",
      "Tz_R [5384.62751941 4576.94465739 3233.96885035] [4407.28 6446.25 3534.34]\n",
      "DK54 False\n",
      "unequal keys\n",
      "in l1 not l2\n",
      "{'LC_R', '10N_L', 'Tz_L', '10N_R', 'Tz_R', 'DC_R', '5N_L', 'Pn_L', '7N_R', 'LC_L', 'Pn_R', 'Amb_L', 'Amb_R', '6N_R', '5N_R', 'LRt_R', '7N_L', 'LRt_L', '3N_L', '6N_L', '3N_R', 'DC_L'}\n",
      "DK55 None\n"
     ]
    }
   ],
   "source": [
    "#compare com Com table(old) vs save corrected beth\n",
    "prep_list = getcomp.get_prep_list()\n",
    "prep_list.remove('DK52')\n",
    "id = 0\n",
    "for prepi in prep_list:\n",
    "    d1 = beth_aligned[id]\n",
    "    d2 = query_brain_coms(prepi, person_id=28, input_type_id=2,factor = np.array([10,10,20]))\n",
    "    print(prepi,check_dict(d1,d2,verbose = True) )\n",
    "    id+=1"
   ]
  },
  {
   "cell_type": "code",
   "execution_count": null,
   "metadata": {},
   "outputs": [],
   "source": []
  }
 ],
 "metadata": {
  "interpreter": {
   "hash": "2bd29f7b10431261d8beeb897d602198a8ccc2be7cc6f93af9f327223ffe0508"
  },
  "kernelspec": {
   "display_name": "Python 3.6.9 64-bit ('pipeline': venv)",
   "name": "python3"
  },
  "language_info": {
   "codemirror_mode": {
    "name": "ipython",
    "version": 3
   },
   "file_extension": ".py",
   "mimetype": "text/x-python",
   "name": "python",
   "nbconvert_exporter": "python",
   "pygments_lexer": "ipython3",
   "version": "3.6.9"
  },
  "orig_nbformat": 4
 },
 "nbformat": 4,
 "nbformat_minor": 2
}
