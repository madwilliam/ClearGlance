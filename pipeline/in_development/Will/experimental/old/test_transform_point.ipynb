{
 "cells": [
  {
   "cell_type": "code",
   "execution_count": 1,
   "metadata": {},
   "outputs": [],
   "source": [
    "from bdb import Breakpoint\n",
    "import sys\n",
    "sys.path.append('/home/zhw272/programming/pipeline_utility')\n",
    "from toolbox.IOs.get_calculated_transforms import get_affine_transform\n",
    "import numpy as np"
   ]
  },
  {
   "cell_type": "markdown",
   "metadata": {},
   "source": [
    "T(x)=A(x−c)+t+c"
   ]
  },
  {
   "cell_type": "code",
   "execution_count": 2,
   "metadata": {},
   "outputs": [
    {
     "name": "stdout",
     "output_type": "stream",
     "text": [
      "[0.53800265 0.38363165 0.59334809]\n"
     ]
    }
   ],
   "source": [
    "affine_transform = get_affine_transform('DK39')\n",
    "point = np.random.rand(3)\n",
    "print(point)"
   ]
  },
  {
   "cell_type": "code",
   "execution_count": 3,
   "metadata": {},
   "outputs": [
    {
     "name": "stdout",
     "output_type": "stream",
     "text": [
      "[-111.59948594 1954.03342143 1566.73306025] (-111.59948594398273, 1954.0334214258733, 1566.7330602492384)\n"
     ]
    }
   ],
   "source": [
    "transformed_point = affine_transform.TransformPoint(point)\n",
    "transform = affine_transform.Downcast()\n",
    "A = np.array(list(transform.GetMatrix())).reshape(3,3)\n",
    "c = transform.GetCenter()\n",
    "t = transform.GetTranslation()\n",
    "manually_transformed_point = A@(point-c)+t+c\n",
    "print(manually_transformed_point,transformed_point)"
   ]
  },
  {
   "cell_type": "code",
   "execution_count": null,
   "metadata": {},
   "outputs": [],
   "source": []
  }
 ],
 "metadata": {
  "interpreter": {
   "hash": "2bd29f7b10431261d8beeb897d602198a8ccc2be7cc6f93af9f327223ffe0508"
  },
  "kernelspec": {
   "display_name": "Python 3.6.9 64-bit ('pipeline': venv)",
   "name": "python3"
  },
  "language_info": {
   "name": "python",
   "version": ""
  },
  "orig_nbformat": 4
 },
 "nbformat": 4,
 "nbformat_minor": 2
}