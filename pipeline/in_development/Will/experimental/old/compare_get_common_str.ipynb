{
 "cells": [
  {
   "cell_type": "code",
   "execution_count": 19,
   "metadata": {},
   "outputs": [],
   "source": [
    "import sys\n",
    "sys.path.append('/home/zhw272/programming/pipeline_utility/')\n",
    "from sql_setup import session\n",
    "from model.center_of_mass import CenterOfMass\n",
    "import numpy as np\n",
    "from toolbox.IOs.get_landmark_lists import get_all_landmarks_in_specimens,get_list_of_landmarks_in_prep\n",
    "import notebooks.Will.experimental.get_transformed_coms as gettc"
   ]
  },
  {
   "cell_type": "code",
   "execution_count": 16,
   "metadata": {},
   "outputs": [],
   "source": [
    "def compare_lists(l1,l2):\n",
    "    print('in l1 not l2')\n",
    "    print(set(l1)-set(l2))\n",
    "    print('in l2 not l1')\n",
    "    print(set(l2)-set(l1))"
   ]
  },
  {
   "cell_type": "code",
   "execution_count": 25,
   "metadata": {},
   "outputs": [],
   "source": [
    "def query_brain_coms(brain, person_id=28, input_type_id=4):\n",
    "    # default: person is bili, input_type is aligned\n",
    "    rows = session.query(CenterOfMass)\\\n",
    "        .filter(CenterOfMass.active.is_(True))\\\n",
    "        .filter(CenterOfMass.prep_id == brain)\\\n",
    "        .filter(CenterOfMass.person_id == person_id)\\\n",
    "        .filter(CenterOfMass.input_type_id == input_type_id)\\\n",
    "        .all()\n",
    "    row_dict = {}\n",
    "    for row in rows:\n",
    "        structure = row.structure.abbreviation\n",
    "        row_dict[structure] = np.array([row.x, row.y, row.section])\n",
    "    return row_dict"
   ]
  },
  {
   "cell_type": "code",
   "execution_count": 7,
   "metadata": {},
   "outputs": [
    {
     "name": "stdout",
     "output_type": "stream",
     "text": [
      "['10N_L', '10N_R', '3N_L', '3N_R', '4N_L', '4N_R', '5N_L', '5N_R', '6N_L', '6N_R', '7N_L', '7N_R', 'DC_L', 'DC_R', 'LC_L', 'LC_R', 'LRt_L', 'LRt_R', 'Pn_L', 'Pn_R', 'SC', 'Tz_L', 'Tz_R']\n"
     ]
    }
   ],
   "source": [
    "brains_to_extract_common_structures = ['DK39', 'DK41', 'DK43', 'DK54', 'DK55']\n",
    "common_structures = set()\n",
    "for brain in brains_to_extract_common_structures:\n",
    "    common_structures = common_structures | set(query_brain_coms(brain).keys())\n",
    "common_structures = list(sorted(common_structures))\n",
    "print(common_structures)\n",
    "\n"
   ]
  },
  {
   "cell_type": "code",
   "execution_count": 10,
   "metadata": {},
   "outputs": [],
   "source": [
    "cs_will = get_all_landmarks_in_specimens(brains_to_extract_common_structures)"
   ]
  },
  {
   "cell_type": "code",
   "execution_count": 17,
   "metadata": {},
   "outputs": [
    {
     "name": "stdout",
     "output_type": "stream",
     "text": [
      "in l1 not l2\n",
      "{'SC'}\n",
      "in l2 not l1\n",
      "{'Amb_R', 'Amb_L'}\n"
     ]
    }
   ],
   "source": [
    "compare_lists(common_structures,cs_will)"
   ]
  },
  {
   "cell_type": "code",
   "execution_count": 24,
   "metadata": {},
   "outputs": [
    {
     "name": "stdout",
     "output_type": "stream",
     "text": [
      "DK54\n",
      "1\n"
     ]
    }
   ],
   "source": [
    "counter = 0\n",
    "for prepi in brains_to_extract_common_structures:\n",
    "    lm_will = get_list_of_landmarks_in_prep(prepi)\n",
    "    if '4N_L' in lm_will:\n",
    "        print(prepi)\n",
    "        counter+=1\n",
    "print(counter)"
   ]
  },
  {
   "cell_type": "code",
   "execution_count": 30,
   "metadata": {},
   "outputs": [
    {
     "data": {
      "text/plain": [
       "True"
      ]
     },
     "execution_count": 30,
     "metadata": {},
     "output_type": "execute_result"
    }
   ],
   "source": [
    "'4N_L' in query_brain_coms('DK52',input_type_id = 2)"
   ]
  },
  {
   "cell_type": "code",
   "execution_count": 29,
   "metadata": {},
   "outputs": [
    {
     "name": "stdout",
     "output_type": "stream",
     "text": [
      "DK54\n",
      "1\n"
     ]
    }
   ],
   "source": [
    "counter = 0\n",
    "for prepi in brains_to_extract_common_structures:\n",
    "    lm_bill = query_brain_coms(prepi,input_type_id = 2).keys()\n",
    "    if '4N_L' in lm_bill:\n",
    "        print(prepi)\n",
    "        counter+=1\n",
    "print(counter)"
   ]
  },
  {
   "cell_type": "code",
   "execution_count": 20,
   "metadata": {},
   "outputs": [
    {
     "name": "stdout",
     "output_type": "stream",
     "text": [
      "DK39\n",
      "in l1 not l2\n",
      "{'SC'}\n",
      "in l2 not l1\n",
      "set()\n",
      "DK41\n",
      "in l1 not l2\n",
      "set()\n",
      "in l2 not l1\n",
      "set()\n",
      "DK43\n",
      "in l1 not l2\n",
      "set()\n",
      "in l2 not l1\n",
      "set()\n",
      "DK54\n",
      "in l1 not l2\n",
      "set()\n",
      "in l2 not l1\n",
      "set()\n",
      "DK55\n",
      "in l1 not l2\n",
      "set()\n",
      "in l2 not l1\n",
      "{'Amb_R', 'Amb_L'}\n"
     ]
    }
   ],
   "source": [
    "for prepi in brains_to_extract_common_structures:\n",
    "    lm_bill = query_brain_coms(prepi).keys()\n",
    "    lm_will = get_list_of_landmarks_in_prep(prepi)\n",
    "    print(prepi)\n",
    "    compare_lists(lm_bill,lm_will)"
   ]
  },
  {
   "cell_type": "code",
   "execution_count": null,
   "metadata": {},
   "outputs": [],
   "source": []
  }
 ],
 "metadata": {
  "interpreter": {
   "hash": "2bd29f7b10431261d8beeb897d602198a8ccc2be7cc6f93af9f327223ffe0508"
  },
  "kernelspec": {
   "display_name": "Python 3.6.9 64-bit ('pipeline': venv)",
   "name": "python3"
  },
  "language_info": {
   "codemirror_mode": {
    "name": "ipython",
    "version": 3
   },
   "file_extension": ".py",
   "mimetype": "text/x-python",
   "name": "python",
   "nbconvert_exporter": "python",
   "pygments_lexer": "ipython3",
   "version": "3.6.9"
  },
  "orig_nbformat": 4
 },
 "nbformat": 4,
 "nbformat_minor": 2
}