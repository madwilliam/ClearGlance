{
 "cells": [
  {
   "cell_type": "code",
   "execution_count": 1,
   "metadata": {},
   "outputs": [],
   "source": [
    "import numpy as np\n",
    "import matplotlib.pyplot as plt\n",
    "from time import time"
   ]
  },
  {
   "cell_type": "code",
   "execution_count": 2,
   "metadata": {},
   "outputs": [],
   "source": [
    "def create_circular_mask(h, w, center=None, radius=None):\n",
    "\n",
    "    if center is None: # use the middle of the image\n",
    "        center = (int(w/2), int(h/2))\n",
    "    if radius is None: # use the smallest distance between the center and image walls\n",
    "        radius = min(center[0], center[1], w-center[0], h-center[1])\n",
    "\n",
    "    Y, X = np.ogrid[:h, :w]\n",
    "    dist_from_center = np.sqrt((X - center[0])**2 + (Y-center[1])**2)\n",
    "\n",
    "    mask = dist_from_center <= radius\n",
    "    return mask"
   ]
  },
  {
   "cell_type": "code",
   "execution_count": 3,
   "metadata": {},
   "outputs": [
    {
     "data": {
      "text/plain": [
       "<matplotlib.image.AxesImage at 0x7f51bf8fc430>"
      ]
     },
     "execution_count": 3,
     "metadata": {},
     "output_type": "execute_result"
    },
    {
     "data": {
      "image/png": "[encoded data removed]",
      "text/plain": [
       "<Figure size 432x288 with 1 Axes>"
      ]
     },
     "metadata": {
      "needs_background": "light"
     },
     "output_type": "display_data"
    }
   ],
   "source": [
    "mask = create_circular_mask(10000,10000)\n",
    "mask[:,4000:6000] = False\n",
    "mask[4000:6000:] = False\n",
    "plt.imshow(mask)"
   ]
  },
  {
   "cell_type": "code",
   "execution_count": 4,
   "metadata": {},
   "outputs": [],
   "source": [
    "def huffman_encoding(mask):\n",
    "    line_width = len(mask[0])\n",
    "    compressed_mask = []\n",
    "    boolean_to_string = lambda x: 'T' if x else 'F'\n",
    "    for linei in mask:\n",
    "        compressed_line = ''\n",
    "        starting_character = linei[0]\n",
    "        point_of_change = np.where(linei[:-1] != linei[1:])[0] + 1\n",
    "        point_of_change[1:] = point_of_change[1:]-point_of_change[:-1]\n",
    "        compressed_line+=boolean_to_string(starting_character)\n",
    "        for change in point_of_change:\n",
    "            starting_character = not starting_character\n",
    "            compressed_line+=str(change)\n",
    "            compressed_line+=boolean_to_string(starting_character)\n",
    "        compressed_line+=str(line_width-sum(point_of_change))\n",
    "        compressed_mask.append(compressed_line)\n",
    "    return compressed_mask\n",
    "    \n",
    "def huffman_decompression(compressed_mask):\n",
    "    string_to_bool = lambda x: True if x=='T' else False\n",
    "    def get_numbers_of_repetition(line):\n",
    "        numbers = line.split('T')\n",
    "        return [int(j) for i in numbers for j in i.split('F') if j != '']\n",
    "    mask = []\n",
    "    for linei in compressed_mask:\n",
    "        starting_state = string_to_bool(linei[0])\n",
    "        reps = get_numbers_of_repetition(linei)\n",
    "        line = []\n",
    "        for rep in reps:\n",
    "            line+= [starting_state]*rep\n",
    "            starting_state = not starting_state\n",
    "        mask.append(line)\n",
    "    return np.array(mask)\n"
   ]
  },
  {
   "cell_type": "code",
   "execution_count": 6,
   "metadata": {},
   "outputs": [
    {
     "data": {
      "text/plain": [
       "<matplotlib.image.AxesImage at 0x7f51b776cd30>"
      ]
     },
     "execution_count": 6,
     "metadata": {},
     "output_type": "execute_result"
    },
    {
     "data": {
      "image/png": "[encoded data removed]",
      "text/plain": [
       "<Figure size 432x288 with 1 Axes>"
      ]
     },
     "metadata": {
      "needs_background": "light"
     },
     "output_type": "display_data"
    }
   ],
   "source": [
    "plt.imshow(mask_decompressed)"
   ]
  },
  {
   "cell_type": "code",
   "execution_count": 5,
   "metadata": {},
   "outputs": [
    {
     "name": "stdout",
     "output_type": "stream",
     "text": [
      "compression took 0.228623628616333 s\n",
      "decompression took 6.227658033370972 s\n"
     ]
    }
   ],
   "source": [
    "t = time()\n",
    "compressed_mask = huffman_encoding(mask)\n",
    "t1 = time()\n",
    "print(f'compression took {t1-t} s')\n",
    "mask_decompressed = huffman_decompression(compressed_mask)\n",
    "print(f'decompression took {time()-t1} s')"
   ]
  },
  {
   "cell_type": "code",
   "execution_count": 7,
   "metadata": {},
   "outputs": [],
   "source": [
    "assert np.all(mask == mask_decompressed)"
   ]
  },
  {
   "cell_type": "code",
   "execution_count": null,
   "metadata": {},
   "outputs": [],
   "source": []
  },
  {
   "cell_type": "code",
   "execution_count": null,
   "metadata": {},
   "outputs": [],
   "source": []
  }
 ],
 "metadata": {
  "interpreter": {
   "hash": "9b29855540defb355a50951874e4b3a9a33e036ed29af88ad65ef37e45f70f6e"
  },
  "kernelspec": {
   "display_name": "Python 3.8.10 ('pipeline')",
   "language": "python",
   "name": "python3"
  },
  "language_info": {
   "codemirror_mode": {
    "name": "ipython",
    "version": 3
   },
   "file_extension": ".py",
   "mimetype": "text/x-python",
   "name": "python",
   "nbconvert_exporter": "python",
   "pygments_lexer": "ipython3",
   "version": "3.8.10"
  },
  "orig_nbformat": 4
 },
 "nbformat": 4,
 "nbformat_minor": 2
}
