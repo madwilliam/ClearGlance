{
 "cells": [
  {
   "cell_type": "code",
   "execution_count": 1,
   "metadata": {},
   "outputs": [],
   "source": [
    "import sys\n",
    "sys.path.append('/scratch/programming/pipeline_utility/in_development/Will')\n",
    "from toolbox.rough_alignment.rough_alignment_affine import get_rough_alignment_affine_transform\n",
    "import SimpleITK as sitk"
   ]
  },
  {
   "cell_type": "code",
   "execution_count": 2,
   "id": "3432d126",
   "metadata": {},
   "outputs": [
    {
     "name": "stdout",
     "output_type": "stream",
     "text": [
      "aligning brain DK52 to brain DK46\n",
      "loading image\n",
      "aligning image center\n",
      "finding affine tranformation\n",
      "starting optimization\n",
      "iteration: 10 -0.291412\n",
      "iteration: 20 -0.300739\n",
      "iteration: 30 -0.311032\n",
      "iteration: 40 -0.319814\n",
      "iteration: 50 -0.331801\n",
      "iteration: 60 -0.343512\n",
      "iteration: 70 -0.350698\n",
      "iteration: 80 -0.354272\n",
      "iteration: 90 -0.358591\n",
      "iteration: 100 -0.362922\n",
      "switching to higher resolution\n",
      "iteration: 10 -0.364239\n"
     ]
    },
    {
     "ename": "KeyboardInterrupt",
     "evalue": "",
     "output_type": "error",
     "traceback": [
      "\u001b[0;31m---------------------------------------------------------------------------\u001b[0m",
      "\u001b[0;31mKeyboardInterrupt\u001b[0m                         Traceback (most recent call last)",
      "\u001b[0;32m/scratch/programming/pipeline_utility/in_development/Will/toolbox/rough_alignment/sitk/registration_method_util.py\u001b[0m in \u001b[0;36m<lambda>\u001b[0;34m()\u001b[0m\n\u001b[1;32m     47\u001b[0m     \"\"\"\n\u001b[1;32m     48\u001b[0m     \u001b[0mregistration_method\u001b[0m\u001b[0;34m.\u001b[0m\u001b[0mAddCommand\u001b[0m\u001b[0;34m(\u001b[0m\u001b[0msitk\u001b[0m\u001b[0;34m.\u001b[0m\u001b[0msitkStartEvent\u001b[0m\u001b[0;34m,\u001b[0m \u001b[0mstart_optimization\u001b[0m\u001b[0;34m)\u001b[0m\u001b[0;34m\u001b[0m\u001b[0;34m\u001b[0m\u001b[0m\n\u001b[0;32m---> 49\u001b[0;31m     \u001b[0mregistration_method\u001b[0m\u001b[0;34m.\u001b[0m\u001b[0mAddCommand\u001b[0m\u001b[0;34m(\u001b[0m\u001b[0msitk\u001b[0m\u001b[0;34m.\u001b[0m\u001b[0msitkIterationEvent\u001b[0m\u001b[0;34m,\u001b[0m \u001b[0;32mlambda\u001b[0m\u001b[0;34m:\u001b[0m \u001b[0mprint_values\u001b[0m\u001b[0;34m(\u001b[0m\u001b[0mregistration_method\u001b[0m\u001b[0;34m)\u001b[0m\u001b[0;34m)\u001b[0m\u001b[0;34m\u001b[0m\u001b[0;34m\u001b[0m\u001b[0m\n\u001b[0m\u001b[1;32m     50\u001b[0m     \u001b[0mregistration_method\u001b[0m\u001b[0;34m.\u001b[0m\u001b[0mAddCommand\u001b[0m\u001b[0;34m(\u001b[0m\u001b[0msitk\u001b[0m\u001b[0;34m.\u001b[0m\u001b[0msitkMultiResolutionIterationEvent\u001b[0m\u001b[0;34m,\u001b[0m \u001b[0mreport_multi_resolution_events\u001b[0m\u001b[0;34m)\u001b[0m\u001b[0;34m\u001b[0m\u001b[0;34m\u001b[0m\u001b[0m\n",
      "\u001b[0;31mKeyboardInterrupt\u001b[0m: "
     ]
    },
    {
     "ename": "RuntimeError",
     "evalue": "Exception thrown in SimpleITK ImageRegistrationMethod_Execute: /usr/local/share/pipeline/lib/python3.6/site-packages/SimpleElastix/Wrapping/Python/sitkPyCommand.cxx:135:\nsitk::ERROR: There was an error executing the Python Callable.",
     "output_type": "error",
     "traceback": [
      "\u001b[0;31m---------------------------------------------------------------------------\u001b[0m",
      "\u001b[0;31mRuntimeError\u001b[0m                              Traceback (most recent call last)",
      "\u001b[0;32m<ipython-input-2-cedaa3e1743c>\u001b[0m in \u001b[0;36m<module>\u001b[0;34m\u001b[0m\n\u001b[0;32m----> 1\u001b[0;31m \u001b[0mtransformi\u001b[0m \u001b[0;34m=\u001b[0m \u001b[0mget_rough_alignment_affine_transform\u001b[0m\u001b[0;34m(\u001b[0m\u001b[0mfixed_brain\u001b[0m \u001b[0;34m=\u001b[0m \u001b[0;34m'DK46'\u001b[0m\u001b[0;34m)\u001b[0m\u001b[0;34m\u001b[0m\u001b[0;34m\u001b[0m\u001b[0m\n\u001b[0m",
      "\u001b[0;32m/scratch/programming/pipeline_utility/in_development/Will/toolbox/rough_alignment/rough_alignment_affine.py\u001b[0m in \u001b[0;36mget_rough_alignment_affine_transform\u001b[0;34m(moving_brain, fixed_brain)\u001b[0m\n\u001b[1;32m     19\u001b[0m     \u001b[0mtransform\u001b[0m \u001b[0;34m=\u001b[0m \u001b[0mget_initial_transform_to_align_image_centers\u001b[0m\u001b[0;34m(\u001b[0m\u001b[0mfixed_image\u001b[0m\u001b[0;34m,\u001b[0m \u001b[0mmoving_image\u001b[0m\u001b[0;34m)\u001b[0m\u001b[0;34m\u001b[0m\u001b[0;34m\u001b[0m\u001b[0m\n\u001b[1;32m     20\u001b[0m     \u001b[0mprint\u001b[0m\u001b[0;34m(\u001b[0m\u001b[0;34m'finding affine tranformation'\u001b[0m\u001b[0;34m)\u001b[0m\u001b[0;34m\u001b[0m\u001b[0;34m\u001b[0m\u001b[0m\n\u001b[0;32m---> 21\u001b[0;31m     \u001b[0mtransform\u001b[0m \u001b[0;34m=\u001b[0m \u001b[0mget_affine_transform\u001b[0m\u001b[0;34m(\u001b[0m\u001b[0mfixed_image\u001b[0m\u001b[0;34m,\u001b[0m \u001b[0mmoving_image\u001b[0m\u001b[0;34m,\u001b[0m \u001b[0mtransform\u001b[0m\u001b[0;34m)\u001b[0m\u001b[0;34m\u001b[0m\u001b[0;34m\u001b[0m\u001b[0m\n\u001b[0m\u001b[1;32m     22\u001b[0m     \u001b[0mprint\u001b[0m\u001b[0;34m(\u001b[0m\u001b[0mtransform\u001b[0m\u001b[0;34m)\u001b[0m\u001b[0;34m\u001b[0m\u001b[0;34m\u001b[0m\u001b[0m\n\u001b[1;32m     23\u001b[0m     \u001b[0;32mreturn\u001b[0m \u001b[0mtransform\u001b[0m\u001b[0;34m\u001b[0m\u001b[0;34m\u001b[0m\u001b[0m\n",
      "\u001b[0;32m/scratch/programming/pipeline_utility/in_development/Will/toolbox/rough_alignment/sitk/get_registeration_method_affine.py\u001b[0m in \u001b[0;36mget_affine_transform\u001b[0;34m(fixed_image, moving_image, transform)\u001b[0m\n\u001b[1;32m     18\u001b[0m     \u001b[0mregutil\u001b[0m\u001b[0;34m.\u001b[0m\u001b[0mset_multi_resolution_parameters\u001b[0m\u001b[0;34m(\u001b[0m\u001b[0mregistration_method\u001b[0m\u001b[0;34m)\u001b[0m\u001b[0;34m\u001b[0m\u001b[0;34m\u001b[0m\u001b[0m\n\u001b[1;32m     19\u001b[0m     \u001b[0mregutil\u001b[0m\u001b[0;34m.\u001b[0m\u001b[0mset_report_events\u001b[0m\u001b[0;34m(\u001b[0m\u001b[0mregistration_method\u001b[0m\u001b[0;34m)\u001b[0m\u001b[0;34m\u001b[0m\u001b[0;34m\u001b[0m\u001b[0m\n\u001b[0;32m---> 20\u001b[0;31m     \u001b[0mregistration_method\u001b[0m\u001b[0;34m.\u001b[0m\u001b[0mExecute\u001b[0m\u001b[0;34m(\u001b[0m\u001b[0mfixed_image\u001b[0m\u001b[0;34m,\u001b[0m \u001b[0mmoving_image\u001b[0m\u001b[0;34m)\u001b[0m\u001b[0;34m\u001b[0m\u001b[0;34m\u001b[0m\u001b[0m\n\u001b[0m\u001b[1;32m     21\u001b[0m     \u001b[0;32mreturn\u001b[0m \u001b[0mtransform\u001b[0m\u001b[0;34m\u001b[0m\u001b[0;34m\u001b[0m\u001b[0m\n\u001b[1;32m     22\u001b[0m \u001b[0;34m\u001b[0m\u001b[0m\n",
      "\u001b[0;32m/usr/local/share/pipeline/lib/python3.6/site-packages/SimpleElastix/build/SimpleITK-build/Wrapping/Python/SimpleITK.py\u001b[0m in \u001b[0;36mExecute\u001b[0;34m(self, fixed, moving)\u001b[0m\n\u001b[1;32m  12265\u001b[0m \u001b[0;34m\u001b[0m\u001b[0m\n\u001b[1;32m  12266\u001b[0m         \"\"\"\n\u001b[0;32m> 12267\u001b[0;31m         \u001b[0;32mreturn\u001b[0m \u001b[0m_SimpleITK\u001b[0m\u001b[0;34m.\u001b[0m\u001b[0mImageRegistrationMethod_Execute\u001b[0m\u001b[0;34m(\u001b[0m\u001b[0mself\u001b[0m\u001b[0;34m,\u001b[0m \u001b[0mfixed\u001b[0m\u001b[0;34m,\u001b[0m \u001b[0mmoving\u001b[0m\u001b[0;34m)\u001b[0m\u001b[0;34m\u001b[0m\u001b[0;34m\u001b[0m\u001b[0m\n\u001b[0m\u001b[1;32m  12268\u001b[0m \u001b[0;34m\u001b[0m\u001b[0m\n\u001b[1;32m  12269\u001b[0m \u001b[0;34m\u001b[0m\u001b[0m\n",
      "\u001b[0;31mRuntimeError\u001b[0m: Exception thrown in SimpleITK ImageRegistrationMethod_Execute: /usr/local/share/pipeline/lib/python3.6/site-packages/SimpleElastix/Wrapping/Python/sitkPyCommand.cxx:135:\nsitk::ERROR: There was an error executing the Python Callable."
     ]
    }
   ],
   "source": [
    "import sys\n",
    "sys.path.append('/scratch/programming/pipeline_utility/in_development/Will')\n",
    "from toolbox.rough_alignment.rough_alignment_affine import get_rough_alignment_affine_transform\n",
    "import SimpleITK as sitk\n",
    "braini = 'DK46'\n",
    "save_path = ...\n",
    "transformi = get_rough_alignment_affine_transform(fixed_brain = braini)\n",
    "sitk.WriteTransform(transformi, save_path+'/affine/'+braini+'_affine.tfm')"
   ]
  },
  {
   "cell_type": "code",
   "execution_count": 4,
   "id": "162cee62",
   "metadata": {},
   "outputs": [
    {
     "name": "stdout",
     "output_type": "stream",
     "text": [
      "aligning brain DK52 to brain DK46\n",
      "loading image\n",
      "aligning image center\n",
      "finding affine tranformation\n",
      "starting optimization\n",
      "iteration: 10 -0.292464\n",
      "iteration: 20 -0.305997\n",
      "iteration: 30 -0.318736\n",
      "iteration: 40 -0.332291\n",
      "iteration: 50 -0.344610\n",
      "iteration: 60 -0.357300\n",
      "iteration: 70 -0.363153\n",
      "iteration: 80 -0.369184\n",
      "iteration: 90 -0.373597\n",
      "iteration: 100 -0.377951\n",
      "switching to higher resolution\n",
      "iteration: 10 -0.380275\n",
      "iteration: 20 -0.382889\n",
      "iteration: 30 -0.386249\n",
      "iteration: 40 -0.389027\n",
      "iteration: 50 -0.391088\n",
      "iteration: 60 -0.393771\n",
      "iteration: 70 -0.396518\n",
      "iteration: 80 -0.398202\n",
      "iteration: 90 -0.398661\n",
      "iteration: 100 -0.399121\n",
      "switching to higher resolution\n"
     ]
    }
   ],
   "source": [
    "list_of_brains_to_align = ['DK46', 'DK61', 'DK62', 'DK63']\n",
    "save_path = '/net/birdstore/Active_Atlas_Data/data_root/tfm'\n",
    "for braini in list_of_brains_to_align:\n",
    "    transformi = get_rough_alignment_affine_transform(fixed_brain = 'DK46')\n",
    "    sitk.WriteTransform(transformi, save_path+'/affine/'+braini+'_affine.tfm')"
   ]
  },
  {
   "cell_type": "code",
   "execution_count": null,
   "metadata": {},
   "outputs": [],
   "source": []
  }
 ],
 "metadata": {
  "interpreter": {
   "hash": "97e209aa8511c3356558c5b4441d0fe17ed27fc557fbfde94b259769985fb2e3"
  },
  "kernelspec": {
   "display_name": "Python 3.8.10 64-bit ('pipeline': venv)",
   "name": "python3"
  },
  "language_info": {
   "codemirror_mode": {
    "name": "ipython",
    "version": 3
   },
   "file_extension": ".py",
   "mimetype": "text/x-python",
   "name": "python",
   "nbconvert_exporter": "python",
   "pygments_lexer": "ipython3",
   "version": "3.6.9"
  }
 },
 "nbformat": 4,
 "nbformat_minor": 5
}
