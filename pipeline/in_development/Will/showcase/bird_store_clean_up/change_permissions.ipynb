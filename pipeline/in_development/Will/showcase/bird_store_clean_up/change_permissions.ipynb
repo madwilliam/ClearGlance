{
 "cells": [
  {
   "cell_type": "code",
   "execution_count": 8,
   "metadata": {},
   "outputs": [],
   "source": [
    "import os\n",
    "import subprocess\n",
    "dir = '/net/birdstore/Active_Atlas_Data/data_root/pipeline_data/'\n",
    "animals = os.listdir(dir)"
   ]
  },
  {
   "cell_type": "code",
   "execution_count": 9,
   "metadata": {},
   "outputs": [],
   "source": [
    "import os\n",
    "import subprocess\n",
    "dir = '/net/birdstore/Active_Atlas_Data/data_root/pipeline_data/'\n",
    "animals = os.listdir(dir)\n",
    "for animali in animals:\n",
    "    path = dir+animali\n",
    "    folders = os.listdir(path)\n",
    "    for folderi in folders:\n",
    "        if folderi in ['histogram','www','neuroglancer_data']:\n",
    "            subprocess.Popen([\"sudo\", \"chmod\", \"0775\", os.path.join(path,folderi)], stdout=subprocess.PIPE, shell=True)\n",
    "        else:\n",
    "            subprocess.Popen([\"sudo\", \"chmod\", \"0770\", os.path.join(path,folderi)], stdout=subprocess.PIPE, shell=True)"
   ]
  },
  {
   "cell_type": "code",
   "execution_count": 27,
   "metadata": {},
   "outputs": [
    {
     "data": {
      "text/plain": [
       "'/net/birdstore/Active_Atlas_Data/data_root/pipeline_data/DK30/roi'"
      ]
     },
     "execution_count": 27,
     "metadata": {},
     "output_type": "execute_result"
    }
   ],
   "source": [
    "os.path.join(path,'roi')"
   ]
  },
  {
   "cell_type": "code",
   "execution_count": 41,
   "metadata": {},
   "outputs": [],
   "source": [
    "p = subprocess.run([\"sudo\", \"chmod\", \"0770\", os.path.join(path[:-2]+'37','czi')], shell=True,capture_output=True)\n"
   ]
  },
  {
   "cell_type": "code",
   "execution_count": 44,
   "metadata": {},
   "outputs": [
    {
     "name": "stdout",
     "output_type": "stream",
     "text": [
      "b'usage: sudo -h | -K | -k | -V\\nusage: sudo -v [-AknS] [-g group] [-h host] [-p prompt] [-u user]\\nusage: sudo -l [-AknS] [-g group] [-h host] [-p prompt] [-U user] [-u user]\\n            [command]\\nusage: sudo [-AbEHknPS] [-r role] [-t type] [-C num] [-g group] [-h host] [-p\\n            prompt] [-T timeout] [-u user] [VAR=value] [-i|-s] [<command>]\\nusage: sudo -e [-AknS] [-r role] [-t type] [-C num] [-g group] [-h host] [-p\\n            prompt] [-T timeout] [-u user] file ...\\n'\n"
     ]
    }
   ],
   "source": [
    "print(p.stderr)"
   ]
  },
  {
   "cell_type": "code",
   "execution_count": 45,
   "metadata": {},
   "outputs": [
    {
     "data": {
      "text/plain": [
       "'sudo chmod 0770 /net/birdstore/Active_Atlas_Data/data_root/pipeline_data/DK37/czi'"
      ]
     },
     "execution_count": 45,
     "metadata": {},
     "output_type": "execute_result"
    }
   ],
   "source": [
    "' '.join([\"sudo\", \"chmod\", \"0770\", os.path.join(path[:-2]+'37','czi')])"
   ]
  },
  {
   "cell_type": "code",
   "execution_count": 34,
   "metadata": {},
   "outputs": [
    {
     "ename": "AttributeError",
     "evalue": "'NoneType' object has no attribute 'read'",
     "output_type": "error",
     "traceback": [
      "\u001b[0;31m---------------------------------------------------------------------------\u001b[0m",
      "\u001b[0;31mAttributeError\u001b[0m                            Traceback (most recent call last)",
      "\u001b[0;32m<ipython-input-34-1404f4b51698>\u001b[0m in \u001b[0;36m<module>\u001b[0;34m\u001b[0m\n\u001b[0;32m----> 1\u001b[0;31m \u001b[0mp\u001b[0m\u001b[0;34m.\u001b[0m\u001b[0mstdout\u001b[0m\u001b[0;34m.\u001b[0m\u001b[0mread\u001b[0m\u001b[0;34m(\u001b[0m\u001b[0;34m)\u001b[0m\u001b[0;34m\u001b[0m\u001b[0;34m\u001b[0m\u001b[0m\n\u001b[0m",
      "\u001b[0;31mAttributeError\u001b[0m: 'NoneType' object has no attribute 'read'"
     ]
    }
   ],
   "source": [
    "sudo chmod 0770 /net/birdstore/Active_Atlas_Data/data_root/pipeline_data/DK37/czi"
   ]
  },
  {
   "cell_type": "code",
   "execution_count": null,
   "metadata": {},
   "outputs": [],
   "source": []
  }
 ],
 "metadata": {
  "interpreter": {
   "hash": "9b29855540defb355a50951874e4b3a9a33e036ed29af88ad65ef37e45f70f6e"
  },
  "kernelspec": {
   "display_name": "Python 3.8.10 ('pipeline')",
   "language": "python",
   "name": "python3"
  },
  "language_info": {
   "codemirror_mode": {
    "name": "ipython",
    "version": 3
   },
   "file_extension": ".py",
   "mimetype": "text/x-python",
   "name": "python",
   "nbconvert_exporter": "python",
   "pygments_lexer": "ipython3",
   "version": "3.8.10"
  },
  "orig_nbformat": 4
 },
 "nbformat": 4,
 "nbformat_minor": 2
}
