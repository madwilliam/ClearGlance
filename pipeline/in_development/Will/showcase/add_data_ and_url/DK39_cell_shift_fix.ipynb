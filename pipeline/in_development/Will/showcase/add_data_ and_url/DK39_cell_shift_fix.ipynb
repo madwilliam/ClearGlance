{
 "cells": [
  {
   "cell_type": "code",
   "execution_count": 76,
   "metadata": {},
   "outputs": [],
   "source": [
    "import sys\n",
    "import os\n",
    "sys.path.append(os.path.abspath('./../../../../'))\n",
    "from Controllers.MarkedCellController import MarkedCellController\n",
    "import numpy as np\n",
    "from lib.FileLocationManager import FileLocationManager\n",
    "import tifffile as tiff\n",
    "import matplotlib.pyplot as plt\n",
    "from Controllers.UrlController import UrlController\n",
    "import json\n",
    "from model.urlModel import UrlModel"
   ]
  },
  {
   "cell_type": "code",
   "execution_count": 59,
   "metadata": {},
   "outputs": [],
   "source": [
    "controller = MarkedCellController()\n",
    "cells = controller.get_marked_cells({'session_id':5084})\n",
    "loc = FileLocationManager('DK39')\n",
    "url_controller = UrlController()"
   ]
  },
  {
   "cell_type": "code",
   "execution_count": 128,
   "metadata": {},
   "outputs": [],
   "source": [
    "urlmodel = url_controller.get_urlModel(182)\n",
    "model = json.loads(urlmodel.url)"
   ]
  },
  {
   "cell_type": "code",
   "execution_count": 134,
   "metadata": {},
   "outputs": [],
   "source": [
    "urlmodel = url_controller.get_urlModel(182)\n",
    "model = json.loads(urlmodel.url)\n",
    "for i in model['layers']:\n",
    "    if 'annotations' in i:\n",
    "        for j in i['annotations']:\n",
    "            j['point'][2]=np.floor(j['point'][2])+0.5\n",
    "            if j['point'][2]>=201.4:\n",
    "                j['point'][0]=j['point'][0]+100\n",
    "                # j['point'][1]=j['point'][1]+20\n",
    "urlmodel.url = json.dumps(model)\n",
    "model = url_controller.update_row(urlmodel)\n"
   ]
  },
  {
   "cell_type": "code",
   "execution_count": 130,
   "metadata": {},
   "outputs": [],
   "source": [
    "model = url_controller.update_row(urlmodel)\n"
   ]
  },
  {
   "cell_type": "code",
   "execution_count": 69,
   "metadata": {},
   "outputs": [
    {
     "data": {
      "text/plain": [
       "[37289, 20043, 141]"
      ]
     },
     "execution_count": 69,
     "metadata": {},
     "output_type": "execute_result"
    }
   ],
   "source": [
    "j['point']"
   ]
  },
  {
   "cell_type": "code",
   "execution_count": 13,
   "metadata": {},
   "outputs": [
    {
     "data": {
      "text/plain": [
       "array([141., 147., 151., 156., 161., 165., 171., 176., 181., 186., 191.,\n",
       "       195., 201., 206., 211., 216., 221., 224., 228., 232., 236., 240.,\n",
       "       244., 248., 252., 256., 260., 264., 268., 272., 276., 280., 284.,\n",
       "       288., 292., 296., 300., 304., 308., 312., 316., 320., 324., 328.,\n",
       "       332., 336., 340., 344., 348., 352., 356., 360.])"
      ]
     },
     "execution_count": 13,
     "metadata": {},
     "output_type": "execute_result"
    }
   ],
   "source": [
    "np.unique(cells[:,2])"
   ]
  },
  {
   "cell_type": "code",
   "execution_count": 40,
   "metadata": {},
   "outputs": [
    {
     "data": {
      "text/plain": [
       "'/net/birdstore/Active_Atlas_Data/data_root/pipeline_data/DK39/preps/CH3/full_aligned/251.tif'"
      ]
     },
     "execution_count": 40,
     "metadata": {},
     "output_type": "execute_result"
    }
   ],
   "source": [
    "path = loc.get_full_aligned(3)+'/251.tif'\n",
    "path"
   ]
  },
  {
   "cell_type": "code",
   "execution_count": 41,
   "metadata": {},
   "outputs": [],
   "source": [
    "img = tiff.imread(path)"
   ]
  },
  {
   "cell_type": "code",
   "execution_count": 54,
   "metadata": {},
   "outputs": [
    {
     "data": {
      "text/plain": [
       "(array([1.267992e+06, 1.039500e+04, 4.395000e+03, 2.361000e+03,\n",
       "        1.078000e+03, 2.610000e+02, 2.340000e+02, 2.010000e+02,\n",
       "        2.040000e+02, 1.790000e+02]),\n",
       " array([ 1001. ,  6505.9, 12010.8, 17515.7, 23020.6, 28525.5, 34030.4,\n",
       "        39535.3, 45040.2, 50545.1, 56050. ]),\n",
       " <BarContainer object of 10 artists>)"
      ]
     },
     "execution_count": 54,
     "metadata": {},
     "output_type": "execute_result"
    },
    {
     "data": {
      "image/png": "[encoded data removed]",
      "text/plain": [
       "<Figure size 432x288 with 1 Axes>"
      ]
     },
     "metadata": {
      "needs_background": "light"
     },
     "output_type": "display_data"
    }
   ],
   "source": [
    "plt.hist(chunck.flatten()[chunck.flatten()>1000])"
   ]
  },
  {
   "cell_type": "code",
   "execution_count": 56,
   "metadata": {},
   "outputs": [
    {
     "data": {
      "text/plain": [
       "<matplotlib.image.AxesImage at 0x7f148287c080>"
      ]
     },
     "execution_count": 56,
     "metadata": {},
     "output_type": "execute_result"
    },
    {
     "data": {
      "image/png": "[encoded data removed]",
      "text/plain": [
       "<Figure size 720x720 with 1 Axes>"
      ]
     },
     "metadata": {
      "needs_background": "light"
     },
     "output_type": "display_data"
    }
   ],
   "source": [
    "startx=22000\n",
    "starty=40000\n",
    "xspan = 10000\n",
    "yspan = 10000\n",
    "chunck = img[startx:startx+xspan,starty:starty+yspan]\n",
    "plt.figure(figsize=[10,10])\n",
    "plt.imshow(chunck>20000,cmap='Greys')"
   ]
  },
  {
   "cell_type": "code",
   "execution_count": null,
   "metadata": {},
   "outputs": [],
   "source": []
  }
 ],
 "metadata": {
  "kernelspec": {
   "display_name": "Python 3.6.9 ('pipeline')",
   "language": "python",
   "name": "python3"
  },
  "language_info": {
   "codemirror_mode": {
    "name": "ipython",
    "version": 3
   },
   "file_extension": ".py",
   "mimetype": "text/x-python",
   "name": "python",
   "nbconvert_exporter": "python",
   "pygments_lexer": "ipython3",
   "version": "3.6.9"
  },
  "orig_nbformat": 4,
  "vscode": {
   "interpreter": {
    "hash": "97e209aa8511c3356558c5b4441d0fe17ed27fc557fbfde94b259769985fb2e3"
   }
  }
 },
 "nbformat": 4,
 "nbformat_minor": 2
}
