{
 "cells": [
  {
   "cell_type": "code",
   "execution_count": 54,
   "metadata": {},
   "outputs": [],
   "source": [
    "import sys,os\n",
    "sys.path.append(os.path.abspath('./../../../../'))\n",
    "from Controllers.UrlController import UrlController\n",
    "from Controllers.MarkedCellController import MarkedCellController\n",
    "import json\n",
    "import numpy as np\n",
    "from cell_extractor.AnnotationProximityTool import AnnotationProximityTool\n",
    "from model.urlModel import UrlModel\n",
    "\n",
    "def get_layer_from_state(state,type):\n",
    "    for i in state['layers']:\n",
    "        if type == i['name'].lower():\n",
    "            return i\n",
    "\n",
    "def get_annotations_from_state(state,type):\n",
    "    state = get_layer_from_state(state,type)\n",
    "    if state is not None:\n",
    "        return np.floor([point['point'] for point in state['annotations']]).astype(int)\n",
    "\n",
    "def report_label_number(links,type):\n",
    "    print(f'examining {type}=======')\n",
    "    for i in range(len(links)):\n",
    "        n_cell = get_annotations_from_state(links[i],type)\n",
    "        if n_cell is not None:\n",
    "            print(f'{prep_ids[i]} has {n_cell.shape[0]} {type} labels')\n",
    "        else:\n",
    "            print(f'{prep_ids[i]} has no {type} labels')\n",
    "\n",
    "def upgrade_annotation_to_new_format(links,type,category):\n",
    "    print(f'examining {type}=======')\n",
    "    for i in range(len(links)):\n",
    "        layer = get_layer_from_state(links[i],type)\n",
    "        if layer is not None:\n",
    "            for j in layer['annotations']:\n",
    "                j['type'] = 'cell'\n",
    "                j['category'] = category\n",
    "                j['description'] = 'positive'\n"
   ]
  },
  {
   "cell_type": "code",
   "execution_count": 55,
   "metadata": {},
   "outputs": [],
   "source": [
    "controller = UrlController()\n",
    "cell_controller = MarkedCellController()\n"
   ]
  },
  {
   "cell_type": "code",
   "execution_count": 56,
   "metadata": {},
   "outputs": [],
   "source": [
    "urls = controller.get_url_id_list()\n",
    "beth_link = []\n",
    "for id in urls:\n",
    "    model = controller.get_urlModel(id)\n",
    "    if 'DK52 Premotor Beth' in model.comments:\n",
    "        beth_link.append(model)"
   ]
  },
  {
   "cell_type": "code",
   "execution_count": 57,
   "metadata": {},
   "outputs": [
    {
     "data": {
      "text/plain": [
       "4"
      ]
     },
     "execution_count": 57,
     "metadata": {},
     "output_type": "execute_result"
    }
   ],
   "source": [
    "urls = controller.get_url_id_list()\n",
    "hannah_links = []\n",
    "for id in urls:\n",
    "    model = controller.get_urlModel(id)\n",
    "    if 'Hannah' in model.comments:\n",
    "        hannah_links.append(model)\n",
    "hannah_links = np.array(hannah_links)\n",
    "len(hannah_links)"
   ]
  },
  {
   "cell_type": "code",
   "execution_count": 58,
   "metadata": {},
   "outputs": [],
   "source": [
    "all_links = np.concatenate([hannah_links,beth_link])"
   ]
  },
  {
   "cell_type": "code",
   "execution_count": 59,
   "metadata": {},
   "outputs": [],
   "source": [
    "links = [json.loads(i.url) for i in all_links]"
   ]
  },
  {
   "cell_type": "code",
   "execution_count": 60,
   "metadata": {},
   "outputs": [
    {
     "data": {
      "text/plain": [
       "array(['DK39', 'DK43', 'DK55', 'DK54', 'DK52'], dtype='<U4')"
      ]
     },
     "execution_count": 60,
     "metadata": {},
     "output_type": "execute_result"
    }
   ],
   "source": [
    "prep_ids= np.array([i.comments[:4] for i in all_links])\n",
    "prep_ids"
   ]
  },
  {
   "cell_type": "code",
   "execution_count": 61,
   "metadata": {},
   "outputs": [
    {
     "name": "stdout",
     "output_type": "stream",
     "text": [
      "DK39\n",
      "['C1', 'C2', 'C3', 'starter', 'mcherry', 'COM', 'For QC comparison', 'premotor']\n",
      "DK43\n",
      "['C1', 'C2', 'C3', 'starter', 'premotor', 'trigeminal premotor', 'COM']\n",
      "DK55\n",
      "['C1', 'C2', 'C3', 'Premotor', 'Starter', 'Trigeminal Premotor']\n",
      "DK54\n",
      "['C1', 'C2', 'C3', 'atlas', 'starter', 'premotor', 'trigeminal premotor', 'COM']\n",
      "DK52\n",
      "['C3', 'premotor']\n"
     ]
    }
   ],
   "source": [
    "for i in range(len(links)):\n",
    "    print(prep_ids[i])\n",
    "    print([j['name'] for j in links[i]['layers']])"
   ]
  },
  {
   "cell_type": "code",
   "execution_count": 62,
   "metadata": {},
   "outputs": [
    {
     "name": "stdout",
     "output_type": "stream",
     "text": [
      "examining premotor=======\n",
      "examining starter=======\n",
      "examining mcherry=======\n",
      "examining trigeminal premotor=======\n"
     ]
    }
   ],
   "source": [
    "upgrade_annotation_to_new_format(links,'premotor','Premotor')\n",
    "upgrade_annotation_to_new_format(links,'starter','Starter')\n",
    "upgrade_annotation_to_new_format(links,'mcherry','Mcherry')\n",
    "upgrade_annotation_to_new_format(links,'trigeminal premotor','Trigeminal Premotor')\n"
   ]
  },
  {
   "cell_type": "code",
   "execution_count": null,
   "metadata": {},
   "outputs": [],
   "source": []
  },
  {
   "cell_type": "code",
   "execution_count": 141,
   "metadata": {},
   "outputs": [
    {
     "name": "stdout",
     "output_type": "stream",
     "text": [
      "1 Premotor\n",
      "2 Starter\n",
      "3 Mcherry\n",
      "4 Round0\n",
      "5 Round1\n",
      "6 Round2\n",
      "7 Round3\n",
      "8 Samick\n",
      "10 round2_multi_threshold\n",
      "11 Round3_Sure\n",
      "12 Round3_Unsure\n",
      "13 connected_cells\n",
      "14 false_negative\n",
      "16 Round3_Sure_2000\n",
      "17 Round3_Unsure_2000\n",
      "18 false_negative_2000\n",
      "19 connected_cells_2000\n",
      "20 Trigeminal Premotor\n"
     ]
    }
   ],
   "source": [
    "cell_controller.print_cell_types()"
   ]
  },
  {
   "cell_type": "code",
   "execution_count": 140,
   "metadata": {},
   "outputs": [
    {
     "name": "stdout",
     "output_type": "stream",
     "text": [
      "examining premotor=======\n",
      "DK39 has 2201 premotor labels\n",
      "DK43 has 0 premotor labels\n",
      "DK55 has 3294 premotor labels\n",
      "DK54 has 17 premotor labels\n",
      "DK52 has 1954 premotor labels\n",
      "examining starter=======\n",
      "DK39 has 24 starter labels\n",
      "DK43 has 18 starter labels\n",
      "DK55 has 35 starter labels\n",
      "DK54 has 26 starter labels\n",
      "DK52 has no starter labels\n",
      "examining mcherry=======\n",
      "DK39 has 15 mcherry labels\n",
      "DK43 has no mcherry labels\n",
      "DK55 has no mcherry labels\n",
      "DK54 has no mcherry labels\n",
      "DK52 has no mcherry labels\n",
      "examining trigeminal premotor=======\n",
      "DK39 has no trigeminal premotor labels\n",
      "DK43 has 7 trigeminal premotor labels\n",
      "DK55 has 9 trigeminal premotor labels\n",
      "DK54 has 38 trigeminal premotor labels\n",
      "DK52 has no trigeminal premotor labels\n"
     ]
    }
   ],
   "source": [
    "report_label_number(links,'premotor')\n",
    "report_label_number(links,'starter')\n",
    "report_label_number(links,'mcherry')\n",
    "report_label_number(links,'trigeminal premotor')"
   ]
  },
  {
   "cell_type": "code",
   "execution_count": 63,
   "metadata": {},
   "outputs": [],
   "source": [
    "for i in range(5):\n",
    "    model = all_links[i]\n",
    "    model.url = json.dumps(links[i])\n",
    "    controller.update_row(model)\n",
    "\n",
    "# controller.session.close()"
   ]
  },
  {
   "cell_type": "code",
   "execution_count": 29,
   "metadata": {},
   "outputs": [
    {
     "data": {
      "text/plain": [
       "['C1', 'C2', 'C3', 'starter', 'premotor', 'trigeminal premotor', 'COM']"
      ]
     },
     "execution_count": 29,
     "metadata": {},
     "output_type": "execute_result"
    }
   ],
   "source": [
    "[i['name'] for i in links[1]['layers']]"
   ]
  },
  {
   "cell_type": "code",
   "execution_count": 32,
   "metadata": {},
   "outputs": [
    {
     "data": {
      "text/plain": [
       "[{'point': [34624.7734375, 19395.515625, 150.5],\n",
       "  'type': 'point',\n",
       "  'id': '78f886d57eb9f09eb4411122a8626a1292f5cebe',\n",
       "  'props': ['#ffff00'],\n",
       "  'category': 'Starter'},\n",
       " {'point': [35137.53125, 19851.302734375, 150.5],\n",
       "  'type': 'point',\n",
       "  'id': '76e406f4f77f8218624c972790bc917ebd438fa2',\n",
       "  'props': ['#ffff00'],\n",
       "  'category': 'Starter'},\n",
       " {'point': [34743.90234375, 19812.25390625, 154.5],\n",
       "  'type': 'point',\n",
       "  'id': '77e848c29f511795535383edd35f6d87ed9bcd5c',\n",
       "  'props': ['#ffff00'],\n",
       "  'category': 'Starter'},\n",
       " {'point': [34422.52734375, 19297.3671875, 154.5],\n",
       "  'type': 'point',\n",
       "  'id': '3618bf136ee130dd480ae5794669583edabbdf43',\n",
       "  'props': ['#ffff00'],\n",
       "  'category': 'Starter'},\n",
       " {'point': [35072.18359375, 18398.90625, 154.5],\n",
       "  'type': 'point',\n",
       "  'id': 'ad96b8d06f07664880f9c3470badf540de537626',\n",
       "  'props': ['#ffff00'],\n",
       "  'category': 'Starter'},\n",
       " {'point': [34424.90625, 19824.494140625, 158.5],\n",
       "  'type': 'point',\n",
       "  'id': 'ebee630cad4e4d7959480ac6e191f7936c26a704',\n",
       "  'props': ['#ffff00'],\n",
       "  'category': 'Starter'},\n",
       " {'point': [34869.30078125, 19089.537109375, 158.5],\n",
       "  'type': 'point',\n",
       "  'id': '63482ebf0c64c4b43690f546b1d787244171030c',\n",
       "  'props': ['#ffff00'],\n",
       "  'category': 'Starter'},\n",
       " {'point': [35467.51953125, 18850.248046875, 158.5],\n",
       "  'type': 'point',\n",
       "  'id': '23c032843584f058a56259a6ab2da46526cd0921',\n",
       "  'props': ['#ffff00'],\n",
       "  'category': 'Starter'},\n",
       " {'point': [34903.484375, 20012.505859375, 158.5],\n",
       "  'type': 'point',\n",
       "  'id': 'eaf2ac092ab0f6e247a06346744a3ae25f9e1d53',\n",
       "  'props': ['#ffff00'],\n",
       "  'category': 'Starter'},\n",
       " {'point': [34681.91015625, 19451.693359375, 162.5],\n",
       "  'type': 'point',\n",
       "  'id': 'fdbc099498fb84ebfc70ded19925447c51911074',\n",
       "  'props': ['#ffff00'],\n",
       "  'category': 'Starter'},\n",
       " {'point': [35297.22265625, 19417.5078125, 162.5],\n",
       "  'type': 'point',\n",
       "  'id': '4636d91486865ba98659b700d380f5095a12b8eb',\n",
       "  'props': ['#ffff00'],\n",
       "  'category': 'Starter'},\n",
       " {'point': [35126.30078125, 19218.1015625, 162.5],\n",
       "  'type': 'point',\n",
       "  'id': 'feca02f01e84ec44754ada8070479b12f4a97b09',\n",
       "  'props': ['#ffff00'],\n",
       "  'category': 'Starter'},\n",
       " {'point': [35508.0234375, 18654.064453125, 162.5],\n",
       "  'type': 'point',\n",
       "  'id': 'c6010189119e87360994b8c881a2a11d69b82896',\n",
       "  'props': ['#ffff00'],\n",
       "  'category': 'Starter'},\n",
       " {'point': [34954.4140625, 18764.05078125, 164.5],\n",
       "  'type': 'point',\n",
       "  'id': 'b9941f81ef2dac2f5fffc1e89a4ab745011cdff7',\n",
       "  'props': ['#ffff00'],\n",
       "  'category': 'Starter'},\n",
       " {'point': [34975.1484375, 19092.333984375, 164.5],\n",
       "  'type': 'point',\n",
       "  'id': 'f23509612b4c55909c77020684d3008d592acba0',\n",
       "  'props': ['#ffff00'],\n",
       "  'category': 'Starter'},\n",
       " {'point': [35040.8046875, 19144.16796875, 164.5],\n",
       "  'type': 'point',\n",
       "  'id': 'b743d1754f0bc30b4c8187dc2acb374035b672d3',\n",
       "  'props': ['#ffff00'],\n",
       "  'category': 'Starter'},\n",
       " {'point': [35327.73828125, 18709.203125, 168.5],\n",
       "  'type': 'point',\n",
       "  'id': 'c183bfd9e6e4ad61daa5a5630bd82382d0b6bca8',\n",
       "  'props': ['#ffff00'],\n",
       "  'category': 'Starter'},\n",
       " {'point': [34688.4921875, 19781.4375, 172.5],\n",
       "  'type': 'point',\n",
       "  'id': 'd171bf05ce4c5e766ebdfa4ac1cd6a6b5fca242e',\n",
       "  'props': ['#ffff00'],\n",
       "  'category': 'Starter'}]"
      ]
     },
     "execution_count": 32,
     "metadata": {},
     "output_type": "execute_result"
    }
   ],
   "source": [
    "links[1]['layers'][3]['annotations']"
   ]
  },
  {
   "cell_type": "code",
   "execution_count": null,
   "metadata": {},
   "outputs": [],
   "source": []
  },
  {
   "cell_type": "code",
   "execution_count": null,
   "metadata": {},
   "outputs": [],
   "source": []
  }
 ],
 "metadata": {
  "kernelspec": {
   "display_name": "Python 3.6.9 ('pipeline')",
   "language": "python",
   "name": "python3"
  },
  "language_info": {
   "codemirror_mode": {
    "name": "ipython",
    "version": 3
   },
   "file_extension": ".py",
   "mimetype": "text/x-python",
   "name": "python",
   "nbconvert_exporter": "python",
   "pygments_lexer": "ipython3",
   "version": "3.8.10"
  },
  "orig_nbformat": 4,
  "vscode": {
   "interpreter": {
    "hash": "9b29855540defb355a50951874e4b3a9a33e036ed29af88ad65ef37e45f70f6e"
   }
  }
 },
 "nbformat": 4,
 "nbformat_minor": 2
}
